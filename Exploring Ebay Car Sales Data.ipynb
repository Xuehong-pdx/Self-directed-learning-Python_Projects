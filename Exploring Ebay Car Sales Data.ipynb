{
 "cells": [
  {
   "cell_type": "code",
   "execution_count": null,
   "metadata": {
    "collapsed": true
   },
   "outputs": [],
   "source": [
    "\"\"\" This project will clean a subdataset of used cars from a \n",
    "classifieds section of the German eBay website eBay \n",
    "Kleinanzeigen \"\"\""
   ]
  },
  {
   "cell_type": "code",
   "execution_count": 1,
   "metadata": {
    "collapsed": false
   },
   "outputs": [],
   "source": [
    "import pandas as pd\n",
    "import numpy as np\n",
    "autos=pd.read_csv('autos.csv', encoding=\"Latin-1\")"
   ]
  },
  {
   "cell_type": "code",
   "execution_count": null,
   "metadata": {
    "collapsed": false
   },
   "outputs": [],
   "source": [
    "autos.info()"
   ]
  },
  {
   "cell_type": "code",
   "execution_count": null,
   "metadata": {
    "collapsed": false
   },
   "outputs": [],
   "source": [
    "autos.head()"
   ]
  },
  {
   "cell_type": "code",
   "execution_count": null,
   "metadata": {
    "collapsed": true
   },
   "outputs": [],
   "source": [
    "# this dataset has 20 cols and 50,000 observations with \n",
    "#'yearOfRegistration', 'powerPS', 'monthOfRegistration', 'nrOfPictures'\n",
    "# and 'postalCode ' in float64 format, rests are objecgts\n",
    "# five columns has missing data"
   ]
  },
  {
   "cell_type": "code",
   "execution_count": null,
   "metadata": {
    "collapsed": true
   },
   "outputs": [],
   "source": [
    "# Cleaning Column Names: converting column names from snakecase, \n",
    "# rewording some of the column names to be more descriptive"
   ]
  },
  {
   "cell_type": "code",
   "execution_count": 16,
   "metadata": {
    "collapsed": false
   },
   "outputs": [
    {
     "data": {
      "text/plain": [
       "Index(['date_crawled', 'name', 'seller', 'offer_type', 'price', 'abtest',\n",
       "       'vehicle_type', 'registration_year', 'gearbox', 'power_ps', 'model',\n",
       "       'odometer_km', 'registration_month', 'fuel_type', 'brand',\n",
       "       'unrepaired_damage', 'ad_created', 'nr_of_Pictures', 'postal_code',\n",
       "       'last_seen'],\n",
       "      dtype='object')"
      ]
     },
     "execution_count": 16,
     "metadata": {},
     "output_type": "execute_result"
    }
   ],
   "source": [
    "autos.columns"
   ]
  },
  {
   "cell_type": "code",
   "execution_count": 3,
   "metadata": {
    "collapsed": false
   },
   "outputs": [
    {
     "data": {
      "text/html": [
       "<div>\n",
       "<style scoped>\n",
       "    .dataframe tbody tr th:only-of-type {\n",
       "        vertical-align: middle;\n",
       "    }\n",
       "\n",
       "    .dataframe tbody tr th {\n",
       "        vertical-align: top;\n",
       "    }\n",
       "\n",
       "    .dataframe thead th {\n",
       "        text-align: right;\n",
       "    }\n",
       "</style>\n",
       "<table border=\"1\" class=\"dataframe\">\n",
       "  <thead>\n",
       "    <tr style=\"text-align: right;\">\n",
       "      <th></th>\n",
       "      <th>date_crawled</th>\n",
       "      <th>name</th>\n",
       "      <th>seller</th>\n",
       "      <th>offer_type</th>\n",
       "      <th>price</th>\n",
       "      <th>abtest</th>\n",
       "      <th>vehicle_type</th>\n",
       "      <th>registration_year</th>\n",
       "      <th>gearbox</th>\n",
       "      <th>power_ps</th>\n",
       "      <th>model</th>\n",
       "      <th>odometer</th>\n",
       "      <th>registration_month</th>\n",
       "      <th>fuel_type</th>\n",
       "      <th>brand</th>\n",
       "      <th>unrepaired_damage</th>\n",
       "      <th>ad_created</th>\n",
       "      <th>nr_of_Pictures</th>\n",
       "      <th>postal_code</th>\n",
       "      <th>last_seen</th>\n",
       "    </tr>\n",
       "  </thead>\n",
       "  <tbody>\n",
       "    <tr>\n",
       "      <th>0</th>\n",
       "      <td>2016-03-26 17:47:46</td>\n",
       "      <td>Peugeot_807_160_NAVTECH_ON_BOARD</td>\n",
       "      <td>privat</td>\n",
       "      <td>Angebot</td>\n",
       "      <td>$5,000</td>\n",
       "      <td>control</td>\n",
       "      <td>bus</td>\n",
       "      <td>2004</td>\n",
       "      <td>manuell</td>\n",
       "      <td>158</td>\n",
       "      <td>andere</td>\n",
       "      <td>150,000km</td>\n",
       "      <td>3</td>\n",
       "      <td>lpg</td>\n",
       "      <td>peugeot</td>\n",
       "      <td>nein</td>\n",
       "      <td>2016-03-26 00:00:00</td>\n",
       "      <td>0</td>\n",
       "      <td>79588</td>\n",
       "      <td>2016-04-06 06:45:54</td>\n",
       "    </tr>\n",
       "    <tr>\n",
       "      <th>1</th>\n",
       "      <td>2016-04-04 13:38:56</td>\n",
       "      <td>BMW_740i_4_4_Liter_HAMANN_UMBAU_Mega_Optik</td>\n",
       "      <td>privat</td>\n",
       "      <td>Angebot</td>\n",
       "      <td>$8,500</td>\n",
       "      <td>control</td>\n",
       "      <td>limousine</td>\n",
       "      <td>1997</td>\n",
       "      <td>automatik</td>\n",
       "      <td>286</td>\n",
       "      <td>7er</td>\n",
       "      <td>150,000km</td>\n",
       "      <td>6</td>\n",
       "      <td>benzin</td>\n",
       "      <td>bmw</td>\n",
       "      <td>nein</td>\n",
       "      <td>2016-04-04 00:00:00</td>\n",
       "      <td>0</td>\n",
       "      <td>71034</td>\n",
       "      <td>2016-04-06 14:45:08</td>\n",
       "    </tr>\n",
       "    <tr>\n",
       "      <th>2</th>\n",
       "      <td>2016-03-26 18:57:24</td>\n",
       "      <td>Volkswagen_Golf_1.6_United</td>\n",
       "      <td>privat</td>\n",
       "      <td>Angebot</td>\n",
       "      <td>$8,990</td>\n",
       "      <td>test</td>\n",
       "      <td>limousine</td>\n",
       "      <td>2009</td>\n",
       "      <td>manuell</td>\n",
       "      <td>102</td>\n",
       "      <td>golf</td>\n",
       "      <td>70,000km</td>\n",
       "      <td>7</td>\n",
       "      <td>benzin</td>\n",
       "      <td>volkswagen</td>\n",
       "      <td>nein</td>\n",
       "      <td>2016-03-26 00:00:00</td>\n",
       "      <td>0</td>\n",
       "      <td>35394</td>\n",
       "      <td>2016-04-06 20:15:37</td>\n",
       "    </tr>\n",
       "    <tr>\n",
       "      <th>3</th>\n",
       "      <td>2016-03-12 16:58:10</td>\n",
       "      <td>Smart_smart_fortwo_coupe_softouch/F1/Klima/Pan...</td>\n",
       "      <td>privat</td>\n",
       "      <td>Angebot</td>\n",
       "      <td>$4,350</td>\n",
       "      <td>control</td>\n",
       "      <td>kleinwagen</td>\n",
       "      <td>2007</td>\n",
       "      <td>automatik</td>\n",
       "      <td>71</td>\n",
       "      <td>fortwo</td>\n",
       "      <td>70,000km</td>\n",
       "      <td>6</td>\n",
       "      <td>benzin</td>\n",
       "      <td>smart</td>\n",
       "      <td>nein</td>\n",
       "      <td>2016-03-12 00:00:00</td>\n",
       "      <td>0</td>\n",
       "      <td>33729</td>\n",
       "      <td>2016-03-15 03:16:28</td>\n",
       "    </tr>\n",
       "    <tr>\n",
       "      <th>4</th>\n",
       "      <td>2016-04-01 14:38:50</td>\n",
       "      <td>Ford_Focus_1_6_Benzin_TÜV_neu_ist_sehr_gepfleg...</td>\n",
       "      <td>privat</td>\n",
       "      <td>Angebot</td>\n",
       "      <td>$1,350</td>\n",
       "      <td>test</td>\n",
       "      <td>kombi</td>\n",
       "      <td>2003</td>\n",
       "      <td>manuell</td>\n",
       "      <td>0</td>\n",
       "      <td>focus</td>\n",
       "      <td>150,000km</td>\n",
       "      <td>7</td>\n",
       "      <td>benzin</td>\n",
       "      <td>ford</td>\n",
       "      <td>nein</td>\n",
       "      <td>2016-04-01 00:00:00</td>\n",
       "      <td>0</td>\n",
       "      <td>39218</td>\n",
       "      <td>2016-04-01 14:38:50</td>\n",
       "    </tr>\n",
       "  </tbody>\n",
       "</table>\n",
       "</div>"
      ],
      "text/plain": [
       "          date_crawled                                               name  \\\n",
       "0  2016-03-26 17:47:46                   Peugeot_807_160_NAVTECH_ON_BOARD   \n",
       "1  2016-04-04 13:38:56         BMW_740i_4_4_Liter_HAMANN_UMBAU_Mega_Optik   \n",
       "2  2016-03-26 18:57:24                         Volkswagen_Golf_1.6_United   \n",
       "3  2016-03-12 16:58:10  Smart_smart_fortwo_coupe_softouch/F1/Klima/Pan...   \n",
       "4  2016-04-01 14:38:50  Ford_Focus_1_6_Benzin_TÜV_neu_ist_sehr_gepfleg...   \n",
       "\n",
       "   seller offer_type   price   abtest vehicle_type  registration_year  \\\n",
       "0  privat    Angebot  $5,000  control          bus               2004   \n",
       "1  privat    Angebot  $8,500  control    limousine               1997   \n",
       "2  privat    Angebot  $8,990     test    limousine               2009   \n",
       "3  privat    Angebot  $4,350  control   kleinwagen               2007   \n",
       "4  privat    Angebot  $1,350     test        kombi               2003   \n",
       "\n",
       "     gearbox  power_ps   model   odometer  registration_month fuel_type  \\\n",
       "0    manuell       158  andere  150,000km                   3       lpg   \n",
       "1  automatik       286     7er  150,000km                   6    benzin   \n",
       "2    manuell       102    golf   70,000km                   7    benzin   \n",
       "3  automatik        71  fortwo   70,000km                   6    benzin   \n",
       "4    manuell         0   focus  150,000km                   7    benzin   \n",
       "\n",
       "        brand unrepaired_damage           ad_created  nr_of_Pictures  \\\n",
       "0     peugeot              nein  2016-03-26 00:00:00               0   \n",
       "1         bmw              nein  2016-04-04 00:00:00               0   \n",
       "2  volkswagen              nein  2016-03-26 00:00:00               0   \n",
       "3       smart              nein  2016-03-12 00:00:00               0   \n",
       "4        ford              nein  2016-04-01 00:00:00               0   \n",
       "\n",
       "   postal_code            last_seen  \n",
       "0        79588  2016-04-06 06:45:54  \n",
       "1        71034  2016-04-06 14:45:08  \n",
       "2        35394  2016-04-06 20:15:37  \n",
       "3        33729  2016-03-15 03:16:28  \n",
       "4        39218  2016-04-01 14:38:50  "
      ]
     },
     "execution_count": 3,
     "metadata": {},
     "output_type": "execute_result"
    }
   ],
   "source": [
    "autos.columns = ['date_crawled', 'name', 'seller', 'offer_type', 'price', 'abtest',\n",
    "       'vehicle_type', 'registration_year', 'gearbox', 'power_ps', 'model',\n",
    "       'odometer', 'registration_month', 'fuel_type', 'brand',\n",
    "       'unrepaired_damage', 'ad_created', 'nr_of_Pictures', 'postal_code',\n",
    "       'last_seen']\n",
    "autos.head()"
   ]
  },
  {
   "cell_type": "code",
   "execution_count": null,
   "metadata": {
    "collapsed": true
   },
   "outputs": [],
   "source": [
    "# changed col names to snakecase to follow good python naming practice."
   ]
  },
  {
   "cell_type": "code",
   "execution_count": null,
   "metadata": {
    "collapsed": false
   },
   "outputs": [],
   "source": [
    "autos.describe(include='all')"
   ]
  },
  {
   "cell_type": "code",
   "execution_count": null,
   "metadata": {
    "collapsed": true
   },
   "outputs": [],
   "source": [
    "# Any columns that have mostly one value that are candidates to be dropped\n",
    "# Any columns that need more investigation.\n",
    "# Any examples of numeric data stored as text that needs to be cleaned."
   ]
  },
  {
   "cell_type": "code",
   "execution_count": null,
   "metadata": {
    "collapsed": false
   },
   "outputs": [],
   "source": [
    "autos['price'].head()"
   ]
  },
  {
   "cell_type": "code",
   "execution_count": 4,
   "metadata": {
    "collapsed": false
   },
   "outputs": [],
   "source": [
    "autos['price']=autos['price'].str.replace(\",\", \"\").str.strip()\n",
    "autos['price']=autos['price'].str.replace(\"$\", \"\").astype(float)\n",
    "autos['odometer']=autos['odometer'].str.replace(\",\", \"\").str.strip()\n",
    "autos['odometer']=autos['odometer'].str.replace(\"km\", \"\").astype(float)"
   ]
  },
  {
   "cell_type": "code",
   "execution_count": null,
   "metadata": {
    "collapsed": false
   },
   "outputs": [],
   "source": [
    "autos['price'].head()\n",
    "autos['odometer'].head()"
   ]
  },
  {
   "cell_type": "code",
   "execution_count": 5,
   "metadata": {
    "collapsed": false
   },
   "outputs": [],
   "source": [
    "autos.rename({'odometer':'odometer_km'}, axis=1, inplace=True)"
   ]
  },
  {
   "cell_type": "code",
   "execution_count": null,
   "metadata": {
    "collapsed": false
   },
   "outputs": [],
   "source": [
    "# explore price and odometer_km columns\n",
    "print(autos['price'].unique().shape)\n",
    "print(autos['odometer_km'].unique().shape)"
   ]
  },
  {
   "cell_type": "code",
   "execution_count": null,
   "metadata": {
    "collapsed": false,
    "scrolled": true
   },
   "outputs": [],
   "source": [
    "print(autos['price'].describe())\n",
    "print(autos['odometer_km'].describe())"
   ]
  },
  {
   "cell_type": "code",
   "execution_count": 17,
   "metadata": {
    "collapsed": false
   },
   "outputs": [],
   "source": [
    "#remove rows where price=0\n",
    "autos=autos[autos['price']!=0]"
   ]
  },
  {
   "cell_type": "code",
   "execution_count": 15,
   "metadata": {
    "collapsed": false
   },
   "outputs": [
    {
     "data": {
      "text/plain": [
       "2016-03-15    0.2\n",
       "2016-04-01    0.2\n",
       "2016-04-06    0.6\n",
       "Name: last_seen, dtype: float64"
      ]
     },
     "execution_count": 15,
     "metadata": {},
     "output_type": "execute_result"
    }
   ],
   "source": [
    "# extract date from columns: 'date_crawled','ad_created','last_seen'\n",
    "# missing values are included in the distribution\n",
    "autos['date_crawled'].str[:10].value_counts(normalize=True, dropna=False).sort_index()\n",
    "autos['ad_created'].str[:10].value_counts(normalize=True, dropna=False).sort_index()\n",
    "autos['last_seen'].str[:10].head().value_counts(normalize=True, dropna=False).sort_index()"
   ]
  },
  {
   "cell_type": "code",
   "execution_count": null,
   "metadata": {
    "collapsed": false
   },
   "outputs": [],
   "source": [
    "# explore the distribution of registration_year.\n",
    "autos['registration_year'].describe()"
   ]
  },
  {
   "cell_type": "code",
   "execution_count": null,
   "metadata": {
    "collapsed": true
   },
   "outputs": [],
   "source": [
    "# min year is 1000, max year is 9999, both unreal.  "
   ]
  },
  {
   "cell_type": "code",
   "execution_count": 14,
   "metadata": {
    "collapsed": false
   },
   "outputs": [
    {
     "data": {
      "text/plain": [
       "False    1.0\n",
       "Name: registration_year, dtype: float64"
      ]
     },
     "execution_count": 14,
     "metadata": {},
     "output_type": "execute_result"
    }
   ],
   "source": [
    "# count the number of listings with cars that fall outside the 1900 - 2016\n",
    "# to see if it is safe to drop them\n",
    "test_outside=~autos[\"registration_year\"].between(1900,2016)\n",
    "test_outside.value_counts(normalize=True, dropna=False).sort_index()"
   ]
  },
  {
   "cell_type": "code",
   "execution_count": 13,
   "metadata": {
    "collapsed": false
   },
   "outputs": [
    {
     "data": {
      "text/plain": [
       "True    1.0\n",
       "Name: registration_year, dtype: float64"
      ]
     },
     "execution_count": 13,
     "metadata": {},
     "output_type": "execute_result"
    }
   ],
   "source": [
    "test_between=autos[\"registration_year\"].between(1900,2016)\n",
    "test_between.value_counts(normalize=True, dropna=False).sort_index()"
   ]
  },
  {
   "cell_type": "code",
   "execution_count": 18,
   "metadata": {
    "collapsed": false
   },
   "outputs": [],
   "source": [
    "# less than 3% cars found outside 1900 - 2016 period, \n",
    "# check data betwee 1990 and 2016\n",
    "sele_condition=autos['registration_year'].between(1900,2016)\n",
    "autos=autos[sele_condition]"
   ]
  },
  {
   "cell_type": "code",
   "execution_count": 19,
   "metadata": {
    "collapsed": false
   },
   "outputs": [
    {
     "data": {
      "text/plain": [
       "1910    0.000107\n",
       "1927    0.000021\n",
       "1929    0.000021\n",
       "1931    0.000021\n",
       "1934    0.000043\n",
       "Name: registration_year, dtype: float64"
      ]
     },
     "execution_count": 19,
     "metadata": {},
     "output_type": "execute_result"
    }
   ],
   "source": [
    "autos['registration_year'].value_counts(normalize=True).sort_index().head()"
   ]
  },
  {
   "cell_type": "code",
   "execution_count": 20,
   "metadata": {
    "collapsed": false
   },
   "outputs": [],
   "source": [
    "# cars before 1988 are less than 2%, remove them next\n",
    "autos=autos[autos['registration_year'] >= 1988]"
   ]
  },
  {
   "cell_type": "code",
   "execution_count": null,
   "metadata": {
    "collapsed": false
   },
   "outputs": [],
   "source": [
    "autos['brand'].describe()"
   ]
  },
  {
   "cell_type": "code",
   "execution_count": 21,
   "metadata": {
    "collapsed": false
   },
   "outputs": [
    {
     "name": "stdout",
     "output_type": "stream",
     "text": [
      "<class 'pandas.core.series.Series'>\n",
      "volkswagen       9656\n",
      "bmw              5081\n",
      "opel             4946\n",
      "mercedes_benz    4319\n",
      "audi             4016\n",
      "ford             3192\n",
      "renault          2191\n",
      "peugeot          1392\n",
      "fiat             1165\n",
      "seat              852\n",
      "Name: brand, dtype: int64\n"
     ]
    }
   ],
   "source": [
    "# selecting top 10 vehicles\n",
    "selection=autos['brand'].value_counts().head(10)\n",
    "print(type(selection))\n",
    "print(selection)"
   ]
  },
  {
   "cell_type": "code",
   "execution_count": 22,
   "metadata": {
    "collapsed": false
   },
   "outputs": [
    {
     "data": {
      "text/plain": [
       "{'audi': 9375.65,\n",
       " 'bmw': 8575.78,\n",
       " 'fiat': 2705.09,\n",
       " 'ford': 3751.19,\n",
       " 'mercedes_benz': 31657.73,\n",
       " 'opel': 5448.93,\n",
       " 'peugeot': 3088.34,\n",
       " 'renault': 2425.55,\n",
       " 'seat': 4402.39,\n",
       " 'volkswagen': 6527.25}"
      ]
     },
     "execution_count": 22,
     "metadata": {},
     "output_type": "execute_result"
    }
   ],
   "source": [
    "# obtain mean prices for top 10 selling vehicles\n",
    "brand_mean_prices={}\n",
    "for i in range(len(selection)):\n",
    "    if selection.index[i] not in brand_mean_prices:\n",
    "        avg=autos.loc[autos['brand']==selection.index[i], 'price'].mean()\n",
    "        brand_mean_prices[selection.index[i]]=avg.round(2)\n",
    "brand_mean_prices"
   ]
  },
  {
   "cell_type": "code",
   "execution_count": null,
   "metadata": {
    "collapsed": false
   },
   "outputs": [],
   "source": [
    "# It looks like mercedes_benz is the most expensive vehicle, followed by \n",
    "# audi, bmw, volkswagen and opel and seat. renault is the cheapest.  \n",
    "# It's price is 4 times above average!"
   ]
  },
  {
   "cell_type": "code",
   "execution_count": 23,
   "metadata": {
    "collapsed": false
   },
   "outputs": [],
   "source": [
    "top_prices=brand_mean_prices"
   ]
  },
  {
   "cell_type": "code",
   "execution_count": 24,
   "metadata": {
    "collapsed": false
   },
   "outputs": [],
   "source": [
    "del top_prices['renault']\n",
    "del top_prices['peugeot']\n",
    "del top_prices['fiat']\n",
    "del top_prices['ford']"
   ]
  },
  {
   "cell_type": "code",
   "execution_count": 25,
   "metadata": {
    "collapsed": false
   },
   "outputs": [
    {
     "name": "stdout",
     "output_type": "stream",
     "text": [
      "audi              9375.65\n",
      "bmw               8575.78\n",
      "mercedes_benz    31657.73\n",
      "opel              5448.93\n",
      "seat              4402.39\n",
      "volkswagen        6527.25\n",
      "dtype: float64\n"
     ]
    }
   ],
   "source": [
    "# converting top_dict to pandas series\n",
    "bmp_series = pd.Series(top_prices)\n",
    "print(bmp_series)"
   ]
  },
  {
   "cell_type": "code",
   "execution_count": 26,
   "metadata": {
    "collapsed": false
   },
   "outputs": [
    {
     "data": {
      "text/plain": [
       "{'audi': 129094.87,\n",
       " 'bmw': 132722.89,\n",
       " 'mercedes_benz': 131044.22,\n",
       " 'opel': 129834.21,\n",
       " 'seat': 121267.61,\n",
       " 'volkswagen': 129121.79}"
      ]
     },
     "execution_count": 26,
     "metadata": {},
     "output_type": "execute_result"
    }
   ],
   "source": [
    "# obtain mean mileage for top 6 selling vehicles\n",
    "brand_mean_mileages={}\n",
    "for i in range(len(bmp_series)):\n",
    "    if bmp_series.index[i] not in brand_mean_mileages:\n",
    "        avg=autos.loc[autos['brand']==bmp_series.index[i], 'odometer_km'].mean()\n",
    "        brand_mean_mileages[bmp_series.index[i]]=avg.round(2)\n",
    "brand_mean_mileages"
   ]
  },
  {
   "cell_type": "code",
   "execution_count": 27,
   "metadata": {
    "collapsed": false
   },
   "outputs": [
    {
     "data": {
      "text/html": [
       "<div>\n",
       "<style scoped>\n",
       "    .dataframe tbody tr th:only-of-type {\n",
       "        vertical-align: middle;\n",
       "    }\n",
       "\n",
       "    .dataframe tbody tr th {\n",
       "        vertical-align: top;\n",
       "    }\n",
       "\n",
       "    .dataframe thead th {\n",
       "        text-align: right;\n",
       "    }\n",
       "</style>\n",
       "<table border=\"1\" class=\"dataframe\">\n",
       "  <thead>\n",
       "    <tr style=\"text-align: right;\">\n",
       "      <th></th>\n",
       "      <th>mean_prices</th>\n",
       "      <th>mean_mileages</th>\n",
       "    </tr>\n",
       "  </thead>\n",
       "  <tbody>\n",
       "    <tr>\n",
       "      <th>audi</th>\n",
       "      <td>9375.65</td>\n",
       "      <td>129094.87</td>\n",
       "    </tr>\n",
       "    <tr>\n",
       "      <th>bmw</th>\n",
       "      <td>8575.78</td>\n",
       "      <td>132722.89</td>\n",
       "    </tr>\n",
       "    <tr>\n",
       "      <th>mercedes_benz</th>\n",
       "      <td>31657.73</td>\n",
       "      <td>131044.22</td>\n",
       "    </tr>\n",
       "    <tr>\n",
       "      <th>opel</th>\n",
       "      <td>5448.93</td>\n",
       "      <td>129834.21</td>\n",
       "    </tr>\n",
       "    <tr>\n",
       "      <th>seat</th>\n",
       "      <td>4402.39</td>\n",
       "      <td>121267.61</td>\n",
       "    </tr>\n",
       "    <tr>\n",
       "      <th>volkswagen</th>\n",
       "      <td>6527.25</td>\n",
       "      <td>129121.79</td>\n",
       "    </tr>\n",
       "  </tbody>\n",
       "</table>\n",
       "</div>"
      ],
      "text/plain": [
       "               mean_prices  mean_mileages\n",
       "audi               9375.65      129094.87\n",
       "bmw                8575.78      132722.89\n",
       "mercedes_benz     31657.73      131044.22\n",
       "opel               5448.93      129834.21\n",
       "seat               4402.39      121267.61\n",
       "volkswagen         6527.25      129121.79"
      ]
     },
     "execution_count": 27,
     "metadata": {},
     "output_type": "execute_result"
    }
   ],
   "source": [
    "# converting brand_mean_mileage dictionary to pandas series \n",
    "tm_series = pd.Series(brand_mean_mileages)  \n",
    "df = pd.DataFrame(bmp_series, columns=['mean_prices'])\n",
    "df['mean_mileages']=tm_series\n",
    "df"
   ]
  },
  {
   "cell_type": "code",
   "execution_count": null,
   "metadata": {
    "collapsed": true
   },
   "outputs": [],
   "source": [
    "# price is not correlated with mileage, \n",
    "# as all other vehicles also have over 100k mileage as Benz "
   ]
  },
  {
   "cell_type": "code",
   "execution_count": 36,
   "metadata": {
    "collapsed": false
   },
   "outputs": [
    {
     "data": {
      "text/plain": [
       "manual       34094\n",
       "automatic     9636\n",
       "Name: gearbox, dtype: int64"
      ]
     },
     "execution_count": 36,
     "metadata": {},
     "output_type": "execute_result"
    }
   ],
   "source": [
    "autos['gearbox'].value_counts()"
   ]
  },
  {
   "cell_type": "code",
   "execution_count": 32,
   "metadata": {
    "collapsed": false
   },
   "outputs": [
    {
     "data": {
      "text/plain": [
       "manual       34094\n",
       "automatic     9636\n",
       "Name: gearbox, dtype: int64"
      ]
     },
     "execution_count": 32,
     "metadata": {},
     "output_type": "execute_result"
    }
   ],
   "source": [
    "# changing values in gearbox from German to English\n",
    "autos.loc[autos['gearbox']=='manuell', 'gearbox']='manual'\n",
    "autos.loc[autos['gearbox']=='automatik', 'gearbox']='automatic'\n",
    "autos['gearbox'].value_counts()"
   ]
  },
  {
   "cell_type": "code",
   "execution_count": 39,
   "metadata": {
    "collapsed": false
   },
   "outputs": [
    {
     "data": {
      "text/html": [
       "<div>\n",
       "<style scoped>\n",
       "    .dataframe tbody tr th:only-of-type {\n",
       "        vertical-align: middle;\n",
       "    }\n",
       "\n",
       "    .dataframe tbody tr th {\n",
       "        vertical-align: top;\n",
       "    }\n",
       "\n",
       "    .dataframe thead th {\n",
       "        text-align: right;\n",
       "    }\n",
       "</style>\n",
       "<table border=\"1\" class=\"dataframe\">\n",
       "  <thead>\n",
       "    <tr style=\"text-align: right;\">\n",
       "      <th></th>\n",
       "      <th>date_crawled</th>\n",
       "      <th>name</th>\n",
       "      <th>seller</th>\n",
       "      <th>offer_type</th>\n",
       "      <th>price</th>\n",
       "      <th>abtest</th>\n",
       "      <th>vehicle_type</th>\n",
       "      <th>registration_year</th>\n",
       "      <th>gearbox</th>\n",
       "      <th>power_ps</th>\n",
       "      <th>model</th>\n",
       "      <th>odometer_km</th>\n",
       "      <th>registration_month</th>\n",
       "      <th>fuel_type</th>\n",
       "      <th>brand</th>\n",
       "      <th>unrepaired_damage</th>\n",
       "      <th>ad_created</th>\n",
       "      <th>nr_of_Pictures</th>\n",
       "      <th>postal_code</th>\n",
       "      <th>last_seen</th>\n",
       "    </tr>\n",
       "  </thead>\n",
       "  <tbody>\n",
       "    <tr>\n",
       "      <th>0</th>\n",
       "      <td>2016-03-26</td>\n",
       "      <td>Peugeot_807_160_NAVTECH_ON_BOARD</td>\n",
       "      <td>privat</td>\n",
       "      <td>Angebot</td>\n",
       "      <td>5000.0</td>\n",
       "      <td>control</td>\n",
       "      <td>bus</td>\n",
       "      <td>2004</td>\n",
       "      <td>manual</td>\n",
       "      <td>158</td>\n",
       "      <td>andere</td>\n",
       "      <td>150000.0</td>\n",
       "      <td>3</td>\n",
       "      <td>lpg</td>\n",
       "      <td>peugeot</td>\n",
       "      <td>nein</td>\n",
       "      <td>2016-03-26</td>\n",
       "      <td>0</td>\n",
       "      <td>79588</td>\n",
       "      <td>2016-04-06</td>\n",
       "    </tr>\n",
       "    <tr>\n",
       "      <th>1</th>\n",
       "      <td>2016-04-04</td>\n",
       "      <td>BMW_740i_4_4_Liter_HAMANN_UMBAU_Mega_Optik</td>\n",
       "      <td>privat</td>\n",
       "      <td>Angebot</td>\n",
       "      <td>8500.0</td>\n",
       "      <td>control</td>\n",
       "      <td>limousine</td>\n",
       "      <td>1997</td>\n",
       "      <td>automatic</td>\n",
       "      <td>286</td>\n",
       "      <td>7er</td>\n",
       "      <td>150000.0</td>\n",
       "      <td>6</td>\n",
       "      <td>benzin</td>\n",
       "      <td>bmw</td>\n",
       "      <td>nein</td>\n",
       "      <td>2016-04-04</td>\n",
       "      <td>0</td>\n",
       "      <td>71034</td>\n",
       "      <td>2016-04-06</td>\n",
       "    </tr>\n",
       "  </tbody>\n",
       "</table>\n",
       "</div>"
      ],
      "text/plain": [
       "  date_crawled                                        name  seller offer_type  \\\n",
       "0   2016-03-26            Peugeot_807_160_NAVTECH_ON_BOARD  privat    Angebot   \n",
       "1   2016-04-04  BMW_740i_4_4_Liter_HAMANN_UMBAU_Mega_Optik  privat    Angebot   \n",
       "\n",
       "    price   abtest vehicle_type  registration_year    gearbox  power_ps  \\\n",
       "0  5000.0  control          bus               2004     manual       158   \n",
       "1  8500.0  control    limousine               1997  automatic       286   \n",
       "\n",
       "    model  odometer_km  registration_month fuel_type    brand  \\\n",
       "0  andere     150000.0                   3       lpg  peugeot   \n",
       "1     7er     150000.0                   6    benzin      bmw   \n",
       "\n",
       "  unrepaired_damage  ad_created  nr_of_Pictures  postal_code   last_seen  \n",
       "0              nein  2016-03-26               0        79588  2016-04-06  \n",
       "1              nein  2016-04-04               0        71034  2016-04-06  "
      ]
     },
     "execution_count": 39,
     "metadata": {},
     "output_type": "execute_result"
    }
   ],
   "source": [
    "# changing dates to more readible format\n",
    "autos['date_crawled']=autos['date_crawled'].str[:10]\n",
    "autos['ad_created']=autos['ad_created'].str[:10]\n",
    "autos['last_seen']=autos['last_seen'].str[:10]\n",
    "mycopy.head(2)"
   ]
  },
  {
   "cell_type": "code",
   "execution_count": 41,
   "metadata": {
    "collapsed": false
   },
   "outputs": [
    {
     "data": {
      "text/html": [
       "<div>\n",
       "<style scoped>\n",
       "    .dataframe tbody tr th:only-of-type {\n",
       "        vertical-align: middle;\n",
       "    }\n",
       "\n",
       "    .dataframe tbody tr th {\n",
       "        vertical-align: top;\n",
       "    }\n",
       "\n",
       "    .dataframe thead th {\n",
       "        text-align: right;\n",
       "    }\n",
       "</style>\n",
       "<table border=\"1\" class=\"dataframe\">\n",
       "  <thead>\n",
       "    <tr style=\"text-align: right;\">\n",
       "      <th></th>\n",
       "      <th>date_crawled</th>\n",
       "      <th>name</th>\n",
       "      <th>seller</th>\n",
       "      <th>offer_type</th>\n",
       "      <th>price</th>\n",
       "      <th>abtest</th>\n",
       "      <th>vehicle_type</th>\n",
       "      <th>registration_year</th>\n",
       "      <th>gearbox</th>\n",
       "      <th>power_ps</th>\n",
       "      <th>model</th>\n",
       "      <th>odometer_km</th>\n",
       "      <th>registration_month</th>\n",
       "      <th>fuel_type</th>\n",
       "      <th>brand</th>\n",
       "      <th>unrepaired_damage</th>\n",
       "      <th>ad_created</th>\n",
       "      <th>nr_of_Pictures</th>\n",
       "      <th>postal_code</th>\n",
       "      <th>last_seen</th>\n",
       "    </tr>\n",
       "  </thead>\n",
       "  <tbody>\n",
       "    <tr>\n",
       "      <th>0</th>\n",
       "      <td>20160326</td>\n",
       "      <td>Peugeot_807_160_NAVTECH_ON_BOARD</td>\n",
       "      <td>privat</td>\n",
       "      <td>Angebot</td>\n",
       "      <td>5000.0</td>\n",
       "      <td>control</td>\n",
       "      <td>bus</td>\n",
       "      <td>2004</td>\n",
       "      <td>manual</td>\n",
       "      <td>158</td>\n",
       "      <td>andere</td>\n",
       "      <td>150000.0</td>\n",
       "      <td>3</td>\n",
       "      <td>lpg</td>\n",
       "      <td>peugeot</td>\n",
       "      <td>nein</td>\n",
       "      <td>20160326</td>\n",
       "      <td>0</td>\n",
       "      <td>79588</td>\n",
       "      <td>20160406</td>\n",
       "    </tr>\n",
       "    <tr>\n",
       "      <th>1</th>\n",
       "      <td>20160404</td>\n",
       "      <td>BMW_740i_4_4_Liter_HAMANN_UMBAU_Mega_Optik</td>\n",
       "      <td>privat</td>\n",
       "      <td>Angebot</td>\n",
       "      <td>8500.0</td>\n",
       "      <td>control</td>\n",
       "      <td>limousine</td>\n",
       "      <td>1997</td>\n",
       "      <td>automatic</td>\n",
       "      <td>286</td>\n",
       "      <td>7er</td>\n",
       "      <td>150000.0</td>\n",
       "      <td>6</td>\n",
       "      <td>benzin</td>\n",
       "      <td>bmw</td>\n",
       "      <td>nein</td>\n",
       "      <td>20160404</td>\n",
       "      <td>0</td>\n",
       "      <td>71034</td>\n",
       "      <td>20160406</td>\n",
       "    </tr>\n",
       "  </tbody>\n",
       "</table>\n",
       "</div>"
      ],
      "text/plain": [
       "  date_crawled                                        name  seller offer_type  \\\n",
       "0     20160326            Peugeot_807_160_NAVTECH_ON_BOARD  privat    Angebot   \n",
       "1     20160404  BMW_740i_4_4_Liter_HAMANN_UMBAU_Mega_Optik  privat    Angebot   \n",
       "\n",
       "    price   abtest vehicle_type  registration_year    gearbox  power_ps  \\\n",
       "0  5000.0  control          bus               2004     manual       158   \n",
       "1  8500.0  control    limousine               1997  automatic       286   \n",
       "\n",
       "    model  odometer_km  registration_month fuel_type    brand  \\\n",
       "0  andere     150000.0                   3       lpg  peugeot   \n",
       "1     7er     150000.0                   6    benzin      bmw   \n",
       "\n",
       "  unrepaired_damage ad_created  nr_of_Pictures  postal_code last_seen  \n",
       "0              nein   20160326               0        79588  20160406  \n",
       "1              nein   20160404               0        71034  20160406  "
      ]
     },
     "execution_count": 41,
     "metadata": {},
     "output_type": "execute_result"
    }
   ],
   "source": [
    "autos['date_crawled']=autos['date_crawled'].str.replace(\"-\", \"\").str.strip()\n",
    "autos['ad_created']=autos['ad_created'].str.replace(\"-\", \"\").str.strip()\n",
    "autos['last_seen']=autos['last_seen'].str.replace(\"-\", \"\").str.strip()\n",
    "mycopy.head(2)"
   ]
  }
 ],
 "metadata": {
  "kernelspec": {
   "display_name": "Python 3",
   "language": "python",
   "name": "python3"
  },
  "language_info": {
   "codemirror_mode": {
    "name": "ipython",
    "version": 3
   },
   "file_extension": ".py",
   "mimetype": "text/x-python",
   "name": "python",
   "nbconvert_exporter": "python",
   "pygments_lexer": "ipython3",
   "version": "3.4.3"
  }
 },
 "nbformat": 4,
 "nbformat_minor": 2
}
