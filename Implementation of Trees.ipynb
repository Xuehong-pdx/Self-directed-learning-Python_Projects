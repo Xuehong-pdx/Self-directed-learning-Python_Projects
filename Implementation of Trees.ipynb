{
 "cells": [
  {
   "cell_type": "markdown",
   "metadata": {},
   "source": [
    "### Binary Tree"
   ]
  },
  {
   "cell_type": "code",
   "execution_count": null,
   "metadata": {},
   "outputs": [],
   "source": [
    "class Node:\n",
    "    def __init__(self, value = None):\n",
    "        self.value = value\n",
    "        self.left = None\n",
    "        self.right = None\n",
    " \n",
    "    def __repr__(self):\n",
    "        return \"<Node: {}>\".format(self.value)"
   ]
  },
  {
   "cell_type": "code",
   "execution_count": 12,
   "metadata": {},
   "outputs": [
    {
     "name": "stdout",
     "output_type": "stream",
     "text": [
      "2\n",
      "None\n"
     ]
    }
   ],
   "source": [
    "node = Node(2)\n",
    "print(node.value)\n",
    "print(node.left)"
   ]
  },
  {
   "cell_type": "code",
   "execution_count": 40,
   "metadata": {},
   "outputs": [],
   "source": [
    "class BinaryTree:\n",
    "    def __init__(self, values = None):\n",
    "        self.root = None\n",
    "        if values:\n",
    "            self.insert(values)\n",
    "    \n",
    "    def insert(self, values, index=0):\n",
    "        node = None\n",
    "        if index < len(values):\n",
    "            node = Node(value = values[index])\n",
    "            if not self.root:\n",
    "                self.root = node\n",
    "            node.left = self.insert(values, index = index*2+1)\n",
    "            node.right = self.insert(values, index = index*2+2)\n",
    "        return node\n",
    "    \n",
    "    def __len__(self):\n",
    "        return len(self.values)\n",
    "           \n",
    "    def is_parent(self, node):\n",
    "        return bool(node.left or node.right)\n",
    "    \n",
    "    def is_interior(self, node):\n",
    "        return (not node == self.root) and self.is_parent(node)\n",
    "    \n",
    "    def is_leaf(self, node):\n",
    "        return (not node == self.root) and not self.is_interior(node)\n",
    "\n",
    "    def preorder_traverse(self, node):\n",
    "        if not node:\n",
    "            return []\n",
    "        return (\n",
    "            [node.value] +\n",
    "            self.preorder_traverse(node.left) +\n",
    "            self.preorder_traverse(node.right)\n",
    "        )\n",
    "     \n",
    "    def inorder_traverse(self, node):\n",
    "        if not node:\n",
    "            return []\n",
    "        return (\n",
    "            self.inorder_traverse(node.left) +\n",
    "            [node.value] +\n",
    "            self.inorder_traverse(node.right)\n",
    "        )\n",
    "    \n",
    "    def postorder_traverse(self, node):\n",
    "        if not node:\n",
    "            return []\n",
    "        return (\n",
    "            self.postorder_traverse(node.left) +\n",
    "            self.postorder_traverse(node.right) +\n",
    "            [node.value]\n",
    "        )\n",
    "    \n",
    "    def depth(self, node):\n",
    "        if not node:\n",
    "            return 0\n",
    "        return max(self.depth(node.left), self.depth(node.right)) + 1\n",
    "    \n",
    "    def num_nodes(self, node):\n",
    "        return len(self.preorder_traverse(node))\n",
    "    \n",
    "    def is_balanced(self, node):\n",
    "        if not node:\n",
    "            return True\n",
    "        left_height = self.depth(node.left)\n",
    "        right_height = self.depth(node.right)\n",
    "        if abs(left_height-right_height) <= 1:\n",
    "            return True\n",
    "        else:\n",
    "            return False"
   ]
  },
  {
   "cell_type": "code",
   "execution_count": 41,
   "metadata": {},
   "outputs": [
    {
     "name": "stdout",
     "output_type": "stream",
     "text": [
      "4 3 2\n"
     ]
    }
   ],
   "source": [
    "tree = BinaryTree()\n",
    "tree.insert([4,3,2])\n",
    "root = tree.root.value\n",
    "left = tree.root.left.value\n",
    "right = tree.root.right.value\n",
    "print(root, left, right)"
   ]
  },
  {
   "cell_type": "code",
   "execution_count": 42,
   "metadata": {},
   "outputs": [
    {
     "name": "stdout",
     "output_type": "stream",
     "text": [
      "1 10\n"
     ]
    }
   ],
   "source": [
    "level_order = [1, 2, 3, 4, 5, 6, 7, 8, 9, 10]\n",
    "tree = BinaryTree(level_order)\n",
    "root = tree.root.value\n",
    "child = tree.root.left.right.left.value\n",
    "print(root, child)"
   ]
  },
  {
   "cell_type": "code",
   "execution_count": 43,
   "metadata": {},
   "outputs": [
    {
     "name": "stdout",
     "output_type": "stream",
     "text": [
      "False False\n"
     ]
    }
   ],
   "source": [
    "tree = BinaryTree(level_order)\n",
    "root_parent = tree.is_parent(tree.root)\n",
    "parent = tree.is_parent(tree.root.left)\n",
    "interior = tree.is_interior(tree.root.left)\n",
    "root_leaf = tree.is_leaf(tree.root)\n",
    "leaf = tree.is_leaf(tree.root.left.left)\n",
    "print(root_leaf, leaf)"
   ]
  },
  {
   "cell_type": "code",
   "execution_count": 44,
   "metadata": {},
   "outputs": [
    {
     "name": "stdout",
     "output_type": "stream",
     "text": [
      "preorder:   [1, 2, 4, 8, 9, 5, 10, 3, 6, 7]\n",
      "inorder:    [8, 4, 9, 2, 10, 5, 1, 6, 3, 7]\n",
      "postorder:  [8, 9, 4, 10, 5, 2, 6, 7, 3, 1]\n"
     ]
    }
   ],
   "source": [
    "tree = BinaryTree(level_order)\n",
    "preorder = tree.preorder_traverse(tree.root)\n",
    "inorder = tree.inorder_traverse(tree.root)\n",
    "postorder = tree.postorder_traverse(tree.root)\n",
    "\n",
    "print('preorder:  ', preorder)\n",
    "print('inorder:   ', inorder)\n",
    "print('postorder: ', postorder)"
   ]
  },
  {
   "cell_type": "code",
   "execution_count": 45,
   "metadata": {},
   "outputs": [
    {
     "name": "stdout",
     "output_type": "stream",
     "text": [
      "4 10\n",
      "True\n"
     ]
    }
   ],
   "source": [
    "tree = BinaryTree(level_order)\n",
    "depth = tree.depth(tree.root)\n",
    "num_nodes = tree.num_nodes(tree.root)\n",
    "print(depth, num_nodes)\n",
    "balanced = tree.is_balanced(tree.root)\n",
    "print(balanced)"
   ]
  },
  {
   "cell_type": "code",
   "execution_count": 1,
   "metadata": {},
   "outputs": [],
   "source": [
    "# From Corey Shafer\n",
    "class Node(object):\n",
    "    def __init__(self, value):\n",
    "        self.value = value\n",
    "        self.left = None\n",
    "        self.right = None\n",
    "\n",
    "class Queue(object): # first-in, first-out\n",
    "    def __init__(self):\n",
    "        self.items = []\n",
    "        \n",
    "    def enqueue(self, item):\n",
    "        self.items.insert(0, item) # inserting new to the front to ensure pop out the first-in-first-out by pop.\n",
    "        \n",
    "    def dequeue(self):\n",
    "        if not self.is_empty():\n",
    "            return self.items.pop()\n",
    "        \n",
    "    def is_empty(self):\n",
    "        return len(self.items) == 0\n",
    "    \n",
    "    def peek(self):\n",
    "        if not self.is_empty():\n",
    "            return self.items[-1].value\n",
    "        \n",
    "    def __len__(self):\n",
    "        return len(self.items)\n",
    "        \n",
    "class BinaryTree(object): \n",
    "    def __init__(self, root):\n",
    "        self.root = Node(root)\n",
    "    \n",
    "    def print_tree(self, traversal_type):\n",
    "        if traversal_type == 'preorder':\n",
    "            return self.preorder_print(tree.root, '')\n",
    "        elif traversal_type == 'inorder':\n",
    "            return self.inorder_print(tree.root, '')\n",
    "        elif traversal_type == 'postorder':\n",
    "            return self.postorder_print(tree.root, '')\n",
    "        elif traversal_type == 'levelorder':\n",
    "            return self.levelorder_print(tree.root)\n",
    "        else:\n",
    "            print(f'traversal type {traversal_type} is not supported')\n",
    "            return False\n",
    "    \n",
    "    def preorder_print(self, start, traversal):\n",
    "        \"\"\" root -> left -> right\"\"\"\n",
    "        if start: # if node not empty\n",
    "            traversal += (str(start.value) + '-')\n",
    "            traversal = self.preorder_print(start.left, traversal)\n",
    "            traversal = self.preorder_print(start.right, traversal)\n",
    "        return traversal\n",
    "\n",
    "    # In-order traversal\n",
    "    def inorder_print(self, start, traversal):\n",
    "        \"\"\" left -> root -> right\"\"\"\n",
    "        if start: \n",
    "            traversal = self.inorder_print(start.left, traversal)\n",
    "            traversal += (str(start.value) + '-')\n",
    "            traversal = self.inorder_print(start.right, traversal)\n",
    "        return traversal\n",
    "   \n",
    "    # Post-order traversal\n",
    "    def postorder_print(self, start, traversal):\n",
    "        \"\"\" left -> right -> root \"\"\"\n",
    "        if start: \n",
    "            traversal = self.postorder_print(start.left, traversal)\n",
    "            traversal = self.postorder_print(start.right, traversal)\n",
    "            traversal += (str(start.value) + '-')\n",
    "        return traversal\n",
    "    \n",
    "    # Level-order traversal\n",
    "    def levelorder_print(self, start):\n",
    "        if start is None:\n",
    "            return\n",
    "        \n",
    "        queue = Queue()\n",
    "        queue.enqueue(start)\n",
    "        traversal = ''\n",
    "        while len(queue) > 0:\n",
    "            traversal += (str(queue.peek()) + '-')\n",
    "            node = queue.dequeue()\n",
    "            if node.left:\n",
    "                queue.enqueue(node.left)\n",
    "            if node.right:\n",
    "                queue.enqueue(node.right)\n",
    "        return traversal\n",
    "    \n",
    "    def insert(self, data):\n",
    "        if self.root is None:\n",
    "            self.root = Node(data)\n",
    "        else:\n",
    "            self._insert(data, self.root)\n",
    "\n",
    "    def _insert(self, data, cur_node):\n",
    "        if data < cur_node.data:\n",
    "            if cur_node.left is None:\n",
    "                cur_node.left = Node(data)\n",
    "            else:\n",
    "                self._insert(data, cur_node.left)\n",
    "        elif data > cur_node.data:\n",
    "            if cur_node.right is None:\n",
    "                    cur_node.right = Node(data)\n",
    "            else:\n",
    "                self._insert(data, cur_node.right)\n",
    "        else:\n",
    "            print('the value is already in tree.')\n",
    "    \n",
    "    def find(self, data):\n",
    "        if self.root:\n",
    "            is_found = self._find(data, self.root)\n",
    "            if is_found:\n",
    "                return True\n",
    "            return False\n",
    "        else:\n",
    "            return None\n",
    "        \n",
    "    def _find(self, data, cur_node):\n",
    "        if data > cur_node.data and cur_node.right:\n",
    "            return self._find(data, cur_node.right)\n",
    "        elif data < cur_node.data and cur_node.left:\n",
    "            return self._find(data, cur_node.left)\n",
    "        if data == cur_node.data:\n",
    "            return True\n",
    "        \n",
    "    # height of binary tree: longest path to leaf\n",
    "    def height(self, node):\n",
    "        if node is None:\n",
    "            return -1\n",
    "        left_height = self.height(node.left)\n",
    "        right_height = self.height(node.right)\n",
    "        return 1+ max(left_height, right_height)"
   ]
  },
  {
   "cell_type": "code",
   "execution_count": 2,
   "metadata": {},
   "outputs": [
    {
     "name": "stdout",
     "output_type": "stream",
     "text": [
      "preorder:   1-2-4-5-3-6-7-\n",
      "inorder:    4-2-5-1-6-3-7-\n",
      "postorder:  4-5-2-6-7-3-1-\n",
      "levelorder: 1-2-3-4-5-6-7-\n"
     ]
    }
   ],
   "source": [
    "tree = BinaryTree(1)\n",
    "tree.root.left = Node(2)\n",
    "tree.root.right = Node(3)\n",
    "tree.root.left.left = Node(4)\n",
    "tree.root.left.right = Node(5)\n",
    "tree.root.right.left = Node(6)\n",
    "tree.root.right.right = Node(7)\n",
    "\n",
    "#            1\n",
    "#         /     \\\n",
    "#        2       3\n",
    "#       / \\     / \\\n",
    "#      4   5   6   7\n",
    "\n",
    "print('preorder:  ', tree.print_tree('preorder'))\n",
    "print('inorder:   ', tree.print_tree('inorder'))\n",
    "print('postorder: ', tree.print_tree('postorder'))\n",
    "print('levelorder:', tree.print_tree('levelorder'))"
   ]
  },
  {
   "cell_type": "markdown",
   "metadata": {},
   "source": [
    "### Binary Heap Tree"
   ]
  },
  {
   "cell_type": "code",
   "execution_count": 98,
   "metadata": {},
   "outputs": [
    {
     "name": "stdout",
     "output_type": "stream",
     "text": [
      "11 3 9\n"
     ]
    }
   ],
   "source": [
    "# Min Heap: each parent node is less than or equal to its child node. \n",
    "# Max heap: each parent node is greater than or equal to its child node.\n",
    "# To insert a node into a Max heap: add child, compare parent and current node, swap if necessary\n",
    "\n",
    "class Node:\n",
    "    def __init__(self, value = None):\n",
    "        self.value = value\n",
    "        self.left = None\n",
    "        self.right = None\n",
    "        self.parent = None\n",
    "\n",
    "    def __repr__(self):\n",
    "        # Helpful method to keep track of Node values.\n",
    "        return \"<Node: {}>\".format(self.value)    \n",
    "\n",
    "class MaxHeap:\n",
    "    def __init__(self):\n",
    "        self.root = None\n",
    "    \n",
    "    def insert(self, value):\n",
    "        node = Node(value = value)\n",
    "        if not self.root:\n",
    "            self.root = node\n",
    "            return node\n",
    "        \n",
    "        if self.root.value >= node.value:  \n",
    "            node.parent = self.root \n",
    "            if not self.root.left:\n",
    "                self.root.left = node \n",
    "            elif not self.root.right:\n",
    "                self.root.right = node\n",
    "            return node\n",
    "        \n",
    "        old_root = self.root \n",
    "        node.left = old_root.left\n",
    "        node.right = old_root.right\n",
    "        self.root = node\n",
    "        \n",
    "        if not self.root.left:\n",
    "            self.root.left = old_root\n",
    "        elif not self.root.right:\n",
    "            self.root.right = old_root\n",
    "        return node\n",
    "                \n",
    "heap = MaxHeap()\n",
    "heap.insert(3)\n",
    "heap.insert(9)\n",
    "heap.insert(11)\n",
    "root = heap.root.value\n",
    "left = heap.root.left.value\n",
    "right = heap.root.right.value \n",
    "print(root, left, right)"
   ]
  },
  {
   "cell_type": "code",
   "execution_count": 51,
   "metadata": {},
   "outputs": [],
   "source": [
    "# use list as the internal data structure for a max-heap.\n",
    "import math\n",
    "class MaxHeap():\n",
    "    def __init__(self):\n",
    "        self.nodes = []\n",
    "    \n",
    "    def insert(self, value):\n",
    "        self.nodes.append(value)\n",
    "        index = len(self.nodes) - 1\n",
    "        parent_index = math.floor((index-1)/2)\n",
    "        \n",
    "        while index > 0 and self.nodes[parent_index] < self.nodes[index]:\n",
    "            self.nodes[parent_index], self.nodes[index] = self.nodes[index], self.nodes[parent_index]\n",
    "            index = parent_index\n",
    "            parent_index = math.floor((index-1)/2)\n",
    "        return self.nodes\n",
    "    \n",
    "    def insert_multiple(self, values):\n",
    "        for value in values:\n",
    "            self.insert(value)\n",
    "\n",
    "    def max(self):\n",
    "        return self.nodes[0]\n",
    "\n",
    "    def pop(self): # remove the root element from the max-heap\n",
    "        root = self.nodes[0]\n",
    "        self.nodes[0] = self.nodes[-1]\n",
    "        self.nodes = self.nodes[:-1]\n",
    "        index = 0\n",
    "        left_child_idx = 2*index + 1\n",
    "        right_child_idx = 2*index + 2\n",
    "        \n",
    "        while max(left_child_idx, right_child_idx) < len(self.nodes) - 1:\n",
    "            swap_index = left_child_idx\n",
    "            if self.nodes[left_child_idx] < self.nodes[right_child_idx]:\n",
    "                swap_index = right_child_idx\n",
    "            if self.nodes[swap_index] < self.nodes[index]:\n",
    "                return root\n",
    "            \n",
    "            self.nodes[swap_index], self.nodes[index] = self.nodes[index], self.nodes[swap_index]\n",
    "            index = swap_index\n",
    "            left_child_idx = 2*index + 1\n",
    "            right_child_idx = 2*index + 2\n",
    "        return root\n",
    "\n",
    "    def top_n_elements(self, n):\n",
    "        return [self.pop() for _ in range(n)]"
   ]
  },
  {
   "cell_type": "code",
   "execution_count": 52,
   "metadata": {},
   "outputs": [
    {
     "name": "stdout",
     "output_type": "stream",
     "text": [
      "[11, 3, 9]\n"
     ]
    }
   ],
   "source": [
    "heap = MaxHeap()\n",
    "heap.insert(3)\n",
    "heap.insert(9)\n",
    "heap.insert(11)\n",
    "nodes = heap.nodes\n",
    "print(nodes)"
   ]
  },
  {
   "cell_type": "code",
   "execution_count": 53,
   "metadata": {},
   "outputs": [
    {
     "name": "stdout",
     "output_type": "stream",
     "text": [
      "heap max after insertion:  11\n",
      "first pop:  11\n",
      "2nd pop:  9\n",
      "top_3 is [6, 3, 4]\n"
     ]
    }
   ],
   "source": [
    "heap_list = [3,9,5,11,4,6]\n",
    "heap = MaxHeap()\n",
    "heap.insert_multiple(heap_list)\n",
    "heap_max = heap.max()\n",
    "print('heap max after insertion: ', heap_max)\n",
    "heap_max = heap.pop()\n",
    "print('first pop: ', heap_max)\n",
    "heap_max = heap.pop()\n",
    "print('2nd pop: ', heap_max)\n",
    "top_3 = heap.top_n_elements(3)\n",
    "print(f'top_3 is {top_3}')"
   ]
  },
  {
   "cell_type": "code",
   "execution_count": 129,
   "metadata": {},
   "outputs": [
    {
     "name": "stdout",
     "output_type": "stream",
     "text": [
      "[['141100', '999.9'], ['32406', '999.88'], ['82298', '999.52']]\n"
     ]
    }
   ],
   "source": [
    "# using heapq\n",
    "import csv\n",
    "import heapq\n",
    "with open('Raw_data/amounts.csv', 'r') as f:\n",
    "    reader = csv.reader(f)\n",
    "    heap_list = list(reader)[1:]\n",
    "    \n",
    "# find the top 100 rows with the second column as the key    \n",
    "top_100 = heapq.nlargest(100, heap_list, key=lambda x: x[1])\n",
    "print(top_100[:3])"
   ]
  },
  {
   "cell_type": "code",
   "execution_count": 131,
   "metadata": {},
   "outputs": [
    {
     "name": "stdout",
     "output_type": "stream",
     "text": [
      "Sorting search took: 5.08812952041626 seconds\n",
      "Heap search took: 1.0156407356262207 seconds\n"
     ]
    }
   ],
   "source": [
    "import time\n",
    "import random\n",
    "heap_list = list(range(10 * 100 * 5000))\n",
    "random.shuffle(heap_list)\n",
    "    \n",
    "start = time.time()\n",
    "sorted(heap_list, reverse=True)[:100]\n",
    "print(\"Sorting search took: {} seconds\".format(time.time() - start))\n",
    "\n",
    "start = time.time()\n",
    "heapq.nlargest(100, heap_list)\n",
    "print(\"Heap search took: {} seconds\".format(time.time() - start))"
   ]
  },
  {
   "cell_type": "markdown",
   "metadata": {},
   "source": [
    "### Binary search tree: left children less than the parent, vise versa"
   ]
  },
  {
   "cell_type": "code",
   "execution_count": 47,
   "metadata": {},
   "outputs": [],
   "source": [
    "# From Corey Shafer\n",
    "class Node:\n",
    "    def __init__(self, data = None):\n",
    "        self.data = data\n",
    "        self.left = None\n",
    "        self.right = None\n",
    "\n",
    "class BST:\n",
    "    def __init__(self):\n",
    "        self.root = None\n",
    "    \n",
    "    def insert(self, data):\n",
    "        if self.root is None:\n",
    "            self.root = Node(data)\n",
    "        else:\n",
    "            self._insert(data, self.root)\n",
    "\n",
    "    def _insert(self, data, cur_node):\n",
    "        if data < cur_node.data:\n",
    "            if cur_node.left is None:\n",
    "                cur_node.left = Node(data)\n",
    "            else:\n",
    "                self._insert(data, cur_node.left)\n",
    "        elif data > cur_node.data:\n",
    "            if cur_node.right is None:\n",
    "                    cur_node.right = Node(data)\n",
    "            else:\n",
    "                self._insert(data, cur_node.right)\n",
    "        else:\n",
    "            print('the value is already in tree.')\n",
    "    \n",
    "    def find(self, data):\n",
    "        if self.root:\n",
    "            is_found = self._find(data, self.root)\n",
    "            if is_found:\n",
    "                return True\n",
    "            return False\n",
    "        else:\n",
    "            return None\n",
    "        \n",
    "    def _find(self, data, cur_node):\n",
    "        if data > cur_node.data and cur_node.right:\n",
    "            return self._find(data, cur_node.right)\n",
    "        elif data < cur_node.data and cur_node.left:\n",
    "            return self._find(data, cur_node.left)\n",
    "        if data == cur_node.data:\n",
    "            return True\n",
    "        \n",
    "    # height of binary tree: longest path to leaf\n",
    "    def height(self, node):\n",
    "        if node is None:\n",
    "            return -1\n",
    "        left_height = self.height(node.left)\n",
    "        right_height = self.height(node.right)\n",
    "        return 1+ max(left_height, right_height)"
   ]
  },
  {
   "cell_type": "code",
   "execution_count": 48,
   "metadata": {},
   "outputs": [
    {
     "name": "stdout",
     "output_type": "stream",
     "text": [
      "False\n",
      "2\n"
     ]
    }
   ],
   "source": [
    "bst = BST()\n",
    "bst.insert(4)\n",
    "bst.insert(2)\n",
    "bst.insert(8)\n",
    "bst.insert(5)\n",
    "bst.insert(10)\n",
    "\n",
    "print(bst.find(7))\n",
    "print(bst.height(bst.root))   "
   ]
  },
  {
   "cell_type": "code",
   "execution_count": 33,
   "metadata": {},
   "outputs": [
    {
     "name": "stdout",
     "output_type": "stream",
     "text": [
      "4\n"
     ]
    }
   ],
   "source": [
    "\"\"\"\n",
    "BST = Every value in a nodes' left sub-tree has a value that is less than or equal to the parent node\n",
    "      Every value in a nodes' right sub-tree has a value that is greater than or equal to the parent node\n",
    "\"\"\"\n",
    "class Node:\n",
    "    def __init__(self, value=None):\n",
    "        self.left = None\n",
    "        self.right = None\n",
    "        self.value = value\n",
    "    \n",
    "    def __str__(self):\n",
    "        return \"<Node: {}>\".format(self.value)\n",
    "\n",
    "class BaseBST:\n",
    "    def __init__(self):\n",
    "        self.node = None\n",
    "    \n",
    "    def insert(self, value=None):\n",
    "        node = Node(value=value)\n",
    "        if not self.node:\n",
    "            self.node = node\n",
    "            self.node.right = BaseBST()\n",
    "            self.node.left = BaseBST()\n",
    "            return\n",
    "        \n",
    "        if value > self.node.value:\n",
    "            if self.node.right:\n",
    "                self.node.right.insert(value=value)\n",
    "            else:\n",
    "                self.node.right.node = node\n",
    "            return\n",
    "        \n",
    "        if self.node.left:\n",
    "            self.node.left.insert(value=value)\n",
    "        else:\n",
    "            self.node.left.node = node\n",
    "    \n",
    "    def inorder(self, tree):\n",
    "        if not tree or not tree.node:\n",
    "            return []\n",
    "        return (\n",
    "            self.inorder(tree.node.left) +\n",
    "            [tree.node.value] +\n",
    "            self.inorder(tree.node.right)\n",
    "        )\n",
    "\n",
    "    def search(self, value):\n",
    "        if not self.node:\n",
    "            return False\n",
    "        if value == self.node.value:\n",
    "            return True\n",
    "        result = False\n",
    "        if self.node.left:\n",
    "            result = self.node.left.search(value)\n",
    "        if self.node.right:\n",
    "            result = self.node.right.search(value)\n",
    "        return result\n",
    "    \n",
    "bst = BaseBST()\n",
    "bst.insert(4)\n",
    "bst.insert(2)\n",
    "bst.insert(1)\n",
    "bst.insert(5)\n",
    "bst.insert(3)\n",
    "root = bst.node.value\n",
    "print(root)"
   ]
  },
  {
   "cell_type": "code",
   "execution_count": 38,
   "metadata": {},
   "outputs": [
    {
     "name": "stdout",
     "output_type": "stream",
     "text": [
      "[0, 1, 2, 3, 4, 5, 6, 7, 8, 9, 10, 11, 12, 13, 14, 15, 16, 17, 18, 19]\n",
      "does_exist_1? True\n",
      "does_exist_27? False\n"
     ]
    }
   ],
   "source": [
    "class BST(BaseBST):\n",
    "    def insert_multiple(self, values):\n",
    "        for value in values:\n",
    "            self.insert(value)\n",
    "    \n",
    "    def depth(self, node):\n",
    "        if not node:\n",
    "            return 0\n",
    "        if not node.left and not node.right:\n",
    "            return 1\n",
    "        return max(self.depth(node.left.node), self.depth(node.right.node)) + 1\n",
    "    \n",
    "    def is_balanced(self):\n",
    "        if not self.node:\n",
    "            return True\n",
    "        left_subtree = self.depth(self.node.left.node)\n",
    "        right_subtree = self.depth(self.node.right.node)\n",
    "        return abs(left_subtree - right_subtree) < 2\n",
    "\n",
    "    def left_rotate(self):\n",
    "        old_node = self.node                # save old self.node\n",
    "        new_node = self.node.right.node     # set new root note as old.node.right.node\n",
    "        if not new_node:                    # stop is new node is not a node\n",
    "            return\n",
    "        new_right_sub = new_node.left.node  # prepare to move new_node.left.node to the left of new node\n",
    "        self.node = new_node                # replace root node with new_node\n",
    "        old_node.right.node = new_right_sub # move new_node.left.node as right node for the old root note\n",
    "        new_node.left.node = old_node\n",
    "    \n",
    "    def right_rotate(self):\n",
    "        old_node = self.node\n",
    "        new_node = self.node.left.node\n",
    "        if not new_node:\n",
    "            return\n",
    "        \n",
    "        new_left_sub = new_node.right.node\n",
    "        self.node = new_node\n",
    "        old_node.left.node = new_left_sub\n",
    "        new_node.right.node = old_node\n",
    "\n",
    "bst_values = range(20)\n",
    "bst = BST()\n",
    "bst.insert_multiple(bst_values)\n",
    "sorted_inorder = bst.inorder(bst)\n",
    "print(sorted_inorder)\n",
    "does_exist_1 = bst.search(1)\n",
    "print('does_exist_1?', does_exist_1)\n",
    "does_exist_27 = bst.search(27)\n",
    "print('does_exist_27?', does_exist_27)"
   ]
  },
  {
   "cell_type": "code",
   "execution_count": 39,
   "metadata": {},
   "outputs": [
    {
     "name": "stdout",
     "output_type": "stream",
     "text": [
      "True\n"
     ]
    }
   ],
   "source": [
    "# check for tree-balance BST\n",
    "bst_values = [3,2,5,4,7]\n",
    "bst = BST()\n",
    "bst.insert_multiple(bst_values)\n",
    "balanced = bst.is_balanced()\n",
    "print(balanced)"
   ]
  },
  {
   "cell_type": "code",
   "execution_count": 40,
   "metadata": {},
   "outputs": [
    {
     "name": "stdout",
     "output_type": "stream",
     "text": [
      "True True\n"
     ]
    }
   ],
   "source": [
    "# self-balancing tree using rotations\n",
    "bst = BST()\n",
    "bst.insert_multiple(bst_values)\n",
    "bst.left_rotate()\n",
    "left_balanced = bst.is_balanced()\n",
    "bst.right_rotate()\n",
    "right_balanced = bst.is_balanced()\n",
    "print(left_balanced, right_balanced)"
   ]
  },
  {
   "cell_type": "code",
   "execution_count": 41,
   "metadata": {},
   "outputs": [
    {
     "name": "stdout",
     "output_type": "stream",
     "text": [
      "True\n"
     ]
    }
   ],
   "source": [
    "# AVL (Adelson-Velsky and Landis) Tree: self_balancing\n",
    "class BST(BaseBST):\n",
    "    def insert(self, value=None):\n",
    "        node = Node(value=value)\n",
    "        if not self.node:\n",
    "            self.node = node\n",
    "            self.node.left = BST()\n",
    "            self.node.right = BST()\n",
    "            return\n",
    "        \n",
    "        if value > self.node.value:\n",
    "            if self.node.right:\n",
    "                self.node.right.insert(value=value)\n",
    "            else:\n",
    "                self.node.right.node = node\n",
    "        else:\n",
    "            if self.node.left:\n",
    "                self.node.left.insert(value=value)\n",
    "            else:\n",
    "                self.node.left.node = node\n",
    "        \n",
    "        difference = self.depth(self.node.left.node) - self.depth(self.node.right.node)\n",
    "        \n",
    "        # Left side case.\n",
    "        if difference > 1:\n",
    "            # Left-right case.\n",
    "            if value > self.node.right.node.value:\n",
    "                self.node.left.left_rotate()\n",
    "            # Left-left case.\n",
    "            self.right_rotate()\n",
    "            \n",
    "        # Right side case.\n",
    "        if difference < -1:\n",
    "            # Right-left case.\n",
    "            if value <= self.node.left.node.value:\n",
    "                self.node.left.right_rotate()\n",
    "            self.left_rotate()\n",
    "    \n",
    "    def insert_multiple(self, values):\n",
    "        for value in values:\n",
    "            self.insert(value)\n",
    "            \n",
    "    def depth(self, node):\n",
    "        if not node:\n",
    "            return 0\n",
    "        if not node.left and not node.right:\n",
    "            return 1\n",
    "        \n",
    "        return max(self.depth(node.left.node), self.depth(node.right.node)) + 1\n",
    "    \n",
    "    def is_balanced(self):\n",
    "        if not self.node:\n",
    "            return True\n",
    "        \n",
    "        left_subtree = self.depth(self.node.left.node)\n",
    "        right_subtree = self.depth(self.node.right.node)\n",
    "        \n",
    "        return abs(left_subtree - right_subtree) < 2\n",
    "\n",
    "bst = BST()\n",
    "bst.insert_multiple(bst_values)\n",
    "inorder = bst.inorder(bst)\n",
    "is_bst_balanced = bst.is_balanced()\n",
    "print(is_bst_balanced)"
   ]
  },
  {
   "cell_type": "code",
   "execution_count": 52,
   "metadata": {},
   "outputs": [
    {
     "name": "stdout",
     "output_type": "stream",
     "text": [
      "[['goodbye', 'world', 2], ['hello', 'world', 3], ['fizz', 'buzz', 4], ['foo', 'bar', 5], ['this', 'that', 6], ['lorem', 'ipsum', 7], ['enough', 'programming', 8]]\n"
     ]
    }
   ],
   "source": [
    "class Node:\n",
    "    def __init__(self, key=None, value=None):\n",
    "        self.left = None\n",
    "        self.right = None\n",
    "        self.key = key\n",
    "        self.value = value\n",
    "\n",
    "    def __str__(self):\n",
    "        return \"<Node: {}>\".format(self.value)\n",
    "    \n",
    "class BST(BaseBST):\n",
    "    def __init__(self, index=None):\n",
    "        self.node = None\n",
    "        self.index = index\n",
    "    \n",
    "    def insert_multiple(self, values):\n",
    "        for value in values:\n",
    "            self.insert(value)\n",
    "    \n",
    "    def depth(self, node):\n",
    "        if not node:\n",
    "            return 0\n",
    "        if not node.left and not node.right:\n",
    "            return 1\n",
    "        \n",
    "        return max(self.depth(node.left.node), self.depth(node.right.node)) + 1\n",
    "    \n",
    "    def insert(self, value=None):  # value = list\n",
    "        key = value\n",
    "        if self.index:\n",
    "            key = value[self.index]\n",
    "        node = Node(key=key, value=value)\n",
    "        \n",
    "        if not self.node:\n",
    "            self.node = node\n",
    "            self.node.left = BST(index=self.index)\n",
    "            self.node.right = BST(index=self.index)\n",
    "            return\n",
    "        \n",
    "        if key > self.node.key:\n",
    "            if self.node.right:\n",
    "                self.node.right.insert(value=value)\n",
    "            else:\n",
    "                self.node.right.node = node\n",
    "        else:\n",
    "            if self.node.left:\n",
    "                self.node.left.insert(value=value)\n",
    "            else:\n",
    "                self.node.left.node = node\n",
    "        \n",
    "        difference = self.depth(self.node.left.node) - self.depth(self.node.right.node)\n",
    "        \n",
    "        # Left side case.\n",
    "        if difference > 1:\n",
    "            # Left-right case.\n",
    "            if key > self.node.right.node.key:\n",
    "                self.node.left.left_rotate()\n",
    "            # Left-left case.\n",
    "            self.right_rotate()\n",
    "            \n",
    "        # Right side case.\n",
    "        if difference < -1:\n",
    "            # Right-left case.\n",
    "            if key <= self.node.left.node.key:\n",
    "                self.node.left.right_rotate()\n",
    "            self.left_rotate()\n",
    "    \n",
    "    def search(self, key):\n",
    "        if not self.node:\n",
    "            return False\n",
    "        if key == self.node.key:\n",
    "            return True\n",
    "        \n",
    "        result = False\n",
    "        if self.node.left:\n",
    "            result = self.node.left.search(key)\n",
    "        if self.node.right:\n",
    "            result = self.node.right.search(key)\n",
    "        return result\n",
    "    \n",
    "    def left_rotate(self):\n",
    "        old_node = self.node\n",
    "        new_node = self.node.right.node\n",
    "        if not new_node:\n",
    "            return\n",
    "        \n",
    "        new_right_sub = new_node.left.node\n",
    "        self.node = new_node\n",
    "        old_node.right.node = new_right_sub\n",
    "        new_node.left.node = old_node\n",
    "    \n",
    "    def right_rotate(self):\n",
    "        old_node = self.node\n",
    "        new_node = self.node.left.node\n",
    "        if not new_node:\n",
    "            return\n",
    "     \n",
    "bst_values = [3,2,5,4,7]\n",
    "bst = BST()\n",
    "bst.insert_multiple(bst_values)\n",
    "inorder = bst.inorder(bst)\n",
    "bst_list = BST(index=2)\n",
    "bst_list_values = [['hello', 'world', 3],['goodbye', 'world', 2],['foo', 'bar', 5],['fizz', 'buzz', 4],['lorem', 'ipsum', 7],['this', 'that', 6],\n",
    "['enough', 'programming', 8]]\n",
    "bst_list.insert_multiple(bst_list_values)\n",
    "inorder_list = bst.inorder(bst_list)\n",
    "print(inorder_list)"
   ]
  },
  {
   "cell_type": "code",
   "execution_count": 43,
   "metadata": {},
   "outputs": [
    {
     "name": "stdout",
     "output_type": "stream",
     "text": [
      "Help on method insert in module __main__:\n",
      "\n",
      "insert(value=None) method of __main__.BST instance\n",
      "\n",
      "None\n",
      "True\n",
      "True\n"
     ]
    }
   ],
   "source": [
    "print(help(bst.insert))\n",
    "print(isinstance(bst, BST))\n",
    "print(issubclass(BST,BaseBST))"
   ]
  },
  {
   "cell_type": "markdown",
   "metadata": {},
   "source": [
    "### B-trees and B+ trees"
   ]
  },
  {
   "cell_type": "code",
   "execution_count": 107,
   "metadata": {},
   "outputs": [
    {
     "name": "stdout",
     "output_type": "stream",
     "text": [
      "from insert_multiple: 3\n",
      "from insert_multiple: 2\n",
      "from insert_multiple: 5\n",
      "from insert_multiple: 4\n",
      "from insert_multiple: 7\n",
      "from insert_multiple: ['hello', 'world', 3]\n",
      "from insert_multiple: ['goodbye', 'world', 2]\n",
      "from insert_multiple: ['foo', 'bar', 5]\n",
      "from insert_multiple: ['fizz', 'buzz', 4]\n",
      "from insert_multiple: ['lorem', 'ipsum', 7]\n",
      "from insert_multiple: ['this', 'that', 6]\n",
      "from insert_multiple: ['enough', 'programming', 8]\n",
      "\n",
      "[['this', 'that', 6], ['enough', 'programming', 8], ['lorem', 'ipsum', 7]]\n"
     ]
    }
   ],
   "source": [
    "# store and search list of lists\n",
    "class Node:\n",
    "    def __init__(self, key=None, value=None):\n",
    "        self.left = None\n",
    "        self.right = None\n",
    "        self.key = key\n",
    "        self.value = value\n",
    "\n",
    "    def __str__(self):\n",
    "        return \"<Node: {}>\".format(self.value)\n",
    "    \n",
    "class BST(BaseBST):\n",
    "    def __init__(self, index=None):\n",
    "        self.node = None\n",
    "        self.index = index\n",
    "    \n",
    "    def insert_multiple(self, values):\n",
    "        for value in values:\n",
    "            print('from insert_multiple:', value)\n",
    "            self.insert(value)\n",
    "    \n",
    "    def depth(self, node):\n",
    "        if not node:\n",
    "            return 0\n",
    "        if not node.left and not node.right:\n",
    "            return 1\n",
    "        return max(self.depth(node.left.node), self.depth(node.right.node)) + 1\n",
    "    \n",
    "    def insert(self, value=None):  # value = list\n",
    "        key = value\n",
    "        if self.index:\n",
    "            key = value[self.index]\n",
    "        node = Node(key=key, value=value)\n",
    "        \n",
    "        if not self.node:\n",
    "            self.node = node\n",
    "            self.node.left = BST(index=self.index)\n",
    "            self.node.right = BST(index=self.index)\n",
    "            return\n",
    "        \n",
    "        if key > self.node.key:\n",
    "            if self.node.right:\n",
    "                self.node.right.insert(value=value)\n",
    "            else:\n",
    "                self.node.right.node = node\n",
    "        else:\n",
    "            if self.node.left:\n",
    "                self.node.left.insert(value=value)\n",
    "            else:\n",
    "                self.node.left.node = node\n",
    "        \n",
    "        difference = self.depth(self.node.left.node) - self.depth(self.node.right.node)\n",
    "        \n",
    "        # Left side case.\n",
    "        if difference > 1:\n",
    "            # Left-right case.\n",
    "            if key > self.node.right.node.key:\n",
    "                self.node.left.left_rotate()\n",
    "            # Left-left case.\n",
    "            self.right_rotate()\n",
    "            \n",
    "        # Right side case.\n",
    "        if difference < -1:\n",
    "            # Right-left case.\n",
    "            if key <= self.node.left.node.key:\n",
    "                self.node.left.right_rotate()\n",
    "            self.left_rotate()\n",
    "    \n",
    "    def search(self, key):\n",
    "        if not self.node:\n",
    "            return False\n",
    "        if key == self.node.key:\n",
    "            return True\n",
    "        \n",
    "        result = False\n",
    "        if self.node.left:\n",
    "            result = self.node.left.search(key)\n",
    "        if self.node.right:\n",
    "            result = self.node.right.search(key)\n",
    "        return result\n",
    "    \n",
    "    def left_rotate(self):\n",
    "        old_node = self.node\n",
    "        new_node = self.node.right.node\n",
    "        if not new_node:\n",
    "            return\n",
    "        \n",
    "        new_right_sub = new_node.left.node\n",
    "        self.node = new_node\n",
    "        old_node.right.node = new_right_sub\n",
    "        new_node.left.node = old_node\n",
    "    \n",
    "    def right_rotate(self):\n",
    "        old_node = self.node\n",
    "        new_node = self.node.left.node\n",
    "        if not new_node:\n",
    "            return\n",
    "     \n",
    "    def greater_than(self, key):\n",
    "        \"\"\"returns a list of the values greater than the given key\"\"\"\n",
    "        if not self.node:\n",
    "            return []\n",
    "        \n",
    "        values = []\n",
    "        if self.node.left:\n",
    "            values += self.node.left.greater_than(key)\n",
    "        if self.node.right:\n",
    "            values += self.node.right.greater_than(key)\n",
    "        if self.node.key > key:\n",
    "            values.append(self.node.value)\n",
    "        return values\n",
    "\n",
    "bst = BST()\n",
    "bst.insert_multiple(bst_values)\n",
    "greater = bst.greater_than(5)\n",
    "\n",
    "bst_list = BST(index=2)\n",
    "bst_list.insert_multiple(bst_list_values)\n",
    "greater_list = bst_list.greater_than(5)\n",
    "print()\n",
    "print(greater_list)"
   ]
  },
  {
   "cell_type": "code",
   "execution_count": 78,
   "metadata": {},
   "outputs": [
    {
     "name": "stdout",
     "output_type": "stream",
     "text": [
      "['\"Time\",\"Amount\"\\n', '0,149.62\\n', '0,2.69\\n', '1,378.66\\n', '1,123.5\\n', '2,69.99\\n', '2,3.67\\n', '4,4.99\\n', '7,40.8\\n', '7,93.2\\n']\n"
     ]
    }
   ],
   "source": [
    "with open('Raw_data\\\\amounts.csv', 'r') as f:\n",
    "    data = f.readlines()\n",
    "print(data[0:10])"
   ]
  },
  {
   "cell_type": "code",
   "execution_count": 2,
   "metadata": {},
   "outputs": [
    {
     "name": "stdout",
     "output_type": "stream",
     "text": [
      "[(0, 149.62), (0, 2.69), (1, 378.66), (1, 123.5), (2, 69.99), (2, 3.67), (4, 4.99), (7, 40.8), (7, 93.2), (9, 3.68), (10, 7.8), (10, 9.99), (10, 121.5), (11, 27.5), (12, 58.8)]\n"
     ]
    }
   ],
   "source": [
    "import csv\n",
    "with open('Raw_data\\\\amounts.csv', 'r') as f:\n",
    "    reader = csv.reader(f)\n",
    "    next(reader)\n",
    "    amount_rows = list((int(float(r[0])), float(r[1])) for r in reader)\n",
    "print(amount_rows[0:15])"
   ]
  },
  {
   "cell_type": "code",
   "execution_count": 1,
   "metadata": {
    "scrolled": true
   },
   "outputs": [
    {
     "name": "stdout",
     "output_type": "stream",
     "text": [
      "[(553, 10.08), (373, 10.29), (206, 10.27), (449, 10.2), (735, 10.38)]\n",
      "[(553, 10.08), (449, 10.2), (553, 10.08), (206, 10.27), (373, 10.29)]\n",
      "[(553, 10.08), (553, 10.08), (1323, 10.09), (449, 10.2), (449, 10.2)]\n",
      "[(553, 10.08), (553, 10.08), (553, 10.08), (1323, 10.09), (1872, 10.12)]\n",
      "[(553, 10.08), (553, 10.08), (553, 10.08), (553, 10.08), (1323, 10.09)]\n",
      "[(2736, 10.02), (553, 10.08), (553, 10.08), (553, 10.08), (553, 10.08)]\n",
      "[(2736, 10.02), (553, 10.08), (553, 10.08), (553, 10.08), (2736, 10.02)]\n",
      "[(2736, 10.02), (2736, 10.02), (553, 10.08), (553, 10.08), (553, 10.08)]\n"
     ]
    }
   ],
   "source": [
    "import time\n",
    "start = time.time()\n",
    "import csv\n",
    "with open('amounts.csv', 'r') as f:\n",
    "    reader = csv.reader(f)\n",
    "    next(reader)\n",
    "    # query on the second column, the amounts field to find rows\n",
    "    amount_rows = list((int(float(r[0])), float(r[1])) for r in reader)\n",
    "    # amount_rows = amount_rows[0:1000]\n",
    "\n",
    "durations_insert=[]\n",
    "durations_search=[]\n",
    "\n",
    "bst = BST(index=1)\n",
    "for i in range(1000, 5000, 500):\n",
    "    data = amount_rows[0:i]\n",
    "    bst.insert_multiple(data)\n",
    "    ins_time = time.time()\n",
    "    durations_insert.append(ins_time - start)\n",
    "# print(f'time to complete insert = {time.time() - start}'.format(time.time() - start), 2)\n",
    "    csv_query = bst.greater_than(10)\n",
    "    durations_search.append(time.time() - ins_time)\n",
    "    print(csv_query[0:5])"
   ]
  },
  {
   "cell_type": "code",
   "execution_count": 2,
   "metadata": {},
   "outputs": [
    {
     "data": {
      "text/plain": [
       "<matplotlib.legend.Legend at 0x1c644fcd7f0>"
      ]
     },
     "execution_count": 2,
     "metadata": {},
     "output_type": "execute_result"
    },
    {
     "data": {
      "image/png": "[encoded data removed]",
      "text/plain": [
       "<Figure size 288x216 with 1 Axes>"
      ]
     },
     "metadata": {
      "needs_background": "light"
     },
     "output_type": "display_data"
    }
   ],
   "source": [
    "import matplotlib.pyplot as plt\n",
    "%matplotlib inline\n",
    "plt.figure(figsize=(4,3))\n",
    "plt.plot(range(1000, 5000, 500), durations_insert, color='blue')\n",
    "plt.plot(range(1000, 5000, 500), durations_search, color='red')\n",
    "plt.xlabel('number of records included')\n",
    "plt.ylabel('duration for each run')\n",
    "plt.legend(['insertion', 'searching'])"
   ]
  },
  {
   "cell_type": "markdown",
   "metadata": {},
   "source": [
    "### Performance Boosts of Using a B-Tree"
   ]
  },
  {
   "cell_type": "markdown",
   "metadata": {},
   "source": [
    "Constraints for a B-tree of order m:\n",
    "    1. the root has >= 2 children\n",
    "    2. every node has <= m children, \n",
    "    3. every non-leaf, non-root node has >= m/2 children\n",
    "    4. a non-leaf node with k children has k-1 keys\n",
    "    5. all leaves appear at the same level\n",
    "To insert a key, first loop through root to find the right leaf note, then loop through the leaf note to find the right position.\n",
    "If the leaf is full, after finding the right child node, split the node to two, insert theh new key, then promote the median key up one level."
   ]
  },
  {
   "cell_type": "code",
   "execution_count": 28,
   "metadata": {},
   "outputs": [
    {
     "name": "stdout",
     "output_type": "stream",
     "text": [
      "[['1'], ['7'], ['1'], ['1'], ['1'], ['6'], ['', ''], ['9'], ['.'], ['8'], ['5'], []]\n",
      "0.0005023999999593798\n"
     ]
    }
   ],
   "source": [
    "import csv\n",
    "import linecache\n",
    "import timeit\n",
    "\n",
    "def find_row():\n",
    "    return list(csv.reader(linecache.getline('Raw_data\\\\amounts.csv', 282748)))\n",
    "print(find_row())\n",
    "print(timeit.timeit('find_row()', 'from __main__ import find_row', number=100))"
   ]
  },
  {
   "cell_type": "code",
   "execution_count": 43,
   "metadata": {},
   "outputs": [
    {
     "name": "stdout",
     "output_type": "stream",
     "text": [
      "13.787184600001638\n",
      "0.06272309999985737\n",
      "[['1', '378.66'], ['40596', '23.88'], ['172406', '41.97']]\n",
      "[['1', '378.66'], ['40596', '23.88'], ['172406', '41.97']]\n"
     ]
    }
   ],
   "source": [
    "def brute_search():\n",
    "    with open('Raw_data\\\\amounts.csv') as f:\n",
    "        reader = csv.reader(f)\n",
    "        rows = []\n",
    "        for row in reader:\n",
    "            if reader.line_num in [4, 41231, 284400]:\n",
    "                rows.append(row)\n",
    "        return rows\n",
    "\n",
    "def cache_search():\n",
    "    \"\"\"linecache module exposes a function getline() which takes in a file, a line number, \n",
    "       then retrieves that line from the file\"\"\"\n",
    "    return list(csv.reader(linecache.getline('Raw_data\\\\amounts.csv', i) for i in [4, 41231, 284400]))\n",
    "\n",
    "print(timeit.timeit('brute_search()', 'from __main__ import brute_search', number=50))\n",
    "print(timeit.timeit('cache_search()', 'from __main__ import cache_search', number=50))\n",
    "print(brute_search())\n",
    "print(cache_search())"
   ]
  },
  {
   "cell_type": "code",
   "execution_count": 54,
   "metadata": {},
   "outputs": [],
   "source": [
    "class Node:\n",
    "    \"\"\"An index is a data structure that contains a key and a direct reference to a row of data.\n",
    "       The index could stores a key like a timestamp and a value like file's line number \"\"\"\n",
    "    def __init__(self, keys=None, children=None):\n",
    "        # nodes of the tree contains number of keys and reference\n",
    "        self.keys = keys or []\n",
    "        self.children = children or []\n",
    "    \n",
    "    def is_leaf(self):\n",
    "        return len(self.children) == 0\n",
    "\n",
    "    def __repr__(self):\n",
    "        return \"<Node: {}>\".format(self.keys)    "
   ]
  },
  {
   "cell_type": "code",
   "execution_count": 3,
   "metadata": {},
   "outputs": [
    {
     "name": "stdout",
     "output_type": "stream",
     "text": [
      "[3, 4, 5, 6, 7]\n"
     ]
    }
   ],
   "source": [
    "class BTree:\n",
    "    def __init__(self, t): # init tree with degree and root\n",
    "        self.t = t\n",
    "        self.root = None\n",
    "\n",
    "    def insert_multiple(self, keys):\n",
    "        for key in keys:\n",
    "            self.insert(key)\n",
    "        \n",
    "    def insert(self, key):\n",
    "        if not self.root:\n",
    "            self.root = Node(keys=[key])\n",
    "            return\n",
    "        \n",
    "        if len(self.root.keys) == 2*self.t - 1:\n",
    "            old_root = self.root\n",
    "            self.root = Node()\n",
    "            left, right, new_key = self.split(old_root)\n",
    "            self.root.keys.append(new_key)\n",
    "            self.root.children.append(left)\n",
    "            self.root.children.append(right)\n",
    "            \n",
    "        self.insert_non_full(self.root, key)  \n",
    "        \n",
    "    def insert_non_full(self, node, key):  # add a new key in sorted order into a leaf node\n",
    "        if node.is_leaf(): # if node has no children\n",
    "            index = 0\n",
    "            for k in node.keys:\n",
    "                if key > k: index += 1  # if new key > older keys, keep moving\n",
    "                else: break # if leaf node is full, break\n",
    "            node.keys.insert(index, key)  # inserting new key at new index\n",
    "            return\n",
    "        \n",
    "        index = 0  # if node has children, also loop through keys to find new index for the new key\n",
    "        for k in node.keys:\n",
    "            if key > k: index += 1 # find right index for a child\n",
    "            else: break\n",
    "                \n",
    "        if len(node.children[index].keys) == 2*self.t - 1:  # if child is full, spliting it next\n",
    "            left_node, right_node, new_key = self.split(node.children[index])\n",
    "            node.keys.insert(index, new_key)\n",
    "            node.children[index] = left_node\n",
    "            node.children.insert(index+1, right_node)\n",
    "            if key > new_key:\n",
    "                index += 1\n",
    "        self.insert_non_full(node.children[index], key)\n",
    "    \n",
    "    def split(self, node):\n",
    "        left_node = Node(\n",
    "            keys=node.keys[:len(node.keys)//2],\n",
    "            children=node.children[:len(node.children)//2+1]\n",
    "        )\n",
    "        right_node = Node(\n",
    "            keys=node.keys[len(node.keys)//2:],\n",
    "            children=node.children[len(node.children)//2:]\n",
    "        )\n",
    "        key = right_node.keys.pop(0)\n",
    "        return left_node, right_node, key\n",
    "     \n",
    "    def search(self, node, term):\n",
    "        if not self.root:\n",
    "            return False\n",
    "        index = 0\n",
    "        for key in node.keys:\n",
    "            if key == term:\n",
    "                return True\n",
    "            if term > key:\n",
    "                index += 1\n",
    "        if node.is_leaf():\n",
    "            return False\n",
    "        \n",
    "        return self.search(node.children[index], term)\n",
    "       \n",
    "btree = BTree(4)\n",
    "b_node = Node(keys=[8, 18])\n",
    "b_node.children.append(Node(keys=[-3, -2, -1, 2, 3, 5, 7]))\n",
    "b_node.children.append(Node(keys=[9, 10, 11, 12, 14, 18, ]))\n",
    "b_node.children.append(Node(keys=[17, 20, 44]))\n",
    "btree.root = b_node\n",
    "btree.insert(1)\n",
    "btree.insert(4)\n",
    "btree.insert(6)\n",
    "btree.insert(13)\n",
    "btree.insert(17)\n",
    "btree.insert(22)\n",
    "child_keys = btree.root.children[1].keys\n",
    "print(child_keys)"
   ]
  },
  {
   "cell_type": "code",
   "execution_count": 4,
   "metadata": {},
   "outputs": [
    {
     "name": "stdout",
     "output_type": "stream",
     "text": [
      "[50, 51, 52, 53]\n"
     ]
    }
   ],
   "source": [
    "btree = BTree(5)\n",
    "btree.insert_multiple(range(0, 100))\n",
    "child_keys = btree.root.children[-1].children[0].keys\n",
    "print(child_keys)"
   ]
  },
  {
   "cell_type": "code",
   "execution_count": 5,
   "metadata": {},
   "outputs": [
    {
     "name": "stdout",
     "output_type": "stream",
     "text": [
      "True True False\n"
     ]
    }
   ],
   "source": [
    "btree = BTree(4)\n",
    "btree.insert_multiple(range(0,100))\n",
    "search_6 = btree.search(btree.root, 6)\n",
    "search_73 = btree.search(btree.root, 73)\n",
    "search_101 = btree.search(btree.root, 101)\n",
    "print(search_6, search_73, search_101)"
   ]
  },
  {
   "cell_type": "code",
   "execution_count": 6,
   "metadata": {},
   "outputs": [
    {
     "name": "stdout",
     "output_type": "stream",
     "text": [
      "[57618.0, 109829.0]\n"
     ]
    }
   ],
   "source": [
    "import csv\n",
    "with open('amounts.csv', 'r') as f:\n",
    "    reader = csv.reader(f)\n",
    "    values = [float(l[0]) for l in list(reader)[1:]] # get values from the time column\n",
    "      \n",
    "btree = BTree(5)\n",
    "btree.insert_multiple(values)\n",
    "search = btree.search(btree.root,17106)\n",
    "root = btree.root.keys\n",
    "print(root)"
   ]
  },
  {
   "cell_type": "code",
   "execution_count": 8,
   "metadata": {},
   "outputs": [
    {
     "name": "stdout",
     "output_type": "stream",
     "text": [
      "57618.0\n"
     ]
    }
   ],
   "source": [
    "class NodeKey:\n",
    "    def __init__(self, key, value):\n",
    "        self.key = key\n",
    "        self.value =value\n",
    "    \n",
    "    def __eq__(self, other):\n",
    "        if isinstance(other, self.__class__):\n",
    "            return self.key == other.key\n",
    "        return self.key == other\n",
    "\n",
    "    def __gt__(self, other):\n",
    "        if isinstance(other, self.__class__):\n",
    "            return self.key > other.key\n",
    "        return self.key > other\n",
    "    \n",
    "    def __lt__(self, other):\n",
    "        if isinstance(other, self.__class__):\n",
    "            return self.key < other.key\n",
    "        return self.key < other\n",
    "    \n",
    "    def __ge__(self, other):\n",
    "        if isinstance(other, self.__class__):\n",
    "            return self.key >= other.key\n",
    "        return self.key > other\n",
    "    \n",
    "    def __le__(self, other):\n",
    "        if isinstance(other, self.__class__):\n",
    "            return self.key <= other.key\n",
    "        return self.key < other\n",
    "    \n",
    "    def __repr__(self):\n",
    "        return \"<Node: {}:{}>\".format(self.key, self.value)\n",
    "    \n",
    "with open('amounts.csv', 'r') as f:\n",
    "    reader = csv.reader(f)\n",
    "    nodekeys = [NodeKey(float(row[0]),float(row[0])) for row in list(reader)[1:]]\n",
    "\n",
    "btree = BTree(5)\n",
    "btree.insert_multiple(nodekeys)\n",
    "search = btree.search(btree.root, 171116)\n",
    "root_key = btree.root.keys[0].key\n",
    "print(root_key)"
   ]
  },
  {
   "cell_type": "code",
   "execution_count": 9,
   "metadata": {},
   "outputs": [
    {
     "name": "stdout",
     "output_type": "stream",
     "text": [
      "[<Node: 0.0:0.0>, <Node: 0.0:0.0>, <Node: 1.0:1.0>, <Node: 1.0:1.0>, <Node: 2.0:2.0>]\n"
     ]
    }
   ],
   "source": [
    "print(nodekeys[0:5])"
   ]
  },
  {
   "cell_type": "code",
   "execution_count": 10,
   "metadata": {},
   "outputs": [
    {
     "name": "stdout",
     "output_type": "stream",
     "text": [
      "57618.0\n"
     ]
    }
   ],
   "source": [
    "with open('amounts.csv', 'r') as f:\n",
    "    reader = csv.reader(f)\n",
    "    next(reader)\n",
    "    nodekeys = [NodeKey(float(row[0]), reader.line_num) for row in reader]\n",
    "\n",
    "btree = BTree(5)\n",
    "btree.insert_multiple(nodekeys)\n",
    "root_value = btree.root.keys[1].value\n",
    "print(root_key)"
   ]
  },
  {
   "cell_type": "code",
   "execution_count": 11,
   "metadata": {},
   "outputs": [
    {
     "name": "stdout",
     "output_type": "stream",
     "text": [
      "[<Node: 0.0:2>, <Node: 0.0:3>, <Node: 1.0:4>, <Node: 1.0:5>, <Node: 2.0:6>]\n"
     ]
    }
   ],
   "source": [
    "print(nodekeys[0:5])"
   ]
  },
  {
   "cell_type": "code",
   "execution_count": 21,
   "metadata": {},
   "outputs": [],
   "source": [
    "class BTreeIndex:\n",
    "    def __init__(self, t): # init tree with degree and root\n",
    "        self.t = t\n",
    "        self.root = None\n",
    "\n",
    "    def insert_multiple(self, keys):\n",
    "        for key in keys:\n",
    "            self.insert(key)\n",
    "        \n",
    "    def insert(self, key):\n",
    "        if not self.root:\n",
    "            self.root = Node(keys=[key])\n",
    "            return\n",
    "        \n",
    "        if len(self.root.keys) == 2*self.t - 1:\n",
    "            old_root = self.root\n",
    "            self.root = Node()\n",
    "            left, right, new_key = self.split(old_root)\n",
    "            self.root.keys.append(new_key)\n",
    "            self.root.children.append(left)\n",
    "            self.root.children.append(right)\n",
    "            \n",
    "        self.insert_non_full(self.root, key)  \n",
    "        \n",
    "    def insert_non_full(self, node, key):  # add a new key in sorted order into a leaf node\n",
    "        if node.is_leaf(): # if node has no children\n",
    "            index = 0\n",
    "            for k in node.keys:\n",
    "                if key > k: index += 1  # if new key > older keys, keep moving\n",
    "                else: break # if leaf node is full, break\n",
    "            node.keys.insert(index, key)  # inserting new key at new index\n",
    "            return\n",
    "        \n",
    "        index = 0  # if node has children, also loop through keys to find new index for the new key\n",
    "        for k in node.keys:\n",
    "            if key > k: index += 1 # find right index for a child\n",
    "            else: break\n",
    "                \n",
    "        if len(node.children[index].keys) == 2*self.t - 1:  # if child is full, spliting it next\n",
    "            left_node, right_node, new_key = self.split(node.children[index])\n",
    "            node.keys.insert(index, new_key)\n",
    "            node.children[index] = left_node\n",
    "            node.children.insert(index+1, right_node)\n",
    "            if key > new_key:\n",
    "                index += 1\n",
    "        self.insert_non_full(node.children[index], key)\n",
    "    \n",
    "    def split(self, node):\n",
    "        left_node = Node(\n",
    "            keys=node.keys[:len(node.keys)//2],\n",
    "            children=node.children[:len(node.children)//2+1]\n",
    "        )\n",
    "        right_node = Node(\n",
    "            keys=node.keys[len(node.keys)//2:],\n",
    "            children=node.children[len(node.children)//2:]\n",
    "        )\n",
    "        key = right_node.keys.pop(0)\n",
    "        return left_node, right_node, key\n",
    "    \n",
    "    def search(self, node, term):\n",
    "        if not self.root:\n",
    "            return None\n",
    "        index = 0\n",
    "        for key in node.keys:\n",
    "            if key == term:\n",
    "                return key.value\n",
    "            if term > key:\n",
    "                index += 1\n",
    "        if node.is_leaf():\n",
    "            return None\n",
    "        return self.search(node.children[index], term)\n",
    "    \n",
    "    def greater_than(self, node, term, upper_bound=None, inclusive=False):\n",
    "        '''look for values greater than or equal to (if inclusive==True) a given value \n",
    "           but less than or equal to (if inclusive== True) the upper_bound.'''\n",
    "        if not self.root:  # if not root (added during insert), list empty\n",
    "            return []\n",
    "        index = 0\n",
    "        values = []\n",
    "        for key in node.keys:\n",
    "            # first check upper bound not being violeted\n",
    "            if upper_bound is not None:\n",
    "                if inclusive and key == upper_bound:\n",
    "                    values.append(key)\n",
    "                if key >= upper_bound:\n",
    "                    break\n",
    "            # if key < term, moving on to the next key\n",
    "            if term > key:  \n",
    "                index += 1\n",
    "                continue\n",
    "            if inclusive and key == term:\n",
    "                values.append(key)\n",
    "            # if key satisfies condition, add it to the final list\n",
    "            if term < key:\n",
    "                values.append(key)\n",
    "            # continue to find values in child    \n",
    "            if not node.is_leaf():\n",
    "                values += self.greater_than(\n",
    "                    node.children[index],\n",
    "                    term,\n",
    "                    upper_bound,\n",
    "                    inclusive\n",
    "                )\n",
    "            index += 1\n",
    "        \n",
    "        if not node.is_leaf():\n",
    "            values += self.greater_than(\n",
    "                node.children[index],\n",
    "                term,\n",
    "                upper_bound,\n",
    "                inclusive\n",
    "            )\n",
    "        return values\n",
    "    \n",
    "    def less_than(self, node, term, lower_bound=None, inclusive=False):\n",
    "        if not self.root:\n",
    "            return []\n",
    "        index = 0\n",
    "        values = []\n",
    "        for key in node.keys:\n",
    "            if lower_bound is not None:\n",
    "                if inclusive and key == lower_bound:\n",
    "                    values.append(key)\n",
    "                if key < lower_bound:\n",
    "                    index += 1\n",
    "                    continue\n",
    "            if inclusive and key == term:\n",
    "                values.append(key)\n",
    "            if key < term:\n",
    "                values.append(key)\n",
    "            if not node.is_leaf():\n",
    "                values += self.less_than(\n",
    "                    node.children[index],\n",
    "                    term,\n",
    "                    lower_bound,\n",
    "                    inclusive\n",
    "                )\n",
    "            index += 1\n",
    "                \n",
    "        if not node.is_leaf() and key <= term:\n",
    "            values += self.less_than(\n",
    "                node.children[index],\n",
    "                term,\n",
    "                lower_bound,\n",
    "                inclusive\n",
    "            )\n",
    "        return values"
   ]
  },
  {
   "cell_type": "code",
   "execution_count": 17,
   "metadata": {},
   "outputs": [
    {
     "name": "stdout",
     "output_type": "stream",
     "text": [
      "282748 None\n"
     ]
    }
   ],
   "source": [
    "index = BTreeIndex(5)\n",
    "index.insert_multiple(nodekeys)\n",
    "search_1 = index.search(index.root, 171116)\n",
    "search_2 = index.search(index.root, 100000000)\n",
    "print(search_1, search_2)"
   ]
  },
  {
   "cell_type": "code",
   "execution_count": 16,
   "metadata": {},
   "outputs": [
    {
     "name": "stdout",
     "output_type": "stream",
     "text": [
      "[<Node: 170399.0:170399.0>, <Node: 170365.0:170365.0>, <Node: 170364.0:170364.0>, <Node: 170363.0:170363.0>]\n",
      "[<Node: 170399.0:170399.0>, <Node: 170365.0:170365.0>, <Node: 170364.0:170364.0>, <Node: 170363.0:170363.0>]\n",
      "[<Node: 170399.0:170399.0>, <Node: 170365.0:170365.0>, <Node: 170364.0:170364.0>, <Node: 170363.0:170363.0>]\n",
      "[<Node: 170399.0:170399.0>, <Node: 170365.0:170365.0>, <Node: 170361.0:170361.0>, <Node: 170361.0:170361.0>]\n"
     ]
    }
   ],
   "source": [
    "index = BTreeIndex(5)\n",
    "index.insert_multiple(nodekeys)\n",
    "greater = index.greater_than(index.root, 170361)\n",
    "other_greater = index.greater_than(index.root, 170361)\n",
    "upper = index.greater_than(index.root, 170361, upper_bound=171409)\n",
    "inclusive = index.greater_than(index.root, 170361, upper_bound=171409, inclusive=True)\n",
    "print(greater[:4])\n",
    "print(other_greater[:4])\n",
    "print(upper[:4])\n",
    "print(inclusive[:4])"
   ]
  },
  {
   "cell_type": "code",
   "execution_count": 106,
   "metadata": {},
   "outputs": [
    {
     "name": "stdout",
     "output_type": "stream",
     "text": [
      "[<Node: 472.0:623>, <Node: 78.0:125>, <Node: 22.0:27>, <Node: 2.0:7>]\n",
      "[<Node: 472.0:623>, <Node: 78.0:125>, <Node: 48.0:75>, <Node: 46.0:73>]\n",
      "[<Node: 472.0:623>, <Node: 78.0:125>, <Node: 48.0:75>, <Node: 46.0:73>]\n"
     ]
    }
   ],
   "source": [
    "index = BTreeIndex(5)\n",
    "index.insert_multiple(nodekeys)\n",
    "less_than = index.less_than(index.root,769)\n",
    "lower = index.less_than(index.root, 769, lower_bound=46)\n",
    "inclusive = index.less_than(index.root, 769, lower_bound=46, inclusive=True)\n",
    "print(less_than[:4])\n",
    "print(lower[:4])\n",
    "print(inclusive[:4])"
   ]
  },
  {
   "cell_type": "code",
   "execution_count": 25,
   "metadata": {},
   "outputs": [
    {
     "name": "stdout",
     "output_type": "stream",
     "text": [
      "52190.0\n"
     ]
    }
   ],
   "source": [
    "import pickle\n",
    "index = BTreeIndex(4)\n",
    "index.insert_multiple(nodekeys)\n",
    "with open('index_example.pickle', 'wb') as f:\n",
    "    pickle.dump(index, f)\n",
    "    \n",
    "with open('index_example.pickle', 'rb') as f:\n",
    "    index_new = pickle.load(f) \n",
    "    \n",
    "new_key = index_new.root.keys[0].key\n",
    "print(new_key)"
   ]
  },
  {
   "cell_type": "code",
   "execution_count": 29,
   "metadata": {},
   "outputs": [
    {
     "name": "stdout",
     "output_type": "stream",
     "text": [
      "0.2994608999999855\n",
      "9.739965699999857\n"
     ]
    }
   ],
   "source": [
    "import timeit\n",
    "with open('index_example.pickle', 'rb') as f:\n",
    "    index = pickle.load(f)\n",
    "\n",
    "def index_search():\n",
    "    lines = [\n",
    "        key.value\n",
    "        for key in index.greater_than(index.root, 171116, inclusive=True)\n",
    "    ]\n",
    "    return list(csv.reader(linecache.getline('Raw_data//amounts.csv', i) for i in lines))\n",
    "\n",
    "def brute_search():\n",
    "    with open('Raw_data//amounts.csv') as f:\n",
    "        reader = csv.reader(f)\n",
    "        next(reader)\n",
    "        rows = []\n",
    "        for row in reader:\n",
    "            if float(row[0]) >= 171116:\n",
    "                rows.append(row)\n",
    "        return rows\n",
    "\n",
    "print(timeit.timeit('index_search()', 'from __main__ import index_search', number=50))\n",
    "print(timeit.timeit('brute_search()', 'from __main__ import brute_search', number=50))"
   ]
  }
 ],
 "metadata": {
  "kernelspec": {
   "display_name": "Python 3",
   "language": "python",
   "name": "python3"
  },
  "language_info": {
   "codemirror_mode": {
    "name": "ipython",
    "version": 3
   },
   "file_extension": ".py",
   "mimetype": "text/x-python",
   "name": "python",
   "nbconvert_exporter": "python",
   "pygments_lexer": "ipython3",
   "version": "3.7.3"
  }
 },
 "nbformat": 4,
 "nbformat_minor": 2
}
