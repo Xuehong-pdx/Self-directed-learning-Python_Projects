{
 "cells": [
  {
   "cell_type": "code",
   "execution_count": null,
   "metadata": {},
   "outputs": [],
   "source": [
    "# The code below cleans a set of laptop sales data"
   ]
  },
  {
   "cell_type": "code",
   "execution_count": null,
   "metadata": {},
   "outputs": [],
   "source": [
    "import pandas as pdlaptops\n",
    "laptops=pd.read_csv('laptops.csv', encoding=\"Latin-1\")\n",
    "laptops.info()"
   ]
  },
  {
   "cell_type": "code",
   "execution_count": null,
   "metadata": {},
   "outputs": [],
   "source": [
    "def clean_col(col):\n",
    "    col = col.strip()\n",
    "    col = col.replace(\"Operating System\",\"os\")\n",
    "    col = col.replace(\" \",\"_\")\n",
    "    col = col.replace(\"(\",\"\")\n",
    "    col = col.replace(\")\",\"\")\n",
    "    col = col.lower()\n",
    "    return col\n",
    "laptops.columns = [clean_col(col) for col in laptops.columns]"
   ]
  },
  {
   "cell_type": "code",
   "execution_count": null,
   "metadata": {},
   "outputs": [],
   "source": [
    "laptops[\"screen_size\"] = laptops[\"screen_size\"].str.replace('\"','').astype(float)\n",
    "laptops.rename({\"screen_size\": \"screen_size_inches\"}, axis=1, inplace=True)\n",
    "laptops[\"ram\"] = laptops[\"ram\"].str.replace('GB','').astype(int)\n",
    "laptops.rename({\"ram\": \"ram_gb\"}, axis=1, inplace=True)\n",
    "dtypes=laptops.dtypes"
   ]
  },
  {
   "cell_type": "code",
   "execution_count": null,
   "metadata": {},
   "outputs": [],
   "source": [
    "laptops['weight']=laptops['weight'].str.replace('kg', '')\n",
    "laptops['weight']=laptops['weight'].str.replace('s', '').astype(float)\n",
    "laptops.rename({'weight':'weight_kg'}, axis=1, inplace=True)\n",
    "laptops['price_euros']=laptops['price_euros'].str.replace(',', '.').astype(float)\n",
    "weight_describe=laptops['weight_kg'].describe()\n",
    "price_describe=laptops['price_euros'].describe()"
   ]
  },
  {
   "cell_type": "code",
   "execution_count": null,
   "metadata": {},
   "outputs": [],
   "source": [
    "laptops[\"gpu_manufacturer\"] = (laptops[\"gpu\"]\n",
    "                                    .str.split(n=1,expand=True)\n",
    "                                    .iloc[:,0]\n",
    "                              )\n",
    "laptops[\"cpu_manufacturer\"] = (laptops[\"cpu\"]\n",
    "                                    .str.split(n=1,expand=True)\n",
    "                                    .iloc[:,0]                               \n",
    "                               )"
   ]
  },
  {
   "cell_type": "code",
   "execution_count": null,
   "metadata": {},
   "outputs": [],
   "source": [
    "screen_res = laptops[\"screen\"].str.rsplit(n=1, expand=True)\n",
    "screen_res.columns = [\"A\", \"B\"]\n",
    "screen_res.loc[screen_res[\"B\"].isnull(), \"B\"] = screen_res[\"A\"]\n",
    "laptops[\"screen_resolution\"] = screen_res[\"B\"]\n",
    "\n",
    "laptops['cpu_speed_ghz']=laptops['cpu'].str.replace('GHz', '')\n",
    "ca_speed=laptops['cpu_speed_ghz'].str.rsplit(n=1, expand=True)\n",
    "laptops['cpu_speed_ghz']=ca_speed.iloc[:,1].astype(float)"
   ]
  },
  {
   "cell_type": "code",
   "execution_count": null,
   "metadata": {},
   "outputs": [],
   "source": [
    "mapping_dict = {\n",
    "    'Android': 'Android',\n",
    "    'Chrome OS': 'Chrome OS',\n",
    "    'Linux': 'Linux',\n",
    "    'Mac OS': 'macOS',\n",
    "    'No OS': 'No OS',\n",
    "    'Windows': 'Windows',\n",
    "    'macOS': 'macOS'\n",
    "}\n",
    "laptops[\"os\"]=laptops[\"os\"].map(mapping_dict)"
   ]
  },
  {
   "cell_type": "code",
   "execution_count": null,
   "metadata": {},
   "outputs": [],
   "source": [
    "laptops_no_null_rows=laptops.dropna()\n",
    "laptops_no_null_cols=laptops.dropna(axis=1)"
   ]
  },
  {
   "cell_type": "code",
   "execution_count": null,
   "metadata": {},
   "outputs": [],
   "source": [
    "value_counts_before = laptops.loc[laptops[\"os_version\"].isnull(), \"os\"].value_counts()\n",
    "laptops.loc[laptops[\"os\"] == \"macOS\", \"os_version\"] = \"X\"\n",
    "\n",
    "laptops.loc[laptops[\"os\"] == \"No OS\", \"os_version\"] = \"Version Unknown\"\n",
    "value_counts_after = laptops.loc[laptops[\"os_version\"].isnull(), \"os\"].value_counts()"
   ]
  },
  {
   "cell_type": "code",
   "execution_count": null,
   "metadata": {},
   "outputs": [],
   "source": [
    "laptops[\"storage\"]=laptops[\"storage\"].str.replace('Flash Storage', 'Flash_Storage')\n",
    "sp=laptops[\"storage\"].str.split(expand=True)\n",
    "laptops[\"storage_1_capacity_gb\"]=sp[0].str.replace('GB', '')\n",
    "laptops[\"storage_1_capacity_gb\"]=laptops[\"storage_1_capacity_gb\"].str.replace('TB', '000').astype(float)\n",
    "laptops[\"storage_1_type\"]=sp[1]\n",
    "laptops[\"storage_1_type\"]=laptops[\"storage_1_type\"].str.replace(\"Flash_Storage\", \"Flash Storage\")\n",
    "\n",
    "laptops[\"storage_2_capacity_gb\"]=sp[3].str.replace('GB', '')\n",
    "laptops[\"storage_2_capacity_gb\"]=laptops[\"storage_2_capacity_gb\"].str.replace('TB', '000').astype(float)\n",
    "laptops[\"storage_2_type\"]=sp[4]\n",
    "laptops[\"storage_2_type\"]=laptops[\"storage_2_type\"].str.replace(\"Flash_Storage\", \"Flash Storage\")\n",
    "laptops = laptops.drop('storage', axis=1)"
   ]
  },
  {
   "cell_type": "code",
   "execution_count": null,
   "metadata": {},
   "outputs": [],
   "source": [
    "laptops_dtypes = laptops.dtypes\n",
    "cols = ['manufacturer', 'model_name', 'category', 'screen_size_inches',\n",
    "        'screen', 'cpu', 'cpu_manufacturer', 'screen_resolution', 'cpu_speed_ghz', 'ram_gb',\n",
    "        'storage_1_type', 'storage_1_capacity_gb', 'storage_2_type',\n",
    "        'storage_2_capacity_gb', 'gpu', 'gpu_manufacturer', 'os',\n",
    "        'os_version', 'weight_kg', 'price_euros']\n",
    "laptops = laptops.loc[:, cols]\n",
    "laptops.to_csv('laptops_cleaned.csv', index=False)\n",
    "laptops_cleaned=pd.read_csv('laptops_cleaned.csv')\n",
    "laptops_cleaned_dtypes=laptops_cleaned.dtypes"
   ]
  }
 ],
 "metadata": {
  "kernelspec": {
   "display_name": "Python 3",
   "language": "python",
   "name": "python3"
  },
  "language_info": {
   "codemirror_mode": {
    "name": "ipython",
    "version": 3
   },
   "file_extension": ".py",
   "mimetype": "text/x-python",
   "name": "python",
   "nbconvert_exporter": "python",
   "pygments_lexer": "ipython3",
   "version": "3.6.5"
  }
 },
 "nbformat": 4,
 "nbformat_minor": 2
}
