{
 "cells": [
  {
   "cell_type": "code",
   "execution_count": null,
   "metadata": {},
   "outputs": [],
   "source": [
    "# visualizing understand U.S. unemployment data"
   ]
  },
  {
   "cell_type": "code",
   "execution_count": null,
   "metadata": {},
   "outputs": [],
   "source": [
    "import pandas as pd\n",
    "unrate=pd.read_csv('unrate.csv')\n",
    "unrate['DATE']=pd.to_datetime(unrate['DATE'])\n",
    "unrate.head(12)"
   ]
  },
  {
   "cell_type": "code",
   "execution_count": null,
   "metadata": {},
   "outputs": [],
   "source": [
    "x=unrate['DATE'][:12]\n",
    "y=unrate['VALUE'][:12]\n",
    "plt.plot(x,y)\n",
    "plt.show()"
   ]
  },
  {
   "cell_type": "code",
   "execution_count": null,
   "metadata": {},
   "outputs": [],
   "source": [
    "x=unrate['DATE'][:12]\n",
    "y=unrate['VALUE'][:12]\n",
    "plt.plot(x,y)\n",
    "plt.xticks(rotation=90)\n",
    "plt.show()"
   ]
  },
  {
   "cell_type": "code",
   "execution_count": null,
   "metadata": {},
   "outputs": [],
   "source": [
    "x=unrate['DATE'][:12]\n",
    "y=unrate['VALUE'][:12]\n",
    "plt.plot(x,y)\n",
    "plt.xticks(rotation=90)\n",
    "plt.xlabel(\"Month\")\n",
    "plt.ylabel(\"Unemployment Rate\")\n",
    "plt.title(\"Monthly Unemployment Trends, 1948\")\n",
    "plt.show()"
   ]
  },
  {
   "cell_type": "code",
   "execution_count": null,
   "metadata": {},
   "outputs": [],
   "source": [
    "fig=plt.figure()\n",
    "ax1=fig.add_subplot(2,1,1)\n",
    "ax2=fig.add_subplot(2,1,2)\n",
    "plt.show()"
   ]
  },
  {
   "cell_type": "code",
   "execution_count": null,
   "metadata": {},
   "outputs": [],
   "source": [
    "x1=unrate['DATE'][:12]\n",
    "y1=unrate['VALUE'][:12]\n",
    "x2=unrate['DATE'][12:24]\n",
    "y2=unrate['VALUE'][12:24]\n",
    "fig=plt.figure()\n",
    "ax1=fig.add_subplot(2,1,1)\n",
    "ax2=fig.add_subplot(2,1,2)\n",
    "ax1.plot(x1,y1)\n",
    "ax2.plot(x2,y2)\n",
    "plt.show()"
   ]
  },
  {
   "cell_type": "code",
   "execution_count": null,
   "metadata": {},
   "outputs": [],
   "source": [
    "fig = plt.figure(figsize=(12, 5))\n",
    "ax1 = fig.add_subplot(2,1,1)\n",
    "ax2 = fig.add_subplot(2,1,2)\n",
    "ax1.plot(unrate[0:12]['DATE'], unrate[0:12]['VALUE'])\n",
    "ax1.set_title('Monthly Unemployment Rate, 1948')\n",
    "ax2.plot(unrate[12:24]['DATE'], unrate[12:24]['VALUE'])\n",
    "ax2.set_title('Monthly Unemployment Rate, 1949')\n",
    "plt.show()"
   ]
  },
  {
   "cell_type": "code",
   "execution_count": null,
   "metadata": {},
   "outputs": [],
   "source": [
    "fig = plt.figure(figsize=(12, 12))\n",
    "ax1 = fig.add_subplot(5,1,1)\n",
    "ax2 = fig.add_subplot(5,1,2)\n",
    "ax3 = fig.add_subplot(5,1,3)\n",
    "ax4 = fig.add_subplot(5,1,4)\n",
    "ax5 = fig.add_subplot(5,1,5)\n",
    "ax1.plot(unrate[0:12]['DATE'], unrate[0:12]['VALUE'])\n",
    "ax2.plot(unrate[12:24]['DATE'], unrate[12:24]['VALUE'])\n",
    "ax3.plot(unrate[24:36]['DATE'], unrate[24:36]['VALUE'])\n",
    "ax4.plot(unrate[36:48]['DATE'], unrate[36:48]['VALUE'])\n",
    "ax5.plot(unrate[48:60]['DATE'], unrate[48:60]['VALUE'])\n",
    "plt.show()"
   ]
  },
  {
   "cell_type": "code",
   "execution_count": null,
   "metadata": {},
   "outputs": [],
   "source": [
    "# using month data for multiple years\n",
    "unrate['MONTH'] = unrate['DATE'].dt.month\n",
    "fig = plt.figure(figsize=(6, 3))\n",
    "ax=fig.add_subplot(1,1,1)\n",
    "ax.plot(unrate['MONTH'][0:12], unrate[0:12]['VALUE'], c='red')\n",
    "ax.plot(unrate['MONTH'][0:12], unrate[12:24]['VALUE'], c='blue')\n",
    "plt.show()"
   ]
  },
  {
   "cell_type": "code",
   "execution_count": null,
   "metadata": {},
   "outputs": [],
   "source": [
    "unrate['MONTH'] = unrate['DATE'].dt.month\n",
    "fig = plt.figure(figsize=(10, 6))\n",
    "ax=fig.add_subplot(1,1,1)\n",
    "ax.plot(unrate['MONTH'][0:12], unrate[0:12]['VALUE'], c='red')\n",
    "ax.plot(unrate['MONTH'][0:12], unrate[12:24]['VALUE'], c='blue')\n",
    "ax.plot(unrate['MONTH'][0:12], unrate[24:36]['VALUE'], c='green')\n",
    "ax.plot(unrate['MONTH'][0:12], unrate[36:48]['VALUE'], c='orange')\n",
    "ax.plot(unrate['MONTH'][0:12], unrate[48:60]['VALUE'], c='black')\n",
    "plt.show()"
   ]
  },
  {
   "cell_type": "code",
   "execution_count": null,
   "metadata": {},
   "outputs": [],
   "source": [
    "fig = plt.figure(figsize=(10,6))\n",
    "colors = ['red', 'blue', 'green', 'orange', 'black']\n",
    "labels=['1948', '1949', '1950', '1951', '1952']\n",
    "for i in range(5):\n",
    "    start_index = i*12\n",
    "    end_index = (i+1)*12\n",
    "    subset = unrate[start_index:end_index]\n",
    "    plt.plot(subset['MONTH'], subset['VALUE'], c=colors[i], label=labels[i])\n",
    "    plt.legend(loc='upper left')\n",
    "plt.show()"
   ]
  },
  {
   "cell_type": "code",
   "execution_count": null,
   "metadata": {},
   "outputs": [],
   "source": [
    "fig = plt.figure(figsize=(10,6))\n",
    "colors = ['red', 'blue', 'green', 'orange', 'black']\n",
    "for i in range(5):\n",
    "    start_index = i*12\n",
    "    end_index = (i+1)*12\n",
    "    subset = unrate[start_index:end_index]\n",
    "    label = str(1948 + i)\n",
    "    plt.plot(subset['MONTH'], subset['VALUE'], c=colors[i], label=label)\n",
    "plt.legend(loc='upper left')\n",
    "plt.title(\"Monthly Unemployment Trends, 1948-1952\")\n",
    "plt.xlabel(\"Month, Integer\")\n",
    "plt.ylabel(\"Unemployment Rate, Percent\")\n",
    "plt.show()"
   ]
  }
 ],
 "metadata": {
  "kernelspec": {
   "display_name": "Python 3",
   "language": "python",
   "name": "python3"
  },
  "language_info": {
   "codemirror_mode": {
    "name": "ipython",
    "version": 3
   },
   "file_extension": ".py",
   "mimetype": "text/x-python",
   "name": "python",
   "nbconvert_exporter": "python",
   "pygments_lexer": "ipython3",
   "version": "3.6.5"
  }
 },
 "nbformat": 4,
 "nbformat_minor": 2
}
