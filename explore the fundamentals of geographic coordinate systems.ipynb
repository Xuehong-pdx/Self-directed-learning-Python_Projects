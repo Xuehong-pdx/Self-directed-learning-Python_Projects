{
 "cells": [
  {
   "cell_type": "code",
   "execution_count": null,
   "metadata": {},
   "outputs": [],
   "source": [
    "import pandas as pd\n",
    "airlines=pd.read_csv('airlines.csv')\n",
    "airports=pd.read_csv('airports.csv')\n",
    "routes=pd.read_csv('routes.csv')\n",
    "print('airlines:', airlines.iloc[0], '\\n')\n",
    "print('airports:', airports.iloc[0], '\\n')\n",
    "print('routes:', routes.iloc[0])"
   ]
  },
  {
   "cell_type": "code",
   "execution_count": null,
   "metadata": {},
   "outputs": [],
   "source": [
    "import matplotlib.pyplot as plt\n",
    "from mpl_toolkits.basemap import Basemap\n",
    "m=Basemap(projection=\"merc\", llcrnrlat=-80, urcrnrlat=80, llcrnrlon=-180, urcrnrlon=180)"
   ]
  },
  {
   "cell_type": "code",
   "execution_count": null,
   "metadata": {},
   "outputs": [],
   "source": [
    "# convert latitude and longitude values to Cartesian coordinates to display them on a two-dimensional map\n",
    "m = Basemap(projection='merc', llcrnrlat=-80, urcrnrlat=80, llcrnrlon=-180, urcrnrlon=180)\n",
    "longitudes=airports['longitude'].tolist()\n",
    "latitudes=airports['latitude'].tolist()\n",
    "x, y = m(longitudes, latitudes)"
   ]
  },
  {
   "cell_type": "code",
   "execution_count": null,
   "metadata": {},
   "outputs": [],
   "source": [
    "m = Basemap(projection='merc', llcrnrlat=-80, urcrnrlat=80, llcrnrlon=-180, urcrnrlon=180)\n",
    "x, y = m(longitudes, latitudes)\n",
    "m.scatter(x,y, s=1)\n",
    "m.drawcoastlines()\n",
    "plt.show()"
   ]
  },
  {
   "cell_type": "code",
   "execution_count": null,
   "metadata": {},
   "outputs": [],
   "source": [
    "# Add code here, before creating the Basemap instance.\n",
    "fig, ax = plt.subplots(figsize=(15,20))\n",
    "ax.set_title(\"Scaled Up Earth With Coastlines\")\n",
    "m = Basemap(projection='merc', llcrnrlat=-80, urcrnrlat=80, llcrnrlon=-180, urcrnrlon=180)\n",
    "longitudes = airports[\"longitude\"].tolist()\n",
    "latitudes = airports[\"latitude\"].tolist()\n",
    "x, y = m(longitudes, latitudes)\n",
    "m.scatter(x, y, s=1)\n",
    "m.drawcoastlines()\n",
    "plt.show()"
   ]
  },
  {
   "cell_type": "code",
   "execution_count": null,
   "metadata": {},
   "outputs": [],
   "source": [
    "geo_routes=pd.read_csv('geo_routes.csv')\n",
    "geo_routes.info()\n",
    "geo_routes.head()"
   ]
  },
  {
   "cell_type": "code",
   "execution_count": null,
   "metadata": {},
   "outputs": [],
   "source": [
    "# this function draws a great circle for each route that has an absolute difference in the latitude and longitude values less than 180\n",
    "fig, ax = plt.subplots(figsize=(15,20))\n",
    "m = Basemap(projection='merc', llcrnrlat=-80, urcrnrlat=80, llcrnrlon=-180, urcrnrlon=180)\n",
    "m.drawcoastlines()\n",
    "def create_great_circles(df):\n",
    "    for row in df.iterrows:\n",
    "        if abs(df.loc[row, end_lat] - df.loc[row, start_lat]) < 180:\n",
    "            if abs(df.loc[row, end_lon] - df.loc[row, start_lon]) < 180:\n",
    "                m.drawgreatcircle(df.loc[row, end_lon], )"
   ]
  },
  {
   "cell_type": "code",
   "execution_count": null,
   "metadata": {},
   "outputs": [],
   "source": []
  }
 ],
 "metadata": {
  "kernelspec": {
   "display_name": "Python 3",
   "language": "python",
   "name": "python3"
  },
  "language_info": {
   "codemirror_mode": {
    "name": "ipython",
    "version": 3
   },
   "file_extension": ".py",
   "mimetype": "text/x-python",
   "name": "python",
   "nbconvert_exporter": "python",
   "pygments_lexer": "ipython3",
   "version": "3.6.5"
  }
 },
 "nbformat": 4,
 "nbformat_minor": 2
}
