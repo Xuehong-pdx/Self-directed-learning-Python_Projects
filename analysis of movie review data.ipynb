{
 "cells": [
  {
   "cell_type": "code",
   "execution_count": null,
   "metadata": {},
   "outputs": [],
   "source": [
    "# analysis of movie review data\n",
    "import pandas as pd\n",
    "reviews=pd.read_csv('fandango_scores.csv')\n",
    "norm_reviews=reviews[['FILM', 'RT_user_norm', 'Metacritic_user_nom', 'IMDB_norm', 'Fandango_Ratingvalue', 'Fandango_Stars']]\n",
    "norm_reviews"
   ]
  },
  {
   "cell_type": "code",
   "execution_count": null,
   "metadata": {},
   "outputs": [],
   "source": [
    "# explore data\n",
    "fandango_distribution=norm_reviews['Fandango_Ratingvalue'].value_counts().sort_index()\n",
    "imdb_distribution=norm_reviews['IMDB_norm'].value_counts().sort_index()\n",
    "print('fandango_distribution', 'imdb_distribution') "
   ]
  },
  {
   "cell_type": "code",
   "execution_count": null,
   "metadata": {},
   "outputs": [],
   "source": [
    "# barplots\n",
    "import matplotlib.pyplot as plt\n",
    "from numpy import arange\n",
    "num_cols = ['RT_user_norm', 'Metacritic_user_nom', 'IMDB_norm', 'Fandango_Ratingvalue', 'Fandango_Stars']\n",
    "bar_heights = norm_reviews[num_cols].iloc[0].values\n",
    "bar_positions = arange(5) + 0.75\n",
    "flg, ax=plt.subplots()\n",
    "ax.bar(bar_positions, bar_heights, 0.5)\n",
    "plt.show()"
   ]
  },
  {
   "cell_type": "code",
   "execution_count": null,
   "metadata": {},
   "outputs": [],
   "source": [
    "# barplots with specified ticks and axis labels\n",
    "num_cols = ['RT_user_norm', 'Metacritic_user_nom', 'IMDB_norm', 'Fandango_Ratingvalue', 'Fandango_Stars']\n",
    "bar_heights = norm_reviews[num_cols].iloc[0].values\n",
    "bar_positions = arange(5) + 0.75\n",
    "tick_positions = range(1,6)\n",
    "fig, ax=plt.subplots()\n",
    "ax.bar(bar_positions, bar_heights, 0.5)\n",
    "ax.set_xticks(tick_positions)\n",
    "ax.set_xticklabels(num_cols, rotation=90)\n",
    "plt.xlabel(\"Rating Source\")\n",
    "plt.ylabel(\"Average Rating\")\n",
    "plt.title(\"Average User Rating For Avengers: Age of Ultron (2015)\")\n",
    "plt.show()"
   ]
  },
  {
   "cell_type": "code",
   "execution_count": null,
   "metadata": {},
   "outputs": [],
   "source": [
    "# horizental bar graphs\n",
    "import matplotlib.pyplot as plt\n",
    "from numpy import arange\n",
    "num_cols = ['RT_user_norm', 'Metacritic_user_nom', 'IMDB_norm', 'Fandango_Ratingvalue', 'Fandango_Stars']\n",
    "bar_widths = norm_reviews[num_cols].iloc[0].values\n",
    "bar_positions = arange(5) + 0.75\n",
    "tick_positions = range(1,6)\n",
    "fig,ax=plt.subplots()\n",
    "ax.barh(bar_positions, bar_widths, 0.5)\n",
    "ax.set_yticks(tick_positions)\n",
    "ax.set_yticklabels(num_cols)\n",
    "plt.ylabel(\"Rating Source\")\n",
    "plt.xlabel(\"Average Rating\")\n",
    "plt.title(\"Average User Rating For Avengers: Age of Ultron (2015)\")\n",
    "plt.show()"
   ]
  },
  {
   "cell_type": "code",
   "execution_count": null,
   "metadata": {},
   "outputs": [],
   "source": [
    "# plotting scatter pots\n",
    "fig = plt.figure(figsize=(5,10))\n",
    "ax1 = fig.add_subplot(2,1,1)\n",
    "ax2 = fig.add_subplot(2,1,2)\n",
    "reviews = pd.read_csv('fandango_scores.csv')\n",
    "cols = ['FILM', 'RT_user_norm', 'Metacritic_user_nom', 'IMDB_norm', 'Fandango_Ratingvalue', 'Fandango_Stars']\n",
    "norm_reviews = reviews[cols]\n",
    "ax1.scatter(norm_reviews['Fandango_Ratingvalue'], norm_reviews['RT_user_norm'])\n",
    "plt.xlabel(\"Fandango\")\n",
    "plt.ylabel(\"Rotten Tomatoes\")\n",
    "ax2.scatter(norm_reviews['RT_user_norm'], norm_reviews['Fandango_Ratingvalue'])\n",
    "plt.ylabel(\"Fandango\")\n",
    "plt.xlabel(\"Rotten Tomatoes\")\n",
    "plt.show()"
   ]
  },
  {
   "cell_type": "code",
   "execution_count": null,
   "metadata": {},
   "outputs": [],
   "source": [
    "# plotting histograms\n",
    "fig = plt.figure(figsize=(5,20))\n",
    "ax1 = fig.add_subplot(4,1,1)\n",
    "ax2 = fig.add_subplot(4,1,2)\n",
    "ax3 = fig.add_subplot(4,1,3)\n",
    "ax4 = fig.add_subplot(4,1,4)\n",
    "ax1.hist(norm_reviews['Fandango_Ratingvalue'], bins=20, range=(1,5))\n",
    "plt.title('Distribution of Fandango Ratings')\n",
    "ax1.set_ylim(0,50)\n",
    "ax2.hist(norm_reviews['RT_user_norm'], bins=20, range=(1,5))\n",
    "plt.title('Distribution of Rotten Tomatoes Ratings')\n",
    "ax2.set_ylim(0,50)\n",
    "ax3.hist(norm_reviews['Metacritic_user_nom'], bins=20, range=(1,5))\n",
    "plt.title('Distribution of Metacritic Ratings')\n",
    "ax3.set_ylim(0,50)\n",
    "ax4.hist(norm_reviews['IMDB_norm'], bins=20, range=(1,5))\n",
    "plt.title('Distribution of IMDB Ratings')\n",
    "ax4.set_ylim(0,50)\n",
    "plt.show()"
   ]
  },
  {
   "cell_type": "code",
   "execution_count": null,
   "metadata": {},
   "outputs": [],
   "source": [
    "# scatter plots\n",
    "import matplotlib.pyplot as plt\n",
    "\n",
    "fig = plt.figure(figsize=(5,10))\n",
    "ax1 = fig.add_subplot(3,1,1)\n",
    "ax2 = fig.add_subplot(3,1,2)\n",
    "ax3 = fig.add_subplot(3,1,3)\n",
    "\n",
    "ax1.scatter(norm_reviews['Fandango_Ratingvalue'],norm_reviews['RT_user_norm'])\n",
    "plt.xlabel(\"Fandango\")\n",
    "plt.ylabel(\"Rotten Tomatoes\")\n",
    "ax1.set_xlim(0, 5)\n",
    "ax1.set_ylim(0, 5)\n",
    "\n",
    "ax2.scatter(norm_reviews['Fandango_Ratingvalue'],norm_reviews['Metacritic_user_nom'])\n",
    "plt.xlabel(\"Fandango\")\n",
    "plt.ylabel(\"Metacritic\")\n",
    "ax2.set_xlim(0, 5)\n",
    "ax2.set_ylim(0, 5)\n",
    "\n",
    "ax3.scatter(norm_reviews['Fandango_Ratingvalue'],norm_reviews['IMDB_norm'])\n",
    "plt.xlabel(\"Fandango\")\n",
    "plt.ylabel(\"IMDB\")\n",
    "ax2.set_xlim(0, 5)\n",
    "ax2.set_ylim(0, 5)\n",
    "plt.show()"
   ]
  },
  {
   "cell_type": "code",
   "execution_count": null,
   "metadata": {},
   "outputs": [],
   "source": [
    "# box plots\n",
    "fig, ax = plt.subplots()\n",
    "ax.boxplot(norm_reviews['RT_user_norm'])\n",
    "ax.set_ylim(0,5)\n",
    "ax.set_xticklabels(['Rotten Tomatoes']) # needs an iterable object\n",
    "plt.show()"
   ]
  },
  {
   "cell_type": "code",
   "execution_count": null,
   "metadata": {},
   "outputs": [],
   "source": [
    "num_cols = ['RT_user_norm', 'Metacritic_user_nom', 'IMDB_norm', 'Fandango_Ratingvalue']\n",
    "fig, ax = plt.subplots()\n",
    "ax.boxplot(norm_reviews[num_cols].values)\n",
    "# When selecting multiple columns to pass in to Axes.boxplot(), need .values accessor to return a multi-dimensional numpy array\n",
    "ax.set_xticklabels(num_cols, rotation=90)\n",
    "ax.set_ylim(0,5)\n",
    "plt.show()"
   ]
  },
  {
   "cell_type": "code",
   "execution_count": null,
   "metadata": {},
   "outputs": [],
   "source": []
  }
 ],
 "metadata": {
  "kernelspec": {
   "display_name": "Python 3",
   "language": "python",
   "name": "python3"
  },
  "language_info": {
   "codemirror_mode": {
    "name": "ipython",
    "version": 3
   },
   "file_extension": ".py",
   "mimetype": "text/x-python",
   "name": "python",
   "nbconvert_exporter": "python",
   "pygments_lexer": "ipython3",
   "version": "3.6.5"
  }
 },
 "nbformat": 4,
 "nbformat_minor": 2
}
