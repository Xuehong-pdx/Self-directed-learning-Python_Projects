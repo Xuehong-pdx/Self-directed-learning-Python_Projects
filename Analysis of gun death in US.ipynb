{
 "cells": [
  {
   "cell_type": "code",
   "execution_count": 9,
   "metadata": {
    "collapsed": false
   },
   "outputs": [
    {
     "data": {
      "text/plain": [
       "'\"\",\"year\",\"month\",\"intent\",\"police\",\"sex\",\"age\",\"race\",\"hispanic\",\"place\",\"education\"\\n\"1\",2012,\"01\",\"Suicide\",0,\"M\",34,\"Asian/Pacific Islander\",100,\"H'"
      ]
     },
     "execution_count": 9,
     "metadata": {},
     "output_type": "execute_result"
    }
   ],
   "source": [
    "# Analysis of gun deaths in the US from 2012 to 2014\n",
    "f=open('guns.csv')\n",
    "data=f.read()\n",
    "data[0:150] # output for 'read' is a list.  Use csv module below"
   ]
  },
  {
   "cell_type": "code",
   "execution_count": 25,
   "metadata": {
    "collapsed": false
   },
   "outputs": [
    {
     "data": {
      "text/plain": [
       "[['1',\n",
       "  '2012',\n",
       "  '01',\n",
       "  'Suicide',\n",
       "  '0',\n",
       "  'M',\n",
       "  '34',\n",
       "  'Asian/Pacific Islander',\n",
       "  '100',\n",
       "  'Home',\n",
       "  '4'],\n",
       " ['2', '2012', '01', 'Suicide', '0', 'F', '21', 'White', '100', 'Street', '3']]"
      ]
     },
     "execution_count": 25,
     "metadata": {},
     "output_type": "execute_result"
    }
   ],
   "source": [
    "# Extract header\n",
    "import csv\n",
    "f=open('guns.csv')\n",
    "data=list(csv.reader(f))\n",
    "data[4]\n",
    "header=data[0]\n",
    "data=data[1:]\n",
    "data[0:2]"
   ]
  },
  {
   "cell_type": "code",
   "execution_count": 9,
   "metadata": {
    "collapsed": false
   },
   "outputs": [
    {
     "data": {
      "text/plain": [
       "{'2012': 33563, '2013': 33636, '2014': 33599}"
      ]
     },
     "execution_count": 9,
     "metadata": {},
     "output_type": "execute_result"
    }
   ],
   "source": [
    "# Count gun death by year\n",
    "years=[row[1] for row in data]\n",
    "year_counts={}\n",
    "for i in years:\n",
    "    if i not in year_counts:\n",
    "        year_counts[i]=1\n",
    "    else:\n",
    "        year_counts[i]+=1\n",
    "year_counts"
   ]
  },
  {
   "cell_type": "code",
   "execution_count": 4,
   "metadata": {
    "collapsed": false
   },
   "outputs": [],
   "source": [
    "# Count gun death by month and year\n",
    "import datetime\n",
    "dates=[datetime.datetime(year=int(row[1]), month=int(row[2]), day=1) for row in data]\n",
    "date_counts = {}\n",
    "for date in dates:\n",
    "    if date in date_counts:\n",
    "        date_counts[date] +=1 # a datetime object\n",
    "    else:\n",
    "        date_counts[date] =1"
   ]
  },
  {
   "cell_type": "code",
   "execution_count": 27,
   "metadata": {
    "collapsed": false
   },
   "outputs": [
    {
     "name": "stdout",
     "output_type": "stream",
     "text": [
      "{'Native American/Native Alaskan': 917, 'White': 66237, 'Hispanic': 9022, 'Black': 23296, 'Asian/Pacific Islander': 1326}\n",
      "{'F': 14449, 'M': 86349}\n"
     ]
    }
   ],
   "source": [
    "sex_counts={} # number of gun death by sex\n",
    "for item in data:\n",
    "    if item[5] in sex_counts:\n",
    "        sex_counts[item[5]] +=1\n",
    "    else:\n",
    "        sex_counts [item[5]]=1\n",
    "        \n",
    "race_counts={} # number of gun death by race\n",
    "for item in data:\n",
    "    if item[7] in race_counts:\n",
    "        race_counts[item[7]] +=1\n",
    "    else:\n",
    "        race_counts[item[7]] =1\n",
    "print(race_counts)\n",
    "print(sex_counts)"
   ]
  },
  {
   "cell_type": "code",
   "execution_count": 17,
   "metadata": {
    "collapsed": false
   },
   "outputs": [],
   "source": [
    "import csv\n",
    "f=open('census.csv', 'r')\n",
    "census=list(csv.reader(f))"
   ]
  },
  {
   "cell_type": "code",
   "execution_count": 18,
   "metadata": {
    "collapsed": false
   },
   "outputs": [
    {
     "data": {
      "text/plain": [
       "{'Asian/Pacific Islander': 8.374309664161762,\n",
       " 'Black': 57.8773477735196,\n",
       " 'Hispanic': 20.220491210910907,\n",
       " 'Native American/Native Alaskan': 24.521955573811088,\n",
       " 'White': 33.56849303419181}"
      ]
     },
     "execution_count": 18,
     "metadata": {},
     "output_type": "execute_result"
    }
   ],
   "source": [
    "#normalize gun death by race \n",
    "mapping={\n",
    "     'Asian/Pacific Islander': 15834141,\n",
    "     'Black': 40250635,\n",
    "     'Hispanic': 44618105,\n",
    "     'Native American/Native Alaskan': 3739506,\n",
    "     'White': 197318956}\n",
    "race_per_hundredk={}\n",
    "for key, val in race_counts.items():\n",
    "    race_per_hundredk[key]=val/mapping[key]*100000\n",
    "race_per_hundredk"
   ]
  },
  {
   "cell_type": "code",
   "execution_count": 33,
   "metadata": {
    "collapsed": false
   },
   "outputs": [
    {
     "data": {
      "text/plain": [
       "{'Asian/Pacific Islander': 560,\n",
       " 'Black': 19511,\n",
       " 'Hispanic': 5635,\n",
       " 'Native American/Native Alaskan': 327,\n",
       " 'White': 9148}"
      ]
     },
     "execution_count": 33,
     "metadata": {},
     "output_type": "execute_result"
    }
   ],
   "source": [
    "# number of homicide by race\n",
    "race_count={}\n",
    "for item in data:\n",
    "    if item[7] in race_count:\n",
    "        if item[3]=='Homicide':\n",
    "            race_count[item[7]] +=1\n",
    "    else:\n",
    "        race_count[item[7]] =1\n",
    "race_count"
   ]
  },
  {
   "cell_type": "code",
   "execution_count": 34,
   "metadata": {
    "collapsed": false
   },
   "outputs": [
    {
     "data": {
      "text/plain": [
       "{'Asian/Pacific Islander': 3.5366616982885275,\n",
       " 'Black': 48.47376942003524,\n",
       " 'Hispanic': 12.62940234687242,\n",
       " 'Native American/Native Alaskan': 8.744470526320857,\n",
       " 'White': 4.636148591826119}"
      ]
     },
     "execution_count": 34,
     "metadata": {},
     "output_type": "execute_result"
    }
   ],
   "source": [
    "# rate of homecide by race\n",
    "race_per_hundredk={}\n",
    "for key, val in race_count.items():\n",
    "    race_per_hundredk[key]=val/mapping[key]*100000\n",
    "race_per_hundredk"
   ]
  },
  {
   "cell_type": "code",
   "execution_count": 36,
   "metadata": {
    "collapsed": false
   },
   "outputs": [
    {
     "data": {
      "text/plain": [
       "{'Asian/Pacific Islander': 0.08210107513884081,\n",
       " 'Black': 0.8173784090611242,\n",
       " 'Hispanic': 0.3249801846133985,\n",
       " 'Native American/Native Alaskan': 0.615054501851314,\n",
       " 'White': 0.5741972403300167}"
      ]
     },
     "execution_count": 36,
     "metadata": {},
     "output_type": "execute_result"
    }
   ],
   "source": [
    "# number of Accidental death by race\n",
    "race_count={}\n",
    "for item in data:\n",
    "    if item[7] in race_count:\n",
    "        if item[3]=='Accidental':\n",
    "            race_count[item[7]] +=1\n",
    "    else:\n",
    "        race_count[item[7]] =1\n",
    "race_per_hundredk={}\n",
    "for key, val in race_count.items():\n",
    "    race_per_hundredk[key]=val/mapping[key]*100000\n",
    "race_per_hundredk"
   ]
  },
  {
   "cell_type": "code",
   "execution_count": null,
   "metadata": {
    "collapsed": true
   },
   "outputs": [],
   "source": []
  }
 ],
 "metadata": {
  "kernelspec": {
   "display_name": "Python 3",
   "language": "python",
   "name": "python3"
  },
  "language_info": {
   "codemirror_mode": {
    "name": "ipython",
    "version": 3
   },
   "file_extension": ".py",
   "mimetype": "text/x-python",
   "name": "python",
   "nbconvert_exporter": "python",
   "pygments_lexer": "ipython3",
   "version": "3.4.3"
  }
 },
 "nbformat": 4,
 "nbformat_minor": 0
}
