{
 "cells": [
  {
   "cell_type": "markdown",
   "metadata": {},
   "source": [
    "### Optimizing Dataframe Memory Footprint\n",
    "https://app.dataquest.io/m/163/optimizing-dataframe-memory-footprint/14/converting-to-categorical-to-save-memory"
   ]
  },
  {
   "cell_type": "code",
   "execution_count": 106,
   "metadata": {},
   "outputs": [
    {
     "name": "stdout",
     "output_type": "stream",
     "text": [
      "BlockManager\n",
      "Items: Index(['ExhibitionID', 'ExhibitionNumber', 'ExhibitionTitle',\n",
      "       'ExhibitionCitationDate', 'ExhibitionBeginDate', 'ExhibitionEndDate',\n",
      "       'ExhibitionSortOrder', 'ExhibitionURL', 'ExhibitionRole',\n",
      "       'ConstituentID', 'ConstituentType', 'DisplayName', 'AlphaSort',\n",
      "       'FirstName', 'MiddleName', 'LastName', 'Suffix', 'Institution',\n",
      "       'Nationality', 'ConstituentBeginDate', 'ConstituentEndDate',\n",
      "       'ArtistBio', 'Gender', 'VIAFID', 'WikidataID', 'ULANID',\n",
      "       'ConstituentURL'],\n",
      "      dtype='object')\n",
      "Axis 1: RangeIndex(start=0, stop=34558, step=1)\n",
      "FloatBlock: [0, 6, 9, 19, 20, 23, 25], 7 x 34558, dtype: float64\n",
      "ObjectBlock: [1, 2, 3, 4, 5, 7, 8, 10, 11, 12, 13, 14, 15, 16, 17, 18, 21, 22, 24, 26], 20 x 34558, dtype: object\n"
     ]
    }
   ],
   "source": [
    "# BlockManager class is responsible for maintaining the mapping between the row and column indexes and the actual blocks\n",
    "# retrieve the internal BlockManager object from within a dataframe using the DataFrame._data private attribute\n",
    "import pandas as pd\n",
    "moma = pd.read_csv(\"moma.csv\")\n",
    "print(moma._data)"
   ]
  },
  {
   "cell_type": "code",
   "execution_count": 107,
   "metadata": {},
   "outputs": [
    {
     "name": "stdout",
     "output_type": "stream",
     "text": [
      "7464528 7.1187286376953125\n"
     ]
    }
   ],
   "source": [
    "# retrieve the amount of memory the values in a column consume using the Series.nbytes attribute\n",
    "# a kilobyte is equivalent to 1,024 bytes (2^10), and a megabyte is equivalent to 1,048,576 bytes (2^20)\n",
    "total_bytes = moma.size*8\n",
    "total_megabytes = total_bytes/1048576\n",
    "print(total_bytes, total_megabytes)"
   ]
  },
  {
   "cell_type": "code",
   "execution_count": 108,
   "metadata": {},
   "outputs": [
    {
     "name": "stdout",
     "output_type": "stream",
     "text": [
      "Index                          80\n",
      "ExhibitionNumber          2085250\n",
      "ExhibitionTitle           3333695\n",
      "ExhibitionCitationDate    3577728\n",
      "ExhibitionBeginDate       2281851\n",
      "ExhibitionEndDate         2234872\n",
      "ExhibitionURL             3494606\n",
      "ExhibitionRole            2179383\n",
      "ConstituentType           2313112\n",
      "DisplayName               2548428\n",
      "AlphaSort                 2534329\n",
      "FirstName                 2104909\n",
      "MiddleName                1218917\n",
      "LastName                  2162937\n",
      "Suffix                    1110333\n",
      "Institution               1221368\n",
      "Nationality               1949664\n",
      "ArtistBio                 3183300\n",
      "Gender                    1858994\n",
      "WikidataID                1821293\n",
      "ConstituentURL            2677922\n",
      "dtype: int64\n",
      "43.766947746276855\n"
     ]
    }
   ],
   "source": [
    "obj_cols = moma.select_dtypes(include=['object'])\n",
    "obj_cols_mem = obj_cols.memory_usage(deep=True)\n",
    "print(obj_cols_mem)\n",
    "obj_cols_sum = obj_cols_mem.sum()/1048576\n",
    "print(obj_cols_sum)"
   ]
  },
  {
   "cell_type": "markdown",
   "metadata": {},
   "source": [
    "object \tbool \t    float \t    int \tdatetime\n",
    "object \tbool \t    float16 \tint8 \tdatetime64\n",
    "\t\t            float32 \tint16 \t\n",
    "\t\t            float64 \tint32 \t\n",
    "\t\t            float128 \tint64 \t"
   ]
  },
  {
   "cell_type": "code",
   "execution_count": 109,
   "metadata": {},
   "outputs": [
    {
     "name": "stdout",
     "output_type": "stream",
     "text": [
      "int8: -128 127\n",
      "int16: -32768 32767\n",
      "int32: -2147483648 2147483647\n",
      "int64: -9223372036854775808 9223372036854775807\n"
     ]
    }
   ],
   "source": [
    "import numpy as np\n",
    "int_type =[\"int8\", \"int16\",\"int32\",\"int64\"]\n",
    "print(\"int8:\", np.iinfo(\"int8\").min, np.iinfo(\"int8\").max)\n",
    "print(\"int16:\",np.iinfo(\"int16\").min, np.iinfo(\"int16\").max)\n",
    "print(\"int32:\",np.iinfo(\"int32\").min, np.iinfo(\"int32\").max)\n",
    "print(\"int64:\",np.iinfo(\"int64\").min, np.iinfo(\"int64\").max)"
   ]
  },
  {
   "cell_type": "code",
   "execution_count": 110,
   "metadata": {},
   "outputs": [
    {
     "name": "stdout",
     "output_type": "stream",
     "text": [
      "int16\n",
      "69196\n"
     ]
    }
   ],
   "source": [
    "import numpy as np\n",
    "col_max = moma['ExhibitionSortOrder'].max()\n",
    "col_min = moma['ExhibitionSortOrder'].min()\n",
    "\n",
    "if col_max <  np.iinfo(\"int8\").max and col_min > np.iinfo(\"int8\").min:\n",
    "    moma['ExhibitionSortOrder'] = moma['ExhibitionSortOrder'].astype(\"int8\")\n",
    "elif col_max <  np.iinfo(\"int16\").max and col_min > np.iinfo(\"int16\").min:\n",
    "    moma['ExhibitionSortOrder'] = moma['ExhibitionSortOrder'].astype(\"int16\")\n",
    "elif col_max <  np.iinfo(\"int32\").max and col_min > np.iinfo(\"int32\").min:\n",
    "    moma['ExhibitionSortOrder'] = moma['ExhibitionSortOrder'].astype(\"int32\")\n",
    "elif col_max <  np.iinfo(\"int64\").max and col_min > np.iinfo(\"int64\").min:\n",
    "    moma['ExhibitionSortOrder'] = moma['ExhibitionSortOrder'].astype(\"int64\")\n",
    "print(moma['ExhibitionSortOrder'].dtype)\n",
    "print(moma['ExhibitionSortOrder'].memory_usage(deep=True))"
   ]
  },
  {
   "cell_type": "code",
   "execution_count": 111,
   "metadata": {},
   "outputs": [
    {
     "name": "stdout",
     "output_type": "stream",
     "text": [
      "True\n"
     ]
    }
   ],
   "source": [
    "value_bytes = len(moma) * 2 + 80 # index memory\n",
    "print(value_bytes == moma['ExhibitionSortOrder'].memory_usage(deep=True))"
   ]
  },
  {
   "cell_type": "code",
   "execution_count": 113,
   "metadata": {},
   "outputs": [
    {
     "name": "stdout",
     "output_type": "stream",
     "text": [
      "ExhibitionID            float64\n",
      "ConstituentID           float64\n",
      "ConstituentBeginDate    float64\n",
      "ConstituentEndDate      float64\n",
      "VIAFID                  float64\n",
      "ULANID                  float64\n",
      "dtype: object\n",
      "Series([], dtype: object)\n"
     ]
    }
   ],
   "source": [
    "# Series.astype() use float64 by default\n",
    "# use the downcast parameter in pandas.to_numeric() function to have pandas to find the optimal subtype\n",
    "moma = pd.read_csv(\"moma.csv\")\n",
    "moma['ExhibitionSortOrder'] = moma['ExhibitionSortOrder'].astype(\"int16\")\n",
    "float_cols = moma.select_dtypes(include=['float'])\n",
    "print(float_cols.dtypes)\n",
    "for col in float_cols.columns:\n",
    "    moma[col] = pd.to_numeric(moma[col], downcast='float')\n",
    "print(moma.select_dtypes(include=['float']).dtypes)"
   ]
  },
  {
   "cell_type": "code",
   "execution_count": 114,
   "metadata": {},
   "outputs": [
    {
     "name": "stdout",
     "output_type": "stream",
     "text": [
      "276544 276544\n"
     ]
    }
   ],
   "source": [
    "moma['ExhibitionBeginDate'] = pd.to_datetime(moma['ExhibitionBeginDate'])\n",
    "moma['ExhibitionEndDate'] = pd.to_datetime(moma['ExhibitionEndDate'])\n",
    "a = moma['ExhibitionBeginDate'].memory_usage(deep=True)\n",
    "b = moma['ExhibitionEndDate'].memory_usage(deep=True)\n",
    "print(a, b)"
   ]
  },
  {
   "cell_type": "code",
   "execution_count": 115,
   "metadata": {},
   "outputs": [
    {
     "name": "stdout",
     "output_type": "stream",
     "text": [
      "<class 'pandas.core.frame.DataFrame'>\n",
      "RangeIndex: 34558 entries, 0 to 34557\n",
      "Data columns (total 27 columns):\n",
      "ExhibitionID              34129 non-null float32\n",
      "ExhibitionNumber          34558 non-null category\n",
      "ExhibitionTitle           34558 non-null category\n",
      "ExhibitionCitationDate    34557 non-null category\n",
      "ExhibitionBeginDate       34558 non-null datetime64[ns]\n",
      "ExhibitionEndDate         33354 non-null datetime64[ns]\n",
      "ExhibitionSortOrder       34558 non-null int16\n",
      "ExhibitionURL             34125 non-null category\n",
      "ExhibitionRole            34424 non-null category\n",
      "ConstituentID             34044 non-null float32\n",
      "ConstituentType           34424 non-null category\n",
      "DisplayName               34424 non-null category\n",
      "AlphaSort                 34424 non-null category\n",
      "FirstName                 31499 non-null category\n",
      "MiddleName                3804 non-null category\n",
      "LastName                  31998 non-null category\n",
      "Suffix                    157 non-null category\n",
      "Institution               2458 non-null category\n",
      "Nationality               26072 non-null category\n",
      "ConstituentBeginDate      25290 non-null float32\n",
      "ConstituentEndDate        19819 non-null float32\n",
      "ArtistBio                 26089 non-null category\n",
      "Gender                    25796 non-null category\n",
      "VIAFID                    26996 non-null float32\n",
      "WikidataID                22241 non-null category\n",
      "ULANID                    21688 non-null float32\n",
      "ConstituentURL            34044 non-null category\n",
      "dtypes: category(18), datetime64[ns](2), float32(6), int16(1)\n",
      "memory usage: 8.9 MB\n",
      "None\n"
     ]
    }
   ],
   "source": [
    "# use Series.cat.codes attribute to return the integer values of the category type \n",
    "# The category subtype handle missing values by setting them to -1\n",
    "# use the category type primarily for object columns where less than 50% of the values are unique\n",
    "obj_cols = moma.select_dtypes(include=['object'])\n",
    "for col in obj_cols.columns:\n",
    "    num_unique_values = len(moma[col].unique())\n",
    "    num_total_values = len(moma[col])\n",
    "    if num_unique_values / num_total_values < 0.5:\n",
    "        moma[col] = moma[col].astype('category')\n",
    "        \n",
    "print(moma.info(memory_usage='deep'))"
   ]
  },
  {
   "cell_type": "code",
   "execution_count": 240,
   "metadata": {},
   "outputs": [
    {
     "name": "stdout",
     "output_type": "stream",
     "text": [
      "14.555106163024902\n"
     ]
    }
   ],
   "source": [
    "# specify the optimal column types when read in the data set\n",
    "keep_cols = ['ExhibitionID', 'ExhibitionNumber', 'ExhibitionBeginDate', 'ExhibitionEndDate', 'ExhibitionSortOrder', 'ExhibitionRole', 'ConstituentType', 'DisplayName', 'Institution', 'Nationality', 'Gender']\n",
    "moma = pd.read_csv(\"moma.csv\", parse_dates=[\"ExhibitionBeginDate\", \"ExhibitionEndDate\"], usecols=keep_cols)\n",
    "print(moma.memory_usage(deep=True).sum()/(1024*1024))"
   ]
  },
  {
   "cell_type": "markdown",
   "metadata": {},
   "source": [
    "### Processing Dataframes in Chunks\n",
    "https://app.dataquest.io/m/164/processing-dataframes-in-chunks"
   ]
  },
  {
   "cell_type": "code",
   "execution_count": 118,
   "metadata": {},
   "outputs": [
    {
     "data": {
      "text/plain": [
       "(array([ 1.,  0.,  0.,  0.,  0.,  0.,  0.,  7., 94., 37.]),\n",
       " array([0.07383919, 0.1022049 , 0.1305706 , 0.15893631, 0.18730202,\n",
       "        0.21566772, 0.24403343, 0.27239914, 0.30076485, 0.32913055,\n",
       "        0.35749626]),\n",
       " <a list of 10 Patch objects>)"
      ]
     },
     "execution_count": 118,
     "metadata": {},
     "output_type": "execute_result"
    },
    {
     "data": {
      "image/png": "[encoded data removed]",
      "text/plain": [
       "<Figure size 432x288 with 1 Axes>"
      ]
     },
     "metadata": {
      "needs_background": "light"
     },
     "output_type": "display_data"
    }
   ],
   "source": [
    "import pandas as pd\n",
    "import matplotlib.pyplot as plt\n",
    "%matplotlib inline\n",
    "\n",
    "memory_footprints = []\n",
    "chunk_iter = pd.read_csv('moma.csv', chunksize=250)\n",
    "for chunk in chunk_iter:\n",
    "    memory_footprints.append(chunk.memory_usage(deep=True).sum()/(1024*1024))\n",
    "plt.hist(memory_footprints)"
   ]
  },
  {
   "cell_type": "code",
   "execution_count": 119,
   "metadata": {},
   "outputs": [
    {
     "name": "stdout",
     "output_type": "stream",
     "text": [
      "34558\n"
     ]
    }
   ],
   "source": [
    "num_rows = 0\n",
    "chunk_iter=pd.read_csv('moma.csv', chunksize=250)\n",
    "for chunk in chunk_iter:\n",
    "    num_rows += len(chunk)\n",
    "print(num_rows)"
   ]
  },
  {
   "cell_type": "code",
   "execution_count": 120,
   "metadata": {},
   "outputs": [
    {
     "name": "stdout",
     "output_type": "stream",
     "text": [
      "0    79.0\n",
      "1    67.0\n",
      "2    55.0\n",
      "3    37.0\n",
      "4    32.0\n",
      "5    74.0\n",
      "6    52.0\n",
      "7    41.0\n",
      "8    85.0\n",
      "9    65.0\n",
      "dtype: float64\n"
     ]
    }
   ],
   "source": [
    "dtypes = {\"ConstituentBeginDate\": \"float\", \"ConstituentEndDate\": \"float\"}\n",
    "chunk_iter = pd.read_csv('moma.csv', chunksize=250, dtype=dtypes)\n",
    "lifespans = []\n",
    "for chunk in chunk_iter:\n",
    "    diff = chunk['ConstituentEndDate'] - chunk['ConstituentBeginDate']\n",
    "    lifespans.append(diff)\n",
    "lifespans_dist = pd.concat(lifespans)\n",
    "print(lifespans_dist.head(10))"
   ]
  },
  {
   "cell_type": "code",
   "execution_count": 41,
   "metadata": {},
   "outputs": [
    {
     "name": "stdout",
     "output_type": "stream",
     "text": [
      "1.27 s ± 23.5 ms per loop (mean ± std. dev. of 7 runs, 1 loop each)\n"
     ]
    }
   ],
   "source": [
    "%%timeit\n",
    "lifespans = []\n",
    "chunk_iter = pd.read_csv('Raw_data\\moma.csv', chunksize=250, dtype={\"ConstituentBeginDate\": \"float\", \"ConstituentEndDate\": \"float\"})\n",
    "for chunk in chunk_iter:\n",
    "    lifespans.append(chunk['ConstituentEndDate'] - chunk['ConstituentBeginDate'])\n",
    "lifespans_dist = pd.concat(lifespans)"
   ]
  },
  {
   "cell_type": "code",
   "execution_count": 121,
   "metadata": {},
   "outputs": [
    {
     "name": "stdout",
     "output_type": "stream",
     "text": [
      "839 ms ± 16.5 ms per loop (mean ± std. dev. of 7 runs, 1 loop each)\n"
     ]
    }
   ],
   "source": [
    "%%timeit\n",
    "lifespans = []\n",
    "chunk_iter = pd.read_csv('moma.csv', chunksize=250, dtype={\"ConstituentBeginDate\": \"float\", \"ConstituentEndDate\": \"float\"},  usecols=['ConstituentBeginDate', 'ConstituentEndDate'])\n",
    "for chunk in chunk_iter:\n",
    "    lifespans.append(chunk['ConstituentEndDate'] - chunk['ConstituentBeginDate'])\n",
    "lifespans_dist = pd.concat(lifespans)"
   ]
  },
  {
   "cell_type": "code",
   "execution_count": 122,
   "metadata": {},
   "outputs": [
    {
     "data": {
      "text/plain": [
       "Male      208\n",
       "Female      9\n",
       "Male      193\n",
       "Female      6\n",
       "Male      195\n",
       "Female      8\n",
       "Male      104\n",
       "Female      6\n",
       "Male      103\n",
       "Female     10\n",
       "Name: Gender, dtype: int64"
      ]
     },
     "execution_count": 122,
     "metadata": {},
     "output_type": "execute_result"
    }
   ],
   "source": [
    "overall_vc = []\n",
    "chunk_iter = pd.read_csv('moma.csv', chunksize=250, usecols=['Gender'])\n",
    "for chunk in chunk_iter:\n",
    "    overall_vc.append(chunk['Gender'].value_counts())\n",
    "combined_vc=pd.concat(overall_vc)\n",
    "combined_vc.head(10)"
   ]
  },
  {
   "cell_type": "code",
   "execution_count": 123,
   "metadata": {},
   "outputs": [
    {
     "data": {
      "text/plain": [
       "Female     2527\n",
       "Male      23268\n",
       "male          1\n",
       "Name: Gender, dtype: int64"
      ]
     },
     "execution_count": 123,
     "metadata": {},
     "output_type": "execute_result"
    }
   ],
   "source": [
    "chunk_iter = pd.read_csv('moma.csv', chunksize=250, usecols=['Gender'])\n",
    "overall_vc=[]\n",
    "for chunk in chunk_iter:\n",
    "    overall_vc.append(chunk['Gender'].value_counts())\n",
    "combined_vc=pd.concat(overall_vc)\n",
    "final_vc=combined_vc.groupby(combined_vc.index).sum()\n",
    "final_vc"
   ]
  },
  {
   "cell_type": "code",
   "execution_count": 124,
   "metadata": {},
   "outputs": [
    {
     "data": {
      "text/plain": [
       "(2.0, Male)       1\n",
       "(5.0, Male)       3\n",
       "(6.0, Female)     2\n",
       "(6.0, Male)      32\n",
       "(7.0, Male)      69\n",
       "(9.0, Male)       4\n",
       "(10.0, Male)      2\n",
       "(15.0, Male)      1\n",
       "(17.0, Male)      4\n",
       "(19.0, Male)      2\n",
       "Name: Gender, dtype: int64"
      ]
     },
     "execution_count": 124,
     "metadata": {},
     "output_type": "execute_result"
    }
   ],
   "source": [
    "chunk_iter = pd.read_csv('moma.csv', chunksize=1000)\n",
    "df_list = []\n",
    "# group each unique value in the Gender column by each unique value in the ExhibitionID column\n",
    "for chunk in chunk_iter:\n",
    "    temp = chunk['Gender'].groupby(chunk['ExhibitionID']).value_counts()\n",
    "    df_list.append(temp)\n",
    "final_df = pd.concat(df_list)\n",
    "\n",
    "#Use the GroupBy method again to sum the gender counts for each unique index value\n",
    "id_gender_counts = final_df.groupby(final_df.index).sum()\n",
    "id_gender_counts.head(10)"
   ]
  },
  {
   "cell_type": "markdown",
   "metadata": {},
   "source": [
    "## Improving CPU performance\n",
    "https://app.dataquest.io/m/168/cpu-bound-programs/3/the-dataset"
   ]
  },
  {
   "cell_type": "code",
   "execution_count": 125,
   "metadata": {},
   "outputs": [
    {
     "data": {
      "text/html": [
       "<div>\n",
       "<style scoped>\n",
       "    .dataframe tbody tr th:only-of-type {\n",
       "        vertical-align: middle;\n",
       "    }\n",
       "\n",
       "    .dataframe tbody tr th {\n",
       "        vertical-align: top;\n",
       "    }\n",
       "\n",
       "    .dataframe thead th {\n",
       "        text-align: right;\n",
       "    }\n",
       "</style>\n",
       "<table border=\"1\" class=\"dataframe\">\n",
       "  <thead>\n",
       "    <tr style=\"text-align: right;\">\n",
       "      <th></th>\n",
       "      <th>Unnamed: 0</th>\n",
       "      <th>_unit_id</th>\n",
       "      <th>relevance</th>\n",
       "      <th>relevance:variance</th>\n",
       "      <th>product_image</th>\n",
       "      <th>product_link</th>\n",
       "      <th>product_price</th>\n",
       "      <th>product_title</th>\n",
       "      <th>query</th>\n",
       "      <th>rank</th>\n",
       "      <th>source</th>\n",
       "      <th>url</th>\n",
       "    </tr>\n",
       "  </thead>\n",
       "  <tbody>\n",
       "    <tr>\n",
       "      <th>0</th>\n",
       "      <td>0</td>\n",
       "      <td>711158459</td>\n",
       "      <td>3.67</td>\n",
       "      <td>0.471</td>\n",
       "      <td>http://thumbs2.ebaystatic.com/d/l225/m/mzvzEUI...</td>\n",
       "      <td>http://www.ebay.com/itm/Sony-PlayStation-4-PS4...</td>\n",
       "      <td>$329.98</td>\n",
       "      <td>Sony PlayStation 4 (PS4) (Latest Model)- 500 G...</td>\n",
       "      <td>playstation 4</td>\n",
       "      <td>1</td>\n",
       "      <td>eBay</td>\n",
       "      <td>http://www.ebay.com/sch/i.html?_from=R40&amp;_trks...</td>\n",
       "    </tr>\n",
       "    <tr>\n",
       "      <th>1</th>\n",
       "      <td>1</td>\n",
       "      <td>711158460</td>\n",
       "      <td>4.00</td>\n",
       "      <td>0.000</td>\n",
       "      <td>http://thumbs3.ebaystatic.com/d/l225/m/mJNDmSy...</td>\n",
       "      <td>http://www.ebay.com/itm/Sony-PlayStation-4-Lat...</td>\n",
       "      <td>$324.84</td>\n",
       "      <td>Sony PlayStation 4 (Latest Model)- 500 GB Jet ...</td>\n",
       "      <td>playstation 4</td>\n",
       "      <td>2</td>\n",
       "      <td>eBay</td>\n",
       "      <td>http://www.ebay.com/sch/i.html?_from=R40&amp;_trks...</td>\n",
       "    </tr>\n",
       "  </tbody>\n",
       "</table>\n",
       "</div>"
      ],
      "text/plain": [
       "   Unnamed: 0   _unit_id  relevance  relevance:variance  \\\n",
       "0           0  711158459       3.67               0.471   \n",
       "1           1  711158460       4.00               0.000   \n",
       "\n",
       "                                       product_image  \\\n",
       "0  http://thumbs2.ebaystatic.com/d/l225/m/mzvzEUI...   \n",
       "1  http://thumbs3.ebaystatic.com/d/l225/m/mJNDmSy...   \n",
       "\n",
       "                                        product_link product_price  \\\n",
       "0  http://www.ebay.com/itm/Sony-PlayStation-4-PS4...      $329.98    \n",
       "1  http://www.ebay.com/itm/Sony-PlayStation-4-Lat...      $324.84    \n",
       "\n",
       "                                       product_title          query  rank  \\\n",
       "0  Sony PlayStation 4 (PS4) (Latest Model)- 500 G...  playstation 4     1   \n",
       "1  Sony PlayStation 4 (Latest Model)- 500 GB Jet ...  playstation 4     2   \n",
       "\n",
       "  source                                                url  \n",
       "0   eBay  http://www.ebay.com/sch/i.html?_from=R40&_trks...  \n",
       "1   eBay  http://www.ebay.com/sch/i.html?_from=R40&_trks...  "
      ]
     },
     "execution_count": 125,
     "metadata": {},
     "output_type": "execute_result"
    }
   ],
   "source": [
    "import pandas as pd\n",
    "\n",
    "data = pd.read_csv(\"ecommerce5000.csv\", encoding=\"Latin-1\")\n",
    "data.head(2)"
   ]
  },
  {
   "cell_type": "code",
   "execution_count": 126,
   "metadata": {},
   "outputs": [
    {
     "data": {
      "text/plain": [
       "(5000, 12)"
      ]
     },
     "execution_count": 126,
     "metadata": {},
     "output_type": "execute_result"
    }
   ],
   "source": [
    "data.shape"
   ]
  },
  {
   "cell_type": "code",
   "execution_count": 127,
   "metadata": {},
   "outputs": [
    {
     "name": "stdout",
     "output_type": "stream",
     "text": [
      "25000000\n",
      "24995000\n",
      "1\n",
      "5000\n",
      "164774\n",
      "5000\n",
      "164774\n"
     ]
    }
   ],
   "source": [
    "iz_operations = 0      # Count how many times the i == z check is performed\n",
    "item_operations = 0    # Count how many times the item == item2 check is performed\n",
    "duplicates_init = 0    # Count how many times the duplicates = [] operation is performed.\n",
    "duplicates_false = 0   # Count how many times the duplicates = False operation is performed.\n",
    "duplicates_true = 0    # Count how many times the duplicates = True operation is performed.\n",
    "if_duplicate = 0       # Count how many times the if duplicate operation is performed.\n",
    "duplicates_append = 0  # Count how many times the duplicates.append(duplicate) operation is performed\n",
    "\n",
    "duplicates_init += 1\n",
    "duplicates = []\n",
    "query = data['query']\n",
    "\n",
    "# Loop through each item in the query column.\n",
    "for i, item in enumerate(query):\n",
    "    duplicates_false += 1\n",
    "    duplicate = False\n",
    "    \n",
    "    # Loop through each item in the query column.\n",
    "    for z, item2 in enumerate(query):\n",
    "        # If the outer and inner loops are on the same value, keep going.\n",
    "        # Without this, we'll falsely detect rows as duplicates.\n",
    "        iz_operations += 1\n",
    "        if i == z:\n",
    "            continue\n",
    "        # Mark as duplicate if we find a match.\n",
    "        item_operations += 1\n",
    "        if item == item2:\n",
    "            duplicates_true += 1\n",
    "            duplicate = True\n",
    "    if_duplicate += 1\n",
    "    # Add to the duplicates list.\n",
    "    if duplicate:\n",
    "        duplicates_append += 1\n",
    "        duplicates.append(item)\n",
    "print(iz_operations)\n",
    "print(item_operations)\n",
    "print(duplicates_init)\n",
    "print(duplicates_false)\n",
    "print(duplicates_true)\n",
    "print(if_duplicate)\n",
    "print(duplicates_true)"
   ]
  },
  {
   "cell_type": "code",
   "execution_count": 10,
   "metadata": {},
   "outputs": [
    {
     "name": "stdout",
     "output_type": "stream",
     "text": [
      "75328 5000\n"
     ]
    }
   ],
   "source": [
    "total = 0\n",
    "sum_increments = 0\n",
    "for item in query:\n",
    "    sum_increments += 1\n",
    "    total += len(item)\n",
    "print(total, sum_increments)"
   ]
  },
  {
   "cell_type": "markdown",
   "metadata": {},
   "source": [
    "big O notations:\n",
    "    O(n^2): two for loops\n",
    "    O(1): no loop  # print(query[0])    "
   ]
  },
  {
   "cell_type": "code",
   "execution_count": 11,
   "metadata": {},
   "outputs": [
    {
     "name": "stdout",
     "output_type": "stream",
     "text": [
      "5000\n",
      "170\n"
     ]
    }
   ],
   "source": [
    "counts_increments = 0\n",
    "value_checks = 0\n",
    "counts = {}\n",
    "for item in query:\n",
    "    if item not in counts:\n",
    "        counts[item] = 0\n",
    "    counts_increments += 1\n",
    "    counts[item] += 1\n",
    "\n",
    "duplicates = []\n",
    "for key, val in counts.items():\n",
    "    value_checks += 1\n",
    "    if val > 1:\n",
    "        duplicates.append(key)\n",
    "\n",
    "print(counts_increments)\n",
    "print(value_checks)"
   ]
  },
  {
   "cell_type": "code",
   "execution_count": 12,
   "metadata": {},
   "outputs": [
    {
     "name": "stdout",
     "output_type": "stream",
     "text": [
      "0.0\n",
      "0.01565241813659668\n"
     ]
    }
   ],
   "source": [
    "import time\n",
    "query_series = data['query']\n",
    "start = time.time()\n",
    "duplicate_series = query_series.duplicated()\n",
    "duplicate_values_series = query_series[duplicate_series]\n",
    "pandas_elapsed = time.time() - start\n",
    "print(pandas_elapsed)\n",
    "\n",
    "start = time.time()\n",
    "counts = {}\n",
    "for item in query:\n",
    "    if item not in counts:\n",
    "        counts[item] = 0\n",
    "    counts[item] += 1\n",
    "\n",
    "duplicates = []\n",
    "for key, val in counts.items():\n",
    "    if val > 1:\n",
    "        duplicates.append(key)\n",
    "elapsed = time.time() - start\n",
    "print(elapsed)"
   ]
  },
  {
   "cell_type": "code",
   "execution_count": 13,
   "metadata": {},
   "outputs": [
    {
     "name": "stdout",
     "output_type": "stream",
     "text": [
      "0.0\n",
      "0.0\n"
     ]
    },
    {
     "data": {
      "image/png": "[encoded data removed]",
      "text/plain": [
       "<Figure size 432x288 with 1 Axes>"
      ]
     },
     "metadata": {
      "needs_background": "light"
     },
     "output_type": "display_data"
    },
    {
     "data": {
      "text/plain": [
       "(array([931.,   0.,   0.,   0.,   0.,   0.,   0.,   0.,   0.,  69.]),\n",
       " array([0.        , 0.0015662 , 0.00313239, 0.00469859, 0.00626478,\n",
       "        0.00783098, 0.00939717, 0.01096337, 0.01252956, 0.01409576,\n",
       "        0.01566195]),\n",
       " <a list of 10 Patch objects>)"
      ]
     },
     "execution_count": 13,
     "metadata": {},
     "output_type": "execute_result"
    },
    {
     "data": {
      "image/png": "[encoded data removed]",
      "text/plain": [
       "<Figure size 432x288 with 1 Axes>"
      ]
     },
     "metadata": {
      "needs_background": "light"
     },
     "output_type": "display_data"
    }
   ],
   "source": [
    "import time\n",
    "import statistics\n",
    "import matplotlib.pyplot as plt\n",
    "%matplotlib inline\n",
    "\n",
    "def pandas_algo():\n",
    "    duplicate_series = query_series.duplicated()\n",
    "    duplicate_values_series = query_series[duplicate_series]\n",
    "    \n",
    "def algo():\n",
    "    counts = {}\n",
    "    for item in query:\n",
    "        if item not in counts:\n",
    "            counts[item] = 0\n",
    "        counts[item] += 1\n",
    "\n",
    "    duplicates = []\n",
    "    for key, val in counts.items():\n",
    "        if val > 1:\n",
    "            duplicates.append(key)\n",
    "        \n",
    "pandas_elapsed = []\n",
    "for i in range(1000):\n",
    "    start = time.time()\n",
    "    pandas_algo()\n",
    "    pandas_elapsed.append(time.time() - start)\n",
    "\n",
    "elapsed = []\n",
    "for i in range(1000):\n",
    "    start = time.time()\n",
    "    algo()\n",
    "    elapsed.append(time.time() - start)\n",
    "\n",
    "print(statistics.median(pandas_elapsed))\n",
    "print(statistics.median(elapsed))\n",
    "\n",
    "plt.hist(pandas_elapsed)\n",
    "plt.show()\n",
    "plt.hist(elapsed)"
   ]
  },
  {
   "cell_type": "code",
   "execution_count": 16,
   "metadata": {},
   "outputs": [
    {
     "name": "stdout",
     "output_type": "stream",
     "text": [
      "0.0\n"
     ]
    }
   ],
   "source": [
    "import time\n",
    "import statistics\n",
    "def algo():\n",
    "    unique = set()\n",
    "    duplicates = set()\n",
    "    for item in query:\n",
    "        if item in unique:\n",
    "            duplicates.add(item)\n",
    "        else:\n",
    "            unique.add(item)\n",
    "\n",
    "elapsed = []\n",
    "for i in range(1000):\n",
    "    start = time.time()\n",
    "    algo()\n",
    "    elapsed.append(time.time() - start)\n",
    "\n",
    "print(statistics.median(elapsed))"
   ]
  },
  {
   "cell_type": "code",
   "execution_count": 15,
   "metadata": {},
   "outputs": [
    {
     "name": "stdout",
     "output_type": "stream",
     "text": [
      "10\n",
      "         38 function calls in 0.000 seconds\n",
      "\n",
      "   Ordered by: standard name\n",
      "\n",
      "   ncalls  tottime  percall  cumtime  percall filename:lineno(function)\n",
      "        1    0.000    0.000    0.000    0.000 <string>:1(<module>)\n",
      "        3    0.000    0.000    0.000    0.000 iostream.py:195(schedule)\n",
      "        2    0.000    0.000    0.000    0.000 iostream.py:307(_is_master_process)\n",
      "        2    0.000    0.000    0.000    0.000 iostream.py:320(_schedule_flush)\n",
      "        2    0.000    0.000    0.000    0.000 iostream.py:382(write)\n",
      "        3    0.000    0.000    0.000    0.000 iostream.py:93(_event_pipe)\n",
      "        3    0.000    0.000    0.000    0.000 socket.py:337(send)\n",
      "        3    0.000    0.000    0.000    0.000 threading.py:1038(_wait_for_tstate_lock)\n",
      "        3    0.000    0.000    0.000    0.000 threading.py:1080(is_alive)\n",
      "        3    0.000    0.000    0.000    0.000 threading.py:507(is_set)\n",
      "        1    0.000    0.000    0.000    0.000 {built-in method builtins.exec}\n",
      "        2    0.000    0.000    0.000    0.000 {built-in method builtins.isinstance}\n",
      "        1    0.000    0.000    0.000    0.000 {built-in method builtins.print}\n",
      "        2    0.000    0.000    0.000    0.000 {built-in method nt.getpid}\n",
      "        3    0.000    0.000    0.000    0.000 {method 'acquire' of '_thread.lock' objects}\n",
      "        3    0.000    0.000    0.000    0.000 {method 'append' of 'collections.deque' objects}\n",
      "        1    0.000    0.000    0.000    0.000 {method 'disable' of '_lsprof.Profiler' objects}\n",
      "\n",
      "\n"
     ]
    }
   ],
   "source": [
    "import cProfile\n",
    "cProfile.run('print(10)')"
   ]
  },
  {
   "cell_type": "code",
   "execution_count": 41,
   "metadata": {},
   "outputs": [
    {
     "name": "stdout",
     "output_type": "stream",
     "text": [
      "         5064 function calls in 0.002 seconds\n",
      "\n",
      "   Ordered by: standard name\n",
      "\n",
      "   ncalls  tottime  percall  cumtime  percall filename:lineno(function)\n",
      "        1    0.001    0.001    0.002    0.002 <ipython-input-41-0c70ec772080>:1(algo)\n",
      "        1    0.000    0.000    0.002    0.002 <string>:1(<module>)\n",
      "        1    0.000    0.000    0.000    0.000 base.py:1117(__iter__)\n",
      "        1    0.000    0.000    0.000    0.000 base.py:75(is_dtype)\n",
      "        4    0.000    0.000    0.000    0.000 blocks.py:165(internal_values)\n",
      "        2    0.000    0.000    0.000    0.000 common.py:117(classes)\n",
      "        2    0.000    0.000    0.000    0.000 common.py:119(<lambda>)\n",
      "        1    0.000    0.000    0.000    0.000 common.py:1702(is_extension_array_dtype)\n",
      "        2    0.000    0.000    0.000    0.000 common.py:1845(_is_dtype_type)\n",
      "        2    0.000    0.000    0.000    0.000 common.py:1981(pandas_dtype)\n",
      "        1    0.000    0.000    0.000    0.000 common.py:403(is_datetime64_dtype)\n",
      "        1    0.000    0.000    0.000    0.000 common.py:434(is_datetime64tz_dtype)\n",
      "        1    0.000    0.000    0.000    0.000 common.py:472(is_timedelta64_dtype)\n",
      "        1    0.000    0.000    0.000    0.000 common.py:702(is_datetimelike)\n",
      "        1    0.000    0.000    0.000    0.000 dtypes.py:68(find)\n",
      "        4    0.000    0.000    0.000    0.000 generic.py:7(_check)\n",
      "        4    0.000    0.000    0.000    0.000 managers.py:1488(_block)\n",
      "        4    0.000    0.000    0.000    0.000 managers.py:1549(internal_values)\n",
      "        4    0.000    0.000    0.000    0.000 series.py:476(_values)\n",
      "        1    0.000    0.000    0.002    0.002 {built-in method builtins.exec}\n",
      "        6    0.000    0.000    0.000    0.000 {built-in method builtins.getattr}\n",
      "        2    0.000    0.000    0.000    0.000 {built-in method builtins.hasattr}\n",
      "       13    0.000    0.000    0.000    0.000 {built-in method builtins.isinstance}\n",
      "        3    0.000    0.000    0.000    0.000 {built-in method builtins.issubclass}\n",
      "     5000    0.000    0.000    0.000    0.000 {method 'add' of 'set' objects}\n",
      "        1    0.000    0.000    0.000    0.000 {method 'disable' of '_lsprof.Profiler' objects}\n",
      "\n",
      "\n"
     ]
    }
   ],
   "source": [
    "def algo():\n",
    "    unique = set()\n",
    "    duplicates = set()\n",
    "    for item in query:\n",
    "        if item in unique:\n",
    "            duplicates.add(item)\n",
    "        else:\n",
    "            unique.add(item)\n",
    "cProfile.run('algo()')"
   ]
  },
  {
   "cell_type": "code",
   "execution_count": null,
   "metadata": {},
   "outputs": [],
   "source": [
    "from contexttimer import Timer\n",
    "with Timer() as t:\n",
    "    algo()\n",
    "print(t.elapsed)"
   ]
  },
  {
   "cell_type": "code",
   "execution_count": 61,
   "metadata": {},
   "outputs": [
    {
     "name": "stdout",
     "output_type": "stream",
     "text": [
      "pandas_elapsed= 0.031227588653564453 p_elapsed= 0.0 elapsed= 0.0\n"
     ]
    }
   ],
   "source": [
    "# Splits the data into groups based on query.  Fnds the product_link with the highest relevance for each group\n",
    "import time \n",
    "import statistics\n",
    "\n",
    "def run_with_timing(func):\n",
    "    elapsed = []\n",
    "    for i in range(10):\n",
    "        start = time.time()\n",
    "        func()\n",
    "        elapsed.append(time.time() - start)\n",
    "    return statistics.median(elapsed)\n",
    "\n",
    "def pandas_algo():\n",
    "    get_max_relevance = lambda x: x.loc[x[\"relevance\"].idxmax(), \"product_link\"]\n",
    "    return data.groupby(\"query\").apply(get_max_relevance)\n",
    "\n",
    "def pandas_algo1():\n",
    "    group = data.groupby('query')\n",
    "    hr = data['relevance'].sort_values(ascending=False)\n",
    "    pl = data.iloc[hr.index]['product_link']\n",
    "    return pl\n",
    "\n",
    "relevance = list(data['relevance'])\n",
    "product_link = list(data['product_link'])\n",
    "\n",
    "def algo():\n",
    "    links = {}\n",
    "    for i, row in enumerate(query):\n",
    "        if row not in links:\n",
    "            links[row] = [0,\"\"]\n",
    "        if relevance[i] > links[row][0]:\n",
    "            links[row] = [relevance[i], product_link[i]]\n",
    "    return links\n",
    "\n",
    "pandas_elapsed = run_with_timing(pandas_algo)\n",
    "p_elapsed = run_with_timing(pandas_algo1)\n",
    "elapsed = run_with_timing(algo)\n",
    "print('pandas_elapsed=', pandas_elapsed, 'p_elapsed=', p_elapsed, 'elapsed=', elapsed)"
   ]
  },
  {
   "cell_type": "code",
   "execution_count": null,
   "metadata": {},
   "outputs": [],
   "source": [
    "# space complexity\n",
    "import re\n",
    "import statistics\n",
    "\n",
    "def algo1(data):\n",
    "    total = 0\n",
    "    for index, row in data.iterrows():\n",
    "        total += int(row[\"rank\"])\n",
    "    return total\n",
    "\n",
    "def algo2(data):\n",
    "    prices = []\n",
    "    for index, row in data.iterrows():\n",
    "        price_search = re.search('.*(\\d+).*', row[\"product_price\"], re.IGNORECASE)\n",
    "\n",
    "        if price_search:\n",
    "            price = float(price_search.group(1))\n",
    "        else:\n",
    "            price = None\n",
    "        prices.append(price)\n",
    "    price_avg = statistics.mean([p for p in prices if p is not None])\n",
    "    weighted_relevance = []\n",
    "    for index, row in data.iterrows():\n",
    "        if prices[index] is not None:\n",
    "            price = prices[index] / price_avg\n",
    "        else:\n",
    "            price = price_avg\n",
    "        weighted_relevance.append(float(row[\"relevance\"]) * price)\n",
    "    return weighted_relevance\n",
    "\n",
    "algo1_time_complexity = 1\n",
    "algo1_space_complexity = 0\n",
    "\n",
    "algo2_time_complexity = 1\n",
    "algo2_space_complexity = 1"
   ]
  },
  {
   "cell_type": "markdown",
   "metadata": {},
   "source": [
    "### improve the performance of I/O bound tasks\n",
    "https://app.dataquest.io/m/169/i%2Fo-bound-programs"
   ]
  },
  {
   "cell_type": "code",
   "execution_count": 32,
   "metadata": {},
   "outputs": [
    {
     "name": "stdout",
     "output_type": "stream",
     "text": [
      "['BSN', 'CHN', 'CN2', 'PT1', 'SL4', 'NY1', 'PHI', 'BR3', 'PIT', 'BRO', 'CIN', 'SLN', 'BLA', 'BOS', 'CHA', 'CLE', 'DET', 'MLA', 'PHA', 'WS1', 'SLA', 'NYA', 'ML1', 'BAL', 'KC1', 'LAN', 'SFN', 'LAA', 'MIN', 'WS2', 'HOU', 'NYN', 'CAL', 'ATL', 'OAK', 'KCA', 'SE1', 'MON', 'SDN', 'ML4', 'TEX', 'SEA', 'TOR', 'COL', 'FLO', 'ANA', 'TBA', 'ARI', 'MIL', 'WAS', 'MIA']\n"
     ]
    }
   ],
   "source": [
    "import cProfile\n",
    "import sqlite3\n",
    "\n",
    "query = \"SELECT DISTINCT teamID from Teams inner join TeamsFranchises on Teams.franchID == TeamsFranchises.franchID where TeamsFranchises.active = 'Y';\"\n",
    "conn = sqlite3.connect(\"Raw_data\\lahman2015.sqlite\")\n",
    "cur = conn.cursor()\n",
    "teams = [row[0] for row in cur.execute(query).fetchall()]\n",
    "print(teams)"
   ]
  },
  {
   "cell_type": "code",
   "execution_count": 33,
   "metadata": {},
   "outputs": [
    {
     "data": {
      "text/plain": [
       "[('AllstarFull',),\n",
       " ('Appearances',),\n",
       " ('AwardsManagers',),\n",
       " ('AwardsPlayers',),\n",
       " ('AwardsShareManagers',),\n",
       " ('AwardsSharePlayers',),\n",
       " ('Batting',),\n",
       " ('BattingPost',),\n",
       " ('CollegePlaying',),\n",
       " ('Fielding',),\n",
       " ('FieldingOF',),\n",
       " ('FieldingPost',),\n",
       " ('HallOfFame',),\n",
       " ('Managers',),\n",
       " ('ManagersHalf',),\n",
       " ('Master',),\n",
       " ('Pitching',),\n",
       " ('PitchingPost',),\n",
       " ('Salaries',),\n",
       " ('Schools',),\n",
       " ('SeriesPost',),\n",
       " ('Teams',),\n",
       " ('TeamsFranchises',),\n",
       " ('TeamsHalf',)]"
      ]
     },
     "execution_count": 33,
     "metadata": {},
     "output_type": "execute_result"
    }
   ],
   "source": [
    "cur.execute(\"select name from sqlite_master where type = 'table';\")\n",
    "cur.fetchall()"
   ]
  },
  {
   "cell_type": "code",
   "execution_count": 34,
   "metadata": {},
   "outputs": [
    {
     "name": "stdout",
     "output_type": "stream",
     "text": [
      "         157 function calls in 0.342 seconds\n",
      "\n",
      "   Ordered by: standard name\n",
      "\n",
      "   ncalls  tottime  percall  cumtime  percall filename:lineno(function)\n",
      "        1    0.000    0.000    0.342    0.342 <ipython-input-34-43d63a2da8a0>:6(calculate_runs)\n",
      "        1    0.000    0.000    0.342    0.342 <string>:1(<module>)\n",
      "        1    0.000    0.000    0.342    0.342 {built-in method builtins.exec}\n",
      "       51    0.000    0.000    0.000    0.000 {method 'append' of 'list' objects}\n",
      "        1    0.000    0.000    0.000    0.000 {method 'disable' of '_lsprof.Profiler' objects}\n",
      "       51    0.341    0.007    0.341    0.007 {method 'execute' of 'sqlite3.Cursor' objects}\n",
      "       51    0.000    0.000    0.000    0.000 {method 'fetchall' of 'sqlite3.Cursor' objects}\n",
      "\n",
      "\n"
     ]
    }
   ],
   "source": [
    "import cProfile\n",
    "import sqlite3\n",
    "\n",
    "teams = [row[0] for row in cur.execute(query).fetchall()]\n",
    "query = \"SELECT SUM(HR) FROM Batting WHERE teamId=?\"\n",
    "def calculate_runs(teams):\n",
    "    home_runs = []\n",
    "    for team in teams:\n",
    "        runs = cur.execute(query, [team]).fetchall()\n",
    "        runs = runs[0][0]\n",
    "        home_runs.append(runs)\n",
    "    return home_runs\n",
    "\n",
    "profile_string = \"home_runs = calculate_runs(teams)\"\n",
    "cProfile.run(profile_string)"
   ]
  },
  {
   "cell_type": "code",
   "execution_count": 40,
   "metadata": {},
   "outputs": [
    {
     "name": "stdout",
     "output_type": "stream",
     "text": [
      "         157 function calls in 0.055 seconds\n",
      "\n",
      "   Ordered by: standard name\n",
      "\n",
      "   ncalls  tottime  percall  cumtime  percall filename:lineno(function)\n",
      "        1    0.000    0.000    0.055    0.055 <ipython-input-40-4b79ac3a6385>:11(calculate_runs)\n",
      "        1    0.000    0.000    0.055    0.055 <string>:1(<module>)\n",
      "        1    0.000    0.000    0.055    0.055 {built-in method builtins.exec}\n",
      "       51    0.000    0.000    0.000    0.000 {method 'append' of 'list' objects}\n",
      "        1    0.000    0.000    0.000    0.000 {method 'disable' of '_lsprof.Profiler' objects}\n",
      "       51    0.055    0.001    0.055    0.001 {method 'execute' of 'sqlite3.Cursor' objects}\n",
      "       51    0.000    0.000    0.000    0.000 {method 'fetchall' of 'sqlite3.Cursor' objects}\n",
      "\n",
      "\n"
     ]
    }
   ],
   "source": [
    "import sqlite3\n",
    "\n",
    "memory = sqlite3.connect(':memory:') # create a memory database\n",
    "disk = sqlite3.connect('Raw_data\\lahman2015.sqlite')\n",
    "\n",
    "dump = \"\".join([line for line in disk.iterdump() if \"Batting\" in line])\n",
    "memory.executescript(dump)\n",
    "\n",
    "cur = memory.cursor()\n",
    "query = \"SELECT SUM(HR) FROM Batting WHERE teamId=?\"\n",
    "def calculate_runs(teams):\n",
    "    home_runs = []\n",
    "    for team in teams:\n",
    "        runs = cur.execute(query, [team]).fetchall()\n",
    "        runs = runs[0][0]\n",
    "        home_runs.append(runs)\n",
    "    return home_runs\n",
    "\n",
    "profile_string = \"home_runs = calculate_runs(teams)\"\n",
    "cProfile.run(profile_string)"
   ]
  },
  {
   "cell_type": "code",
   "execution_count": 46,
   "metadata": {},
   "outputs": [
    {
     "name": "stdout",
     "output_type": "stream",
     "text": [
      "BSN\n",
      "Started task 0\n",
      "CHNStarted task 1\n",
      "\n",
      "CN2Started task 2\n",
      "\n",
      "PT1\n",
      "Started task 3\n",
      "SL4\n",
      "Started task 4\n",
      "NY1Started task 5\n",
      "\n",
      "PHIStarted task 6\n",
      "\n",
      "BR3\n",
      "Started task 7\n",
      "PIT\n",
      "Started task 8\n",
      "BROStarted task 9\n",
      "\n",
      "CINStarted task 10\n",
      "\n",
      "SLN\n",
      "Started task 11\n",
      "BLA\n",
      "Started task 12\n",
      "BOS\n",
      "Started task 13\n",
      "CHAStarted task 14\n",
      "\n",
      "CLE\n",
      "Started task 15\n",
      "DET\n",
      "Started task 16\n",
      "MLAStarted task 17\n",
      "\n",
      "PHA\n",
      "Started task 18\n",
      "WS1\n",
      "Started task 19\n",
      "SLA\n",
      "Started task 20\n",
      "NYAStarted task 21\n",
      "\n",
      "ML1\n",
      "Started task 22\n",
      "BAL\n",
      "Started task 23\n",
      "KC1\n",
      "Started task 24\n",
      "LAN\n",
      "Started task 25\n",
      "SFN\n",
      "Started task 26\n",
      "LAA\n",
      "Started task 27\n",
      "MIN\n",
      "Started task 28\n",
      "WS2Started task 29\n",
      "\n",
      "HOU\n",
      "Started task 30\n",
      "NYN\n",
      "Started task 31\n",
      "CALStarted task 32\n",
      "\n",
      "ATL\n",
      "Started task 33\n",
      "OAKStarted task 34\n",
      "\n",
      "KCA\n",
      "Started task 35\n",
      "SE1Started task 36\n",
      "\n",
      "MON\n",
      "Started task 37\n",
      "SDNStarted task 38\n",
      "\n",
      "ML4\n",
      "Started task 39\n",
      "TEXStarted task 40\n",
      "\n",
      "SEA\n",
      "Started task 41\n",
      "TORStarted task 42\n",
      "\n",
      "COL\n",
      "Started task 43\n",
      "FLOStarted task 44\n",
      "\n",
      "ANA\n",
      "Started task 45\n",
      "TBAStarted task 46\n",
      "\n",
      "ARIStarted task 47\n",
      "\n",
      "MIL\n",
      "Started task 48\n",
      "WAS\n",
      "Started task 49\n",
      "MIAStarted task 50\n",
      "\n",
      "['BSN', 'CHN', 'CN2', 'PT1', 'SL4', 'NY1', 'PHI', 'BR3', 'PIT', 'BRO', 'CIN', 'SLN', 'BLA', 'BOS', 'CHA', 'CLE', 'DET', 'MLA', 'PHA', 'WS1', 'SLA', 'NYA', 'ML1', 'BAL', 'KC1', 'LAN', 'SFN', 'LAA', 'MIN', 'WS2', 'HOU', 'NYN', 'CAL', 'ATL', 'OAK', 'KCA', 'SE1', 'MON', 'SDN', 'ML4', 'TEX', 'SEA', 'TOR', 'COL', 'FLO', 'ANA', 'TBA', 'ARI', 'MIL', 'WAS', 'MIA']\n"
     ]
    }
   ],
   "source": [
    "import threading\n",
    "\n",
    "def task(team):\n",
    "    print(team)\n",
    "    \n",
    "for i, team in enumerate(teams):\n",
    "    thread = threading.Thread(target=task, args=(team,))\n",
    "    thread.start()\n",
    "    print(\"Started task {}\".format(i))\n",
    "print(teams)"
   ]
  },
  {
   "cell_type": "code",
   "execution_count": 48,
   "metadata": {},
   "outputs": [
    {
     "name": "stdout",
     "output_type": "stream",
     "text": [
      "Started task 0\n",
      "Started task 1\n",
      "Started task 2\n",
      "Started task 3\n",
      "Started task 4\n",
      "Started task 5\n",
      "Started task 6\n",
      "Started task 7\n",
      "Started task 8\n",
      "Started task 9\n",
      "Started task 10\n",
      "Started task 11\n",
      "Started task 12\n",
      "Started task 13\n",
      "Started task 14\n",
      "Started task 15\n",
      "Started task 16\n",
      "Started task 17\n",
      "Started task 18\n",
      "Started task 19\n",
      "Started task 20\n",
      "Started task 21\n",
      "Started task 22\n",
      "Started task 23\n",
      "Started task 24\n",
      "Started task 25\n",
      "Started task 26\n",
      "Started task 27\n",
      "Started task 28\n",
      "Started task 29\n",
      "Started task 30\n",
      "Started task 31\n",
      "Started task 32\n",
      "Started task 33\n",
      "Started task 34\n",
      "Started task 35\n",
      "Started task 36\n",
      "Started task 37\n",
      "Started task 38\n",
      "Started task 39\n",
      "Started task 40\n",
      "Started task 41\n",
      "Started task 42\n",
      "Started task 43\n",
      "Started task 44\n",
      "Started task 45\n",
      "Started task 46\n",
      "Started task 47\n",
      "Started task 48\n",
      "Started task 49\n",
      "Started task 50\n",
      "CINBLASLNBRO\n",
      "HOU\n",
      "LAA\n",
      "KC1\n",
      "\n",
      "SFN\n",
      "MIN\n",
      "\n",
      "PT1NY1\n",
      "PIT\n",
      "NYA\n",
      "PHA\n",
      "\n",
      "ML1\n",
      "SL4\n",
      "BSNMIA\n",
      "ARINYN\n",
      "CAL\n",
      "LAN\n",
      "CHNBALBR3\n",
      "\n",
      "\n",
      "SLA\n",
      "WS2\n",
      "CN2\n",
      "\n",
      "\n",
      "PHI\n",
      "MIL\n",
      "SDN\n",
      "TEX\n",
      "FLO\n",
      "CHASEABOS\n",
      "SE1\n",
      "MLA\n",
      "\n",
      "\n",
      "ANA\n",
      "COLML4KCAMON\n",
      "WAS\n",
      "\n",
      "\n",
      "\n",
      "TOR\n",
      "DET\n",
      "ATL\n",
      "WS1\n",
      "\n",
      "TBAOAKCLE\n",
      "\n",
      "\n"
     ]
    }
   ],
   "source": [
    "import threading\n",
    "import time\n",
    "\n",
    "def task(team):\n",
    "    time.sleep(3)\n",
    "    print(team)\n",
    "\n",
    "for i, team in enumerate(teams):\n",
    "    thread = threading.Thread(target=task, args=(team,))\n",
    "    thread.start()\n",
    "    print(\"Started task {}\".format(i))"
   ]
  },
  {
   "cell_type": "code",
   "execution_count": 43,
   "metadata": {},
   "outputs": [
    {
     "name": "stdout",
     "output_type": "stream",
     "text": [
      "BSN\n",
      "CHN\n",
      "CN2\n",
      "PT1\n",
      "SL4\n",
      "Finished batch 0\n",
      "NY1\n",
      "PHI\n",
      "BR3\n",
      "PIT\n",
      "BRO\n",
      "Finished batch 1\n",
      "CIN\n",
      "SLN\n",
      "BLA\n",
      "BOS\n",
      "CHA\n",
      "Finished batch 2\n",
      "CLE\n",
      "DET\n",
      "MLA\n",
      "PHA\n",
      "WS1\n",
      "Finished batch 3\n",
      "SLANYA\n",
      "\n",
      "ML1\n",
      "BAL\n",
      "KC1\n",
      "Finished batch 4\n",
      "LAN\n",
      "SFN\n",
      "LAA\n",
      "MIN\n",
      "WS2\n",
      "Finished batch 5\n",
      "HOU\n",
      "NYN\n",
      "CAL\n",
      "ATL\n",
      "OAK\n",
      "Finished batch 6\n",
      "KCA\n",
      "SE1\n",
      "MON\n",
      "SDN\n",
      "ML4\n",
      "Finished batch 7\n",
      "TEX\n",
      "SEA\n",
      "TOR\n",
      "COL\n",
      "FLO\n",
      "Finished batch 8\n",
      "ANA\n",
      "TBAARI\n",
      "\n",
      "MIL\n",
      "WAS\n",
      "Finished batch 9\n",
      "MIA\n",
      "Finished batch 10\n"
     ]
    }
   ],
   "source": [
    "import threading\n",
    "import time\n",
    "\n",
    "def task(team):\n",
    "    print(team)\n",
    "for i in range(11):\n",
    "    team_names = teams[i*5:(i+1)*5]\n",
    "    threads = []\n",
    "    for team in team_names:\n",
    "        thread = threading.Thread(target=task, args=(team,))\n",
    "        thread.start()\n",
    "        threads.append(thread)\n",
    "    for thread in threads:\n",
    "        thread.join()\n",
    "    print(\"Finished batch {}\".format(i))"
   ]
  },
  {
   "cell_type": "code",
   "execution_count": 54,
   "metadata": {},
   "outputs": [
    {
     "name": "stdout",
     "output_type": "stream",
     "text": [
      "(1,) 1\n"
     ]
    }
   ],
   "source": [
    "print((1,), (1))"
   ]
  },
  {
   "cell_type": "code",
   "execution_count": 56,
   "metadata": {},
   "outputs": [
    {
     "name": "stdout",
     "output_type": "stream",
     "text": [
      "<class 'tuple'> <class 'int'>\n"
     ]
    }
   ],
   "source": [
    "print(type((1,)), type((1)))"
   ]
  },
  {
   "cell_type": "code",
   "execution_count": 57,
   "metadata": {},
   "outputs": [],
   "source": [
    "# thread locking ensures only one thread is accessing a shared resource at the same time."
   ]
  },
  {
   "cell_type": "code",
   "execution_count": 60,
   "metadata": {},
   "outputs": [
    {
     "name": "stdout",
     "output_type": "stream",
     "text": [
      "BSN\n",
      "CHN\n",
      "CN2\n",
      "PT1\n",
      "SL4\n",
      "Finished batch 0\n",
      "NY1\n",
      "PHI\n",
      "BR3\n",
      "PIT\n",
      "BRO\n",
      "Finished batch 1\n",
      "CIN\n",
      "SLN\n",
      "BLA\n",
      "BOS\n",
      "CHA\n",
      "Finished batch 2\n",
      "CLE\n",
      "DET\n",
      "MLA\n",
      "PHA\n",
      "WS1\n",
      "Finished batch 3\n",
      "SLA\n",
      "NYA\n",
      "ML1\n",
      "BAL\n",
      "KC1\n",
      "Finished batch 4\n",
      "LAN\n",
      "SFN\n",
      "LAA\n",
      "MIN\n",
      "WS2\n",
      "Finished batch 5\n",
      "HOU\n",
      "NYN\n",
      "CAL\n",
      "ATL\n",
      "OAK\n",
      "Finished batch 6\n",
      "KCA\n",
      "SE1\n",
      "MON\n",
      "SDN\n",
      "ML4\n",
      "Finished batch 7\n",
      "TEX\n",
      "SEA\n",
      "TOR\n",
      "COL\n",
      "FLO\n",
      "Finished batch 8\n",
      "ANA\n",
      "TBA\n",
      "ARI\n",
      "MIL\n",
      "WAS\n",
      "Finished batch 9\n",
      "MIA\n",
      "Finished batch 10\n"
     ]
    }
   ],
   "source": [
    "import threading\n",
    "import time\n",
    "import sys\n",
    "\n",
    "lock = threading.Lock()\n",
    "def task(team):\n",
    "    lock.acquire()\n",
    "    print(team)\n",
    "    sys.stdout.flush()\n",
    "    lock.release()\n",
    "    \n",
    "for i in range(11):\n",
    "    team_names = teams[i*5:(i+1)*5]\n",
    "    threads = []\n",
    "    for team in team_names:\n",
    "        thread = threading.Thread(target=task, args=(team,))\n",
    "        thread.start()\n",
    "        threads.append(thread)\n",
    "    for thread in threads:\n",
    "        thread.join()\n",
    "    print(\"Finished batch {}\".format(i))\n",
    "    "
   ]
  },
  {
   "cell_type": "code",
   "execution_count": 64,
   "metadata": {},
   "outputs": [
    {
     "name": "stdout",
     "output_type": "stream",
     "text": [
      "NY1\n",
      "5777\n",
      "BSN\n",
      "3424\n",
      "BOS\n",
      "12883\n",
      "BAL\n",
      "9592\n",
      "WS1\n",
      "2786\n",
      "CIN\n",
      "12383\n",
      "PHA\n",
      "3502\n",
      "CHN\n",
      "13530\n",
      "PHI\n",
      "12503\n",
      "SLN\n",
      "11157\n",
      "CLE\n",
      "12333\n",
      "DET\n",
      "13160\n",
      "NYN\n",
      "6817\n",
      "ATL\n",
      "7535\n",
      "MIN\n",
      "7393\n",
      "BRO\n",
      "4336\n",
      "BR3\n",
      "143\n",
      "CHA\n",
      "10792\n",
      "SFN\n",
      "8348\n",
      "CN2\n",
      "267\n",
      "CAL\n",
      "3912\n",
      "BLA\n",
      "57\n",
      "OAK\n",
      "7438\n",
      "KC1\n",
      "1480\n",
      "SLA\n",
      "3014\n",
      "NYA\n",
      "15218\n",
      "LAA\n",
      "2276\n",
      "ML1\n",
      "2230\n",
      "HOU\n",
      "6536\n",
      "KCA\n",
      "5613\n",
      "SL4\n",
      "305\n",
      "MLA\n",
      "26\n",
      "LAN\n",
      "7601\n",
      "SE1\n",
      "125\n",
      "PT1\n",
      "54\n",
      "PIT\n",
      "10878\n",
      "MON\n",
      "4381\n",
      "WS2\n",
      "1387\n",
      "SDN\n",
      "5648\n",
      "ML4\n",
      "3664\n",
      "TEX\n",
      "7055\n",
      "SEA\n",
      "5976\n",
      "COL\n",
      "4120\n",
      "TOR\n",
      "6415\n",
      "FLO\n",
      "2816\n",
      "ANA\n",
      "1324\n",
      "ARI\n",
      "2987\n",
      "TBA\n",
      "2823\n",
      "MIL\n",
      "3160\n",
      "MIA\n",
      "474\n",
      "WAS\n",
      "2002\n"
     ]
    }
   ],
   "source": [
    "import cProfile\n",
    "import sqlite3\n",
    "import threading\n",
    "import sys\n",
    "\n",
    "query = \"SELECT DISTINCT teamID from Teams inner join TeamsFranchises on Teams.franchID == TeamsFranchises.franchID where TeamsFranchises.active = 'Y';\"\n",
    "conn = sqlite3.connect(\"Raw_data\\lahman2015.sqlite\", check_same_thread=False)\n",
    "cur = conn.cursor()\n",
    "teams = [row[0] for row in cur.execute(query).fetchall()]\n",
    "\n",
    "query = \"SELECT SUM(HR) FROM Batting WHERE teamId=?\"\n",
    "lock = threading.Lock()\n",
    "\n",
    "def calculate_runs(team):\n",
    "    cur = conn.cursor()\n",
    "    runs = cur.execute(query, [team]).fetchall()\n",
    "    runs = runs[0][0]\n",
    "    lock.acquire()\n",
    "    print(team)\n",
    "    print(runs)\n",
    "    sys.stdout.flush()\n",
    "    lock.release()\n",
    "    return runs\n",
    "\n",
    "threads = []\n",
    "for team in teams:\n",
    "    thread = threading.Thread(target=calculate_runs, args=(team,))\n",
    "    thread.start()\n",
    "    threads.append(thread)\n",
    "\n",
    "for thread in threads:\n",
    "    thread.join()"
   ]
  },
  {
   "cell_type": "code",
   "execution_count": 66,
   "metadata": {},
   "outputs": [
    {
     "name": "stdout",
     "output_type": "stream",
     "text": [
      "Done finding best pitchers.\n",
      "Done finding best fielders.\n",
      "Done finding best batters.\n",
      "{'batter': ['thomafr04',\n",
      "            'barbebr01',\n",
      "            'mccovwi01',\n",
      "            'durazer01',\n",
      "            'newsowa01',\n",
      "            'dickech01',\n",
      "            'greerru01',\n",
      "            'stockke01',\n",
      "            'kearnau01',\n",
      "            'boggswa01',\n",
      "            'pagemi02',\n",
      "            'krukjo01',\n",
      "            'pujolal01',\n",
      "            'santaca01',\n",
      "            'muellbi02',\n",
      "            'danieka01',\n",
      "            'murphda08',\n",
      "            'hargrmi01',\n",
      "            'furcara01',\n",
      "            'grandya01'],\n",
      " 'fielder': ['burnsge02',\n",
      "             'tayloha01',\n",
      "             'sheelea01',\n",
      "             'nealoji01',\n",
      "             'lehanmi01',\n",
      "             'newnapa01',\n",
      "             'thompja01',\n",
      "             'freemje01',\n",
      "             'huhnem01',\n",
      "             'bonurze01',\n",
      "             'daubeja01',\n",
      "             'bluelu01',\n",
      "             'tucketo01',\n",
      "             'russeri01',\n",
      "             'learyjo01',\n",
      "             'greenha01',\n",
      "             'mahanar01',\n",
      "             'millehu01',\n",
      "             'suhrgu01',\n",
      "             'dahlgba01'],\n",
      " 'pitcher': ['portehe01',\n",
      "             'gileske01',\n",
      "             'saitota01',\n",
      "             'howelke01',\n",
      "             'goodedw01',\n",
      "             'albural01',\n",
      "             'doolise01',\n",
      "             'strasst01',\n",
      "             'blackbo01',\n",
      "             'dorrbe01',\n",
      "             'gagusch01',\n",
      "             'morried01',\n",
      "             'goldsfr01',\n",
      "             'walkedi01',\n",
      "             'ramseto01',\n",
      "             'davisda01',\n",
      "             'siegrke01',\n",
      "             'weilmca01',\n",
      "             'soriajo01',\n",
      "             'veachpe01']}\n"
     ]
    }
   ],
   "source": [
    "import pprint\n",
    "best = {}\n",
    "def best_batter():\n",
    "    pass\n",
    "\n",
    "def best_pitcher():\n",
    "    pass\n",
    "\n",
    "def best_fielder():\n",
    "    pass\n",
    "best = {}\n",
    "lock = threading.Lock()\n",
    "\n",
    "def best_batter():\n",
    "    cur = conn.cursor()\n",
    "    query = \"\"\"\n",
    "    SELECT \n",
    "        ((CAST(H AS FLOAT) + BB + HBP) / (AB + BB + HBP + SF)) + ((H + \"2B\" + 2*\"3B\" + 3*HR) / AB) as OBP,  \n",
    "        playerID\n",
    "    FROM Batting\n",
    "    GROUP BY Batting.playerID\n",
    "    HAVING AB > 100\n",
    "    ORDER BY OBP desc\n",
    "    LIMIT 20;\n",
    "    \"\"\"\n",
    "    players = cur.execute(query).fetchall()\n",
    "    names = [p[1] for p in players]\n",
    "    best[\"batter\"] = names\n",
    "    lock.acquire()\n",
    "    print(\"Done finding best batters.\")\n",
    "    lock.release()\n",
    "    \n",
    "    \n",
    "def best_pitcher():\n",
    "    cur = conn.cursor()\n",
    "    query = \"\"\"\n",
    "    SELECT \n",
    "        ((13*CAST(HR AS FLOAT) + 3*BB - 2*SO) / IPOuts) + 3.2 as FIP,  \n",
    "        playerID\n",
    "    FROM Pitching\n",
    "    GROUP BY Pitching.playerID\n",
    "    HAVING IPOuts > 100\n",
    "    ORDER BY FIP asc\n",
    "    LIMIT 20;\n",
    "    \"\"\"\n",
    "    players = cur.execute(query).fetchall()\n",
    "    names = [p[1] for p in players]\n",
    "    best[\"pitcher\"] = names\n",
    "    lock.acquire()\n",
    "    print(\"Done finding best pitchers.\")\n",
    "    lock.release()\n",
    "\n",
    "def best_fielder():\n",
    "    cur = conn.cursor()\n",
    "    query = \"\"\"\n",
    "    SELECT \n",
    "        (CAST(A AS FLOAT) + PO) / G as RF,  \n",
    "        playerID\n",
    "    FROM Fielding\n",
    "    GROUP BY Fielding.playerID\n",
    "    HAVING G > 100\n",
    "    ORDER BY RF desc\n",
    "    LIMIT 20;\n",
    "    \"\"\"\n",
    "    players = cur.execute(query).fetchall()\n",
    "    names = [p[1] for p in players]\n",
    "    best[\"fielder\"] = names\n",
    "    lock.acquire()\n",
    "    print(\"Done finding best fielders.\")\n",
    "    lock.release()\n",
    "\n",
    "threads = []\n",
    "for func in [best_fielder, best_batter, best_pitcher]:\n",
    "    thread = threading.Thread(target=func)\n",
    "    thread.start()\n",
    "    threads.append(thread)\n",
    "\n",
    "for thread in threads:\n",
    "    thread.join()\n",
    "\n",
    "pprint.pprint(best)"
   ]
  },
  {
   "cell_type": "code",
   "execution_count": 246,
   "metadata": {},
   "outputs": [
    {
     "name": "stdout",
     "output_type": "stream",
     "text": [
      "myfunc started with realpython\n",
      "\n",
      "main ended\n",
      "\n",
      "myfunc ended\n"
     ]
    }
   ],
   "source": [
    "import threading\n",
    "def myfunc(name):\n",
    "    print(f'myfunc started with {name}')\n",
    "    time.sleep(10)\n",
    "    print()\n",
    "    print('myfunc ended')\n",
    "    \n",
    "t = threading.Thread(target=myfunc, args=['realpython'])\n",
    "t.start()\n",
    "print()\n",
    "print('main ended')"
   ]
  },
  {
   "cell_type": "code",
   "execution_count": 3,
   "metadata": {},
   "outputs": [
    {
     "name": "stdout",
     "output_type": "stream",
     "text": [
      "sleeping 1 second...\n",
      "Done sleeping ...\n",
      "sleeping 1 second...\n",
      "Done sleeping ...\n",
      "Finished in 2.02 second(s)\n"
     ]
    }
   ],
   "source": [
    "import time\n",
    "start = time.time()\n",
    "def do_something():\n",
    "    print('sleeping 1 second...')\n",
    "    time.sleep(1)\n",
    "    print('Done sleeping ...')\n",
    "do_something()\n",
    "do_something()\n",
    "finish = time.time()\n",
    "print(f'Finished in {round(finish-start, 2)} second(s)')"
   ]
  },
  {
   "cell_type": "code",
   "execution_count": 10,
   "metadata": {},
   "outputs": [
    {
     "name": "stdout",
     "output_type": "stream",
     "text": [
      "sleeping 1 second...\n",
      "sleeping 1 second...\n",
      "Finished in 0.02 second(s)\n",
      "Done sleeping ...Done sleeping ...\n",
      "\n"
     ]
    }
   ],
   "source": [
    "import threading\n",
    "def do_something():\n",
    "    print('sleeping 1 second...')\n",
    "    time.sleep(1)\n",
    "    print('Done sleeping ...')\n",
    "start = time.time()    \n",
    "t1= threading.Thread(target = do_something)\n",
    "t2= threading.Thread(target = do_something)\n",
    "t1.start()\n",
    "t2.start()\n",
    "finish = time.time()\n",
    "print(f'Finished in {round(finish-start, 2)} second(s)')"
   ]
  },
  {
   "cell_type": "code",
   "execution_count": 11,
   "metadata": {},
   "outputs": [
    {
     "name": "stdout",
     "output_type": "stream",
     "text": [
      "sleeping 1 second...\n",
      "sleeping 1 second...\n",
      "Done sleeping ...Done sleeping ...\n",
      "\n",
      "Finished in 1.03 second(s)\n"
     ]
    }
   ],
   "source": [
    "import threading\n",
    "def do_something():\n",
    "    print('sleeping 1 second...')\n",
    "    time.sleep(1)\n",
    "    print('Done sleeping ...')\n",
    "start = time.time()    \n",
    "t1= threading.Thread(target = do_something)\n",
    "t2= threading.Thread(target = do_something)\n",
    "t1.start()\n",
    "t2.start()\n",
    "t1.join()\n",
    "t2.join()\n",
    "finish = time.time()\n",
    "print(f'Finished in {round(finish-start, 2)} second(s)')"
   ]
  },
  {
   "cell_type": "code",
   "execution_count": 12,
   "metadata": {},
   "outputs": [
    {
     "name": "stdout",
     "output_type": "stream",
     "text": [
      "sleeping 1 second...sleeping 1 second...\n",
      "\n",
      "sleeping 1 second...\n",
      "sleeping 1 second...\n",
      "sleeping 1 second...sleeping 1 second...\n",
      "\n",
      "sleeping 1 second...sleeping 1 second...\n",
      "\n",
      "sleeping 1 second...\n",
      "sleeping 1 second...\n",
      "Done sleeping ...Done sleeping ...Done sleeping ...\n",
      "\n",
      "\n",
      "Done sleeping ...Done sleeping ...Done sleeping ...Done sleeping ...Done sleeping ...Done sleeping ...\n",
      "\n",
      "\n",
      "\n",
      "\n",
      "\n",
      "Done sleeping ...\n",
      "Finished in 1.05 second(s)\n"
     ]
    }
   ],
   "source": [
    "start = time.time()\n",
    "threads = []\n",
    "for _ in range(10):\n",
    "    t = threading.Thread(target = do_something)\n",
    "    t.start()\n",
    "    threads.append(t)\n",
    "    \n",
    "for thread in threads:\n",
    "    thread.join()\n",
    "finish = time.time()\n",
    "print(f'Finished in {round(finish-start, 2)} second(s)')    "
   ]
  },
  {
   "cell_type": "code",
   "execution_count": 13,
   "metadata": {},
   "outputs": [
    {
     "name": "stdout",
     "output_type": "stream",
     "text": [
      "sleeping 1.5 second(s)...\n",
      "sleeping 1.5 second(s)...\n",
      "sleeping 1.5 second(s)...sleeping 1.5 second(s)...\n",
      "\n",
      "sleeping 1.5 second(s)...\n",
      "sleeping 1.5 second(s)...\n",
      "sleeping 1.5 second(s)...sleeping 1.5 second(s)...\n",
      "\n",
      "sleeping 1.5 second(s)...\n",
      "sleeping 1.5 second(s)...\n",
      "Done sleeping ...Done sleeping ...Done sleeping ...\n",
      "Done sleeping ...Done sleeping ...\n",
      "Done sleeping ...\n",
      "Done sleeping ...Done sleeping ...\n",
      "\n",
      "\n",
      "\n",
      "\n",
      "Done sleeping ...Done sleeping ...\n",
      "\n",
      "Finished in 1.54 second(s)\n"
     ]
    }
   ],
   "source": [
    "def do_something(seconds):\n",
    "    print(f'sleeping {seconds} second(s)...')\n",
    "    time.sleep(seconds)\n",
    "    print('Done sleeping ...')\n",
    "start = time.time()    \n",
    "\n",
    "for _ in range(10):\n",
    "    t = threading.Thread(target = do_something, args = [1.5])\n",
    "    t.start()\n",
    "    threads.append(t)\n",
    "    \n",
    "for thread in threads:\n",
    "    thread.join()\n",
    "finish = time.time()\n",
    "print(f'Finished in {round(finish-start, 2)} second(s)')    "
   ]
  },
  {
   "cell_type": "code",
   "execution_count": 24,
   "metadata": {},
   "outputs": [
    {
     "name": "stdout",
     "output_type": "stream",
     "text": [
      "sleeping 1 second(s)...\n",
      "Done sleeping ...\n",
      "Finished in 1.03 second(s)\n"
     ]
    }
   ],
   "source": [
    "# using pool is a more efficient way to run thread\n",
    "\n",
    "def do_something(seconds):\n",
    "    print(f'sleeping {seconds} second(s)...')\n",
    "    time.sleep(seconds)\n",
    "    return 'Done sleeping ...'\n",
    "\n",
    "start = time.time()    \n",
    "\n",
    "with concurrent.futures.ThreadPoolExecutor() as executor:\n",
    "    f1 = executor.submit(do_something, 1) # execute function one at the time and returns a future object\n",
    "    print(f1.result())\n",
    "    finish = time.time()\n",
    "print(f'Finished in {round(finish-start, 2)} second(s)') "
   ]
  },
  {
   "cell_type": "code",
   "execution_count": 19,
   "metadata": {},
   "outputs": [
    {
     "name": "stdout",
     "output_type": "stream",
     "text": [
      "sleeping 1 second(s)...\n",
      "sleeping 1 second(s)...\n",
      "Done sleeping ...\n",
      "Done sleeping ...\n"
     ]
    }
   ],
   "source": [
    "with concurrent.futures.ThreadPoolExecutor() as executor:\n",
    "    f1 = executor.submit(do_something, 1) \n",
    "    f2 = executor.submit(do_something, 1)\n",
    "    print(f1.result())\n",
    "    print(f2.result())"
   ]
  },
  {
   "cell_type": "code",
   "execution_count": 21,
   "metadata": {},
   "outputs": [
    {
     "name": "stdout",
     "output_type": "stream",
     "text": [
      "sleeping 1 second(s)...\n",
      "sleeping 2 second(s)...\n",
      "sleeping 3 second(s)...sleeping 4 second(s)...\n",
      "\n",
      "sleeping 5 second(s)...\n",
      "<bound method Future.result of <Future at 0x1756fb08da0 state=finished returned str>>\n",
      "<bound method Future.result of <Future at 0x1756fb08a20 state=finished returned str>>\n",
      "<bound method Future.result of <Future at 0x1756fb08d68 state=finished returned str>>\n",
      "<bound method Future.result of <Future at 0x1756fb08c18 state=finished returned str>>\n",
      "<bound method Future.result of <Future at 0x1756fb010f0 state=finished returned str>>\n"
     ]
    }
   ],
   "source": [
    "with concurrent.futures.ThreadPoolExecutor() as executor:\n",
    "    secs = [1,2,3,4,5]\n",
    "    results = [executor.submit(do_something, sec) for sec in secs]\n",
    "    for f in concurrent.futures.as_completed(results):\n",
    "        print(f.result)"
   ]
  },
  {
   "cell_type": "code",
   "execution_count": 30,
   "metadata": {},
   "outputs": [
    {
     "name": "stdout",
     "output_type": "stream",
     "text": [
      "sleeping 5 second(s)...\n",
      "sleeping 4 second(s)...\n",
      "sleeping 3 second(s)...\n",
      "sleeping 2 second(s)...sleeping 1 second(s)...\n",
      "\n",
      "<bound method Future.result of <Future at 0x1756fb24710 state=finished returned str>>\n",
      "<bound method Future.result of <Future at 0x1756fb19ba8 state=finished returned str>>\n",
      "<bound method Future.result of <Future at 0x1756fb19908 state=finished returned str>>\n",
      "<bound method Future.result of <Future at 0x1756fb01390 state=finished returned str>>\n",
      "<bound method Future.result of <Future at 0x1756fb19198 state=finished returned str>>\n",
      "Finished in 5.01 second(s)\n"
     ]
    }
   ],
   "source": [
    "def do_something(seconds):\n",
    "    print(f'sleeping {seconds} second(s)...')\n",
    "    time.sleep(seconds)\n",
    "    return f'Done sleeping ...{seconds} second(s)'\n",
    "start = time.time()\n",
    "with concurrent.futures.ThreadPoolExecutor() as executor:\n",
    "    secs = [5,4,3,2,1]\n",
    "    results = [executor.submit(do_something, sec) for sec in secs]\n",
    "    for f in concurrent.futures.as_completed(results):\n",
    "        print(f.result)\n",
    "finish = time.time()\n",
    "print(f'Finished in {round(finish-start, 2)} second(s)') "
   ]
  },
  {
   "cell_type": "code",
   "execution_count": 99,
   "metadata": {},
   "outputs": [
    {
     "name": "stdout",
     "output_type": "stream",
     "text": [
      "sleeping (seconds} second(s)...\n",
      "sleeping (seconds} second(s)...\n",
      "sleeping (seconds} second(s)...\n",
      "sleeping (seconds} second(s)...\n",
      "sleeping (seconds} second(s)...\n",
      "Done sleeping ... 5 second(s)\n",
      "Done sleeping ... 4 second(s)\n",
      "Done sleeping ... 3 second(s)\n",
      "Done sleeping ... 2 second(s)\n",
      "Done sleeping ... 1 second(s)\n",
      "Finished in 5.01 second(s)\n"
     ]
    }
   ],
   "source": [
    "start = time.time()\n",
    "with concurrent.futures.ThreadPoolExecutor() as executor:\n",
    "    secs = [5,4,3,2,1]\n",
    "    results = executor.map(do_something, secs)\n",
    "    for result in results:\n",
    "        print(result)\n",
    "finish = time.time()\n",
    "print(f'Finished in {round(finish-start, 2)} second(s)') "
   ]
  },
  {
   "cell_type": "code",
   "execution_count": 32,
   "metadata": {},
   "outputs": [
    {
     "name": "stdout",
     "output_type": "stream",
     "text": [
      "photo-1516117172878-fd2c41f4a759.jpg was downloaded...\n",
      "photo-1564135624576-c5c88640f235.jpg was downloaded...\n",
      "photo-1507143550189-fed454f93097.jpg was downloaded...\n",
      "photo-1549692520-acc6669e2f0c.jpg was downloaded...\n",
      "photo-1516972810927-80185027ca84.jpg was downloaded...\n",
      "photo-1530122037265-a5f1f91d3b99.jpg was downloaded...\n",
      "photo-1504198453319-5ce911bafcde.jpg was downloaded...\n",
      "photo-1530224264768-7ff8c1789d79.jpg was downloaded...\n",
      "photo-1524429656589-6633a470097c.jpg was downloaded...\n",
      "photo-1550439062-609e1531270e.jpg was downloaded...\n",
      "photo-1513938709626-033611b8cc03.jpg was downloaded...\n",
      "photo-1522364723953-452d3431c267.jpg was downloaded...\n",
      "photo-1532009324734-20a7a5813719.jpg was downloaded...\n",
      "photo-1541698444083-023c97d3f4b6.jpg was downloaded...\n",
      "photo-1493976040374-85c8e12f0c0e.jpg was downloaded...\n",
      "Finished in 135.22334170341492 seconds\n"
     ]
    }
   ],
   "source": [
    "# use threading to dowload pics from unsplash\n",
    "import requests\n",
    "import time\n",
    "import concurrent.futures\n",
    "\n",
    "img_urls = [\n",
    "    'https://images.unsplash.com/photo-1516117172878-fd2c41f4a759',\n",
    "    'https://images.unsplash.com/photo-1532009324734-20a7a5813719',\n",
    "    'https://images.unsplash.com/photo-1524429656589-6633a470097c',\n",
    "    'https://images.unsplash.com/photo-1530224264768-7ff8c1789d79',\n",
    "    'https://images.unsplash.com/photo-1564135624576-c5c88640f235',\n",
    "    'https://images.unsplash.com/photo-1541698444083-023c97d3f4b6',\n",
    "    'https://images.unsplash.com/photo-1522364723953-452d3431c267',\n",
    "    'https://images.unsplash.com/photo-1513938709626-033611b8cc03',\n",
    "    'https://images.unsplash.com/photo-1507143550189-fed454f93097',\n",
    "    'https://images.unsplash.com/photo-1493976040374-85c8e12f0c0e',\n",
    "    'https://images.unsplash.com/photo-1504198453319-5ce911bafcde',\n",
    "    'https://images.unsplash.com/photo-1530122037265-a5f1f91d3b99',\n",
    "    'https://images.unsplash.com/photo-1516972810927-80185027ca84',\n",
    "    'https://images.unsplash.com/photo-1550439062-609e1531270e',\n",
    "    'https://images.unsplash.com/photo-1549692520-acc6669e2f0c'\n",
    "]\n",
    "\n",
    "t1 = time.time()\n",
    "\n",
    "def download_image(img_url):\n",
    "    img_bytes = requests.get(img_url).content\n",
    "    img_name = img_url.split('/')[3]\n",
    "    img_name = f'{img_name}.jpg'\n",
    "    with open(img_name, 'wb') as img_file:\n",
    "        img_file.write(img_bytes)\n",
    "        print(f'{img_name} was downloaded...')\n",
    "\n",
    "with concurrent.futures.ThreadPoolExecutor() as executor:\n",
    "    executor.map(download_image, img_urls)\n",
    "\n",
    "t2 = time.time()\n",
    "\n",
    "print(f'Finished in {t2-t1} seconds')"
   ]
  },
  {
   "cell_type": "markdown",
   "metadata": {},
   "source": [
    "### Overcoming The Limitations Of Threads\n",
    "https://app.dataquest.io/m/170/overcoming-the-limitations-of-threads"
   ]
  },
  {
   "cell_type": "code",
   "execution_count": 47,
   "metadata": {},
   "outputs": [
    {
     "name": "stdout",
     "output_type": "stream",
     "text": [
      "finished sleeping 0.015621185302734375 second(s)\n"
     ]
    }
   ],
   "source": [
    "import multiprocessing\n",
    "import time\n",
    "start = time.time()\n",
    "\n",
    "def do_something():\n",
    "    print('sleeping 1 second...')\n",
    "    time.sleep(1)\n",
    "    print('Done sleeping ...')\n",
    "\n",
    "p1 = multiprocessing.Process(target=do_something)\n",
    "p2 = multiprocessing.Process(target=do_something)\n",
    "\n",
    "p1.start()\n",
    "p2.start()\n",
    "\n",
    "finish = time.time()\n",
    "print(f'finished sleeping {finish-start} second(s)')"
   ]
  },
  {
   "cell_type": "code",
   "execution_count": 46,
   "metadata": {},
   "outputs": [
    {
     "name": "stdout",
     "output_type": "stream",
     "text": [
      "finished sleeping 0.13149189949035645 second(s)\n"
     ]
    }
   ],
   "source": [
    "start = time.time()\n",
    "\n",
    "p1 = multiprocessing.Process(target=do_something)\n",
    "p2 = multiprocessing.Process(target=do_something)\n",
    "\n",
    "p1.start()\n",
    "p2.start()\n",
    "p1.join()\n",
    "p2.join()\n",
    "\n",
    "finish = time.time()\n",
    "print(f'finished sleeping {finish-start} second(s)')"
   ]
  },
  {
   "cell_type": "code",
   "execution_count": 48,
   "metadata": {},
   "outputs": [
    {
     "name": "stdout",
     "output_type": "stream",
     "text": [
      "finished sleeping 0.554847240447998 second(s)\n"
     ]
    }
   ],
   "source": [
    "start = time.time()\n",
    "\n",
    "processes = []\n",
    "for _ in range(10):\n",
    "    p = multiprocessing.Process(target=do_something)\n",
    "    p.start()\n",
    "    processes.append(p)\n",
    "    \n",
    "for process in processes:\n",
    "    process.join()\n",
    "    \n",
    "finish = time.time()\n",
    "print(f'finished sleeping {finish-start} second(s)')"
   ]
  },
  {
   "cell_type": "code",
   "execution_count": 52,
   "metadata": {},
   "outputs": [
    {
     "name": "stdout",
     "output_type": "stream",
     "text": [
      "finished sleeping 0.3851032257080078 second(s)\n"
     ]
    }
   ],
   "source": [
    "start = time.time()\n",
    "def do_something(seconds):\n",
    "    print('sleeping (seconds} second(s)...')\n",
    "    time.sleep(seconds)\n",
    "    print('Done sleeping ...')\n",
    "    \n",
    "processes = []\n",
    "for _ in range(10):\n",
    "    p = multiprocessing.Process(target=do_something, args=[1.5])\n",
    "    p.start()\n",
    "    processes.append(p)\n",
    "\n",
    "for process in processes:\n",
    "    process.join()\n",
    "    \n",
    "finish = time.time()\n",
    "print(f'finished sleeping {finish-start} second(s)')"
   ]
  },
  {
   "cell_type": "code",
   "execution_count": 77,
   "metadata": {},
   "outputs": [
    {
     "name": "stdout",
     "output_type": "stream",
     "text": [
      "finished sleeping 0.21853184700012207 second(s)\n"
     ]
    }
   ],
   "source": [
    "import concurrent.futures\n",
    "start = time.time()\n",
    "def do_something(seconds):\n",
    "    print('sleeping (seconds} second(s)...')\n",
    "    time.sleep(seconds)\n",
    "    print('Done sleeping ...')\n",
    "    \n",
    "with concurrent.futures.ProcessPoolExecutor() as executor:\n",
    "    executor.submit(do_something, 1)\n",
    "    \n",
    "finish = time.time()\n",
    "print(f'finished sleeping {finish-start} second(s)')"
   ]
  },
  {
   "cell_type": "code",
   "execution_count": 84,
   "metadata": {},
   "outputs": [
    {
     "name": "stdout",
     "output_type": "stream",
     "text": [
      "<bound method Future.result of <Future at 0x1756fb01b38 state=finished raised BrokenProcessPool>>\n",
      "<bound method Future.result of <Future at 0x175775f17f0 state=finished raised BrokenProcessPool>>\n",
      "<bound method Future.result of <Future at 0x175775f1f60 state=finished raised BrokenProcessPool>>\n",
      "<bound method Future.result of <Future at 0x175775f1ba8 state=finished raised BrokenProcessPool>>\n",
      "<bound method Future.result of <Future at 0x175775f12b0 state=finished raised BrokenProcessPool>>\n",
      "<bound method Future.result of <Future at 0x17577615e48 state=finished raised BrokenProcessPool>>\n",
      "<bound method Future.result of <Future at 0x17577615cc0 state=finished raised BrokenProcessPool>>\n",
      "<bound method Future.result of <Future at 0x17577615470 state=finished raised BrokenProcessPool>>\n",
      "<bound method Future.result of <Future at 0x17577615278 state=finished raised BrokenProcessPool>>\n",
      "<bound method Future.result of <Future at 0x17577615b70 state=finished raised BrokenProcessPool>>\n",
      "finished sleeping 0.28240084648132324 second(s)\n"
     ]
    }
   ],
   "source": [
    "start = time.time()\n",
    "def do_something(seconds):\n",
    "    print('sleeping (seconds} second(s)...')\n",
    "    time.sleep(seconds)\n",
    "    return 'Done sleeping ...'\n",
    "    \n",
    "with concurrent.futures.ProcessPoolExecutor() as executor:\n",
    "    results = [executor.submit(do_something, 1) for _ in range(10)]\n",
    "    \n",
    "    for f in concurrent.futures.as_completed(results):\n",
    "        print(f.result)\n",
    "        \n",
    "finish = time.time()\n",
    "print(f'finished sleeping {finish-start} second(s)')"
   ]
  },
  {
   "cell_type": "code",
   "execution_count": 91,
   "metadata": {},
   "outputs": [
    {
     "name": "stdout",
     "output_type": "stream",
     "text": [
      "<bound method Future.result of <Future at 0x17577615f60 state=finished raised BrokenProcessPool>>\n",
      "<bound method Future.result of <Future at 0x175776212b0 state=finished raised BrokenProcessPool>>\n",
      "<bound method Future.result of <Future at 0x17577621668 state=finished raised BrokenProcessPool>>\n",
      "<bound method Future.result of <Future at 0x17577621748 state=finished raised BrokenProcessPool>>\n",
      "<bound method Future.result of <Future at 0x17577621860 state=finished raised BrokenProcessPool>>\n",
      "finished sleeping 0.25035595893859863 second(s)\n"
     ]
    }
   ],
   "source": [
    "start = time.time()\n",
    "def do_something(seconds):\n",
    "    print('sleeping (seconds} second(s)...')\n",
    "    time.sleep(seconds)\n",
    "    return f'Done sleeping ... {seconds} second(s)'\n",
    "    \n",
    "with concurrent.futures.ProcessPoolExecutor() as executor:\n",
    "    secs = [5,4,3,2,1]\n",
    "    results = [executor.submit(do_something, sec) for sec in secs]\n",
    "    \n",
    "    for f in concurrent.futures.as_completed(results):\n",
    "        print(f.result)\n",
    "        \n",
    "finish = time.time()\n",
    "print(f'finished sleeping {finish-start} second(s)')"
   ]
  },
  {
   "cell_type": "code",
   "execution_count": 97,
   "metadata": {},
   "outputs": [
    {
     "name": "stdout",
     "output_type": "stream",
     "text": [
      "<generator object _chain_from_iterable_of_lists at 0x000001756FA531B0>\n",
      "finished sleeping 0.25519227981567383 second(s)\n"
     ]
    }
   ],
   "source": [
    "start = time.time()\n",
    "with concurrent.futures.ProcessPoolExecutor() as executor:\n",
    "    secs = [5,4,3,2,1]\n",
    "    results = executor.map(do_something, secs)\n",
    "    print(results)\n",
    "   # for result in results:\n",
    "   #     print(result)\n",
    "finish = time.time()\n",
    "print(f'finished sleeping {finish-start} second(s)')"
   ]
  },
  {
   "cell_type": "code",
   "execution_count": 33,
   "metadata": {},
   "outputs": [
    {
     "name": "stdout",
     "output_type": "stream",
     "text": [
      "Finished in 0.33195924758911133 seconds\n"
     ]
    }
   ],
   "source": [
    "import time\n",
    "import concurrent.futures\n",
    "from PIL import Image, ImageFilter\n",
    "\n",
    "img_names = [\n",
    "    'photo-1516117172878-fd2c41f4a759.jpg',\n",
    "    'photo-1532009324734-20a7a5813719.jpg',\n",
    "    'photo-1524429656589-6633a470097c.jpg',\n",
    "    'photo-1530224264768-7ff8c1789d79.jpg',\n",
    "    'photo-1564135624576-c5c88640f235.jpg',\n",
    "    'photo-1541698444083-023c97d3f4b6.jpg',\n",
    "    'photo-1522364723953-452d3431c267.jpg',\n",
    "    'photo-1513938709626-033611b8cc03.jpg',\n",
    "    'photo-1507143550189-fed454f93097.jpg',\n",
    "    'photo-1493976040374-85c8e12f0c0e.jpg',\n",
    "    'photo-1504198453319-5ce911bafcde.jpg',\n",
    "    'photo-1530122037265-a5f1f91d3b99.jpg',\n",
    "    'photo-1516972810927-80185027ca84.jpg',\n",
    "    'photo-1550439062-609e1531270e.jpg',\n",
    "    'photo-1549692520-acc6669e2f0c.jpg'\n",
    "]\n",
    "\n",
    "t1 = time.time()\n",
    "\n",
    "size = (1200, 1200)\n",
    "\n",
    "def process_image(img_name):\n",
    "    img = Image.open(img_name)\n",
    "    img = img.filter(ImageFilter.GaussianBlur(15))\n",
    "    img.thumbnail(size)\n",
    "    img.save(f'processed/{img_name}')\n",
    "    print(f'{img_name} was processed...')\n",
    "\n",
    "with concurrent.futures.ProcessPoolExecutor() as executor:\n",
    "    executor.map(process_image, img_names)\n",
    "\n",
    "t2 = time.time()\n",
    "\n",
    "print(f'Finished in {t2-t1} seconds')"
   ]
  },
  {
   "cell_type": "code",
   "execution_count": 67,
   "metadata": {},
   "outputs": [
    {
     "name": "stdout",
     "output_type": "stream",
     "text": [
      "0.0\n",
      "0.0\n"
     ]
    }
   ],
   "source": [
    "import threading\n",
    "import time\n",
    "import statistics\n",
    "def read_data():\n",
    "    with open(\"Raw_data\\Emails.csv\") as f:\n",
    "        data = f.read()\n",
    "        \n",
    "times = []\n",
    "for i in range(100):\n",
    "    start = time.time()\n",
    "    read_data()\n",
    "    end = time.time()\n",
    "    times.append(end - start)\n",
    "\n",
    "threaded_times = []\n",
    "for i in range(100):\n",
    "    start = time.time()\n",
    "\n",
    "    t1 = threading.Thread(target=read_data)\n",
    "    t2 = threading.Thread(target=read_data)\n",
    "    t1.start()\n",
    "    t2.start()\n",
    "\n",
    "    for thread in [t1, t2]:\n",
    "        thread.join()\n",
    "\n",
    "    end = time.time()\n",
    "    threaded_times.append(end - start)\n",
    "\n",
    "print(statistics.median(times))\n",
    "print(statistics.median(threaded_times))"
   ]
  },
  {
   "cell_type": "code",
   "execution_count": null,
   "metadata": {},
   "outputs": [],
   "source": [
    "CPython is widely used because it gets updates the fastest, and is the \"official\" interpreter. Others include,\n",
    "    Jython -- A Python interpreter that runs in the JVM.\n",
    "    PyPy -- a faster Python interpreter.\n",
    "    IronPython -- Python running on the .NET framework.\n",
    "GIL = Global Interpreter Lock"
   ]
  },
  {
   "cell_type": "code",
   "execution_count": 74,
   "metadata": {},
   "outputs": [
    {
     "name": "stdout",
     "output_type": "stream",
     "text": [
      "1.0621953010559082\n"
     ]
    }
   ],
   "source": [
    "import pandas as pd\n",
    "import time\n",
    "\n",
    "emails = pd.read_csv(\"Raw_data\\Emails.csv\")\n",
    "capital_letters = []\n",
    "start = time.time()\n",
    "for email in emails[\"RawText\"]:\n",
    "    capital_letters.append(len([letter for letter in email if letter.isupper()]))\n",
    "total = time.time() - start\n",
    "\n",
    "print(total)"
   ]
  },
  {
   "cell_type": "code",
   "execution_count": 75,
   "metadata": {},
   "outputs": [
    {
     "name": "stdout",
     "output_type": "stream",
     "text": [
      "1.171595573425293\n"
     ]
    }
   ],
   "source": [
    "import threading\n",
    "\n",
    "capital_letters1 = []\n",
    "capital_letters2 = []\n",
    "start = time.time()\n",
    "def count_capital_letters(email):\n",
    "    return len([letter for letter in email if letter.isupper()])\n",
    "\n",
    "def count_capitals_in_emails(start, finish, capital_letters):\n",
    "    for email in emails[\"RawText\"][start:finish]:\n",
    "        capital_letters.append(count_capital_letters(email))\n",
    "\n",
    "t1 = threading.Thread(target=count_capitals_in_emails, args=(0, 3972, capital_letters1))\n",
    "t2 = threading.Thread(target=count_capitals_in_emails, args=(3972, 7946, capital_letters2))\n",
    "t1.start()\n",
    "t2.start()\n",
    "\n",
    "for thread in [t1, t2]:\n",
    "    thread.join()\n",
    "    \n",
    "total = time.time() - start\n",
    "\n",
    "print(total)"
   ]
  },
  {
   "cell_type": "code",
   "execution_count": 77,
   "metadata": {},
   "outputs": [
    {
     "name": "stdout",
     "output_type": "stream",
     "text": [
      "0.1249692440032959\n"
     ]
    }
   ],
   "source": [
    "import threading\n",
    "import multiprocessing\n",
    "\n",
    "capital_letters1 = []\n",
    "capital_letters2 = []\n",
    "\n",
    "start = time.time()\n",
    "def count_capital_letters(email):\n",
    "    return len([letter for letter in email if letter.isupper()])\n",
    "\n",
    "def count_capitals_in_emails(start, finish, capital_letters):\n",
    "    for email in emails[\"RawText\"][start:finish]:\n",
    "        capital_letters.append(count_capital_letters(email))\n",
    "\n",
    "p1 = multiprocessing.Process(target=count_capitals_in_emails, args=(0, 3972, capital_letters1))\n",
    "p2 = multiprocessing.Process(target=count_capitals_in_emails, args=(3972, 7946, capital_letters2))\n",
    "p1.start()\n",
    "p2.start()\n",
    "\n",
    "for p in [p1, p2]:\n",
    "    p.join()\n",
    "    \n",
    "total = time.time() - start\n",
    "\n",
    "print(total)"
   ]
  },
  {
   "cell_type": "code",
   "execution_count": 79,
   "metadata": {},
   "outputs": [
    {
     "name": "stdout",
     "output_type": "stream",
     "text": [
      "0.20307588577270508\n"
     ]
    }
   ],
   "source": [
    "import threading\n",
    "import multiprocessing\n",
    "\n",
    "capital_letters1 = []\n",
    "capital_letters2 = []\n",
    "\n",
    "start = time.time()\n",
    "def count_capital_letters(email):\n",
    "    return len([letter for letter in email if letter.isupper()])\n",
    "\n",
    "def count_capitals_in_emails(start, finish, capital_letters):\n",
    "    for email in emails[\"RawText\"][start:finish]:\n",
    "        capital_letters.append(count_capital_letters(email))\n",
    "\n",
    "p1 = multiprocessing.Process(target=count_capitals_in_emails, args=(0, 1986, capital_letters1))\n",
    "p2 = multiprocessing.Process(target=count_capitals_in_emails, args=(1986, 3972, capital_letters1))\n",
    "p3 = multiprocessing.Process(target=count_capitals_in_emails, args=(3972, 5778, capital_letters2))\n",
    "p4 = multiprocessing.Process(target=count_capitals_in_emails, args=(5778, 7946, capital_letters2))\n",
    "\n",
    "p1.start()\n",
    "p2.start()\n",
    "p3.start()\n",
    "p4.start()\n",
    "\n",
    "for p in [p1, p2, p3, p4]:\n",
    "    p.join()\n",
    "    \n",
    "total = time.time() - start\n",
    "\n",
    "print(total)"
   ]
  },
  {
   "cell_type": "code",
   "execution_count": null,
   "metadata": {},
   "outputs": [],
   "source": [
    "# the number of processes created should match the number of processor cores on the system.\n",
    "# IPC = Inter-process communication\n",
    "# Pipes works by writing to a shared file on disk, or copying the standard output from one process to the standard input of another process.\n",
    "# pipe command (|): ls -l | grep csv: list all the files in the current directory, then pass the file list into the grep command"
   ]
  },
  {
   "cell_type": "code",
   "execution_count": null,
   "metadata": {},
   "outputs": [],
   "source": [
    "import multiprocessing\n",
    "\n",
    "def echo_email(email, conn):\n",
    "    # Sends the email through the pipe to the parent process.\n",
    "    conn.send(email)\n",
    "    # Close the connection, since the process will terminate.\n",
    "    conn.close()\n",
    "\n",
    "# Creates a parent connection (which we'll use in this thread), and a child connection (which we'll pass in).\n",
    "parent_conn, child_conn = multiprocessing.Pipe()\n",
    "# Pass the child connection into the child process.\n",
    "p = multiprocessing.Process(target=echo_email, args=(email, child_conn,))\n",
    "# Start the process.\n",
    "p.start()\n",
    "# Block until we get data from the child.\n",
    "print(parent_conn.recv())\n",
    "# Wait for the process to finish.\n",
    "p.join()"
   ]
  },
  {
   "cell_type": "code",
   "execution_count": null,
   "metadata": {},
   "outputs": [
    {
     "name": "stdout",
     "output_type": "stream",
     "text": [
      "0.12497305870056152\n"
     ]
    }
   ],
   "source": [
    "import multiprocessing\n",
    "\n",
    "def count_capital_letters(email):\n",
    "    return len([letter for letter in email if letter.isupper()])\n",
    "\n",
    "def count_capitals_in_emails(start, finish):\n",
    "    for email in emails[\"RawText\"][start:finish]:\n",
    "        capital_letters.append(count_capital_letters(email))\n",
    "\n",
    "start = time.time()\n",
    "p1 = multiprocessing.Process(target=count_capitals_in_emails, args=(0, 3972))\n",
    "p2 = multiprocessing.Process(target=count_capitals_in_emails, args=(3972, 7946))\n",
    "p1.start()\n",
    "p2.start()\n",
    "\n",
    "for process in [p1, p2]:\n",
    "    process.join()\n",
    "    \n",
    "total = time.time() - start\n",
    "\n",
    "print(total)\n",
    "def count_capitals_in_emails(start, finish, conn):\n",
    "    capital_letters = []\n",
    "    for email in emails[\"RawText\"][start:finish]:\n",
    "        capital_letters.append(count_capital_letters(email))\n",
    "    conn.send(capital_letters)\n",
    "    conn.close()\n",
    "\n",
    "start = time.time()\n",
    "parent_conn1, child_conn1 = multiprocessing.Pipe()\n",
    "parent_conn2, child_conn2 = multiprocessing.Pipe()\n",
    "\n",
    "p1 = multiprocessing.Process(target=count_capitals_in_emails, args=(0, 3972, child_conn1))\n",
    "p2 = multiprocessing.Process(target=count_capitals_in_emails, args=(3972, 7946, child_conn2))\n",
    "p1.start()\n",
    "p2.start()\n",
    "\n",
    "capital_letters1 = parent_conn1.recv()\n",
    "capital_letters2 = parent_conn2.recv()\n",
    "\n",
    "for process in [p1, p2]:\n",
    "    process.join()\n",
    "    \n",
    "total = time.time() - start\n",
    "\n",
    "print(total)"
   ]
  },
  {
   "cell_type": "code",
   "execution_count": null,
   "metadata": {},
   "outputs": [],
   "source": [
    "from multiprocessing import Pool\n",
    "# Create a pool of workers.\n",
    "p = Pool(5)\n",
    "def double(x):\n",
    "    return x * 2\n",
    "p.map(double, [1,4,5])"
   ]
  },
  {
   "cell_type": "code",
   "execution_count": null,
   "metadata": {},
   "outputs": [],
   "source": [
    "from multiprocessing import Pool\n",
    "import time\n",
    "p = Pool(2)\n",
    "\n",
    "def count_capital_letters(email):\n",
    "    return len([letter for letter in email if letter.isupper()])\n",
    "\n",
    "start = time.time()\n",
    "capital_letters = p.map(count_capital_letters, emails[\"RawText\"])\n",
    "total = time.time() - start\n",
    "print(total)"
   ]
  },
  {
   "cell_type": "code",
   "execution_count": null,
   "metadata": {},
   "outputs": [],
   "source": [
    "Threads are best in situations where:\n",
    "    Task is I/O bound.\n",
    "    Need a lightweight way to spin up and create threads.\n",
    "    Want to share memory, and don't want the complexity of dealing with IPC.\n",
    "\n",
    "Processes are best in situations where:\n",
    "    Task is CPU bound.\n",
    "    Task takes long enough that it's worth the additional overhead.\n",
    "\n",
    "Both can make programs significantly faster when used correctly. resources:\n",
    "    multiprocessing documentation\n",
    "    A look at Python's internals\n",
    "    Wikipedia article on processes\n",
    "    CPython on Wikipedia"
   ]
  },
  {
   "cell_type": "code",
   "execution_count": null,
   "metadata": {},
   "outputs": [],
   "source": []
  },
  {
   "cell_type": "markdown",
   "metadata": {},
   "source": [
    "### Quickly Analyzing Data With Parallel Processing\n",
    "https://app.dataquest.io/m/171/quickly-analyzing-data-with-parallel-processing"
   ]
  },
  {
   "cell_type": "code",
   "execution_count": null,
   "metadata": {},
   "outputs": [],
   "source": [
    "with open(\"lines/theprincessbride.txt\") as f:\n",
    "    print(f.read())\n",
    "\n",
    "with open(\"lines/theroadwarrior.txt\") as f:\n",
    "    print(f.read())\n",
    "\n",
    "with open(\"lines/spiderman.txt\") as f:\n",
    "    print(f.read())"
   ]
  },
  {
   "cell_type": "code",
   "execution_count": 128,
   "metadata": {},
   "outputs": [
    {
     "data": {
      "text/plain": [
       "[5, 3, 3, 8, 2, 8, 1, 5, 4, 1]"
      ]
     },
     "execution_count": 128,
     "metadata": {},
     "output_type": "execute_result"
    }
   ],
   "source": [
    "import concurrent.futures\n",
    "def word_length(word):\n",
    "    return len(word)\n",
    "\n",
    "pool = concurrent.futures.ThreadPoolExecutor(max_workers=10)\n",
    "lengths = pool.map(word_length, [\"Hello\", \"are\", \"you\", \"thinking\", \"of\", \"becoming\", \"a\", \"polar\", \"bear\", \"?\"])\n",
    "list(lengths)"
   ]
  },
  {
   "cell_type": "code",
   "execution_count": null,
   "metadata": {},
   "outputs": [],
   "source": [
    "pool = concurrent.futures.ProcessPoolExecutor(max_workers=5)\n",
    "lengths = pool.map(word_length, [\"Hello\", \"are\", \"you\", \"thinking\", \"of\", \"becoming\", \"a\", \"polar\", \"bear\", \"?\"])\n",
    "list(lengths)"
   ]
  },
  {
   "cell_type": "code",
   "execution_count": 129,
   "metadata": {},
   "outputs": [
    {
     "name": "stdout",
     "output_type": "stream",
     "text": [
      "[1.0, 3.1622776601683795, 4.47213595499958, 7.0710678118654755]\n"
     ]
    }
   ],
   "source": [
    "import math\n",
    "numbers = [1,10,20,50]\n",
    "pool = concurrent.futures.ProcessPoolExecutor(max_workers=5)\n",
    "roots = pool.map(math.sqrt, numbers)\n",
    "print(list(roots))"
   ]
  },
  {
   "cell_type": "code",
   "execution_count": null,
   "metadata": {},
   "outputs": [],
   "source": [
    "import os\n",
    "\n",
    "def file_length(filename):\n",
    "    with open(filename) as f:\n",
    "        counter = 0\n",
    "        for line in f:\n",
    "            counter += 1\n",
    "    return counter\n",
    "\n",
    "results = []\n",
    "pool = concurrent.futures.ThreadPoolExecutor(max_workers=5)\n",
    "# execute the function across all of the files in the lines directory.\n",
    "filenames = [\"lines/{}\".format(f) for f in os.listdir(\"lines\")]\n",
    "lengths = pool.map(file_length, filenames)\n",
    "lengths = list(lengths)\n",
    "\n",
    "# Turn lengths into the dictionary movie_lengths, where the keys are filenames, values are the number of lines in the file.\n",
    "movie_lengths = {}\n",
    "for i in range(len(lengths)):\n",
    "    movie_lengths[filenames[i].replace(\"lines/\", \"\")] = lengths[i]\n",
    "# Find the key in the dictionary that corresponds to the most lines. Assign the result to most_lines\n",
    "most_lines = max(movie_lengths.keys(), key=(lambda k: movie_lengths[k]))"
   ]
  },
  {
   "cell_type": "code",
   "execution_count": null,
   "metadata": {},
   "outputs": [],
   "source": [
    "def longest_line(filename):\n",
    "    with open(filename) as f:\n",
    "        max_length = 0\n",
    "        longest_line = \"\"\n",
    "        for line in f:\n",
    "            line_length = len(line)\n",
    "            if line_length > max_length:\n",
    "                max_length = line_length\n",
    "                longest_line = line\n",
    "    return max_length, longest_line\n",
    "\n",
    "results = []\n",
    "pool = concurrent.futures.ThreadPoolExecutor(max_workers=5)\n",
    "filenames = [\"lines/{}\".format(f) for f in os.listdir(\"lines\")]\n",
    "lengths = pool.map(longest_line, filenames)\n",
    "lengths = list(lengths)\n",
    "\n",
    "line_lengths = {}\n",
    "for i in range(len(lengths)):\n",
    "    line_lengths[filenames[i].replace(\"lines/\", \"\")] = lengths[i]\n",
    "\n",
    "longest_line_movie = max(line_lengths.keys(), key=(lambda k: line_lengths[k][0]))\n",
    "longest_line = line_lengths[longest_line_movie][1]"
   ]
  },
  {
   "cell_type": "code",
   "execution_count": null,
   "metadata": {},
   "outputs": [],
   "source": [
    "import concurrent.futures\n",
    "import time\n",
    "def most_common_word(filename):\n",
    "    with open(filename) as f:\n",
    "        words = f.read().split(\" \")\n",
    "    from collections import Counter\n",
    "    count = Counter(words)\n",
    "\n",
    "    return count.most_common()[0][0]\n",
    "\n",
    "results = []\n",
    "start = time.time()\n",
    "pool = concurrent.futures.ProcessPoolExecutor(max_workers=2)\n",
    "filenames = [\"lines/{}\".format(f) for f in os.listdir(\"lines\")]\n",
    "words = pool.map(most_common_word, filenames)\n",
    "words = list(words)\n",
    "\n",
    "end = time.time()\n",
    "common_words = {}\n",
    "for i in range(len(lengths)):\n",
    "    common_words[filenames[i].replace(\"lines/\", \"\")] = words[i]\n",
    "\n",
    "print(end - start)"
   ]
  },
  {
   "cell_type": "code",
   "execution_count": null,
   "metadata": {},
   "outputs": [],
   "source": [
    "import concurrent.futures\n",
    "import os\n",
    "\n",
    "def most_common_word(filename):\n",
    "    with open(filename) as f:\n",
    "        data = f.read().lower()\n",
    "    import re\n",
    "    data = re.sub(\"\\W+\", \" \", data)\n",
    "    words = data.split(\" \")\n",
    "    words = [w for w in words if len(w) >= 5]\n",
    "    from collections import Counter\n",
    "    count = Counter(words)\n",
    "    return count.most_common()[0][0]\n",
    "\n",
    "results = []\n",
    "pool = concurrent.futures.ProcessPoolExecutor(max_workers=2)\n",
    "filenames = [\"lines/{}\".format(f) for f in os.listdir(\"lines\")]\n",
    "words = pool.map(most_common_word, filenames)\n",
    "words = list(words)\n",
    "\n",
    "common_words = {}\n",
    "for i in range(len(lengths)):\n",
    "    common_words[filenames[i].replace(\"lines/\", \"\")] = words[i]"
   ]
  },
  {
   "cell_type": "code",
   "execution_count": 6,
   "metadata": {},
   "outputs": [
    {
     "data": {
      "text/plain": [
       "'Abd techi abc'"
      ]
     },
     "execution_count": 6,
     "metadata": {},
     "output_type": "execute_result"
    }
   ],
   "source": [
    "import re\n",
    "re.sub(\"\\W+\", \" \", \"Abd techi abc\")"
   ]
  },
  {
   "cell_type": "code",
   "execution_count": null,
   "metadata": {},
   "outputs": [],
   "source": [
    "from collections import Counter\n",
    "\n",
    "def word_frequencies(filename):\n",
    "    with open(filename) as f:\n",
    "        data = f.read().lower()\n",
    "    import re\n",
    "    data = re.sub(\"\\W+\", \" \", data)\n",
    "    words = data.split(\" \")\n",
    "    words = [w for w in words if len(w) >= 5]\n",
    "    from collections import Counter\n",
    "    count = Counter(words)\n",
    "    return dict(count)\n",
    "\n",
    "results = []\n",
    "pool = concurrent.futures.ProcessPoolExecutor(max_workers=2)\n",
    "filenames = [\"lines/{}\".format(f) for f in os.listdir(\"lines\")]\n",
    "word_counts = pool.map(word_frequencies, filenames)\n",
    "word_counts = list(word_counts)\n",
    "\n",
    "total_word_counts = {}\n",
    "\n",
    "for wc in word_counts:\n",
    "    for k,v in wc.items():\n",
    "        if k not in total_word_counts:\n",
    "            total_word_counts[k] = 0\n",
    "        total_word_counts[k] += v\n",
    "\n",
    "top_200 = Counter(total_word_counts).most_common(200)"
   ]
  },
  {
   "cell_type": "markdown",
   "metadata": {},
   "source": [
    "### Processing Tasks With Stacks And Queues\n",
    "https://app.dataquest.io/m/172/processing-tasks-with-stacks-and-queues"
   ]
  },
  {
   "cell_type": "code",
   "execution_count": null,
   "metadata": {},
   "outputs": [],
   "source": [
    "# randomly generate data\n",
    "from faker import Faker\n",
    "import csv\n",
    "import random\n",
    "from datetime import datetime\n",
    "\n",
    "HEADERS = [\"name\", \"address\", \"previous_address\", \"gender\", \"ssn\", \"birthdate\", \"job\", \"phone\"]\n",
    "LINES = 2400\n",
    "ZIP_RANGE = list(range(90001, 96162, 1))\n",
    "\n",
    "def generate_line():\n",
    "    fake = Faker()\n",
    "    profile = fake.profile()\n",
    "    name = profile[\"name\"].replace(\",\", \" \")\n",
    "    address = \"{} {} CA {}\".format(fake.street_address(), fake.city(), random.choice(ZIP_RANGE))\n",
    "    previous_address = profile[\"residence\"].replace(\"\\n\", \" \").replace(\",\", \" \")\n",
    "    gender = profile[\"sex\"]\n",
    "    ssn = profile[\"ssn\"]\n",
    "    birthdate = fake.date_time_between_dates(datetime_start=datetime(1920,1,1), datetime_end=datetime(1997,1,1), tzinfo=None)\n",
    "    job = profile[\"job\"].replace(\",\", \"\")\n",
    "    phone = fake.phone_number()\n",
    "    \n",
    "    return [name, address, previous_address, gender, ssn, birthdate, job, phone]\n",
    "    \n",
    "if __name__ == \"__main__\":\n",
    "    all_lines = [HEADERS]\n",
    "    for i in range(LINES):\n",
    "        line = generate_line()\n",
    "        all_lines.append(line)\n",
    "    \n",
    "    with open('applications.csv', 'w') as f:\n",
    "        writer = csv.writer(f)\n",
    "        writer.writerows(all_lines)"
   ]
  },
  {
   "cell_type": "code",
   "execution_count": 55,
   "metadata": {},
   "outputs": [
    {
     "data": {
      "text/html": [
       "<div>\n",
       "<style scoped>\n",
       "    .dataframe tbody tr th:only-of-type {\n",
       "        vertical-align: middle;\n",
       "    }\n",
       "\n",
       "    .dataframe tbody tr th {\n",
       "        vertical-align: top;\n",
       "    }\n",
       "\n",
       "    .dataframe thead th {\n",
       "        text-align: right;\n",
       "    }\n",
       "</style>\n",
       "<table border=\"1\" class=\"dataframe\">\n",
       "  <thead>\n",
       "    <tr style=\"text-align: right;\">\n",
       "      <th></th>\n",
       "      <th>name</th>\n",
       "      <th>address</th>\n",
       "      <th>previous_address</th>\n",
       "      <th>gender</th>\n",
       "      <th>ssn</th>\n",
       "      <th>birthdate</th>\n",
       "      <th>job</th>\n",
       "      <th>phone</th>\n",
       "    </tr>\n",
       "  </thead>\n",
       "  <tbody>\n",
       "    <tr>\n",
       "      <th>0</th>\n",
       "      <td>Johnny Baker</td>\n",
       "      <td>1998 Cook Street Friedmanfurt CA 95687</td>\n",
       "      <td>158 Mccoy Key Port Maurice  WY 72503-8242</td>\n",
       "      <td>M</td>\n",
       "      <td>548-22-4499</td>\n",
       "      <td>1924-12-29 11:06:29</td>\n",
       "      <td>Magazine journalist</td>\n",
       "      <td>1-410-888-3602</td>\n",
       "    </tr>\n",
       "    <tr>\n",
       "      <th>1</th>\n",
       "      <td>Shirley Nelson</td>\n",
       "      <td>06031 Donna Fields East Vanessa CA 94770</td>\n",
       "      <td>885 Adams Rapids Victorburgh  ME 42614-9327</td>\n",
       "      <td>F</td>\n",
       "      <td>685-92-4500</td>\n",
       "      <td>1988-03-29 06:32:25</td>\n",
       "      <td>Adult nurse</td>\n",
       "      <td>1-254-662-2625</td>\n",
       "    </tr>\n",
       "  </tbody>\n",
       "</table>\n",
       "</div>"
      ],
      "text/plain": [
       "             name                                   address  \\\n",
       "0    Johnny Baker    1998 Cook Street Friedmanfurt CA 95687   \n",
       "1  Shirley Nelson  06031 Donna Fields East Vanessa CA 94770   \n",
       "\n",
       "                              previous_address gender          ssn  \\\n",
       "0    158 Mccoy Key Port Maurice  WY 72503-8242      M  548-22-4499   \n",
       "1  885 Adams Rapids Victorburgh  ME 42614-9327      F  685-92-4500   \n",
       "\n",
       "             birthdate                  job           phone  \n",
       "0  1924-12-29 11:06:29  Magazine journalist  1-410-888-3602  \n",
       "1  1988-03-29 06:32:25          Adult nurse  1-254-662-2625  "
      ]
     },
     "execution_count": 55,
     "metadata": {},
     "output_type": "execute_result"
    }
   ],
   "source": [
    "import pandas as pd\n",
    "applications = pd.read_csv('applications.csv')\n",
    "applications.head(2)"
   ]
  },
  {
   "cell_type": "code",
   "execution_count": 56,
   "metadata": {},
   "outputs": [],
   "source": [
    "applications['birthdate'] = pd.to_datetime(applications['birthdate'])\n",
    "applications['state'] = applications['address'].str.split(' ').str[-2]"
   ]
  },
  {
   "cell_type": "code",
   "execution_count": 57,
   "metadata": {},
   "outputs": [
    {
     "name": "stdout",
     "output_type": "stream",
     "text": [
      "2400\n",
      "{True}\n"
     ]
    }
   ],
   "source": [
    "# Verify that users are at least 18 years old  live in CA\n",
    "import datetime\n",
    "\n",
    "def process_app(row):\n",
    "    age = (datetime.datetime.today() - applications.loc[row, 'birthdate']).days//365.2425\n",
    "    state  = applications.loc[row, 'state']\n",
    "    if age >= 18 and state == 'CA':\n",
    "        return True\n",
    "    return False\n",
    "application_status = map(process_app, [i for i in range(applications.shape[0])])\n",
    "application_status = list(application_status)\n",
    "print(len(application_status))\n",
    "print(set(application_status))"
   ]
  },
  {
   "cell_type": "code",
   "execution_count": 58,
   "metadata": {},
   "outputs": [
    {
     "name": "stdout",
     "output_type": "stream",
     "text": [
      "dict_keys([True])\n",
      "dict_values([2400])\n"
     ]
    }
   ],
   "source": [
    "from collections import Counter\n",
    "print(Counter(application_status).keys())\n",
    "print(Counter(application_status).values())"
   ]
  },
  {
   "cell_type": "code",
   "execution_count": 59,
   "metadata": {},
   "outputs": [
    {
     "name": "stdout",
     "output_type": "stream",
     "text": [
      "Counter({'b': 3, 'a': 2, 'c': 1})\n",
      "Counter({'b': 3, 'a': 2, 'c': 1})\n",
      "Counter({'b': 3, 'a': 2, 'c': 1})\n"
     ]
    }
   ],
   "source": [
    "print(Counter(['a', 'b', 'c', 'a', 'b', 'b']))\n",
    "print(Counter({'a':2, 'b':3, 'c':1}))\n",
    "print(Counter(a=2, b=3, c=1))"
   ]
  },
  {
   "cell_type": "code",
   "execution_count": 60,
   "metadata": {},
   "outputs": [
    {
     "data": {
      "text/plain": [
       "dict_keys(['a', 'b', 'c'])"
      ]
     },
     "execution_count": 60,
     "metadata": {},
     "output_type": "execute_result"
    }
   ],
   "source": [
    "Counter(['a', 'b', 'c', 'a', 'b', 'b']).keys()"
   ]
  },
  {
   "cell_type": "code",
   "execution_count": 61,
   "metadata": {},
   "outputs": [
    {
     "name": "stdout",
     "output_type": "stream",
     "text": [
      "dict_keys([True])\n",
      "dict_values([2400])\n"
     ]
    }
   ],
   "source": [
    "# method 2 to check for age and state\n",
    "import pandas\n",
    "applications = pandas.read_csv(\"applications.csv\")\n",
    "from datetime import datetime\n",
    "\n",
    "def process_application(application):\n",
    "    birth_date = datetime.strptime(application[\"birthdate\"], \"%Y-%m-%d %H:%M:%S\")\n",
    "    delta = (datetime.now() - birth_date).total_seconds()\n",
    "    delta /= (3600 * 24 * 365.25)\n",
    "    if delta < 18:\n",
    "        return False\n",
    "    state = application[\"address\"].split(\" \")[-2]\n",
    "    if state != \"CA\":\n",
    "        return False\n",
    "    return True\n",
    "\n",
    "application_status = list(applications.apply(process_application, axis=1))\n",
    "print(Counter(application_status).keys())\n",
    "print(Counter(application_status).values())"
   ]
  },
  {
   "cell_type": "code",
   "execution_count": 84,
   "metadata": {},
   "outputs": [
    {
     "name": "stdout",
     "output_type": "stream",
     "text": [
      "average_wait_time is 69016.25\n"
     ]
    }
   ],
   "source": [
    "# adding rows from applications to stack, latest added on top. \n",
    "# process latest added application first.  \"last-in-first-out\" queue.\n",
    "import threading\n",
    "import math\n",
    "import time\n",
    "\n",
    "wait_times = []\n",
    "stack = []\n",
    "task_numbers = []\n",
    "\n",
    "def add_tasks():\n",
    "    for index, row in applications.iterrows():\n",
    "        stack.insert(0,(index + 1, row)) # insert(index, element): always insert new raw at index 0\n",
    "        task_numbers.append(index + 1) # early items has higher task_numbers \n",
    "        time.sleep(.001)\n",
    "\n",
    "def process_tasks():\n",
    "    tasks_finished = 0\n",
    "    while tasks_finished < 2400:\n",
    "        if len(stack) == 0: # sleep for a minute if stack is empty\n",
    "            time.sleep(1)\n",
    "        else:\n",
    "            task_number, application = stack.pop(0) # pop the row at index 0\n",
    "            resp = process_application(application) \n",
    "            tasks_finished += 1\n",
    "            if task_number == task_numbers[-1]: # if last in stack(first in), wait 10 min\n",
    "                wait_times.append(600)\n",
    "            else:\n",
    "                # assuming that 300 applications come in every hour\n",
    "                wait_times.append((24 - math.ceil(task_number / 300)) * 3600) # 1hr = 3600 sec\n",
    "                \n",
    "t1 = threading.Thread(target=add_tasks)\n",
    "t2 = threading.Thread(target=process_tasks)\n",
    "t1.start()\n",
    "t2.start()\n",
    "for t in [t1,t2]:\n",
    "    t.join()\n",
    "\n",
    "average_wait_time = sum(wait_times) / len(wait_times)\n",
    "print(f'average_wait_time is {average_wait_time}')"
   ]
  },
  {
   "cell_type": "code",
   "execution_count": 77,
   "metadata": {},
   "outputs": [
    {
     "name": "stdout",
     "output_type": "stream",
     "text": [
      "2197\n"
     ]
    }
   ],
   "source": [
    "print(len(stack))"
   ]
  },
  {
   "cell_type": "code",
   "execution_count": 81,
   "metadata": {},
   "outputs": [
    {
     "data": {
      "text/plain": [
       "(2400, name                                                     Diane Holmes\n",
       " address             1428 Wendy Heights Apt. 719 Michelleberg CA 93966\n",
       " previous_address            917 Stanton Road Mossburgh  CO 38906-1941\n",
       " gender                                                              F\n",
       " ssn                                                       334-37-2156\n",
       " birthdate                                         1982-05-29 22:41:08\n",
       " job                                             Agricultural engineer\n",
       " phone                                              (207)259-9890x8152\n",
       " Name: 2399, dtype: object)"
      ]
     },
     "execution_count": 81,
     "metadata": {},
     "output_type": "execute_result"
    }
   ],
   "source": [
    "stack[0]"
   ]
  },
  {
   "cell_type": "code",
   "execution_count": 16,
   "metadata": {},
   "outputs": [
    {
     "data": {
      "text/plain": [
       "False"
      ]
     },
     "execution_count": 16,
     "metadata": {},
     "output_type": "execute_result"
    }
   ],
   "source": [
    "t.isAlive()"
   ]
  },
  {
   "cell_type": "code",
   "execution_count": 296,
   "metadata": {},
   "outputs": [
    {
     "data": {
      "text/plain": [
       "5"
      ]
     },
     "execution_count": 296,
     "metadata": {},
     "output_type": "execute_result"
    }
   ],
   "source": [
    "threading.activeCount()"
   ]
  },
  {
   "cell_type": "code",
   "execution_count": 297,
   "metadata": {},
   "outputs": [
    {
     "data": {
      "text/plain": [
       "[<_MainThread(MainThread, started 2052)>,\n",
       " <Thread(Thread-4, started daemon 3240)>,\n",
       " <Heartbeat(Thread-5, started daemon 3268)>,\n",
       " <HistorySavingThread(IPythonHistorySavingThread, started 3448)>,\n",
       " <ParentPollerWindows(Thread-3, started daemon 3544)>]"
      ]
     },
     "execution_count": 297,
     "metadata": {},
     "output_type": "execute_result"
    }
   ],
   "source": [
    "threading.enumerate()"
   ]
  },
  {
   "cell_type": "code",
   "execution_count": 17,
   "metadata": {},
   "outputs": [
    {
     "name": "stdout",
     "output_type": "stream",
     "text": [
      "List1 is:  []\n"
     ]
    }
   ],
   "source": [
    "list1 = []\n",
    "def fun1(a):\n",
    "    time.sleep(1)\n",
    "    list1.append(a)\n",
    "thread1 = threading.Thread(target = fun1, args = (1, ))\n",
    "thread1.start()\n",
    "thread2 = threading.Thread(target = fun1, args = (6, ))\n",
    "thread2.start()\n",
    "print('List1 is: ', list1)"
   ]
  },
  {
   "cell_type": "code",
   "execution_count": 82,
   "metadata": {},
   "outputs": [
    {
     "name": "stdout",
     "output_type": "stream",
     "text": [
      "List1 is:  [6, 1]\n"
     ]
    }
   ],
   "source": [
    "list1 = []\n",
    "def fun1(a):\n",
    "    time.sleep(1)# complex calculation takes 1 seconds\n",
    "    list1.append(a)\n",
    "thread1 = threading.Thread(target = fun1, args = (1, ))\n",
    "thread1.start()\n",
    "thread2 = threading.Thread(target = fun1, args = (6, ))\n",
    "thread2.start()\n",
    "# Pause main thread using join() until all threads complete their jobs.\n",
    "thread1.join()\n",
    "thread2.join()\n",
    "print('List1 is: ', list1)"
   ]
  },
  {
   "cell_type": "code",
   "execution_count": 19,
   "metadata": {},
   "outputs": [
    {
     "data": {
      "text/plain": [
       "3"
      ]
     },
     "execution_count": 19,
     "metadata": {},
     "output_type": "execute_result"
    }
   ],
   "source": [
    "class Stack():\n",
    "    def __init__(self):\n",
    "        self.items = []\n",
    "    \n",
    "    def push(self, value):\n",
    "        self.items.insert(0, value)\n",
    "    \n",
    "    def pop(self):\n",
    "        return self.items.pop(0)\n",
    "    \n",
    "    def count(self):\n",
    "        return len(self.items)\n",
    "\n",
    "stack = Stack()\n",
    "stack.push(1)\n",
    "stack.push(2)\n",
    "stack.push(3)\n",
    "stack.pop()"
   ]
  },
  {
   "cell_type": "code",
   "execution_count": 86,
   "metadata": {},
   "outputs": [
    {
     "name": "stdout",
     "output_type": "stream",
     "text": [
      "average_wait_time is 1229.6\n"
     ]
    },
    {
     "data": {
      "text/plain": [
       "(array([296., 257., 254., 219., 251., 253., 219., 251., 238., 162.]),\n",
       " array([ 600.,  734.,  868., 1002., 1136., 1270., 1404., 1538., 1672.,\n",
       "        1806., 1940.]),\n",
       " <a list of 10 Patch objects>)"
      ]
     },
     "execution_count": 86,
     "metadata": {},
     "output_type": "execute_result"
    },
    {
     "data": {
      "image/png": "[encoded data removed]",
      "text/plain": [
       "<Figure size 432x288 with 1 Axes>"
      ]
     },
     "metadata": {
      "needs_background": "light"
     },
     "output_type": "display_data"
    }
   ],
   "source": [
    "# change wait time definition.\n",
    "import matplotlib.pyplot as plt\n",
    "%matplotlib inline\n",
    "queue_times = []\n",
    "wait_times = []\n",
    "stack = []\n",
    "\n",
    "def add_tasks():\n",
    "    for index, row in applications.iterrows():\n",
    "        stack.insert(0,(index + 1, row)) \n",
    "        queue_times.append(0) # can do queue_times = [0] * 2400 outside loop\n",
    "        time.sleep(.001)\n",
    "\n",
    "def process_tasks():\n",
    "    tasks_finished = 0\n",
    "    while tasks_finished < 2400:\n",
    "        if len(stack) == 0:\n",
    "            time.sleep(1)\n",
    "        else:\n",
    "            task_number, application = stack.pop(0)\n",
    "            resp = process_application(application)\n",
    "            tasks_finished += 1\n",
    "            # each application takes 20 seconds to process.\n",
    "            # an application is only processed after processeding applications were processed\n",
    "            wait_times.append(queue_times[task_number - 1] * 20 + 600)\n",
    "            for i in range(len(queue_times)):\n",
    "                queue_times[i] += 1\n",
    "\n",
    "t1 = threading.Thread(target=add_tasks)\n",
    "t2 = threading.Thread(target=process_tasks)\n",
    "\n",
    "t1.start()\n",
    "t2.start()\n",
    "for t in [t1,t2]:\n",
    "    t.join()\n",
    "\n",
    "average_wait_time = sum(wait_times) / 2400\n",
    "print(f'average_wait_time is {average_wait_time}')\n",
    "plt.hist(wait_times)"
   ]
  },
  {
   "cell_type": "code",
   "execution_count": 303,
   "metadata": {},
   "outputs": [
    {
     "name": "stdout",
     "output_type": "stream",
     "text": [
      "70200.0\n"
     ]
    }
   ],
   "source": [
    "# adding rows from applications to queue, first come first serve.\n",
    "# process learlier added application first.\n",
    "import threading\n",
    "import math\n",
    "import time\n",
    "\n",
    "wait_times = []\n",
    "queue = []\n",
    "\n",
    "def add_tasks():\n",
    "    for index, row in applications.iterrows():\n",
    "        queue.append((index + 1, row))\n",
    "        time.sleep(.001)\n",
    "\n",
    "def process_tasks():\n",
    "    tasks_finished = 0\n",
    "    while tasks_finished < 2400:\n",
    "        if len(queue) == 0:\n",
    "            time.sleep(1)\n",
    "        else:\n",
    "            task_number, application = queue.pop(0)\n",
    "            resp = process_application(application)\n",
    "            tasks_finished += 1\n",
    "            wait_times.append((24 - math.ceil(task_number / 300)) * 3600)\n",
    "                \n",
    "t1 = threading.Thread(target=add_tasks)\n",
    "t2 = threading.Thread(target=process_tasks)\n",
    "\n",
    "t1.start()\n",
    "t2.start()\n",
    "for t in [t1,t2]:\n",
    "    t.join()\n",
    "\n",
    "average_wait_time = sum(wait_times) / 2400\n",
    "print(average_wait_time)"
   ]
  },
  {
   "cell_type": "code",
   "execution_count": 304,
   "metadata": {},
   "outputs": [
    {
     "data": {
      "text/plain": [
       "1"
      ]
     },
     "execution_count": 304,
     "metadata": {},
     "output_type": "execute_result"
    }
   ],
   "source": [
    "class Queue():\n",
    "    def __init__(self):\n",
    "        self.items = []\n",
    "    \n",
    "    def push(self, value):\n",
    "        self.items.append(value)\n",
    "    \n",
    "    def pop(self):\n",
    "        return self.items.pop(0)\n",
    "    \n",
    "    def count(self):\n",
    "        return len(self.items)\n",
    "\n",
    "queue = Queue()\n",
    "queue.push(1)\n",
    "queue.push(2)\n",
    "queue.push(3)\n",
    "queue.pop()"
   ]
  },
  {
   "cell_type": "code",
   "execution_count": 305,
   "metadata": {},
   "outputs": [
    {
     "name": "stdout",
     "output_type": "stream",
     "text": [
      "1789.2083333333333\n"
     ]
    },
    {
     "data": {
      "text/plain": [
       "(array([  10.,    6.,    6.,    6.,    6.,    6.,    6.,    6.,    6.,\n",
       "        2342.]),\n",
       " array([ 600.,  722.,  844.,  966., 1088., 1210., 1332., 1454., 1576.,\n",
       "        1698., 1820.]),\n",
       " <a list of 10 Patch objects>)"
      ]
     },
     "execution_count": 305,
     "metadata": {},
     "output_type": "execute_result"
    },
    {
     "data": {
      "image/png": "[encoded data removed]",
      "text/plain": [
       "<Figure size 432x288 with 1 Axes>"
      ]
     },
     "metadata": {
      "needs_background": "light"
     },
     "output_type": "display_data"
    }
   ],
   "source": [
    "queue_times = []\n",
    "wait_times = []\n",
    "queue = []\n",
    "\n",
    "def add_tasks():\n",
    "    for index, row in applications.iterrows():\n",
    "        queue.append((index + 1, row))\n",
    "        queue_times.append(0)\n",
    "        time.sleep(.001)\n",
    "\n",
    "def process_tasks():\n",
    "    tasks_finished = 0\n",
    "    while tasks_finished < 2400:\n",
    "        if len(queue) == 0:\n",
    "            time.sleep(1)\n",
    "        else:\n",
    "            task_number, application = queue.pop(0)\n",
    "            resp = process_application(application)\n",
    "            tasks_finished += 1\n",
    "            wait_times.append(queue_times[task_number - 1] * 20 + 600)\n",
    "            for i in range(len(queue_times)):\n",
    "                queue_times[i] += 1\n",
    "\n",
    "t1 = threading.Thread(target=add_tasks)\n",
    "t2 = threading.Thread(target=process_tasks)\n",
    "\n",
    "t1.start()\n",
    "t2.start()\n",
    "for t in [t1,t2]:\n",
    "    t.join()\n",
    "\n",
    "average_wait_time = sum(wait_times) / 2400\n",
    "print(average_wait_time)\n",
    "\n",
    "plt.hist(wait_times)"
   ]
  },
  {
   "cell_type": "markdown",
   "metadata": {},
   "source": [
    "The average wait time using a queue wasn't extremely different from the average wait time when using a stack. However, the histogram of the queue times did look very different.  Queues have a much lower maximum wait time than stacks used in the same scenario. \n",
    "\n",
    "    Queues are generally best when need to process all tasks at about the same pace.  Have a fairly low maximum wait time for processing tasks\n",
    "\n",
    "    Stacks are generally best when tasks are need to be processed very quickly if possible, but are okay waiting around for a while if not.  Have a fairly high maximum wait time.\n"
   ]
  },
  {
   "cell_type": "code",
   "execution_count": 21,
   "metadata": {},
   "outputs": [
    {
     "name": "stdout",
     "output_type": "stream",
     "text": [
      "2\n"
     ]
    },
    {
     "data": {
      "text/plain": [
       "<BarContainer object of 2400 artists>"
      ]
     },
     "execution_count": 21,
     "metadata": {},
     "output_type": "execute_result"
    },
    {
     "data": {
      "image/png": "[encoded data removed]",
      "text/plain": [
       "<Figure size 432x288 with 1 Axes>"
      ]
     },
     "metadata": {
      "needs_background": "light"
     },
     "output_type": "display_data"
    }
   ],
   "source": [
    "# checking waiting time by position in the list of tasks in a stack\n",
    "queue_times = []\n",
    "wait_times = [0] * 2400\n",
    "stack = []\n",
    "\n",
    "def add_tasks():\n",
    "    for index, row in applications.iterrows():\n",
    "        stack.insert(0,(index + 1, row))\n",
    "        queue_times.append(0)\n",
    "        time.sleep(.001)\n",
    "        \n",
    "def process_tasks():\n",
    "    tasks_finished = 0\n",
    "    while tasks_finished < 2400:\n",
    "        if len(stack) == 0:\n",
    "            time.sleep(1)\n",
    "        else:\n",
    "            task_number, application = stack.pop(0)\n",
    "            resp = process_application(application)\n",
    "            tasks_finished += 1\n",
    "            # Assign the wait time to the index corresponding to (task_number-1) in wait_times\n",
    "            task_index = task_number - 1\n",
    "            wait_times[task_index] = (queue_times[task_index] * 20 + 600)\n",
    "            for i in range(len(queue_times)):\n",
    "                queue_times[i] += 1\n",
    "\n",
    "t1 = threading.Thread(target=add_tasks)\n",
    "t2 = threading.Thread(target=process_tasks)\n",
    "\n",
    "t1.start()\n",
    "t2.start()\n",
    "for t in [t1,t2]:\n",
    "    t.join()\n",
    "plt.bar(range(2400), wait_times)"
   ]
  },
  {
   "cell_type": "code",
   "execution_count": 38,
   "metadata": {},
   "outputs": [
    {
     "name": "stdout",
     "output_type": "stream",
     "text": [
      "1 2\n"
     ]
    }
   ],
   "source": [
    "ls = [(1,2),(3,4),(5,6)]\n",
    "i,v = ls.pop(0)\n",
    "print(i,v)"
   ]
  },
  {
   "cell_type": "code",
   "execution_count": 39,
   "metadata": {},
   "outputs": [
    {
     "data": {
      "text/plain": [
       "<BarContainer object of 2400 artists>"
      ]
     },
     "execution_count": 39,
     "metadata": {},
     "output_type": "execute_result"
    },
    {
     "data": {
      "image/png": "[encoded data removed]",
      "text/plain": [
       "<Figure size 432x288 with 1 Axes>"
      ]
     },
     "metadata": {
      "needs_background": "light"
     },
     "output_type": "display_data"
    }
   ],
   "source": [
    "# checking waiting time by position in the list of tasks in a queue\n",
    "queue_times = []\n",
    "wait_times = [0] * 2400\n",
    "queue = []\n",
    "\n",
    "def add_tasks():\n",
    "    for index, row in applications.iterrows():\n",
    "        queue.append((index + 1, row))\n",
    "        queue_times.append(0)\n",
    "        time.sleep(.001)\n",
    "\n",
    "def process_tasks():\n",
    "    tasks_finished = 0\n",
    "    while tasks_finished < 2400:\n",
    "        if len(queue) == 0:\n",
    "            time.sleep(1)\n",
    "        else:\n",
    "            task_number, application = queue.pop(0)\n",
    "            resp = process_application(application)\n",
    "            tasks_finished += 1\n",
    "            task_index = task_number - 1\n",
    "            wait_times[task_index] = (queue_times[task_index] * 20 + 600)\n",
    "            for i in range(len(queue_times)):\n",
    "                queue_times[i] += 1\n",
    "\n",
    "t1 = threading.Thread(target=add_tasks)\n",
    "t2 = threading.Thread(target=process_tasks)\n",
    "\n",
    "t1.start()\n",
    "t2.start()\n",
    "for t in [t1,t2]:\n",
    "    t.join()\n",
    "plt.bar(range(2400), wait_times)"
   ]
  },
  {
   "cell_type": "markdown",
   "metadata": {},
   "source": [
    "    Stacks are better for tasks where immediacy matters, but if older messages are delivered slowly, it doesn't matter. One example is a social network like Twitter.\n",
    "    Queues are better for tasks where consistency matters. An example is ordering delivery with a tool like Seamless. Seamless can't just ignore older orders, so they need to process everything with a queue to ensure fairness."
   ]
  },
  {
   "cell_type": "markdown",
   "metadata": {},
   "source": [
    "### Effectively Using Arrays And Lists\n",
    "https://app.dataquest.io/m/173/effectively-using-arrays-and-lists"
   ]
  },
  {
   "cell_type": "code",
   "execution_count": 91,
   "metadata": {},
   "outputs": [
    {
     "data": {
      "text/plain": [
       "True"
      ]
     },
     "execution_count": 91,
     "metadata": {},
     "output_type": "execute_result"
    }
   ],
   "source": [
    "numbers = list(range(100))\n",
    "binary = [bin(x).replace('ob', '') for x in numbers]\n",
    "new_numbers = [int(x, 2) for x in binary]\n",
    "new_numbers == numbers"
   ]
  },
  {
   "cell_type": "code",
   "execution_count": 92,
   "metadata": {},
   "outputs": [
    {
     "data": {
      "text/plain": [
       "True"
      ]
     },
     "execution_count": 92,
     "metadata": {},
     "output_type": "execute_result"
    }
   ],
   "source": [
    "numbers = list(range(100))\n",
    "binary = [bin(num)[2:] for num in numbers]\n",
    "new_numbers = [int(b, 2) for b in binary]\n",
    "new_numbers == numbers"
   ]
  },
  {
   "cell_type": "code",
   "execution_count": 3,
   "metadata": {},
   "outputs": [
    {
     "data": {
      "text/plain": [
       "<BarContainer object of 20 artists>"
      ]
     },
     "execution_count": 3,
     "metadata": {},
     "output_type": "execute_result"
    },
    {
     "data": {
      "image/png": "[encoded data removed]",
      "text/plain": [
       "<Figure size 432x288 with 1 Axes>"
      ]
     },
     "metadata": {
      "needs_background": "light"
     },
     "output_type": "display_data"
    }
   ],
   "source": [
    "import time\n",
    "import matplotlib.pyplot as plt\n",
    "%matplotlib inline\n",
    "\n",
    "times = {}\n",
    "iterations = 1000\n",
    "numbers = list(range(20))\n",
    "for i in range(iterations):\n",
    "    l = []\n",
    "    for i in numbers:\n",
    "        start = time.time()\n",
    "        l.append(i)\n",
    "        elapsed = time.time() - start\n",
    "        if i not in times:\n",
    "            times[i] = []\n",
    "        times[i].append(elapsed)\n",
    "\n",
    "avg_times = []\n",
    "for i in numbers:\n",
    "    avg_times.append(sum(times[i]))\n",
    "\n",
    "plt.bar(numbers, avg_times)"
   ]
  },
  {
   "cell_type": "code",
   "execution_count": 4,
   "metadata": {},
   "outputs": [
    {
     "name": "stdout",
     "output_type": "stream",
     "text": [
      "[0.0, 0.0, 0.0, 0.0, 0.0, 0.0, 0.0, 0.0, 0.0, 0.0, 0.0, 0.0, 0.0, 0.0, 0.0, 0.0, 0.0, 0.0, 0.0, 0.0]\n"
     ]
    }
   ],
   "source": [
    "print(avg_times)"
   ]
  },
  {
   "cell_type": "code",
   "execution_count": 6,
   "metadata": {},
   "outputs": [
    {
     "name": "stdout",
     "output_type": "stream",
     "text": [
      "0x1a5872e5608\n",
      "0x1a5872e5608\n",
      "['0x7ffe7c249340', '0x7ffe7c249360', '0x7ffe7c249380', '0x7ffe7c2493a0', '0x7ffe7c2493c0']\n",
      "0x1a587214148\n"
     ]
    }
   ],
   "source": [
    "sentence = \"I desperately want a 1982 Winnebago.\"\n",
    "sentence2 = sentence\n",
    "\n",
    "values = [1,2,3,4,5]\n",
    "sentence_hex = hex(id(sentence))\n",
    "sentence2_hex = hex(id(sentence2))\n",
    "\n",
    "values_elements_hex = [hex(id(elem)) for elem in values]\n",
    "values_hex = hex(id(values))\n",
    "\n",
    "print(sentence_hex)\n",
    "print(sentence2_hex)\n",
    "print(values_elements_hex)\n",
    "print(values_hex)"
   ]
  },
  {
   "cell_type": "code",
   "execution_count": 74,
   "metadata": {},
   "outputs": [],
   "source": [
    "import numpy as np\n",
    "with open(\"Raw_data\\prices.csv\", 'r') as f:\n",
    "    data = f.readlines()\n",
    "\n",
    "all_prices = [d.split(\",\")[1] for d in data][1:]\n",
    "all_prices = [float(p.strip()) for p in all_prices]"
   ]
  },
  {
   "cell_type": "code",
   "execution_count": 20,
   "metadata": {},
   "outputs": [
    {
     "data": {
      "text/plain": [
       "array([0., 0., 0., 0., 0.])"
      ]
     },
     "execution_count": 20,
     "metadata": {},
     "output_type": "execute_result"
    }
   ],
   "source": [
    "np.zeros(5, dtype=np.float64)"
   ]
  },
  {
   "cell_type": "code",
   "execution_count": 40,
   "metadata": {},
   "outputs": [
    {
     "data": {
      "text/plain": [
       "622.401069"
      ]
     },
     "execution_count": 40,
     "metadata": {},
     "output_type": "execute_result"
    }
   ],
   "source": [
    "class Array():\n",
    "    def __init__(self, size):\n",
    "        self.array = np.zeros(size, dtype=np.float64)\n",
    "        self.size = size\n",
    "    \n",
    "    def __getitem__(self, key):\n",
    "        return self.array[key]\n",
    "    \n",
    "    def __setitem__(self, key, value):\n",
    "        self.array[key] = value\n",
    "    \n",
    "    def insert(self, position, value):\n",
    "        new_array = np.zeros(self.size + 1, dtype=np.float64)\n",
    "        new_pos = 0\n",
    "        for i, item in enumerate(self.array):\n",
    "            if i == position:\n",
    "                new_array[new_pos] = value\n",
    "                new_pos += 1\n",
    "            new_array[new_pos] = item\n",
    "            new_pos += 1\n",
    "        if position == (self.size):\n",
    "            new_array[new_pos] = value\n",
    "        self.size += 1\n",
    "        self.array = new_array\n",
    "    \n",
    "    def __len__(self):\n",
    "        return self.size\n",
    "    \n",
    "    def append(self, value):\n",
    "        self.insert(self.size, value)\n",
    "        \n",
    "    def pop(self, position):\n",
    "        new_array = np.zeros(self.size-1, dtype=np.float64)\n",
    "        new_position = 0\n",
    "        for i, item in enumerate(self.array):\n",
    "            if i == position:\n",
    "                removed = item\n",
    "                continue\n",
    "            new_array[new_position] = self.array[i]\n",
    "            new_position += 1\n",
    "        self.array = new_array\n",
    "        return removed\n",
    "            \n",
    "prices = Array(0)\n",
    "for price in all_prices[:100]:\n",
    "    prices.append(price)\n",
    "prices.pop(40)"
   ]
  },
  {
   "cell_type": "code",
   "execution_count": 33,
   "metadata": {},
   "outputs": [
    {
     "data": {
      "text/plain": [
       "622.401069"
      ]
     },
     "execution_count": 33,
     "metadata": {},
     "output_type": "execute_result"
    }
   ],
   "source": [
    "all_prices[40]"
   ]
  },
  {
   "cell_type": "code",
   "execution_count": 71,
   "metadata": {},
   "outputs": [
    {
     "name": "stdout",
     "output_type": "stream",
     "text": [
      "[665.411118, 668.281154, 659.011109, 650.021102, 622.461047, 623.141078, 625.961061, 629.641069, 624.991068, 628.581079]\n"
     ]
    }
   ],
   "source": [
    "prices = Array(10)\n",
    "\n",
    "for i in range(10):\n",
    "    prices[i] = all_prices[i]\n",
    "print(list(prices))"
   ]
  },
  {
   "cell_type": "code",
   "execution_count": 72,
   "metadata": {},
   "outputs": [
    {
     "name": "stdout",
     "output_type": "stream",
     "text": [
      "[]\n"
     ]
    }
   ],
   "source": [
    "prices = Array(0)\n",
    "print(list(prices))\n",
    "\n",
    "for price in all_prices[:100]:\n",
    "    prices.append(price)\n",
    "\n",
    "prices.insert(50, 646.921081)"
   ]
  },
  {
   "cell_type": "code",
   "execution_count": 81,
   "metadata": {},
   "outputs": [],
   "source": [
    "class Node():\n",
    "    def __init__(self, value):\n",
    "        self.value = value\n",
    "        self.next_node = None\n",
    "    \n",
    "    def set_next_node(self, node):\n",
    "        self.next_node = node\n",
    "    \n",
    "    def append(self, value):\n",
    "        next_node = Node(value)\n",
    "        self.next_node = next_node\n",
    "        return next_node\n",
    "    \n",
    "    def __getitem__(self, key):\n",
    "        node = self\n",
    "        counter = 0\n",
    "        while counter < key:\n",
    "            node = node.next_node\n",
    "            counter += 1\n",
    "        return node\n",
    "\n",
    "    def insert(self, position, value):\n",
    "        if position == 0:\n",
    "            node = Node(value)\n",
    "            node.next_node = self\n",
    "            return node\n",
    "        else:\n",
    "            node = Node(value)\n",
    "            split_start = self[position - 1]\n",
    "            split_end = split_start.next_node\n",
    "            split_start.next_node = node\n",
    "            node.next_node = split_end\n",
    "            return self\n",
    "\n",
    "    def pop(self, position):\n",
    "        if position == 0:\n",
    "            return self, self.next_node\n",
    "        else:\n",
    "            split_start = self[position - 1]\n",
    "            to_remove = split_start.next_node\n",
    "            split_end = to_remove.next_node\n",
    "            split_start.next_node = split_end\n",
    "            return to_remove, self\n",
    "        "
   ]
  },
  {
   "cell_type": "code",
   "execution_count": 82,
   "metadata": {},
   "outputs": [
    {
     "name": "stdout",
     "output_type": "stream",
     "text": [
      "665.411118\n",
      "668.281154\n",
      "659.011109\n",
      "650.021102\n",
      "622.461047\n"
     ]
    }
   ],
   "source": [
    "price_1 = Node(all_prices[0])\n",
    "node = price_1\n",
    "for i in all_prices[1:5]:\n",
    "    node = node.append(i)\n",
    "\n",
    "current_node = price_1\n",
    "while current_node.next_node is not None:\n",
    "    print(current_node.value)\n",
    "    current_node = current_node.next_node\n",
    "print(current_node.value)"
   ]
  },
  {
   "cell_type": "code",
   "execution_count": 83,
   "metadata": {},
   "outputs": [
    {
     "name": "stdout",
     "output_type": "stream",
     "text": [
      "659.011109\n"
     ]
    }
   ],
   "source": [
    "price_1 = Node(all_prices[0])\n",
    "node = price_1\n",
    "for i in all_prices[1:5]:\n",
    "    node = node.append(i)\n",
    "# print the value of the 3rd element\n",
    "print(price_1[2].value)"
   ]
  },
  {
   "cell_type": "code",
   "execution_count": 84,
   "metadata": {},
   "outputs": [
    {
     "name": "stdout",
     "output_type": "stream",
     "text": [
      "623.141078\n"
     ]
    }
   ],
   "source": [
    "price_1 = Node(all_prices[0])\n",
    "node = price_1\n",
    "# append the next 4 prices from all_prices to the linked list\n",
    "for i in all_prices[1:5]:\n",
    "    node = node.append(i)\n",
    "\n",
    "# Insert the element with index 5 in all_prices into position 3 of the linked list.\n",
    "price_1 = price_1.insert(3, all_prices[5])\n",
    "# Insert the element with index 6 in all_prices into position 0 of the linked list.\n",
    "price_1 = price_1.insert(0, all_prices[6])\n",
    "# Insert the element with index 7 in all_prices into position 7 of the linked list\n",
    "price_1 = price_1.insert(7, all_prices[7])\n",
    "\n",
    "print(price_1[4].value)\n",
    "        "
   ]
  },
  {
   "cell_type": "code",
   "execution_count": 86,
   "metadata": {},
   "outputs": [
    {
     "name": "stdout",
     "output_type": "stream",
     "text": [
      "650.021102\n"
     ]
    }
   ],
   "source": [
    "price_1 = Node(all_prices[0])\n",
    "node = price_1\n",
    "for i in all_prices[1:5]:\n",
    "    node = node.append(i)\n",
    "\n",
    "removed, price_1 = price_1.pop(0)\n",
    "removed, price_1 = price_1.pop(3)\n",
    "\n",
    "print(price_1[2].value)"
   ]
  },
  {
   "cell_type": "markdown",
   "metadata": {},
   "source": [
    "### Sorting Arrays And Lists\n",
    "https://app.dataquest.io/m/174/sorting-arrays-and-lists"
   ]
  },
  {
   "cell_type": "code",
   "execution_count": 4,
   "metadata": {},
   "outputs": [],
   "source": [
    "import pandas as pd\n",
    "df = pd.read_csv('amounts.csv')\n",
    "amounts = df['Amount'].tolist()\n",
    "times = df['Time'].tolist()"
   ]
  },
  {
   "cell_type": "code",
   "execution_count": 12,
   "metadata": {},
   "outputs": [
    {
     "name": "stdout",
     "output_type": "stream",
     "text": [
      "[149.62, 2.69, 378.66, 123.5, 69.99, 3.67, 4.99, 40.8, 93.2, 3.68]\n",
      "[2.69, 149.62, 378.66, 123.5, 69.99, 3.67, 4.99, 40.8, 93.2, 3.68]\n"
     ]
    }
   ],
   "source": [
    "def swap(array, pos1, pos2):\n",
    "    temp = array[pos1]\n",
    "    array[pos1] = array[pos2]\n",
    "    array[pos2] = temp\n",
    "first_amounts = amounts[:10]\n",
    "print(first_amounts)\n",
    "swap(first_amounts, 0, 1)\n",
    "print(first_amounts)"
   ]
  },
  {
   "cell_type": "code",
   "execution_count": 14,
   "metadata": {},
   "outputs": [
    {
     "name": "stdout",
     "output_type": "stream",
     "text": [
      "[2.69, 3.67, 3.68, 4.99, 40.8, 69.99, 93.2, 123.5, 149.62, 378.66]\n"
     ]
    }
   ],
   "source": [
    "def selection_sort(array):\n",
    "    pass\n",
    "def selection_sort(array):\n",
    "    for i in range(len(array)):\n",
    "        lowest_index = i\n",
    "        for z in range(i, len(array)):\n",
    "            if array[z] < array[lowest_index]:\n",
    "                lowest_index = z\n",
    "        swap(array, lowest_index, i)\n",
    "\n",
    "first_amounts = amounts[:10]\n",
    "selection_sort(first_amounts)\n",
    "print(first_amounts)"
   ]
  },
  {
   "cell_type": "code",
   "execution_count": 16,
   "metadata": {},
   "outputs": [
    {
     "data": {
      "text/plain": [
       "[<matplotlib.lines.Line2D at 0x17f141d48d0>]"
      ]
     },
     "execution_count": 16,
     "metadata": {},
     "output_type": "execute_result"
    },
    {
     "data": {
      "image/png": "[encoded data removed]",
      "text/plain": [
       "<Figure size 432x288 with 1 Axes>"
      ]
     },
     "metadata": {
      "needs_background": "light"
     },
     "output_type": "display_data"
    }
   ],
   "source": [
    "import matplotlib.pyplot as plt\n",
    "%matplotlib inline\n",
    "\n",
    "def selection_sort(array):\n",
    "    counter = 0\n",
    "    for i in range(len(array)):\n",
    "        lowest_index = i\n",
    "        for z in range(i, len(array)):\n",
    "            counter += 1\n",
    "            if array[z] < array[lowest_index]:\n",
    "                lowest_index = z\n",
    "        swap(array, lowest_index, i)\n",
    "    return counter\n",
    "\n",
    "lengths = [10,100,1000,10000]\n",
    "counters = []\n",
    "for i in lengths:\n",
    "    first_amounts = amounts[:i]\n",
    "    counter = selection_sort(first_amounts)\n",
    "    counters.append(counter)\n",
    "\n",
    "plt.plot(lengths, counters)"
   ]
  },
  {
   "cell_type": "code",
   "execution_count": 20,
   "metadata": {},
   "outputs": [
    {
     "name": "stdout",
     "output_type": "stream",
     "text": [
      "[149.62, 2.69, 378.66, 123.5, 69.99, 3.67, 4.99, 40.8, 93.2, 3.68]\n",
      "[2.69, 3.67, 3.68, 4.99, 40.8, 69.99, 93.2, 123.5, 149.62, 378.66]\n"
     ]
    }
   ],
   "source": [
    "def bubble_sort(array):\n",
    "    swaps = 1\n",
    "    while swaps > 0:\n",
    "        swaps = 0\n",
    "        for i in range(len(array) - 1):\n",
    "            if array[i] > array[i+1]:\n",
    "                swap(array, i, i+1)\n",
    "                swaps += 1\n",
    "\n",
    "first_amounts = amounts[:10]\n",
    "bubble_sort(first_amounts)\n",
    "print(amounts[:10])\n",
    "print(first_amounts)"
   ]
  },
  {
   "cell_type": "code",
   "execution_count": 21,
   "metadata": {},
   "outputs": [
    {
     "data": {
      "text/plain": [
       "[<matplotlib.lines.Line2D at 0x17f142670f0>]"
      ]
     },
     "execution_count": 21,
     "metadata": {},
     "output_type": "execute_result"
    },
    {
     "data": {
      "image/png": "[encoded data removed]",
      "text/plain": [
       "<Figure size 432x288 with 1 Axes>"
      ]
     },
     "metadata": {
      "needs_background": "light"
     },
     "output_type": "display_data"
    }
   ],
   "source": [
    "# profile the bubble sort \n",
    "import matplotlib.pyplot as plt\n",
    "\n",
    "def bubble_sort(array):\n",
    "    counter = 0\n",
    "    swaps = 1\n",
    "    while swaps > 0:\n",
    "        swaps = 0\n",
    "        for i in range(len(array) - 1):\n",
    "            counter += 1\n",
    "            if array[i] > array[i+1]:\n",
    "                swap(array, i, i+1)\n",
    "                swaps += 1\n",
    "    return counter\n",
    "\n",
    "counters = []\n",
    "lengths = [10,100,1000,10000]\n",
    "for l in lengths:\n",
    "    first_amounts = amounts[:l]\n",
    "    counter = bubble_sort(first_amounts)\n",
    "    counters.append(counter)\n",
    "plt.plot(lengths, counters)"
   ]
  },
  {
   "cell_type": "code",
   "execution_count": 23,
   "metadata": {},
   "outputs": [
    {
     "name": "stdout",
     "output_type": "stream",
     "text": [
      "[149.62, 2.69, 378.66, 123.5, 69.99, 3.67, 4.99, 40.8, 93.2, 3.68]\n",
      "[2.69, 3.67, 3.68, 4.99, 40.8, 69.99, 93.2, 123.5, 149.62, 378.66]\n"
     ]
    }
   ],
   "source": [
    "# The insertion sort works by looping through each element in the array, and \"inserting\" it into a sorted list \n",
    "# at the beginning of the array.\n",
    "def insertion_sort(array):\n",
    "    for i in range(1, len(array)):\n",
    "        j = i\n",
    "        while j > 0 and array[j - 1] > array[j]:\n",
    "            swap(array, j, j-1)\n",
    "            j-=1\n",
    "\n",
    "first_amounts = amounts[:10]\n",
    "insertion_sort(first_amounts)\n",
    "print(amounts[:10])\n",
    "print(first_amounts)"
   ]
  },
  {
   "cell_type": "code",
   "execution_count": 27,
   "metadata": {},
   "outputs": [
    {
     "data": {
      "text/plain": [
       "[<matplotlib.lines.Line2D at 0x17f14326a58>]"
      ]
     },
     "execution_count": 27,
     "metadata": {},
     "output_type": "execute_result"
    },
    {
     "data": {
      "image/png": "[encoded data removed]",
      "text/plain": [
       "<Figure size 432x288 with 1 Axes>"
      ]
     },
     "metadata": {
      "needs_background": "light"
     },
     "output_type": "display_data"
    }
   ],
   "source": [
    "# profile insertion_sort\n",
    "import matplotlib.pyplot as plt\n",
    "\n",
    "def insertion_sort(array):\n",
    "    counter = 0\n",
    "    for i in range(1, len(array)):\n",
    "        j = i\n",
    "        while j > 0 and array[j - 1] > array[j]:\n",
    "            swap(array, j, j-1)\n",
    "            counter +=1\n",
    "            j-=1\n",
    "    return counter\n",
    "counters = []\n",
    "lengths = [10,100,1000,10000]\n",
    "for l in lengths:\n",
    "    first_amounts = amounts[:l]\n",
    "    counter = insertion_sort(first_amounts)\n",
    "    counters.append(counter)\n",
    "plt.plot(lengths, counters)"
   ]
  },
  {
   "cell_type": "markdown",
   "metadata": {},
   "source": [
    "### Searching Arrays And Lists\n",
    "https://app.dataquest.io/m/175/searching-arrays-and-lists"
   ]
  },
  {
   "cell_type": "code",
   "execution_count": 30,
   "metadata": {},
   "outputs": [
    {
     "name": "stdout",
     "output_type": "stream",
     "text": [
      "4988\n"
     ]
    }
   ],
   "source": [
    "import pandas as pd\n",
    "\n",
    "data = pd.read_csv(\"amounts.csv\")\n",
    "amounts = list(data[\"Amount\"])\n",
    "times = [int(i) for i in list(data[\"Time\"])]\n",
    "first_4554 = times.index(4554)\n",
    "print(first_4554)"
   ]
  },
  {
   "cell_type": "code",
   "execution_count": 33,
   "metadata": {},
   "outputs": [
    {
     "name": "stdout",
     "output_type": "stream",
     "text": [
      "[7, 8]\n"
     ]
    }
   ],
   "source": [
    "def linear_search(array, search):\n",
    "    indexes = []\n",
    "    for idx, item in enumerate(array):\n",
    "        if item == search:\n",
    "            indexes.append(idx)\n",
    "    return indexes\n",
    "sevens = linear_search(times, 7)\n",
    "print(sevens)"
   ]
  },
  {
   "cell_type": "code",
   "execution_count": 39,
   "metadata": {},
   "outputs": [
    {
     "name": "stdout",
     "output_type": "stream",
     "text": [
      "[88]\n"
     ]
    }
   ],
   "source": [
    "def linear_multi_search(array, search):\n",
    "    indexes = []\n",
    "    for idx, item in enumerate(array):\n",
    "        if item == search:\n",
    "            indexes.append(idx)\n",
    "    return indexes\n",
    "transactions = zip(times, amounts)\n",
    "results = linear_multi_search(transactions, (56, 10.84))\n",
    "print(results)"
   ]
  },
  {
   "cell_type": "code",
   "execution_count": 42,
   "metadata": {},
   "outputs": [
    {
     "data": {
      "text/plain": [
       "[<matplotlib.lines.Line2D at 0x17f1301e940>]"
      ]
     },
     "execution_count": 42,
     "metadata": {},
     "output_type": "execute_result"
    },
    {
     "data": {
      "image/png": "[encoded data removed]",
      "text/plain": [
       "<Figure size 432x288 with 1 Axes>"
      ]
     },
     "metadata": {
      "needs_background": "light"
     },
     "output_type": "display_data"
    }
   ],
   "source": [
    "import matplotlib.pyplot as plt\n",
    "\n",
    "def linear_search(array, search):\n",
    "    counter = 0\n",
    "    indexes = []\n",
    "    for i, item in enumerate(array):\n",
    "        counter += 1\n",
    "        if item == search:\n",
    "            indexes.append(i)\n",
    "    return counter\n",
    "\n",
    "counters = []\n",
    "lengths = [10,100,1000,10000]\n",
    "for i in lengths:\n",
    "    first_amounts = amounts[:i]\n",
    "    counter = linear_search(first_amounts, 7)\n",
    "    counters.append(counter)\n",
    "plt.plot(lengths, counters) # linear search takes O(n) time in the worst case"
   ]
  },
  {
   "cell_type": "code",
   "execution_count": 58,
   "metadata": {},
   "outputs": [
    {
     "name": "stdout",
     "output_type": "stream",
     "text": [
      "87\n"
     ]
    }
   ],
   "source": [
    "import math\n",
    "\n",
    "def swap(array, pos1, pos2):\n",
    "    store = array[pos1]\n",
    "    array[pos1] = array[pos2]\n",
    "    array[pos2] = store\n",
    "\n",
    "def insertion_sort(array):\n",
    "    for i in range(1, len(array)):\n",
    "        j = i\n",
    "        while j > 0 and array[j - 1] > array[j]:\n",
    "            swap(array, j, j-1)\n",
    "            j-=1\n",
    "\n",
    "def binary_search(array, search):\n",
    "    insertion_sort(array)\n",
    "    m = 0\n",
    "    i = 0\n",
    "    z = len(array) - 1.\n",
    "    while i <= z:\n",
    "        m = math.floor(i + ((z - i) / 2))\n",
    "        if array[m] == search:\n",
    "            return m\n",
    "        elif array[m] < search:\n",
    "            i = m + 1\n",
    "        elif array[m] > search:\n",
    "            z = m-1\n",
    "result = binary_search(times, 56)\n",
    "print(result)"
   ]
  },
  {
   "cell_type": "code",
   "execution_count": 61,
   "metadata": {},
   "outputs": [
    {
     "name": "stdout",
     "output_type": "stream",
     "text": [
      "205929\n"
     ]
    }
   ],
   "source": [
    "def binary_search(array, search):\n",
    "    array.sort()\n",
    "    m = 0\n",
    "    i = 0\n",
    "    z = len(array) - 1\n",
    "    while i<= z:\n",
    "        m = math.floor(i + ((z - i) / 2))\n",
    "        if array[m] == search:\n",
    "            return m\n",
    "        elif array[m] < search:\n",
    "            i = m + 1\n",
    "        elif array[m] > search:\n",
    "            z = m - 1\n",
    "transactions = [\"{}_{}\".format(times[i], amounts[i]) for i in range(len(amounts))]\n",
    "result = binary_search(transactions, \"56_10.84\")\n",
    "print(result)"
   ]
  },
  {
   "cell_type": "code",
   "execution_count": 102,
   "metadata": {},
   "outputs": [
    {
     "name": "stdout",
     "output_type": "stream",
     "text": [
      "[150.0, 150.0, 150.0, 150.0, 150.0, 150.0, 150.0, 150.0, 150.0, 150.0, 150.0, 150.0, 150.0, 150.0, 150.0, 150.0, 150.0, 150.0, 150.0, 150.0, 150.0, 150.0, 150.0, 150.0, 150.0, 150.0, 150.0, 150.0, 150.0, 150.0, 150.0, 150.0, 150.0, 150.0, 150.0, 150.0, 150.0, 150.0, 150.0, 150.0, 150.0, 150.0, 150.0, 150.0, 150.0, 150.0, 150.0, 150.0, 150.0, 150.0, 150.0, 150.0, 150.0, 150.0, 150.0, 150.0, 150.0, 150.0, 150.0, 150.0, 150.0, 150.0, 150.0, 150.0, 150.0, 150.0, 150.0, 150.0, 150.0, 150.0, 150.0, 150.0, 150.0, 150.0, 150.0, 150.0, 150.0, 150.0, 150.0, 150.0, 150.0, 150.0, 150.0, 150.0, 150.0, 150.0, 150.0, 150.0, 150.0, 150.0, 150.0, 150.0, 150.0, 150.0, 150.0, 150.0, 150.0, 150.0, 150.0, 150.0, 150.0, 150.0, 150.0, 150.0, 150.0, 150.0, 150.0, 150.0, 150.0, 150.0, 150.0, 150.0, 150.0, 150.0, 150.0, 150.0, 150.0, 150.0, 150.0, 150.0, 150.0, 150.0, 150.0, 150.0, 150.0, 150.0, 150.0, 150.0, 150.0, 150.0, 150.0, 150.0, 150.0, 150.0, 150.0, 150.0, 150.0, 150.0, 150.0, 150.0, 150.0, 150.0, 150.0, 150.0, 150.0, 150.0, 150.0, 150.0, 150.0, 150.0, 150.0, 150.0, 150.0, 150.0, 150.0, 150.0, 150.0, 150.0, 150.0, 150.0, 150.0, 150.0, 150.0, 150.0, 150.0, 150.0, 150.0, 150.0, 150.0, 150.0, 150.0, 150.0, 150.0, 150.0, 150.0, 150.0, 150.0, 150.0, 150.0, 150.0, 150.0, 150.0, 150.0, 150.0, 150.0, 150.0, 150.0, 150.0, 150.0, 150.0, 150.0, 150.0, 150.0, 150.0, 150.0, 150.0, 150.0, 150.0, 150.0, 150.0, 150.0, 150.0, 150.0, 150.0, 150.0, 150.0, 150.0, 150.0, 150.0, 150.0, 150.0, 150.0, 150.0, 150.0, 150.0, 150.0, 150.0, 150.0, 150.0, 150.0, 150.0, 150.0, 150.0, 150.0, 150.0, 150.0, 150.0, 150.0, 150.0, 150.0, 150.0, 150.0, 150.0, 150.0, 150.0, 150.0, 150.0, 150.0, 150.0, 150.0, 150.0, 150.0, 150.0, 150.0, 150.0, 150.0, 150.0, 150.0, 150.0, 150.0, 150.0, 150.0, 150.0, 150.0, 150.0, 150.0, 150.0, 150.0, 150.0, 150.0, 150.0, 150.0, 150.0, 150.0, 150.0, 150.0, 150.0, 150.0, 150.0, 150.0, 150.0, 150.0, 150.0, 150.0, 150.0, 150.0, 150.0, 150.0, 150.0, 150.0, 150.0, 150.0, 150.0, 150.0, 150.0, 150.0, 150.0, 150.0, 150.0, 150.0, 150.0, 150.0, 150.0, 150.0, 150.0, 150.0, 150.0, 150.0, 150.0, 150.0, 150.0, 150.0, 150.0, 150.0, 150.0, 150.0, 150.0, 150.0, 150.0, 150.0, 150.0, 150.0, 150.0, 150.0, 150.0, 150.0, 150.0, 150.0, 150.0, 150.0, 150.0, 150.0, 150.0, 150.0, 150.0, 150.0, 150.0, 150.0, 150.0, 150.0, 150.0, 150.0, 150.0, 150.0, 150.0, 150.0, 150.0, 150.0, 150.0, 150.0, 150.0, 150.0, 150.0, 150.0, 150.0, 150.0, 150.0, 150.0, 150.0, 150.0, 150.0, 150.0, 150.0, 150.0, 150.0, 150.0, 150.0, 150.0, 150.0, 150.0, 150.0, 150.0, 150.0, 150.0, 150.0, 150.0, 150.0, 150.0, 150.0, 150.0, 150.0, 150.0, 150.0, 150.0, 150.0, 150.0, 150.0, 150.0, 150.0, 150.0, 150.0, 150.0, 150.0, 150.0, 150.0, 150.0, 150.0, 150.0, 150.0, 150.0, 150.0, 150.0, 150.0, 150.0, 150.0, 150.0, 150.0, 150.0, 150.0, 150.0, 150.0, 150.0, 150.0, 150.0, 150.0, 150.0, 150.0, 150.0, 150.0, 150.0, 150.0, 150.0, 150.0, 150.0, 150.0, 150.0, 150.0, 150.0, 150.0, 149.99, 149.99, 149.99, 149.99, 149.99, 149.99, 149.99, 149.99, 149.99, 149.99, 149.99, 149.99, 149.99, 149.99, 149.99, 149.99, 149.99, 149.98, 149.98, 149.98, 149.98, 149.98, 149.98, 149.98, 149.98, 149.98, 149.98, 149.98, 149.98, 149.98, 149.98, 149.98, 149.98, 150.0, 150.0, 150.0, 150.0, 150.0, 150.0, 150.0, 150.0, 150.0, 150.0, 150.0, 150.0, 150.0, 150.0, 150.0, 150.0, 150.0, 150.0, 150.0, 150.0, 150.0, 150.0, 150.0, 150.0, 150.0, 150.0, 150.0, 150.0, 150.0, 150.0, 150.0, 150.0, 150.0, 150.0, 150.0, 150.0, 150.0, 150.0, 150.0, 150.0, 150.0, 150.0, 150.0, 150.0, 150.0, 150.0, 150.0, 150.0, 150.0, 150.0, 150.0, 150.0, 150.0, 150.0, 150.0, 150.0, 150.0, 150.0, 150.0, 150.0, 150.0, 150.0, 150.0, 150.0, 150.0, 150.0, 150.0, 150.0, 150.0, 150.0, 150.0, 150.0, 150.0, 150.0, 150.0, 150.0, 150.0, 150.0]\n"
     ]
    }
   ],
   "source": [
    "def binary_search(array, search):\n",
    "    array.sort()\n",
    "    m = 0\n",
    "    i = 0\n",
    "    z = len(array) - 1\n",
    "    while i<= z:\n",
    "        m = math.floor(i + ((z - i) / 2))\n",
    "        if array[m] == search:\n",
    "            return m\n",
    "        elif array[m] < search:\n",
    "            i = m + 1\n",
    "        elif array[m] > search:\n",
    "            z = m - 1\n",
    "    return m\n",
    "\n",
    "# look at the range of values \"around\" the m position\n",
    "def fuzzy_match(array, lower, upper, m):\n",
    "    j = m\n",
    "    l = m + 1\n",
    "    matches = []\n",
    "    while j > 0 and lower <= array[j] <= upper:\n",
    "        matches.append(array[j])\n",
    "        j -= 1\n",
    "        \n",
    "    while l < len(array) and lower <= array[l] <= upper:\n",
    "        matches.append(array[l])\n",
    "        l += 1\n",
    "    return matches\n",
    "\n",
    "m = binary_search(amounts, 150)\n",
    "matches = fuzzy_match(amounts, 149.98, 150, m)\n",
    "print(matches)"
   ]
  },
  {
   "cell_type": "code",
   "execution_count": 110,
   "metadata": {},
   "outputs": [
    {
     "data": {
      "text/plain": [
       "[<matplotlib.lines.Line2D at 0x17f1326c0f0>]"
      ]
     },
     "execution_count": 110,
     "metadata": {},
     "output_type": "execute_result"
    },
    {
     "data": {
      "image/png": "[encoded data removed]",
      "text/plain": [
       "<Figure size 432x288 with 1 Axes>"
      ]
     },
     "metadata": {
      "needs_background": "light"
     },
     "output_type": "display_data"
    }
   ],
   "source": [
    "import matplotlib.pyplot as plt\n",
    "\n",
    "def binary_search(array, search):\n",
    "    counter=0\n",
    "    array.sort()\n",
    "    m = 0\n",
    "    i = 0\n",
    "    z = len(array) - 1\n",
    "    while i<= z:\n",
    "        counter += 1\n",
    "        m = math.floor(i + ((z - i) / 2))\n",
    "        if array[m] == search:\n",
    "            return m\n",
    "        elif array[m] < search:\n",
    "            i = m + 1\n",
    "        elif array[m] > search:\n",
    "            z = m - 1\n",
    "    return counter\n",
    "lengths = [10,100,1000,10000]\n",
    "counters =[]\n",
    "for length in lengths:\n",
    "    first_amounts = amounts[:length]\n",
    "    c = binary_search(first_amounts, -1)\n",
    "    counters.append(c)\n",
    "    \n",
    "plt.plot(lengths, counters)"
   ]
  },
  {
   "cell_type": "code",
   "execution_count": 112,
   "metadata": {},
   "outputs": [
    {
     "data": {
      "text/plain": [
       "[<matplotlib.lines.Line2D at 0x17f132c5978>]"
      ]
     },
     "execution_count": 112,
     "metadata": {},
     "output_type": "execute_result"
    },
    {
     "data": {
      "image/png": "[encoded data removed]",
      "text/plain": [
       "<Figure size 432x288 with 1 Axes>"
      ]
     },
     "metadata": {
      "needs_background": "light"
     },
     "output_type": "display_data"
    }
   ],
   "source": [
    "def insertion_sort(array):\n",
    "    counter = 0\n",
    "    for i in range(1, len(array)):\n",
    "        j = i\n",
    "        while j > 0 and array[j - 1] > array[j]:\n",
    "            counter += 1\n",
    "            swap(array, j, j-1)\n",
    "            j-=1\n",
    "    return counter\n",
    "\n",
    "def binary_search(array, search):\n",
    "    counter = insertion_sort(array)\n",
    "    insertion_sort(array)\n",
    "    m = 0\n",
    "    i = 0\n",
    "    z = len(array) - 1\n",
    "    while i<= z:\n",
    "        counter += 1\n",
    "        m = math.floor(i + ((z - i) / 2))\n",
    "        if array[m] == search:\n",
    "            return m\n",
    "        elif array[m] < search:\n",
    "            i = m + 1\n",
    "        elif array[m] > search:\n",
    "            z = m - 1\n",
    "    return counter\n",
    "\n",
    "lengths = [10,100,1000,10000]\n",
    "\n",
    "counters = []\n",
    "for i in lengths:\n",
    "     # We sort in reverse order so we get the worst case performance of the insertion sort.\n",
    "    first_amounts = sorted(amounts[:i], reverse=True)\n",
    "    counter = binary_search(first_amounts, -1)\n",
    "    counters.append(counter)\n",
    "plt.plot(lengths, counters)"
   ]
  },
  {
   "cell_type": "markdown",
   "metadata": {},
   "source": [
    "### Hash Tables\n",
    "https://app.dataquest.io/m/176/hash-tables"
   ]
  },
  {
   "cell_type": "markdown",
   "metadata": {},
   "source": [
    "\"os.path.join(dir_name, base_filename + \".\" + filename_suffix)\" joins path with the filename and extension.  It smooths over that OS difference so cross-platform code doesn't have to be cluttered with special cases for each OS.\n",
    "There is no need to do this for file name \"extensions\" because they are always connected to the rest of the name with a dot character, on every OS."
   ]
  },
  {
   "cell_type": "code",
   "execution_count": null,
   "metadata": {},
   "outputs": [],
   "source": [
    "import os\n",
    "quotes = {}\n",
    "directory = \"lines\"\n",
    "for filename in os.listdir(directory):\n",
    "    with open(os.path.join(directory, filename)) as f:\n",
    "        quotes[filename.replace(\".txt\", \"\")] = f.read() # Read the data in the file into a string variable"
   ]
  },
  {
   "cell_type": "code",
   "execution_count": null,
   "metadata": {},
   "outputs": [],
   "source": [
    "# A hash function maps a key to a position in an array.  It will always return the same output with the same input\n",
    "def simple_hash(key):\n",
    "    key = str(key)\n",
    "    return ord(key[0]) # ord() function returns an integer character code corresponding to a unicode character\n",
    "\n",
    "xmen_hash = simple_hash('xman')\n",
    "things_hash = simple_hash('10thingsihateaboutyou') # returned 49"
   ]
  },
  {
   "cell_type": "code",
   "execution_count": null,
   "metadata": {},
   "outputs": [],
   "source": [
    "# Using a modulo operator on the value returned by hash function ensures that the index returned is never larger \n",
    "# than the size of the array. Simply use the size of array as the divisor.\n",
    "def simple_hash(key):\n",
    "    key = str(key)\n",
    "    code = ord(key[0])\n",
    "    return code % 20\n",
    "\n",
    "xmen_hash = simple_hash(\"xmen\")\n",
    "things_hash = simple_hash(\"10thingsihateaboutyou\") # returned 9"
   ]
  },
  {
   "cell_type": "code",
   "execution_count": null,
   "metadata": {},
   "outputs": [],
   "source": [
    "import numpy as np\n",
    "\n",
    "class HashTable():\n",
    "    \n",
    "    def __init__(self, size):\n",
    "        self.array = np.zeros(size, dtype=np.object)\n",
    "        self.size = size\n",
    "    \n",
    "    def __getitem__(self, key):\n",
    "        ind = simple_hash(key)\n",
    "        return self.array[ind]\n",
    "    \n",
    "    def __setitem__(self, key, value):\n",
    "        ind = simple_hash(key)\n",
    "        self.array[ind] = value\n",
    "\n",
    "hash_table = HashTable(20)\n",
    "\n",
    "with open(\"lines/xmen.txt\", 'r') as f:\n",
    "    hash_table[\"xmen\"] = f.read()"
   ]
  },
  {
   "cell_type": "code",
   "execution_count": null,
   "metadata": {},
   "outputs": [],
   "source": [
    "# deal with hash collisions by allowin each position in the array to store multiple values\n",
    "# The isinstance() function checks if the object is an instance or subclass of classinfo class.\n",
    "# isinstance(object, classinfo)\n",
    "# If the value in the array at position isn't a list\n",
    "    if not isinstance(self.array[ind], list)"
   ]
  },
  {
   "cell_type": "code",
   "execution_count": null,
   "metadata": {},
   "outputs": [],
   "source": [
    "class HashTable():\n",
    "    \n",
    "    def __init__(self, size):\n",
    "        self.array = np.zeros(size, dtype=np.object)\n",
    "        self.size = size\n",
    "    \n",
    "    def __getitem__(self, key):\n",
    "        ind = simple_hash(key)\n",
    "        return self.array[ind]\n",
    "    \n",
    "    def __setitem__(self, key, value):\n",
    "        ind = simple_hash(key)\n",
    "        # store a list of values at each array position to avoid collisions\n",
    "        if not isinstance(self.array[ind], list):\n",
    "            self.array[ind] = []\n",
    "        self.array[ind].append(value)\n",
    "\n",
    "hash_table = HashTable(20)\n",
    "\n",
    "with open(\"lines/xmen.txt\", 'r') as f:\n",
    "    hash_table[\"xmen\"] = f.read()\n",
    "\n",
    "with open(\"lines/xmenoriginswolverine.txt\", 'r') as f:\n",
    "    hash_table[\"xmenoriginswolverine\"] = f.read()"
   ]
  },
  {
   "cell_type": "code",
   "execution_count": 7,
   "metadata": {},
   "outputs": [
    {
     "data": {
      "text/plain": [
       "True"
      ]
     },
     "execution_count": 7,
     "metadata": {},
     "output_type": "execute_result"
    }
   ],
   "source": [
    "ls = [1,2,3]\n",
    "isinstance(ls, list)"
   ]
  },
  {
   "cell_type": "code",
   "execution_count": null,
   "metadata": {},
   "outputs": [],
   "source": [
    "class HashTable():\n",
    "    \n",
    "    def __init__(self, size):\n",
    "        self.array = np.zeros(size, dtype=np.object)\n",
    "        self.size = size\n",
    "    \n",
    "    def __getitem__(self, key):\n",
    "        ind = simple_hash(key)\n",
    "        for k,v in self.array[ind]:\n",
    "            if key == k:\n",
    "                return v\n",
    "    \n",
    "    def __setitem__(self, key, value):\n",
    "        ind = simple_hash(key)\n",
    "        if not isinstance(self.array[ind], list):\n",
    "            self.array[ind] = []\n",
    "        # store both the key and the value for easy search\n",
    "        self.array[ind].append((key,value))\n",
    "        \n",
    "hash_table = HashTable(20)\n",
    "\n",
    "with open(\"lines/xmen.txt\", 'r') as f:\n",
    "    hash_table[\"xmen\"] = f.read()\n",
    "\n",
    "with open(\"lines/xmenoriginswolverine.txt\", 'r') as f:\n",
    "    hash_table[\"xmenoriginswolverine\"] = f.read()"
   ]
  },
  {
   "attachments": {
    "image.png": {
     "image/png": "[encoded data removed]"
    }
   },
   "cell_type": "markdown",
   "metadata": {},
   "source": [
    "Retrival issues.  \n",
    "![image.png](attachment:image.png)\n",
    "\n",
    "1. Iterate from the back of the list at the array position to the front in __getitem__ to get the latest value associated with a key instead of the earliest.  Consumes more memory, and causes slower indexing.\n",
    "2. In __setitem__, iterate through the list at the array position, and replace the current value with a new one. slower insertion faster indexing.\n",
    "3. Since dictionaries are usually indexed more than inserted into, it usually makes more sense to use the second method."
   ]
  },
  {
   "cell_type": "code",
   "execution_count": null,
   "metadata": {},
   "outputs": [],
   "source": [
    "class HashTable():\n",
    "    \n",
    "    def __init__(self, size):\n",
    "        self.array = np.zeros(size, dtype=np.object)\n",
    "        self.size = size\n",
    "    \n",
    "    def __getitem__(self, key):\n",
    "        ind = simple_hash(key)\n",
    "        for k,v in self.array[ind]:\n",
    "            if key == k:\n",
    "                return v\n",
    "    \n",
    "    def __setitem__(self, key, value):\n",
    "        ind = simple_hash(key)\n",
    "        if not isinstance(self.array[ind], list):\n",
    "            self.array[ind] = []\n",
    "        replace = None\n",
    "        for i,data in enumerate(self.array[ind]):\n",
    "            # If the first item in the tuple matches key, store the position in replace.\n",
    "            if data[0] == key:\n",
    "                replace = i\n",
    "        # If replace is None, append a tuple containing the key and the value to the list.\n",
    "        if replace is None:\n",
    "            self.array[ind].append((key,value))\n",
    "        else:\n",
    "            # If replace isn't None, replace the tuple at the position in the array with the new (key,value) tuple\n",
    "            self.array[ind][replace] = (key, value)\n",
    "\n",
    "hash_table = HashTable(20)\n",
    "\n",
    "with open(\"lines/xmen.txt\", 'r') as f:\n",
    "    hash_table[\"xmen\"] = f.read()\n",
    "\n",
    "with open(\"lines/xmenoriginswolverine.txt\", 'r') as f:\n",
    "    hash_table[\"xmen\"] = f.read()"
   ]
  },
  {
   "cell_type": "markdown",
   "metadata": {},
   "source": [
    "The worst case time complexity is when all of the hash table keys and values are stored in a single array position.  Since a linear search has to be done to locate the value.  "
   ]
  },
  {
   "cell_type": "code",
   "execution_count": null,
   "metadata": {},
   "outputs": [],
   "source": [
    "# Profiling a HashTable instance with only one available array position\n",
    "class HashTable():\n",
    "    \n",
    "    def __init__(self, size):\n",
    "        self.array = np.zeros(size, dtype=np.object)\n",
    "        self.size = size\n",
    "    \n",
    "    def __getitem__(self, key):\n",
    "        counter = 0\n",
    "        ind = simple_hash(key)\n",
    "        for k,v in self.array[ind]:\n",
    "            counter += 1\n",
    "            if key == k:\n",
    "                return counter\n",
    "    \n",
    "    def __setitem__(self, key, value):\n",
    "        ind = simple_hash(key)\n",
    "        if not isinstance(self.array[ind], list):\n",
    "            self.array[ind] = []\n",
    "        replace = None\n",
    "        for i,data in enumerate(self.array[ind]):\n",
    "            if data[0] == key:\n",
    "                replace = i\n",
    "        if replace is None:\n",
    "            self.array[ind].append((key,value))\n",
    "        else:\n",
    "            self.array[ind][replace] = (key, value)\n",
    "\n",
    "data = [\n",
    "    (\"xmen\", \"Wolverine\"), \n",
    "    (\"xmenoriginswolverine\", \"Superman\"), \n",
    "    (\"vanillasky\", \"Thor\"), \n",
    "    (\"tremors\", \"Aquaman\")\n",
    "]\n",
    "hash_table = HashTable(1)\n",
    "for k,v in data:\n",
    "    hash_table[k] = v\n",
    "\n",
    "counter = hash_table[k] # output 4"
   ]
  },
  {
   "cell_type": "code",
   "execution_count": null,
   "metadata": {},
   "outputs": [],
   "source": [
    "data = [\n",
    "    (\"xmen\", \"Wolverine\"), \n",
    "    (\"xmenoriginswolverine\", \"Superman\"), \n",
    "    (\"vanillasky\", \"Thor\"), \n",
    "    (\"tremors\", \"Aquaman\"),\n",
    "    (\"a\", \"b\"), \n",
    "    (\"c\", \"d\")\n",
    "]\n",
    "hash_table = HashTable(1)\n",
    "for k,v in data:\n",
    "    hash_table[k] = v\n",
    "\n",
    "counter = hash_table[k] # output 6"
   ]
  },
  {
   "cell_type": "markdown",
   "metadata": {},
   "source": [
    "The built-in Python hash() function is used by Python's built-in hash table implementation, dict. This algorithm will hashing based on the entire string, not just the first character, allowing the use of longer arrays, which makes hash collisions less likely, thus increasing speed for insertion and lookups."
   ]
  },
  {
   "cell_type": "code",
   "execution_count": null,
   "metadata": {},
   "outputs": [],
   "source": [
    "# improvig the time complexity by increasing the size of the array, and the hashing algorithm.\n",
    "import time\n",
    "import os\n",
    "import matplotlib.pyplot as plt\n",
    "\n",
    "class HashTable():\n",
    "    \n",
    "    def __init__(self, size):\n",
    "        self.array = np.zeros(size, dtype=np.object)\n",
    "        self.size = size\n",
    "    \n",
    "    def __getitem__(self, key):\n",
    "        ind = hash(key) % self.size\n",
    "        for k,v in self.array[ind]:\n",
    "            if key == k:\n",
    "                return v\n",
    "    \n",
    "    def __setitem__(self, key, value):\n",
    "        ind = hash(key) % self.size\n",
    "        if not isinstance(self.array[ind], list):\n",
    "            self.array[ind] = []\n",
    "        replace = None\n",
    "        for i,data in enumerate(self.array[ind]):\n",
    "            if data[0] == key:\n",
    "                replace = i\n",
    "        if replace is None:\n",
    "            self.array[ind].append((key,value))\n",
    "        else:\n",
    "            self.array[ind][replace] = (key, value)\n",
    "\n",
    "def profile_table(size):\n",
    "    start = time.time()\n",
    "    hash_table = HashTable(size)\n",
    "    directory = \"lines\"\n",
    "    \n",
    "    for filename in os.listdir(directory):\n",
    "        name = filename.replace(\".txt\", \"\")\n",
    "        hash_table[name] = quotes[name]\n",
    "    duration = time.time() - start\n",
    "    return duration\n",
    "\n",
    "times = []\n",
    "lengths = [1,10,20,30,40,50]\n",
    "for length in lengths:\n",
    "    s = profile_table(length)\n",
    "    times.append(s)\n",
    "    \n",
    "plt.plot(lengths, times)"
   ]
  }
 ],
 "metadata": {
  "kernelspec": {
   "display_name": "Python 3",
   "language": "python",
   "name": "python3"
  },
  "language_info": {
   "codemirror_mode": {
    "name": "ipython",
    "version": 3
   },
   "file_extension": ".py",
   "mimetype": "text/x-python",
   "name": "python",
   "nbconvert_exporter": "python",
   "pygments_lexer": "ipython3",
   "version": "3.7.3"
  }
 },
 "nbformat": 4,
 "nbformat_minor": 2
}
