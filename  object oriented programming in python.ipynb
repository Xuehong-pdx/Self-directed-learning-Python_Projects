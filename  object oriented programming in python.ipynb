{
 "cells": [
  {
   "cell_type": "code",
   "execution_count": 1,
   "metadata": {},
   "outputs": [
    {
     "name": "stdout",
     "output_type": "stream",
     "text": [
      "item1\n",
      "item2\n",
      "item3\n"
     ]
    }
   ],
   "source": [
    "# imperitive\n",
    "ls=[1,2,3]\n",
    "for item in ls:\n",
    "    print(f'item{item}')"
   ]
  },
  {
   "cell_type": "code",
   "execution_count": 3,
   "metadata": {},
   "outputs": [
    {
     "name": "stdout",
     "output_type": "stream",
     "text": [
      "item1\n",
      "item2\n",
      "item3\n"
     ]
    }
   ],
   "source": [
    "# object oriented\n",
    "class printlist:\n",
    "    def __init__(self, numberlist):\n",
    "        self.numberlist = numberlist\n",
    "        \n",
    "    def print_list(self):\n",
    "        for item in self.numberlist:\n",
    "            print(f'item{item}')\n",
    "a = printlist([1,2,3])\n",
    "a.print_list()"
   ]
  },
  {
   "cell_type": "code",
   "execution_count": null,
   "metadata": {},
   "outputs": [],
   "source": [
    "# Create function that returns the average of an integer list\n",
    "def average_numbers(num_list): \n",
    "    avg = sum(num_list)/float(len(num_list)) # divide by length of list\n",
    "    return avg\n",
    "\n",
    "# Take the average of a list: my_avg\n",
    "my_avg = average_numbers([1, 2, 3, 4, 5, 6])\n",
    "\n",
    "# Print out my_avg\n",
    "print(my_avg)"
   ]
  },
  {
   "cell_type": "code",
   "execution_count": 4,
   "metadata": {},
   "outputs": [
    {
     "name": "stdout",
     "output_type": "stream",
     "text": [
      "[[1, 2, 3, 4], [5, 6, 7, 8]]\n"
     ]
    }
   ],
   "source": [
    "# Create a list that contains two lists: matrix\n",
    "matrix = [[1,2,3,4], [5,6,7,8]]\n",
    "\n",
    "# Print the matrix list\n",
    "print(matrix)"
   ]
  },
  {
   "cell_type": "code",
   "execution_count": null,
   "metadata": {},
   "outputs": [],
   "source": [
    "import numpy as np\n",
    "\n",
    "# List input: my_matrix\n",
    "my_matrix = [[1,2,3,4], [5,6,7,8]] \n",
    "\n",
    "# Function that converts lists to arrays: return_array\n",
    "def return_array(matrix):\n",
    "    array = np.array(matrix, dtype = float)\n",
    "    return array\n",
    "    \n",
    "# Call return_array on my_matrix, and print the output\n",
    "print(return_array(my_matrix))"
   ]
  },
  {
   "cell_type": "code",
   "execution_count": null,
   "metadata": {},
   "outputs": [],
   "source": [
    "# Create empty class: DataShell\n",
    "class DataShell:\n",
    "      # Pass statement\n",
    "    pass\n",
    "\n",
    "# Instantiate DataShell: my_data_shell\n",
    "my_data_shell = DataShell()\n",
    "\n",
    "# Print my_data_shell\n",
    "print(my_data_shell)"
   ]
  },
  {
   "cell_type": "code",
   "execution_count": 6,
   "metadata": {},
   "outputs": [
    {
     "name": "stdout",
     "output_type": "stream",
     "text": [
      "10\n"
     ]
    }
   ],
   "source": [
    "# Create class: DataShell\n",
    "class DataShell:\n",
    "# Initialize class with self and integerInput arguments\n",
    "    def __init__(self, integerInput):\n",
    "# Set data as instance variable, and assign the value of integerInput\n",
    "        self.data = integerInput\n",
    "# Declare variable x with value of 10\n",
    "x = 10      \n",
    "# Instantiate DataShell passing x as argument: my_data_shell\n",
    "my_data_shell = DataShell(x)\n",
    "# Print my_data_shell\n",
    "print(my_data_shell.data)"
   ]
  },
  {
   "cell_type": "code",
   "execution_count": 5,
   "metadata": {},
   "outputs": [
    {
     "name": "stdout",
     "output_type": "stream",
     "text": [
      "100\n",
      "[1, 2, 3, 4, 5]\n"
     ]
    }
   ],
   "source": [
    "# Create class: DataShell\n",
    "class DataShell:\n",
    "# Initialize class with self, identifier and data arguments\n",
    "    def __init__(self, identifier, data):\n",
    "# Set identifier and data as instance variables, assigning value of input arguments\n",
    "        self.identifier = identifier\n",
    "        self.data = data\n",
    "# Declare variable x with value of 100, and y with list of integers from 1 to 5\n",
    "x = 100\n",
    "y = [1, 2, 3, 4, 5]\n",
    "# Instantiate DataShell passing x and y as arguments: my_data_shell\n",
    "my_data_shell = DataShell(x,y)\n",
    "# Print my_data_shell.identifier\n",
    "print(my_data_shell.identifier)\n",
    "# Print my_data_shell.data\n",
    "print(my_data_shell.data)"
   ]
  },
  {
   "cell_type": "code",
   "execution_count": 7,
   "metadata": {},
   "outputs": [
    {
     "name": "stdout",
     "output_type": "stream",
     "text": [
      "DataShell\n"
     ]
    }
   ],
   "source": [
    "# Create class: DataShell\n",
    "class DataShell:\n",
    "    # Declare a class variable family, and assign value of \"DataShell\"\n",
    "    family = \"DataShell\"\n",
    "    # Initialize class with self, identifier arguments\n",
    "    def __init__(self, identifier):\n",
    "        # Set identifier as instance variable of input argument\n",
    "        self.identifier = identifier\n",
    "# Declare variable x with value of 100\n",
    "x = 100\n",
    "# Instantiate DataShell passing x as argument: my_data_shell\n",
    "my_data_shell = DataShell(x)\n",
    "# Print my_data_shell class variable family\n",
    "print(my_data_shell.family)"
   ]
  },
  {
   "cell_type": "code",
   "execution_count": null,
   "metadata": {},
   "outputs": [],
   "source": [
    "# Create class: DataShell\n",
    "class DataShell:\n",
    "    # Declare a class variable family, and assign value of \"DataShell\"\n",
    "    family = \"DataShell\"\n",
    "    # Initialize class with self, identifier arguments\n",
    "    def __init__(self, identifier):\n",
    "        # Set identifier as instance variables, assigning value of input arguments\n",
    "        self.identifier = identifier\n",
    "# Declare variable x with value of 100\n",
    "x = 100\n",
    "# Instantiate DataShell passing x and y as arguments: my_data_shell\n",
    "my_data_shell = DataShell(x)\n",
    "# Print my_data_shell class variable family\n",
    "print(my_data_shell.family)\n",
    "# Override the my_data_shell.family value with \"NotDataShell\"\n",
    "my_data_shell.family = \"NotDataShell\"\n",
    "# Print my_data_shell class variable family once again\n",
    "print(my_data_shell.family)"
   ]
  },
  {
   "cell_type": "code",
   "execution_count": null,
   "metadata": {},
   "outputs": [],
   "source": [
    "# Create class: DataShell\n",
    "class DataShell:\n",
    "    # Initialize class with self argument\n",
    "    def __init__(self):\n",
    "        pass\n",
    "    # Define class method which takes self argument: print_static\n",
    "    def print_static(self):\n",
    "        # Print string\n",
    "        print(\"You just executed a class method!\")\n",
    "# Instantiate DataShell taking no arguments: my_data_shell\n",
    "my_data_shell = DataShell()\n",
    "# Call the print_static method of your newly created object\n",
    "my_data_shell.print_static()"
   ]
  },
  {
   "cell_type": "code",
   "execution_count": 9,
   "metadata": {},
   "outputs": [
    {
     "name": "stdout",
     "output_type": "stream",
     "text": [
      "[1, 2, 3, 4, 5, 6, 7, 8, 9, 10]\n"
     ]
    }
   ],
   "source": [
    "# Create class: DataShell\n",
    "class DataShell:\n",
    "    # Initialize class with self and dataList as arguments\n",
    "    def __init__(self, dataList):\n",
    "      # Set data as instance variable, and assign it the value of dataList\n",
    "        self.data = dataList\n",
    "    # Define class method which takes self argument: show\n",
    "    def show(self):\n",
    "        # Print the instance variable data\n",
    "        print(self.data)\n",
    "# Declare variable with list of integers from 1 to 10: integer_list   \n",
    "integer_list = [1, 2, 3, 4, 5, 6, 7, 8, 9, 10]\n",
    "# Instantiate DataShell taking integer_list as argument: my_data_shell\n",
    "my_data_shell = DataShell(integer_list)\n",
    "# Call the show method of your newly created object\n",
    "my_data_shell.show()"
   ]
  },
  {
   "cell_type": "code",
   "execution_count": 10,
   "metadata": {},
   "outputs": [
    {
     "name": "stdout",
     "output_type": "stream",
     "text": [
      "[1, 2, 3, 4, 5, 6, 7, 8, 9, 10]\n",
      "5.5\n"
     ]
    }
   ],
   "source": [
    "# Create class: DataShell\n",
    "class DataShell:\n",
    "    # Initialize class with self and dataList as arguments\n",
    "    def __init__(self, dataList):\n",
    "         # Set data as instance variable, and assign it the value of dataList\n",
    "        self.data = dataList\n",
    "    # Define method that prints data: show\n",
    "    def show(self):\n",
    "        print(self.data)\n",
    "    # Define method that prints average of data: avg \n",
    "    def avg(self):\n",
    "        # Declare avg and assign it the average of data\n",
    "        avg = sum(self.data)/float(len(self.data))\n",
    "        # Print avg\n",
    "        print(avg)\n",
    "# Instantiate DataShell taking integer_list as argument: my_data_shell\n",
    "my_data_shell = DataShell(integer_list)\n",
    "# Call the show and avg methods of your newly created object\n",
    "my_data_shell.show()\n",
    "my_data_shell.avg()"
   ]
  },
  {
   "cell_type": "code",
   "execution_count": 11,
   "metadata": {},
   "outputs": [
    {
     "name": "stdout",
     "output_type": "stream",
     "text": [
      "[1, 2, 3, 4, 5, 6, 7, 8, 9, 10]\n",
      "5.5\n"
     ]
    }
   ],
   "source": [
    "# Create class: DataShell\n",
    "class DataShell:\n",
    "    # Initialize class with self and dataList as arguments\n",
    "    def __init__(self, dataList):\n",
    "      # Set data as instance variable, and assign it the value of dataList\n",
    "        self.data = dataList\n",
    "        \n",
    "    # Define method that returns data: show\n",
    "    def show(self):\n",
    "        return self.data\n",
    "    \n",
    "    # Define method that prints average of data: avg \n",
    "    def avg(self):\n",
    "        # Declare avg and assign it the average of data\n",
    "        avg = sum(self.data)/float(len(self.data))\n",
    "        # Return avg\n",
    "        return avg\n",
    "# Instantiate DataShell taking integer_list as argument: my_data_shell\n",
    "my_data_shell = DataShell(integer_list)\n",
    "# Print output of your object's show method\n",
    "print(my_data_shell.show())\n",
    "# Print output of your object's avg method\n",
    "print(my_data_shell.avg())"
   ]
  },
  {
   "cell_type": "code",
   "execution_count": null,
   "metadata": {},
   "outputs": [],
   "source": [
    "# Load numpy as np and pandas as pd\n",
    "import numpy as np\n",
    "import pandas as pd\n",
    "# Create class: DataShell\n",
    "class DataShell:\n",
    "    # Initialize class with self and inputFile\n",
    "    def __init__(self, inputFile):\n",
    "        self.file = inputFile\n",
    "        \n",
    "    # Define generate_csv method, with self argument\n",
    "    def generate_csv(self):\n",
    "        self.data_as_csv = pd.read_csv(self.file)\n",
    "        return self.data_as_csv\n",
    "# Instantiate DataShell with us_life_expectancy as input argument\n",
    "data_shell = DataShell(us_life_expectancy)\n",
    "# Call data_shell's generate_csv method, assign it to df\n",
    "df = data_shell.generate_csv()\n",
    "# Print df\n",
    "print(df)"
   ]
  },
  {
   "cell_type": "code",
   "execution_count": null,
   "metadata": {},
   "outputs": [],
   "source": [
    "# Import numpy as np, pandas as pd\n",
    "import numpy as np\n",
    "import pandas as pd\n",
    "# Create class: DataShell\n",
    "class DataShell:\n",
    "    # Define initialization method\n",
    "    def __init__(self, filepath):\n",
    "        # Set filepath as instance variable  \n",
    "        self.filepath = filepath\n",
    "        # Set data_as_csv as instance variable\n",
    "        self.data_as_csv = pd.read_csv(filepath)\n",
    "# Instantiate DataShell as us_data_shell\n",
    "us_data_shell = DataShell(us_life_expectancy)\n",
    "# Print your object's data_as_csv attribute\n",
    "print(us_data_shell.data_as_csv)"
   ]
  },
  {
   "cell_type": "code",
   "execution_count": null,
   "metadata": {},
   "outputs": [],
   "source": [
    "# Create class DataShell\n",
    "class DataShell:\n",
    "    # Define initialization method\n",
    "    def __init__(self, filepath):\n",
    "        self.filepath = filepath\n",
    "        self.data_as_csv = pd.read_csv(filepath)\n",
    "    \n",
    "    # Define method rename_column, with arguments self, column_name, and new_column_name\n",
    "    def rename_column(self, column_name, new_column_name):\n",
    "        self.data_as_csv.columns = self.data_as_csv.columns.str.replace(column_name, new_column_name)\n",
    "\n",
    "# Instantiate DataShell as us_data_shell with argument us_life_expectancy\n",
    "us_data_shell = DataShell(us_life_expectancy)\n",
    "\n",
    "# Print the datatype of your object's data_as_csv attribute\n",
    "print(us_data_shell.data_as_csv.dtypes)\n",
    "\n",
    "# Rename your objects column 'code' to 'country_code'\n",
    "us_data_shell.rename_column('code', 'country_code')\n",
    "\n",
    "# Again, print the datatype of your object's data_as_csv attribute\n",
    "print(us_data_shell.data_as_csv.dtypes)"
   ]
  },
  {
   "cell_type": "code",
   "execution_count": null,
   "metadata": {},
   "outputs": [],
   "source": [
    "# Create class DataShell\n",
    "class DataShell:\n",
    "    # Define initialization method\n",
    "    def __init__(self, filepath):\n",
    "        self.filepath = filepath\n",
    "        self.data_as_csv = pd.read_csv(filepath)\n",
    "\n",
    "    # Define method rename_column, with arguments self, column_name, and new_column_name\n",
    "    def rename_column(self, column_name, new_column_name):\n",
    "        self.data_as_csv.columns = self.data_as_csv.columns.str.replace(column_name, new_column_name)\n",
    "        \n",
    "    # Define get_stats method, with argument self\n",
    "    def get_stats(self):\n",
    "        # Return a description data_as_csv\n",
    "        return self.data_as_csv.describe()\n",
    "    \n",
    "# Instantiate DataShell as us_data_shell\n",
    "us_data_shell = DataShell(us_life_expectancy)\n",
    "\n",
    "# Print the output of your objects get_stats method\n",
    "print(us_data_shell.get_stats())"
   ]
  },
  {
   "cell_type": "markdown",
   "metadata": {},
   "source": [
    "#### Inheritance"
   ]
  },
  {
   "cell_type": "code",
   "execution_count": 14,
   "metadata": {},
   "outputs": [
    {
     "name": "stdout",
     "output_type": "stream",
     "text": [
      "<__main__.Mammal object at 0x0000029A47ACFA58>\n",
      "<__main__.Reptile object at 0x0000029A47ACFAC8>\n"
     ]
    }
   ],
   "source": [
    "# Create a class Animal\n",
    "class Animal:\n",
    "    def __init__(self, name):\n",
    "        self.name = name\n",
    "\n",
    "# Create a class Mammal, which inherits from Animal\n",
    "class Mammal(Animal):\n",
    "    def __init__(self, name, animal_type):\n",
    "        self.animal_type = animal_type\n",
    "\n",
    "# Create a class Reptile, which also inherits from Animal\n",
    "class Reptile(Animal):\n",
    "    def __init__(self, name, animal_type):\n",
    "        self.animal_type = animal_type\n",
    "\n",
    "# Instantiate a mammal with name 'Daisy' and animal_type 'dog': daisy\n",
    "daisy = Mammal('Daisy', 'dog')\n",
    "\n",
    "# Instantiate a reptile with name 'Stella' and animal_type 'alligator': stella\n",
    "stella = Reptile('Stella', 'alligator')\n",
    "\n",
    "# Print both objects\n",
    "print(daisy)\n",
    "print(stella)"
   ]
  },
  {
   "cell_type": "code",
   "execution_count": 13,
   "metadata": {},
   "outputs": [
    {
     "name": "stdout",
     "output_type": "stream",
     "text": [
      "Stella Spinal cord: True\n",
      "Stella temperature regularization: False\n",
      "Daisy Spinal cord: True\n",
      "Daisy temperature regularization: True\n"
     ]
    }
   ],
   "source": [
    "# Create a class Vertebrate\n",
    "class Vertebrate:\n",
    "    spinal_cord = True\n",
    "    def __init__(self, name):\n",
    "        self.name = name\n",
    "\n",
    "# Create a class Mammal, which inherits from Vertebrate\n",
    "class Mammal(Vertebrate):\n",
    "    def __init__(self, name, animal_type):\n",
    "        self.animal_type = animal_type\n",
    "        self.temperature_regulation = True\n",
    "\n",
    "# Create a class Reptile, which also inherits from Vertebrate\n",
    "class Reptile(Vertebrate):\n",
    "    def __init__(self, name, animal_type):\n",
    "        self.animal_type = animal_type\n",
    "        self.temperature_regulation = False\n",
    "\n",
    "# Instantiate a mammal with name 'Daisy' and animal_type 'dog': daisy\n",
    "daisy = Mammal('Daisy', 'dog')\n",
    "\n",
    "# Instantiate a reptile with name 'Stella' and animal_type 'alligator': stella\n",
    "stella = Reptile('Stella', 'alligator')\n",
    "\n",
    "# Print stella's attributes spinal_cord and temperature_regulation\n",
    "print(\"Stella Spinal cord: \" + str(stella.spinal_cord))\n",
    "print(\"Stella temperature regularization: \" + str(stella.temperature_regulation))\n",
    "\n",
    "# Print daisy's attributes spinal_cord and temperature_regulation\n",
    "print(\"Daisy Spinal cord: \" + str(daisy.spinal_cord))\n",
    "print(\"Daisy temperature regularization: \" + str(daisy.temperature_regulation))"
   ]
  },
  {
   "cell_type": "markdown",
   "metadata": {},
   "source": [
    "#### Inheritance with DataShells"
   ]
  },
  {
   "cell_type": "code",
   "execution_count": null,
   "metadata": {},
   "outputs": [],
   "source": [
    "# Load numpy as np and pandas as pd\n",
    "import numpy as np\n",
    "import pandas as pd\n",
    "\n",
    "# Create class: DataShell\n",
    "class DataShell:\n",
    "    def __init__(self, inputFile):\n",
    "        self.file = inputFile\n",
    "\n",
    "# Instantiate DataShell as my_data_shell\n",
    "my_data_shell = DataShell(us_life_expectancy)\n",
    "\n",
    "# Print my_data_shell\n",
    "print(my_data_shell)"
   ]
  },
  {
   "cell_type": "code",
   "execution_count": null,
   "metadata": {},
   "outputs": [],
   "source": [
    "# Load numpy as np and pandas as pd\n",
    "import numpy as np\n",
    "import pandas as pd\n",
    "\n",
    "# Create class: DataShell\n",
    "class DataShell:\n",
    "    def __init__(self, inputFile):\n",
    "        self.file = inputFile\n",
    "\n",
    "# Create class CsvDataShell, which inherits from DataShell\n",
    "class CsvDataShell(DataShell):\n",
    "    # Initialization method with arguments self, inputFile\n",
    "    def __init__(self, inputFile):\n",
    "        # Instance variable data\n",
    "        self.data = pd.read_csv(inputFile)\n",
    "\n",
    "# Instantiate CsvDataShell as us_data_shell, passing us_life_expectancy as argument\n",
    "us_data_shell = CsvDataShell(us_life_expectancy)"
   ]
  },
  {
   "cell_type": "markdown",
   "metadata": {},
   "source": [
    "#### Composition"
   ]
  },
  {
   "cell_type": "code",
   "execution_count": null,
   "metadata": {},
   "outputs": [],
   "source": [
    "# Define abstract class DataShell\n",
    "class DataShell:\n",
    "    # Class variable family\n",
    "    family = 'DataShell'\n",
    "    # Initialization method with arguments, and instance variables\n",
    "    def __init__(self, name, filepath): \n",
    "        self.name = name\n",
    "        self.filepath = filepath\n",
    "\n",
    "# Define class CsvDataShell      \n",
    "class CsvDataShell(DataShell):\n",
    "    # Initialization method with arguments self, name, filepath\n",
    "    def __init__(self, name, filepath):\n",
    "        # Instance variable data\n",
    "        self.data = pd.read_csv(filepath)\n",
    "        # Instance variable stats\n",
    "        self.stats = self.data.describe()\n",
    "\n",
    "# Instantiate CsvDataShell as us_data_shell\n",
    "us_data_shell = CsvDataShell(\"US\", us_life_expectancy)\n",
    "\n",
    "# Print us_data_shell.stats\n",
    "print(us_data_shell.stats)"
   ]
  },
  {
   "cell_type": "code",
   "execution_count": null,
   "metadata": {},
   "outputs": [],
   "source": [
    "# Define abstract class DataShell\n",
    "class DataShell:\n",
    "    family = 'DataShell'\n",
    "    def __init__(self, name, filepath): \n",
    "        self.name = name\n",
    "        self.filepath = filepath\n",
    "\n",
    "# Define class CsvDataShell\n",
    "class CsvDataShell(DataShell):\n",
    "    def __init__(self, name, filepath):\n",
    "        self.data = pd.read_csv(filepath)\n",
    "        self.stats = self.data.describe()\n",
    "\n",
    "# Define class TsvDataShell\n",
    "class TsvDataShell(DataShell):\n",
    "    # Initialization method with arguments self, name, filepath\n",
    "    def __init__(self, name, filepath):\n",
    "        # Instance variable data\n",
    "        self.data = pd.read_table(filepath)\n",
    "        # Instance variable stats\n",
    "        self.stats = self.data.describe()\n",
    "\n",
    "# Instantiate CsvDataShell as us_data_shell, print us_data_shell.stats\n",
    "us_data_shell = CsvDataShell(\"US\", us_life_expectancy)\n",
    "print(us_data_shell.stats)\n",
    "\n",
    "# Instantiate TsvDataShell as france_data_shell, print france_data_shell.stats\n",
    "france_data_shell = TsvDataShell(\"France\", france_life_expectancy)\n",
    "print(france_data_shell.stats)"
   ]
  }
 ],
 "metadata": {
  "kernelspec": {
   "display_name": "Python 3",
   "language": "python",
   "name": "python3"
  },
  "language_info": {
   "codemirror_mode": {
    "name": "ipython",
    "version": 3
   },
   "file_extension": ".py",
   "mimetype": "text/x-python",
   "name": "python",
   "nbconvert_exporter": "python",
   "pygments_lexer": "ipython3",
   "version": "3.6.5"
  }
 },
 "nbformat": 4,
 "nbformat_minor": 2
}
