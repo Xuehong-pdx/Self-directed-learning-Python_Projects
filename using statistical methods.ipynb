{
 "cells": [
  {
   "cell_type": "code",
   "execution_count": 2,
   "metadata": {},
   "outputs": [],
   "source": [
    "import pandas as pd\n",
    "import numpy as np\n",
    "import matplotlib.pyplot as plt\n",
    "import seaborn as sns\n",
    "%matplotlib inline"
   ]
  },
  {
   "cell_type": "code",
   "execution_count": 4,
   "metadata": {},
   "outputs": [
    {
     "name": "stdout",
     "output_type": "stream",
     "text": [
      "wnba_first_one: \n",
      "             Name Team Pos  Height  Weight        BMI Birth_Place  \\\n",
      "0  Aerial Powers  DAL   F     183    71.0  21.200991          US   \n",
      "\n",
      "          Birthdate  Age         College Experience  Games Played  MIN  FGM  \\\n",
      "0  January 17, 1994   23  Michigan State          2             8  173   30   \n",
      "\n",
      "   FGA   FG%  15:00  3PA   3P%  FTM  FTA   FT%  OREB  DREB  REB  AST  STL  \\\n",
      "0   85  35.3     12   32  37.5   21   26  80.8     6    22   28   12    3   \n",
      "\n",
      "   BLK  TO  PTS  DD2  TD3  \n",
      "0    6  12   93    0    0  \n",
      "\n",
      "wnba_shape:  (143, 32)\n",
      "sampling_error:  2\n"
     ]
    }
   ],
   "source": [
    "pd.options.display.max_rows = 200\n",
    "pd.options.display.max_columns = 50\n",
    "\n",
    "wnba = pd.read_csv(\"wnba.csv\")\n",
    "print('wnba_first_one: \\n', wnba.head(1))\n",
    "print('\\nwnba_shape: ', wnba.shape)\n",
    "parameter = max(wnba['Games Played'])\n",
    "sample = wnba['Games Played'].sample(30, random_state = 1)\n",
    "statistic = max(sample)\n",
    "sampling_error = parameter - statistic\n",
    "print('sampling_error: ', sampling_error)"
   ]
  },
  {
   "cell_type": "code",
   "execution_count": 62,
   "metadata": {},
   "outputs": [
    {
     "data": {
      "text/plain": [
       "<matplotlib.lines.Line2D at 0x21eb0628668>"
      ]
     },
     "execution_count": 62,
     "metadata": {},
     "output_type": "execute_result"
    },
    {
     "data": {
      "image/png": "[encoded data removed]",
      "text/plain": [
       "<Figure size 288x216 with 1 Axes>"
      ]
     },
     "metadata": {},
     "output_type": "display_data"
    }
   ],
   "source": [
    "ls=[]\n",
    "for i in range(100):\n",
    "    avg = wnba['PTS'].sample(10, random_state=i).mean()\n",
    "    ls.append(avg)\n",
    "plt.figure(figsize=(4,3))\n",
    "plt.scatter(x=range(1,101), y=ls)\n",
    "plt.axhline(wnba['PTS'].mean())"
   ]
  },
  {
   "cell_type": "code",
   "execution_count": 41,
   "metadata": {},
   "outputs": [
    {
     "name": "stdout",
     "output_type": "stream",
     "text": [
      "C\n"
     ]
    }
   ],
   "source": [
    "# stratified sampling (stratum): organize our data set into different groups, \n",
    "#     then do simple random sampling for every group.\n",
    "wnba['Pts_per_game']=wnba['PTS']/wnba['Games Played']\n",
    "# Stratifying the data in five strata\n",
    "stratum_G = wnba[wnba.Pos == 'G']\n",
    "stratum_F = wnba[wnba.Pos == 'F']\n",
    "stratum_C = wnba[wnba.Pos == 'C']\n",
    "stratum_GF = wnba[wnba.Pos == 'G/F']\n",
    "stratum_FC = wnba[wnba.Pos == 'F/C']  \n",
    "\n",
    "strata = [(stratum_G, 'G'),  (stratum_F, 'F'), (stratum_C, 'C'), (stratum_GF, 'GF'), \\\n",
    "          (stratum_FC, 'FC')]\n",
    "avgs={}\n",
    "for item, key in strata:\n",
    "    avg = item['Pts_per_game'].sample(10, random_state = 0).mean()\n",
    "    avgs[key] = avg\n",
    "position_most_points = max(avgs, key = avgs.get)\n",
    "print(position_most_points)"
   ]
  },
  {
   "cell_type": "code",
   "execution_count": 42,
   "metadata": {},
   "outputs": [
    {
     "data": {
      "text/plain": [
       "(22.0, 32.0]     0.727273\n",
       "(12.0, 22.0]     0.181818\n",
       "(1.969, 12.0]    0.090909\n",
       "Name: Games Played, dtype: float64"
      ]
     },
     "execution_count": 42,
     "metadata": {},
     "output_type": "execute_result"
    }
   ],
   "source": [
    "wnba['Games Played'].value_counts(bins = 3, normalize = True)\n",
    "# count values in three ranges"
   ]
  },
  {
   "cell_type": "code",
   "execution_count": 43,
   "metadata": {},
   "outputs": [
    {
     "data": {
      "text/plain": [
       "\"\\nwnba['Games Played'].value_counts(bins = 3, normalize = True)\\n# count values in three ranges\\nunder_12 = wnba[wnba['Games Played'] <= 12]\\nbtw_13_22 = wnba[(wnba['Games Played'] > 12) & (wnba['Games Played'] <= 22)]\\nover_23 = wnba[wnba['Games Played'] > 22]\\n\\nproportional_sampling_means=[]\\nfor i in range(100):\\n    sample_under_12 = under_12['PTS'].sample(1, random_state=i)\\n    sample_btw_13_22 = btw_13_22['PTS'].sample(2, random_state=i)\\n    sample_over_23 = over_23['PTS'].sample(7, random_state=i)\\n    final_sample = pd.concat([sample_under_12, sample_btw_13_22, sample_over_23])           \\n    proportional_sampling_means.append(final_sample.mean())\\nplt.scatter(range(1,101), proportional_sampling_means)\\nplt.axhline(wnba['PTS'].mean())\\n\""
      ]
     },
     "execution_count": 43,
     "metadata": {},
     "output_type": "execute_result"
    }
   ],
   "source": [
    "'''\n",
    "wnba['Games Played'].value_counts(bins = 3, normalize = True)\n",
    "# count values in three ranges\n",
    "under_12 = wnba[wnba['Games Played'] <= 12]\n",
    "btw_13_22 = wnba[(wnba['Games Played'] > 12) & (wnba['Games Played'] <= 22)]\n",
    "over_23 = wnba[wnba['Games Played'] > 22]\n",
    "\n",
    "proportional_sampling_means=[]\n",
    "for i in range(100):\n",
    "    sample_under_12 = under_12['PTS'].sample(1, random_state=i)\n",
    "    sample_btw_13_22 = btw_13_22['PTS'].sample(2, random_state=i)\n",
    "    sample_over_23 = over_23['PTS'].sample(7, random_state=i)\n",
    "    final_sample = pd.concat([sample_under_12, sample_btw_13_22, sample_over_23])           \n",
    "    proportional_sampling_means.append(final_sample.mean())\n",
    "plt.scatter(range(1,101), proportional_sampling_means)\n",
    "plt.axhline(wnba['PTS'].mean())\n",
    "'''"
   ]
  },
  {
   "cell_type": "code",
   "execution_count": 44,
   "metadata": {},
   "outputs": [],
   "source": [
    "# Porportional sampling above din't perform better than simple random sampling"
   ]
  },
  {
   "cell_type": "code",
   "execution_count": 45,
   "metadata": {},
   "outputs": [
    {
     "name": "stdout",
     "output_type": "stream",
     "text": [
      "(347.333, 682.667]    0.349650\n",
      "(10.993, 347.333]     0.335664\n",
      "(682.667, 1018.0]     0.314685\n",
      "Name: MIN, dtype: float64\n"
     ]
    }
   ],
   "source": [
    "strata = wnba['MIN'].value_counts(bins = 3, normalize = True)\n",
    "print(strata)"
   ]
  },
  {
   "cell_type": "code",
   "execution_count": 63,
   "metadata": {},
   "outputs": [
    {
     "data": {
      "text/plain": [
       "<matplotlib.lines.Line2D at 0x21eb0689198>"
      ]
     },
     "execution_count": 63,
     "metadata": {},
     "output_type": "execute_result"
    },
    {
     "data": {
      "image/png": "[encoded data removed]",
      "text/plain": [
       "<Figure size 288x216 with 1 Axes>"
      ]
     },
     "metadata": {},
     "output_type": "display_data"
    }
   ],
   "source": [
    "under_347_min = wnba[wnba['MIN'] <= 347]\n",
    "btw_347_683 = wnba[(wnba['MIN'] > 347) & (wnba['Games Played'] <= 683)]\n",
    "over_683 = wnba[wnba['MIN'] > 683]\n",
    "proportional_sampling_means=[]\n",
    "for i in range(100):\n",
    "    sample_under_347_min = under_347_min['PTS'].sample(4, random_state=i)\n",
    "    sample_btw_347_683 = btw_347_683['PTS'].sample(4, random_state=i)\n",
    "    sample_over_683 = over_683['PTS'].sample(4, random_state=i)\n",
    "    final_sample = pd.concat([sample_under_347_min, sample_btw_347_683, sample_over_683])\n",
    "    proportional_sampling_means.append(final_sample.mean())\n",
    "plt.figure(figsize=(4,3))\n",
    "plt.scatter(range(1,101), proportional_sampling_means)\n",
    "plt.axhline(wnba['PTS'].mean())"
   ]
  },
  {
   "cell_type": "code",
   "execution_count": 47,
   "metadata": {},
   "outputs": [
    {
     "data": {
      "text/plain": [
       "6     PHO\n",
       "11    IND\n",
       "4     MIN\n",
       "10    ATL\n",
       "dtype: object"
      ]
     },
     "execution_count": 47,
     "metadata": {},
     "output_type": "execute_result"
    }
   ],
   "source": [
    "# cluster sampling: each of the individual data sources is a cluster\n",
    "# sample four clusters randomly\n",
    "pd.Series(wnba['Team'].unique()).sample(4, random_state = 0)"
   ]
  },
  {
   "cell_type": "code",
   "execution_count": 95,
   "metadata": {},
   "outputs": [
    {
     "name": "stdout",
     "output_type": "stream",
     "text": [
      "sampling_error_height:  -0.06400121617511445\n",
      "sampling_error_age:  -1.401337792642142\n",
      "sampling_error_BMI:  0.23095444165950596\n",
      "sampling_error_points:  -27.79674673152934\n"
     ]
    }
   ],
   "source": [
    "pd.Series(wnba['Team'].unique()).sample(4, random_state = 0)\n",
    "df1 = wnba[wnba['Team']=='PHO']\n",
    "df2 = wnba[wnba['Team']=='IND']\n",
    "df3 = wnba[wnba['Team']== 'MIN']\n",
    "df4 = wnba[wnba['Team']=='ATL']\n",
    "df = pd.concat([df1, df2, df3, df4])\n",
    "height = df['Height'].mean()\n",
    "age = df['Age'].mean()\n",
    "BMI = df['BMI'].mean()\n",
    "points = df['PTS'].mean()\n",
    "sampling_error_height = wnba['Height'].mean() - height\n",
    "sampling_error_age = wnba['Age'].mean() - age\n",
    "sampling_error_BMI = wnba['BMI'].mean() - BMI\n",
    "sampling_error_points = wnba['PTS'].mean() - points\n",
    "print('sampling_error_height: ', sampling_error_height)\n",
    "print('sampling_error_age: ', sampling_error_age)\n",
    "print('sampling_error_BMI: ', sampling_error_BMI)\n",
    "print('sampling_error_points: ', sampling_error_points)"
   ]
  },
  {
   "cell_type": "code",
   "execution_count": null,
   "metadata": {},
   "outputs": [],
   "source": [
    "# sampling methods: https://en.wikipedia.org/wiki/Sampling_(statistics)#Sampling_methods\n",
    "# descriptive statistics: visualizing properties of the data through graphs\n",
    "# inferential statistics: use a sample to draw conclusions about a population"
   ]
  },
  {
   "cell_type": "code",
   "execution_count": 7,
   "metadata": {},
   "outputs": [
    {
     "name": "stdout",
     "output_type": "stream",
     "text": [
      "['Birth_Place', 'College', 'Name', 'Pos', 'Team']\n"
     ]
    }
   ],
   "source": [
    "# List variables measured on a nominal scale to a list, and sort the list\n",
    "# wnba.info()\n",
    "nominal_scale = sorted(['Name', 'Team', 'Pos', 'Birth_Place', 'College'])\n",
    "print(nominal_scale)"
   ]
  },
  {
   "cell_type": "code",
   "execution_count": 9,
   "metadata": {},
   "outputs": [],
   "source": [
    "# sort the table by index ordererly using \n",
    "age_ascending = wnba['Age'].value_counts().sort_index(ascending=True)\n",
    "age_descending = wnba['Age'].value_counts().sort_index(ascending=False)"
   ]
  },
  {
   "cell_type": "code",
   "execution_count": null,
   "metadata": {},
   "outputs": [],
   "source": [
    "def make_pts_ordinal(row):\n",
    "    if row['PTS'] <= 20:\n",
    "        return 'very few points'\n",
    "    if (20 < row['PTS'] <=  80):\n",
    "        return 'few points'\n",
    "    if (80 < row['PTS'] <=  150):\n",
    "        return 'many, but below average'\n",
    "    if (150 < row['PTS'] <= 300):\n",
    "        return 'average number of points'\n",
    "    if (300 < row['PTS'] <=  450):\n",
    "        return 'more than average'\n",
    "    else:\n",
    "        return 'much more than average'\n",
    "    \n",
    "wnba['PTS_ordinal_scale'] = wnba.apply(make_pts_ordinal, axis = 1)\n",
    "pts_ordinal_desc = wnba['PTS_ordinal_scale'].value_counts().iloc[[4, 3, 0, 2, 1, 5]]"
   ]
  },
  {
   "cell_type": "code",
   "execution_count": 15,
   "metadata": {},
   "outputs": [
    {
     "name": "stdout",
     "output_type": "stream",
     "text": [
      "18.88111888111888\n",
      "16.083916083916083\n",
      "83.91608391608392\n"
     ]
    }
   ],
   "source": [
    "# use kind = 'weak' to find the percentage of values thar are equal to or less than \n",
    "# the value specified in the score parameter\n",
    "from scipy.stats import percentileofscore\n",
    "print(percentileofscore(a = wnba['Age'], score = 23, kind = 'weak'))\n",
    "\n",
    "# percentage of players played half the number of games or less\n",
    "percentile_rank_half_less = percentileofscore(wnba['Games Played'], 17, kind ='weak')\n",
    "#  percentage of players played more than half the number of games\n",
    "percentage_half_more = 100 - percentileofscore(wnba['Games Played'], 17, kind ='weak')\n",
    "print(percentile_rank_half_less)\n",
    "print(percentage_half_more)"
   ]
  },
  {
   "cell_type": "code",
   "execution_count": 19,
   "metadata": {},
   "outputs": [
    {
     "name": "stdout",
     "output_type": "stream",
     "text": [
      "count    143.000000\n",
      "mean      27.076923\n",
      "std        3.679170\n",
      "min       21.000000\n",
      "25%       24.000000\n",
      "50%       27.000000\n",
      "75%       30.000000\n",
      "max       36.000000\n",
      "Name: Age, dtype: float64\n"
     ]
    }
   ],
   "source": [
    "print(wnba['Age'].describe())"
   ]
  },
  {
   "cell_type": "code",
   "execution_count": 20,
   "metadata": {},
   "outputs": [
    {
     "name": "stdout",
     "output_type": "stream",
     "text": [
      "min    21.0\n",
      "25%    24.0\n",
      "50%    27.0\n",
      "75%    30.0\n",
      "max    36.0\n",
      "Name: Age, dtype: float64\n"
     ]
    }
   ],
   "source": [
    "print(wnba['Age'].describe().iloc[3:])"
   ]
  },
  {
   "cell_type": "code",
   "execution_count": 23,
   "metadata": {},
   "outputs": [
    {
     "name": "stdout",
     "output_type": "stream",
     "text": [
      "count    143.000000\n",
      "mean      27.076923\n",
      "std        3.679170\n",
      "min       21.000000\n",
      "50%       27.000000\n",
      "75%       30.000000\n",
      "max       36.000000\n",
      "Name: Age, dtype: float64\n",
      "\n",
      " count    143.000000\n",
      "mean      27.076923\n",
      "std        3.679170\n",
      "min       21.000000\n",
      "50%       27.000000\n",
      "max       36.000000\n",
      "Name: Age, dtype: float64\n",
      "\n",
      " count    143.000000\n",
      "mean      27.076923\n",
      "std        3.679170\n",
      "min       21.000000\n",
      "50%       27.000000\n",
      "95%       34.000000\n",
      "max       36.000000\n",
      "Name: Age, dtype: float64\n"
     ]
    }
   ],
   "source": [
    "wnba = pd.read_csv('wnba.csv')\n",
    "# upper quartile of the Age variable\n",
    "age_upper_quartile = wnba['Age'].describe(percentiles = [.75])\n",
    "# middle quartile of the Age variable\n",
    "age_middle_quartile = wnba['Age'].describe(percentiles = [.5])\n",
    "# 95th percentile of the Age variable\n",
    "age_95th_percentile = wnba['Age'].describe(percentiles = [.95])\n",
    "print(age_upper_quartile)\n",
    "print('\\n',age_middle_quartile)\n",
    "print('\\n',age_95th_percentile)"
   ]
  },
  {
   "cell_type": "code",
   "execution_count": 24,
   "metadata": {},
   "outputs": [
    {
     "name": "stdout",
     "output_type": "stream",
     "text": [
      "(54.941, 60.8]     5\n",
      "(60.8, 66.6]      21\n",
      "(66.6, 72.4]      10\n",
      "(72.4, 78.2]      33\n",
      "(78.2, 84.0]      31\n",
      "(84.0, 89.8]      24\n",
      "(89.8, 95.6]      10\n",
      "(95.6, 101.4]      3\n",
      "(101.4, 107.2]     2\n",
      "(107.2, 113.0]     3\n",
      "Name: Weight, dtype: int64\n"
     ]
    }
   ],
   "source": [
    "print(wnba['Weight'].value_counts(bins = 10).sort_index())"
   ]
  },
  {
   "cell_type": "code",
   "execution_count": 25,
   "metadata": {},
   "outputs": [
    {
     "name": "stdout",
     "output_type": "stream",
     "text": [
      "(525.8, 584.0]     3.496503\n",
      "(467.6, 525.8]     2.797203\n",
      "(409.4, 467.6]     5.594406\n",
      "(351.2, 409.4]     6.993007\n",
      "(293.0, 351.2]     5.594406\n",
      "(234.8, 293.0]    11.888112\n",
      "(176.6, 234.8]    13.986014\n",
      "(118.4, 176.6]    11.888112\n",
      "(60.2, 118.4]     16.783217\n",
      "(1.417, 60.2]     20.979021\n",
      "Name: PTS, dtype: float64\n"
     ]
    }
   ],
   "source": [
    "grouped_freq_table = wnba['PTS'].value_counts(bins = 10,\n",
    "                normalize = True).sort_index(ascending = False)*100\n",
    "print(grouped_freq_table)"
   ]
  },
  {
   "cell_type": "code",
   "execution_count": null,
   "metadata": {},
   "outputs": [],
   "source": [
    "intervals = pd.interval_range(start = 0, end = 600, freq = 100)\n",
    "print(intervals)\n",
    "gr_freq_table = pd.Series([0,0,0,0,0,0], index = intervals)\n",
    "print(gr_freq_table)\n",
    "for value in wnba['PTS']:\n",
    "    for interval in intervals:\n",
    "        if value in interval:\n",
    "            gr_freq_table.loc[interval] += 1\n",
    "            break\n",
    "print(gr_freq_table)"
   ]
  },
  {
   "cell_type": "code",
   "execution_count": 26,
   "metadata": {},
   "outputs": [
    {
     "name": "stdout",
     "output_type": "stream",
     "text": [
      "(0, 60]       30\n",
      "(60, 120]     25\n",
      "(120, 180]    17\n",
      "(180, 240]    22\n",
      "(240, 300]    15\n",
      "(300, 360]     7\n",
      "(360, 420]    11\n",
      "(420, 480]     7\n",
      "(480, 540]     4\n",
      "(540, 600]     5\n",
      "dtype: int64\n"
     ]
    }
   ],
   "source": [
    "intervals = pd.interval_range(start = 0, end = 600, freq = 60)\n",
    "gr_freq_table_10 = pd.Series([0,0,0,0,0,0,0,0,0,0], index = intervals)\n",
    "for value in wnba['PTS']:\n",
    "    for interval in intervals:\n",
    "        if value in interval:\n",
    "            gr_freq_table_10.loc[interval] += 1\n",
    "            break\n",
    "print(gr_freq_table_10)"
   ]
  },
  {
   "cell_type": "code",
   "execution_count": 65,
   "metadata": {},
   "outputs": [
    {
     "data": {
      "text/plain": [
       "Little experience    42\n",
       "Very experienced     37\n",
       "Experienced          25\n",
       "Rookie               23\n",
       "Veteran              16\n",
       "Name: Exp_ordinal, dtype: int64"
      ]
     },
     "execution_count": 65,
     "metadata": {},
     "output_type": "execute_result"
    }
   ],
   "source": [
    "import numpy as np\n",
    "def lab(y):\n",
    "    if y == 'R':\n",
    "        return 'Rookie'\n",
    "    elif float(y) <= 3.0:\n",
    "        return 'Little experience'\n",
    "    elif float(y) <= 5.0:\n",
    "        return 'Experienced'\n",
    "    elif float(y) <= 10.0:\n",
    "        return 'Very experienced'\n",
    "    else:\n",
    "        return 'Veteran'\n",
    "wnba['Exp_ordinal'] = wnba['Experience'].apply(lab)\n",
    "wnba['Exp_ordinal'].value_counts()"
   ]
  },
  {
   "cell_type": "code",
   "execution_count": 67,
   "metadata": {},
   "outputs": [
    {
     "data": {
      "text/plain": [
       "<matplotlib.axes._subplots.AxesSubplot at 0x21eb090c390>"
      ]
     },
     "execution_count": 67,
     "metadata": {},
     "output_type": "execute_result"
    },
    {
     "data": {
      "image/png": "[encoded data removed]",
      "text/plain": [
       "<Figure size 288x216 with 1 Axes>"
      ]
     },
     "metadata": {},
     "output_type": "display_data"
    }
   ],
   "source": [
    "plt.figure(figsize=(4,3))\n",
    "wnba['Exp_ordinal'].value_counts().iloc[[3,0,2,1,4]].plot.barh(title = 'Number of players in WNBA by level of experience')"
   ]
  },
  {
   "cell_type": "code",
   "execution_count": 63,
   "metadata": {},
   "outputs": [
    {
     "data": {
      "text/plain": [
       "Text(0,0.5,'')"
      ]
     },
     "execution_count": 63,
     "metadata": {},
     "output_type": "execute_result"
    },
    {
     "data": {
      "image/png": "[encoded data removed]",
      "text/plain": [
       "<Figure size 288x288 with 1 Axes>"
      ]
     },
     "metadata": {},
     "output_type": "display_data"
    }
   ],
   "source": [
    "wnba['Pos'].value_counts().plot.pie(figsize = (4,4), autopct = '%.1f%%')\n",
    "plt.ylabel('')"
   ]
  },
  {
   "cell_type": "code",
   "execution_count": 57,
   "metadata": {},
   "outputs": [
    {
     "data": {
      "text/plain": [
       "<matplotlib.axes._subplots.AxesSubplot at 0x21eb04c0ba8>"
      ]
     },
     "execution_count": 57,
     "metadata": {},
     "output_type": "execute_result"
    },
    {
     "data": {
      "image/png": "[encoded data removed]",
      "text/plain": [
       "<Figure size 288x216 with 1 Axes>"
      ]
     },
     "metadata": {},
     "output_type": "display_data"
    }
   ],
   "source": [
    "plt.figure(figsize=(4,3))\n",
    "wnba['PTS'].plot.hist()"
   ]
  },
  {
   "cell_type": "code",
   "execution_count": 58,
   "metadata": {},
   "outputs": [
    {
     "data": {
      "text/plain": [
       "<matplotlib.axes._subplots.AxesSubplot at 0x21eb04c0048>"
      ]
     },
     "execution_count": 58,
     "metadata": {},
     "output_type": "execute_result"
    },
    {
     "data": {
      "image/png": "[encoded data removed]",
      "text/plain": [
       "<Figure size 288x216 with 1 Axes>"
      ]
     },
     "metadata": {},
     "output_type": "display_data"
    }
   ],
   "source": [
    "from numpy import arange\n",
    "plt.figure(figsize=(4,3))\n",
    "wnba['PTS'].plot.hist(grid = True, xticks = arange(2,585,58.2), rot = 30)"
   ]
  },
  {
   "cell_type": "code",
   "execution_count": 59,
   "metadata": {},
   "outputs": [
    {
     "data": {
      "text/plain": [
       "Text(0.5,0,'Games played')"
      ]
     },
     "execution_count": 59,
     "metadata": {},
     "output_type": "execute_result"
    },
    {
     "data": {
      "image/png": "[encoded data removed]",
      "text/plain": [
       "<Figure size 288x216 with 1 Axes>"
      ]
     },
     "metadata": {},
     "output_type": "display_data"
    }
   ],
   "source": [
    "plt.figure(figsize=(4,3))\n",
    "wnba['Games Played'].plot.hist(range = (1,32), bins=8, title='The distribution of players by games played')\n",
    "plt.xlabel('Games played')"
   ]
  },
  {
   "cell_type": "code",
   "execution_count": 69,
   "metadata": {},
   "outputs": [
    {
     "data": {
      "text/plain": [
       "<matplotlib.axes._subplots.AxesSubplot at 0x21eb1680080>"
      ]
     },
     "execution_count": 69,
     "metadata": {},
     "output_type": "execute_result"
    },
    {
     "data": {
      "image/png": "[encoded data removed]",
      "text/plain": [
       "<Figure size 432x288 with 1 Axes>"
      ]
     },
     "metadata": {},
     "output_type": "display_data"
    }
   ],
   "source": [
    "import seaborn as sns\n",
    "sns.set()\n",
    "sns.countplot(data = wnba, x = 'Exp_ordinal', hue = 'Pos', \n",
    "              order = ['Rookie', 'Little experience', 'Experienced', 'Very experienced', 'Veteran'],\n",
    "              hue_order = ['C', 'F', 'F/C', 'G', 'G/F'])"
   ]
  },
  {
   "cell_type": "code",
   "execution_count": 73,
   "metadata": {},
   "outputs": [
    {
     "data": {
      "text/plain": [
       "average or above    73\n",
       "below average       70\n",
       "Name: min_mean_relative, dtype: int64"
      ]
     },
     "execution_count": 73,
     "metadata": {},
     "output_type": "execute_result"
    },
    {
     "data": {
      "image/png": "[encoded data removed]",
      "text/plain": [
       "<Figure size 360x216 with 1 Axes>"
      ]
     },
     "metadata": {},
     "output_type": "display_data"
    }
   ],
   "source": [
    "wnba['age_mean_relative'] = wnba['Age'].apply(lambda x: 'old' if x >= 27 else 'young')\n",
    "wnba['min_mean_relative'] = wnba['MIN'].apply(lambda x: 'average or above' if x >= 497 else\n",
    "                                           'below average')\n",
    "plt.figure(figsize=(5,3))\n",
    "sns.countplot(data=wnba, x='age_mean_relative', hue='min_mean_relative')\n",
    "wnba['min_mean_relative'].value_counts()"
   ]
  },
  {
   "cell_type": "code",
   "execution_count": 75,
   "metadata": {},
   "outputs": [
    {
     "data": {
      "text/plain": [
       "<matplotlib.legend.Legend at 0x21eb1581e10>"
      ]
     },
     "execution_count": 75,
     "metadata": {},
     "output_type": "execute_result"
    },
    {
     "data": {
      "image/png": "[encoded data removed]",
      "text/plain": [
       "<Figure size 432x288 with 1 Axes>"
      ]
     },
     "metadata": {},
     "output_type": "display_data"
    }
   ],
   "source": [
    "wnba[wnba.Age >= 27]['MIN'].plot.hist(histtype = 'step', label = 'Old', legend = True, color='green')\n",
    "wnba[wnba.Age < 27]['MIN'].plot.hist(histtype = 'step', label = 'Young', legend = True, color='red')\n",
    "\n",
    "plt.axvline(x=497, label='Average')\n",
    "plt.legend()"
   ]
  },
  {
   "cell_type": "code",
   "execution_count": 77,
   "metadata": {},
   "outputs": [
    {
     "data": {
      "text/plain": [
       "<matplotlib.legend.Legend at 0x1e0f13192e8>"
      ]
     },
     "execution_count": 77,
     "metadata": {},
     "output_type": "execute_result"
    },
    {
     "data": {
      "image/png": "[encoded data removed]",
      "text/plain": [
       "<Figure size 432x288 with 1 Axes>"
      ]
     },
     "metadata": {},
     "output_type": "display_data"
    }
   ],
   "source": [
    "# kernel density estimate plot/kernel density plot\n",
    "wnba[wnba.Age >= 27]['MIN'].plot.kde(label = 'Old', legend = True)\n",
    "wnba[wnba.Age < 27]['MIN'].plot.kde(label = 'Young', legend = True)\n",
    "plt.axvline(x=497, label='Average', color='red')\n",
    "plt.legend()"
   ]
  },
  {
   "cell_type": "code",
   "execution_count": 78,
   "metadata": {},
   "outputs": [
    {
     "data": {
      "text/plain": [
       "<matplotlib.axes._subplots.AxesSubplot at 0x1e0f13230b8>"
      ]
     },
     "execution_count": 78,
     "metadata": {},
     "output_type": "execute_result"
    },
    {
     "data": {
      "image/png": "[encoded data removed]",
      "text/plain": [
       "<Figure size 432x288 with 1 Axes>"
      ]
     },
     "metadata": {},
     "output_type": "display_data"
    }
   ],
   "source": [
    "sns.stripplot(data=wnba, x='Pos', y='Weight', jitter=True)"
   ]
  },
  {
   "cell_type": "code",
   "execution_count": 79,
   "metadata": {},
   "outputs": [
    {
     "data": {
      "text/plain": [
       "<matplotlib.axes._subplots.AxesSubplot at 0x1e0f1274da0>"
      ]
     },
     "execution_count": 79,
     "metadata": {},
     "output_type": "execute_result"
    },
    {
     "data": {
      "image/png": "[encoded data removed]",
      "text/plain": [
       "<Figure size 432x288 with 1 Axes>"
      ]
     },
     "metadata": {},
     "output_type": "display_data"
    }
   ],
   "source": [
    "sns.boxplot(data=wnba, x='Pos', y='Weight')"
   ]
  },
  {
   "cell_type": "code",
   "execution_count": 82,
   "metadata": {},
   "outputs": [
    {
     "name": "stdout",
     "output_type": "stream",
     "text": [
      "12\n",
      "0\n"
     ]
    }
   ],
   "source": [
    "iqr = 7\n",
    "lower_bound = 11.5\n",
    "upper_bound= 39.5\n",
    "outliers_low = sum(wnba['Games Played'] < lower_bound) \n",
    "outliers_high = sum(wnba['Games Played'] > upper_bound)\n",
    "print(outliers_low)\n",
    "print(outliers_high)"
   ]
  },
  {
   "cell_type": "code",
   "execution_count": 85,
   "metadata": {},
   "outputs": [
    {
     "name": "stdout",
     "output_type": "stream",
     "text": [
      "   Year     Mean Price  Houses Sold\n",
      "0  2006  181761.648000          625\n",
      "1  2007  185138.207493          694\n",
      "2  2008  178841.750804          622\n",
      "3  2009  181404.567901          648\n",
      "4  2020  172597.598240          341\n"
     ]
    }
   ],
   "source": [
    "houses_per_year = pd.DataFrame()\n",
    "houses_per_year['Year'] = [2006,2007,2008,2009,2020]\n",
    "houses_per_year['Mean Price'] = [181761.648000, 185138.207493,178841.750804, 181404.567901,172597.598240]\n",
    "houses_per_year['Houses Sold'] = [625,694,622,648,341]\n",
    "print(houses_per_year)"
   ]
  },
  {
   "cell_type": "code",
   "execution_count": 87,
   "metadata": {},
   "outputs": [
    {
     "name": "stdout",
     "output_type": "stream",
     "text": [
      "True\n"
     ]
    }
   ],
   "source": [
    "def weighted_mean(distribution, weights):\n",
    "    weighted_sum = []\n",
    "    for mean, weight in zip(distribution, weights):\n",
    "        weighted_sum.append(mean * weight)\n",
    "    return sum(weighted_sum) / sum(weights)\n",
    "\n",
    "weighted_mean_function = weighted_mean(houses_per_year['Mean Price'],\n",
    "                                       houses_per_year['Houses Sold'])\n",
    "\n",
    "from numpy import average\n",
    "weighted_mean_numpy = average(houses_per_year['Mean Price'],\n",
    "        weights = houses_per_year['Houses Sold'])\n",
    "\n",
    "equal = round(weighted_mean_function, 10) == round(weighted_mean_numpy, 10)\n",
    "print(equal)"
   ]
  },
  {
   "cell_type": "code",
   "execution_count": 90,
   "metadata": {},
   "outputs": [
    {
     "data": {
      "text/plain": [
       "5.0"
      ]
     },
     "execution_count": 90,
     "metadata": {},
     "output_type": "execute_result"
    }
   ],
   "source": [
    "from statistics import median\n",
    "median([3, 7, 2, 12])"
   ]
  },
  {
   "cell_type": "code",
   "execution_count": 95,
   "metadata": {},
   "outputs": [
    {
     "name": "stdout",
     "output_type": "stream",
     "text": [
      "middle_values:  957    6\n",
      "953    6\n",
      "Name: TotRms AbvGrd, dtype: int32 median:  6.0\n"
     ]
    }
   ],
   "source": [
    "houses = pd.read_table('AmesHousing_1.txt')\n",
    "rooms = houses['TotRms AbvGrd'].copy()\n",
    "rooms = rooms.replace({'10 or more': 10})\n",
    "rooms = rooms.astype(int)\n",
    "rooms_sorted = rooms.sort_values()\n",
    "\n",
    "middle_indices = [int((len(rooms_sorted) / 2) - 1),\n",
    "                  int((len(rooms_sorted) / 2))\n",
    "                 ] \n",
    "middle_values = rooms_sorted.iloc[middle_indices] \n",
    "median = middle_values.mean()\n",
    "print('middle_values: ', middle_values, 'median: ', median)"
   ]
  },
  {
   "cell_type": "code",
   "execution_count": 97,
   "metadata": {},
   "outputs": [
    {
     "name": "stdout",
     "output_type": "stream",
     "text": [
      "0    True\n",
      "dtype: bool\n"
     ]
    }
   ],
   "source": [
    "# mode: the most frequent value in the distribution\n",
    "def findmode(arr):\n",
    "    dict = {}\n",
    "    for value in arr:\n",
    "        if value in dict:\n",
    "            dict[value] += 1\n",
    "        else:\n",
    "            dict[value] = 1\n",
    "    return max(dict, key=dict.get)\n",
    "mode_function = findmode(houses['Land Slope'])\n",
    "mode_method = houses['Land Slope'].mode()\n",
    "same = mode_function == mode_method\n",
    "print(same)"
   ]
  },
  {
   "cell_type": "code",
   "execution_count": 99,
   "metadata": {},
   "outputs": [
    {
     "name": "stdout",
     "output_type": "stream",
     "text": [
      "mode:  Gable \n",
      "value_counts:  {'Hip': 551, 'Gable': 2321, 'Mansard': 11, 'Gambrel': 22, 'Shed': 5, 'Flat': 20}\n"
     ]
    }
   ],
   "source": [
    "def mode(array):\n",
    "    counts = {}\n",
    "    for value in array:\n",
    "        if value in counts:\n",
    "            counts[value] += 1\n",
    "        else:\n",
    "            counts[value] = 1\n",
    "    return (max(counts, key = counts.get), counts)\n",
    "mode, value_counts = mode(houses['Roof Style'])\n",
    "print('mode: ', mode, '\\nvalue_counts: ', value_counts)"
   ]
  },
  {
   "cell_type": "code",
   "execution_count": 100,
   "metadata": {},
   "outputs": [
    {
     "name": "stdout",
     "output_type": "stream",
     "text": [
      "{2010: 598868, 2009: 575100, 2008: 601900, 2007: 715700, 2006: 590000}\n"
     ]
    }
   ],
   "source": [
    "def find_range(arr):\n",
    "    return max(arr) - min(arr)\n",
    "\n",
    "range_by_year ={}\n",
    "for year in houses['Yr Sold'].unique():\n",
    "    by_year = houses[houses['Yr Sold'] == year]\n",
    "    range_by_year[year] = find_range(by_year['SalePrice'])\n",
    "print(range_by_year)"
   ]
  },
  {
   "cell_type": "code",
   "execution_count": null,
   "metadata": {},
   "outputs": [],
   "source": [
    "C = [1,1,1,1,1,1,1,1,1,21]\n",
    "def dis(arr):\n",
    "    m= sum(arr) / len(arr)\n",
    "    ls=[]\n",
    "    for n in arr:\n",
    "        ls.append(n-m)\n",
    "    return sum(ls) / len(ls)\n",
    "avg_distance = dis(C)\n",
    "print(avg_distance)"
   ]
  },
  {
   "cell_type": "code",
   "execution_count": null,
   "metadata": {},
   "outputs": [],
   "source": [
    "C = [1,1,1,1,1,1,1,1,1,21]\n",
    "def mad_fun(arr):\n",
    "    ls=[]\n",
    "    m = sum(arr)/len(arr)\n",
    "    for n in arr:\n",
    "        d = abs(n-m)\n",
    "        ls.append(d)\n",
    "    return sum(ls)/len(ls)\n",
    "mad = mad_fun(C)"
   ]
  },
  {
   "cell_type": "code",
   "execution_count": 103,
   "metadata": {},
   "outputs": [],
   "source": [
    "from math import sqrt\n",
    "C = [1,1,1,1,1,1,1,1,1,21]\n",
    "def standard_deviation(array):\n",
    "    reference_point = sum(array) / len(array)\n",
    "    distances = []\n",
    "    for value in array:\n",
    "        squared_distance = (value - reference_point)**2\n",
    "        distances.append(squared_distance)\n",
    "    variance = sum(distances) / len(distances)\n",
    "    return sqrt(variance)"
   ]
  },
  {
   "cell_type": "code",
   "execution_count": 105,
   "metadata": {},
   "outputs": [
    {
     "name": "stdout",
     "output_type": "stream",
     "text": [
      "2006 2010\n"
     ]
    }
   ],
   "source": [
    "years={}\n",
    "for year in houses['Yr Sold'].unique():\n",
    "    by_year = houses[houses['Yr Sold'] == year]\n",
    "    std_year = standard_deviation(by_year['SalePrice'])\n",
    "    years[year] = std_year\n",
    "greatest_variability = max(years, key=years.get)\n",
    "lowest_variability = min(years, key=years.get)\n",
    "print(greatest_variability, lowest_variability)"
   ]
  },
  {
   "cell_type": "code",
   "execution_count": 108,
   "metadata": {},
   "outputs": [
    {
     "data": {
      "text/plain": [
       "<matplotlib.lines.Line2D at 0x1e0f1465278>"
      ]
     },
     "execution_count": 108,
     "metadata": {},
     "output_type": "execute_result"
    },
    {
     "data": {
      "image/png": "[encoded data removed]",
      "text/plain": [
       "<Figure size 432x288 with 1 Axes>"
      ]
     },
     "metadata": {},
     "output_type": "display_data"
    }
   ],
   "source": [
    "import matplotlib.pyplot as plt\n",
    "std_ls =[]\n",
    "for n in range(0,5000):\n",
    "    s = houses['SalePrice'].sample(10, random_state=n)\n",
    "    s_std = standard_deviation(s)\n",
    "    std_ls.append(s_std)\n",
    "plt.hist(std_ls)\n",
    "plt.axvline(standard_deviation(houses['SalePrice']), color='red')"
   ]
  },
  {
   "cell_type": "code",
   "execution_count": 109,
   "metadata": {},
   "outputs": [
    {
     "data": {
      "text/plain": [
       "<matplotlib.lines.Line2D at 0x1e0f14e7400>"
      ]
     },
     "execution_count": 109,
     "metadata": {},
     "output_type": "execute_result"
    },
    {
     "data": {
      "image/png": "[encoded data removed]",
      "text/plain": [
       "<Figure size 432x288 with 1 Axes>"
      ]
     },
     "metadata": {},
     "output_type": "display_data"
    }
   ],
   "source": [
    "def standard_deviation(array):\n",
    "    reference_point = sum(array) / len(array)\n",
    "    distances = []\n",
    "    for value in array:\n",
    "        squared_distance = (value - reference_point)**2\n",
    "        distances.append(squared_distance)\n",
    "    variance = sum(distances) / (len(distances)-1) # Bessel correction\n",
    "    return sqrt(variance)\n",
    "\n",
    "std_ls =[]\n",
    "for n in range(0,5000):\n",
    "    s = houses['SalePrice'].sample(10, random_state=n)\n",
    "    s_std = standard_deviation(s)\n",
    "    std_ls.append(s_std)\n",
    "plt.hist(std_ls)\n",
    "plt.axvline(standard_deviation(houses['SalePrice']), color='red')"
   ]
  },
  {
   "cell_type": "code",
   "execution_count": 113,
   "metadata": {},
   "outputs": [
    {
     "name": "stdout",
     "output_type": "stream",
     "text": [
      "True True\n"
     ]
    }
   ],
   "source": [
    "sample = houses.sample(100, random_state = 1)\n",
    "import numpy as np\n",
    "pandas_stdev = sample['SalePrice'].std(ddof = 1)\n",
    "numpy_stdev = np.std(sample['SalePrice'], ddof = 1)\n",
    "equal_stdevs = pandas_stdev == numpy_stdev\n",
    "\n",
    "pandas_var = sample['SalePrice'].var(ddof = 1)\n",
    "numpy_var = np.var(sample['SalePrice'], ddof = 1)\n",
    "equal_vars = pandas_var == numpy_var\n",
    "print(equal_stdevs, equal_vars)"
   ]
  },
  {
   "cell_type": "code",
   "execution_count": 117,
   "metadata": {},
   "outputs": [
    {
     "name": "stdout",
     "output_type": "stream",
     "text": [
      "False False\n"
     ]
    }
   ],
   "source": [
    "population = [0, 3, 6]\n",
    "samples = [[0,3], [0,6],\n",
    "           [3,0], [3,6],\n",
    "           [6,0], [6,3]\n",
    "          ]\n",
    "sv_ls=[]\n",
    "for item in samples:\n",
    "    sv = (item[0] - (item[0]+item[1])/2)**2 + (item[1] - (item[0]+item[1])/2)**2\n",
    "    sv_ls.append(sv)\n",
    "msv = sum(sv_ls)/len(sv_ls)\n",
    "pv = (population[0]-sum(population)/len(population))**2 + (population[1]-sum(population)/len(population))**2 + (population[2]-sum(population)/len(population))**2\n",
    "equal_var = msv == pv\n",
    "equal_stdev = sqrt(msv) == sqrt(pv)\n",
    "print(equal_var, equal_stdev)"
   ]
  },
  {
   "cell_type": "code",
   "execution_count": 119,
   "metadata": {},
   "outputs": [
    {
     "name": "stdout",
     "output_type": "stream",
     "text": [
      "False False\n"
     ]
    }
   ],
   "source": [
    "pop_var = var(population, ddof = 0)\n",
    "pop_std = std(population, ddof = 0)\n",
    "st_devs = []\n",
    "variances = []\n",
    "for sample in samples:\n",
    "    st_devs.append(std(sample, ddof = 1))\n",
    "    variances.append(var(sample, ddof = 1))\n",
    "mean_std = sum(st_devs) / len(st_devs)\n",
    "mean_var = sum(variances) / len(variances)\n",
    "equal_stdev = pop_std == mean_std\n",
    "equal_var = pop_var == mean_var\n",
    "print(equal_var, equal_stdev)"
   ]
  },
  {
   "cell_type": "code",
   "execution_count": 120,
   "metadata": {},
   "outputs": [
    {
     "data": {
      "image/png": "[encoded data removed]",
      "text/plain": [
       "<Figure size 432x288 with 1 Axes>"
      ]
     },
     "metadata": {},
     "output_type": "display_data"
    }
   ],
   "source": [
    "houses['SalePrice'].plot.kde(xlim = (houses['SalePrice'].min(),\n",
    "                                    houses['SalePrice'].max()))\n",
    "st_dev = houses['SalePrice'].std(ddof = 0)\n",
    "mean = houses['SalePrice'].mean()\n",
    "plt.axvline(mean, color='black', label='Mean')\n",
    "plt.axvline(mean+st_dev, color='red', label='Standard deviation')  \n",
    "plt.axvline(220000, color='Orange', label='220000') \n",
    "plt.legend()"
   ]
  },
  {
   "cell_type": "code",
   "execution_count": 123,
   "metadata": {},
   "outputs": [
    {
     "name": "stdout",
     "output_type": "stream",
     "text": [
      "-2.1034258973406126   0.0   7.188956446929806\n"
     ]
    }
   ],
   "source": [
    "min_val = houses['SalePrice'].min()\n",
    "mean_val = houses['SalePrice'].mean()\n",
    "max_val = houses['SalePrice'].max()\n",
    "\n",
    "def find_z(n, arr, bessel = 0):\n",
    "   \n",
    "    m = sum(arr)/len(arr)\n",
    "    s = np.std(arr)\n",
    "    dis = n-m\n",
    "    z = dis/s\n",
    "    return z\n",
    "min_z = find_z(min_val, houses['SalePrice'])\n",
    "mean_z = find_z(mean_val, houses['SalePrice'])\n",
    "max_z = find_z(max_val, houses['SalePrice'])\n",
    "print(min_z, ' ', mean_z, ' ', max_z)"
   ]
  },
  {
   "cell_type": "code",
   "execution_count": 126,
   "metadata": {},
   "outputs": [
    {
     "name": "stdout",
     "output_type": "stream",
     "text": [
      "1.7239665910370237 \n",
      " -0.03334366282705464 \n",
      " 1.7183080926865524 \n",
      " 1.443576193848941 \n",
      " -0.5186390646965722\n"
     ]
    }
   ],
   "source": [
    "def z_score(value, array, bessel = 0):\n",
    "    mean = sum(array) / len(array)\n",
    "    from numpy import std\n",
    "    st_dev = std(array, ddof = bessel)\n",
    "    distance = value - mean\n",
    "    z = distance / st_dev\n",
    "    return z\n",
    "north_ames = houses[houses['Neighborhood'] == 'NAmes']\n",
    "college_cr = houses[houses['Neighborhood'] == 'CollgCr']\n",
    "old_town = houses[houses['Neighborhood'] == 'OldTown']\n",
    "edwards = houses[houses['Neighborhood'] == 'Edwards']\n",
    "somerset = houses[houses['Neighborhood'] == 'Somerst']\n",
    "\n",
    "north_ames_z = z_score(200000, north_ames['SalePrice'], bessel = 0)\n",
    "college_cr_z = z_score(200000, college_cr['SalePrice'], bessel = 0)\n",
    "old_town_z = z_score(200000, old_town['SalePrice'], bessel = 0)\n",
    "edwards_z = z_score(200000, edwards['SalePrice'], bessel = 0)\n",
    "somerset_z = z_score(200000, somerset['SalePrice'], bessel = 0)\n",
    "print(north_ames_z, '\\n', college_cr_z, '\\n', old_town_z, '\\n', edwards_z, '\\n', somerset_z)"
   ]
  },
  {
   "cell_type": "code",
   "execution_count": 133,
   "metadata": {},
   "outputs": [
    {
     "data": {
      "text/plain": [
       "<matplotlib.axes._subplots.AxesSubplot at 0x1e0f2958828>"
      ]
     },
     "execution_count": 133,
     "metadata": {},
     "output_type": "execute_result"
    },
    {
     "data": {
      "image/png": "[encoded data removed]",
      "text/plain": [
       "<Figure size 432x216 with 2 Axes>"
      ]
     },
     "metadata": {},
     "output_type": "display_data"
    }
   ],
   "source": [
    "mean = houses['SalePrice'].mean()\n",
    "st_dev = houses['SalePrice'].std(ddof = 0)\n",
    "houses['z_prices'] = houses['SalePrice'].apply(\n",
    "    lambda x: ((x - mean) / st_dev)\n",
    "    )\n",
    "z_mean_price = houses['z_prices'].mean()\n",
    "z_stdev_price = houses['z_prices'].std(ddof = 0)\n",
    "plt.figure(figsize=(6,3))\n",
    "plt.subplot(1,2,1)\n",
    "houses['z_prices'].plot.kde(xlim=(-10, 20), ylim=(0,1.6), title='Z-score Price')\n",
    "\n",
    "mean = houses['Lot Area'].mean()\n",
    "st_dev = houses['Lot Area'].std(ddof = 0)\n",
    "houses['z_area'] = houses['Lot Area'].apply(\n",
    "    lambda x: ((x - mean) / st_dev)\n",
    "    )\n",
    "z_mean_area = houses['z_area'].mean()\n",
    "z_stdev_area = houses['z_area'].std(ddof = 0)\n",
    "plt.subplot(1,2,2)\n",
    "houses['z_area'].plot.kde(xlim=(-10, 20), ylim=(0,1.6), title='Z-score Area')"
   ]
  },
  {
   "cell_type": "code",
   "execution_count": 136,
   "metadata": {},
   "outputs": [
    {
     "name": "stdout",
     "output_type": "stream",
     "text": [
      "0.0 1.0\n"
     ]
    }
   ],
   "source": [
    "# A distribution of z-scores is called a standard distribution\n",
    "# z-scores are also called standard scores\n",
    "# standardized the distribution by converting a distribution to z-scores\n",
    "population = [0,8,0,8]\n",
    "m = mean(population)\n",
    "s = std(population)\n",
    "pop_z = (population - m)/s\n",
    "mean_z = mean(pop_z)\n",
    "stdev_z = std(pop_z)\n",
    "print(mean_z, stdev_z)"
   ]
  },
  {
   "cell_type": "code",
   "execution_count": 137,
   "metadata": {},
   "outputs": [
    {
     "name": "stdout",
     "output_type": "stream",
     "text": [
      "1.0\n"
     ]
    }
   ],
   "source": [
    "sample = [0,8,0,8]\n",
    "x_bar = mean(sample)\n",
    "s = std(sample, ddof = 1)\n",
    "standardized_sample = (sample - x_bar)/s\n",
    "stdev_sample = std(standardized_sample, ddof = 1)\n",
    "print(stdev_sample)"
   ]
  },
  {
   "cell_type": "code",
   "execution_count": 3,
   "metadata": {},
   "outputs": [
    {
     "name": "stdout",
     "output_type": "stream",
     "text": [
      "C:\\Users\\Xueho\\Projects\\Python_projects\\Raw_data\n"
     ]
    }
   ],
   "source": [
    "cd Raw_data"
   ]
  },
  {
   "cell_type": "markdown",
   "metadata": {},
   "source": [
    "##### flags of countries, calculating probability"
   ]
  },
  {
   "cell_type": "code",
   "execution_count": 7,
   "metadata": {},
   "outputs": [
    {
     "name": "stdout",
     "output_type": "stream",
     "text": [
      "105    Malaysia\n",
      "Name: name, dtype: object\n",
      "37    China\n",
      "Name: name, dtype: object\n"
     ]
    }
   ],
   "source": [
    "import pandas as pd\n",
    "flags = pd.read_csv('flags.csv')\n",
    "most_bars_country = flags[flags['stripes']==flags['stripes'].max()]['name']\n",
    "highest_population_country = flags[flags['population']==flags['population'].max()]['name']\n",
    "print(most_bars_country)\n",
    "print(highest_population_country)"
   ]
  },
  {
   "cell_type": "code",
   "execution_count": 8,
   "metadata": {},
   "outputs": [
    {
     "name": "stdout",
     "output_type": "stream",
     "text": [
      "0.13402061855670103\n",
      "0.41237113402061853\n"
     ]
    }
   ],
   "source": [
    "total_countries = flags.shape[0]\n",
    "orange_probability = flags[flags['orange']==1].shape[0]/total_countries\n",
    "stripe_probability = flags[flags['stripes']>1].shape[0]/total_countries\n",
    "print(orange_probability)\n",
    "print(stripe_probability)"
   ]
  },
  {
   "cell_type": "code",
   "execution_count": 10,
   "metadata": {},
   "outputs": [
    {
     "name": "stdout",
     "output_type": "stream",
     "text": [
      "0.48848552427754927\n"
     ]
    }
   ],
   "source": [
    "# Conjunctive probability: is the probability involves a sequence of events\n",
    "total = flags.shape[0]\n",
    "red_count = flags[flags['red']==1].shape[0]\n",
    "one_red = red_count/total\n",
    "two_red = one_red * (red_count-1)/(total-1)\n",
    "three_red = two_red * (red_count-2)/(total-2)\n",
    "print(three_red)"
   ]
  },
  {
   "cell_type": "code",
   "execution_count": 19,
   "metadata": {},
   "outputs": [
    {
     "name": "stdout",
     "output_type": "stream",
     "text": [
      "0.8247422680412371    0.5927835051546392\n"
     ]
    }
   ],
   "source": [
    "# disjunctive probabilities: is the probability involves mutually exclusive events\n",
    "red_or_orange = flags[(flags[\"red\"] == 1) | (flags[\"orange\"] == 1)].shape[0] / flags.shape[0]\n",
    "stripes_or_bars = flags[(flags['stripes']>=1) | (flags['bars']>=1)].shape[0] / flags.shape[0]\n",
    "print(red_or_orange, '  ', stripes_or_bars)"
   ]
  },
  {
   "cell_type": "code",
   "execution_count": 18,
   "metadata": {},
   "outputs": [
    {
     "name": "stdout",
     "output_type": "stream",
     "text": [
      "0.8247422680412371    0.5927835051546392\n"
     ]
    }
   ],
   "source": [
    "red = flags[flags[\"red\"] == 1].shape[0] / flags.shape[0]\n",
    "orange = flags[flags[\"orange\"] == 1].shape[0] / flags.shape[0]\n",
    "red_and_orange = flags[(flags[\"red\"] == 1) & (flags[\"orange\"] == 1)].shape[0] / flags.shape[0]\n",
    "red_or_orange = red + orange - red_and_orange\n",
    "\n",
    "stripes = flags[flags[\"stripes\"] > 0].shape[0] / flags.shape[0]\n",
    "bars = flags[flags[\"bars\"] > 0].shape[0] / flags.shape[0]\n",
    "stripes_and_bars = flags[(flags[\"stripes\"] > 0) & (flags[\"bars\"] > 0)].shape[0] / flags.shape[0]\n",
    "stripes_or_bars = stripes + bars - stripes_and_bars\n",
    "print(red_or_orange, '  ', stripes_or_bars)"
   ]
  },
  {
   "cell_type": "code",
   "execution_count": 20,
   "metadata": {},
   "outputs": [
    {
     "name": "stdout",
     "output_type": "stream",
     "text": [
      "0.86593707250342\n"
     ]
    }
   ],
   "source": [
    "import pandas\n",
    "bikes = pandas.read_csv(\"bike-sharing-day.csv\")\n",
    "\n",
    "# The number of days the bikes rented exceeded the threshold.\n",
    "days_over_threshold = bikes[bikes[\"cnt\"] > 2000].shape[0]\n",
    "# Find the total number of days we have data for.\n",
    "total_days = bikes.shape[0]\n",
    "\n",
    "# The probability that more than 2000 bikes were rented for any given day.\n",
    "probability_over_2000 = days_over_threshold / total_days\n",
    "print(probability_over_2000)"
   ]
  },
  {
   "cell_type": "code",
   "execution_count": 23,
   "metadata": {},
   "outputs": [
    {
     "name": "stdout",
     "output_type": "stream",
     "text": [
      "120.0\n"
     ]
    }
   ],
   "source": [
    "import math\n",
    "def find_outcome_combinations(N, k):\n",
    "    numerator = math.factorial(N)\n",
    "    denominator = math.factorial(k) * math.factorial(N - k)\n",
    "    return numerator / denominator\n",
    "\n",
    "combinations_7 = find_outcome_combinations(10, 7)\n",
    "print(combinations_7)"
   ]
  },
  {
   "cell_type": "code",
   "execution_count": 25,
   "metadata": {},
   "outputs": [
    {
     "name": "stdout",
     "output_type": "stream",
     "text": [
      "0.12093235199999997   0.04031078399999999   0.006046617599999997  \n"
     ]
    }
   ],
   "source": [
    "# find the probability of k outcomes out of N events occurring\n",
    "p = .6\n",
    "q = .4\n",
    "def find_combination_probability(N, k, p, q):\n",
    "    term_1 = p ** k\n",
    "    term_2 = q ** (N-k)\n",
    "    return term_1 * term_2\n",
    "# probability of k outcomes out of N events occurring = (p^k * q^(N-k)) * N!/k!(N-k)! \n",
    "prob_8 = find_outcome_combinations(10, 8) * find_combination_probability(10, 8, p, q)\n",
    "prob_9 = find_outcome_combinations(10, 9) * find_combination_probability(10, 9, p, q)\n",
    "prob_10 = find_outcome_combinations(10, 10) * find_combination_probability(10, 10, p, q)\n",
    "print(prob_8, ' ', prob_9, ' ', prob_10, ' ')"
   ]
  },
  {
   "cell_type": "markdown",
   "metadata": {},
   "source": [
    "### Bike sharing analysis, probability distribution"
   ]
  },
  {
   "cell_type": "code",
   "execution_count": 26,
   "metadata": {},
   "outputs": [
    {
     "name": "stdout",
     "output_type": "stream",
     "text": [
      "0.3912448700410397\n"
     ]
    }
   ],
   "source": [
    "bikes = pd.read_csv(\"bike_rental_day.csv\")\n",
    "prob_over_5000 = bikes[bikes['cnt'] > 5000].shape[0] /bikes.shape[0]\n",
    "print(prob_over_5000)"
   ]
  },
  {
   "cell_type": "code",
   "execution_count": 81,
   "metadata": {},
   "outputs": [
    {
     "data": {
      "text/plain": [
       "(0, 25)"
      ]
     },
     "execution_count": 81,
     "metadata": {},
     "output_type": "execute_result"
    },
    {
     "data": {
      "image/png": "[encoded data removed]",
      "text/plain": [
       "<Figure size 216x144 with 1 Axes>"
      ]
     },
     "metadata": {},
     "output_type": "display_data"
    }
   ],
   "source": [
    "import math\n",
    "import matplotlib.pyplot as plt\n",
    "%matplotlib inline\n",
    "# Each item in outcome_counts list represents one k, starting from 0 and going up to and including 30.\n",
    "outcome_counts = list(range(31))\n",
    "def prob_kN(p, cnts):\n",
    "    N = len(cnts)-1\n",
    "    pl =[]\n",
    "    for k in cnts:\n",
    "        probability = (p**k * (1-p)**(N-k)) * math.factorial(N)/(math.factorial(k)*math.factorial(N-k))\n",
    "        pl.append(probability)\n",
    "    return pl\n",
    "# find the probability of each number of outcomes in outcome_counts occurring\n",
    "outcome_probs = prob_kN(0.39, outcome_counts)\n",
    "\n",
    "plt.figure(figsize=(3,2))\n",
    "plt.bar(outcome_counts, outcome_probs)\n",
    "plt.xlim(0, 25)"
   ]
  },
  {
   "cell_type": "code",
   "execution_count": 80,
   "metadata": {},
   "outputs": [
    {
     "data": {
      "text/plain": [
       "(0, 25)"
      ]
     },
     "execution_count": 80,
     "metadata": {},
     "output_type": "execute_result"
    },
    {
     "data": {
      "image/png": "[encoded data removed]",
      "text/plain": [
       "<Figure size 216x144 with 1 Axes>"
      ]
     },
     "metadata": {},
     "output_type": "display_data"
    }
   ],
   "source": [
    "from scipy import linspace\n",
    "from scipy.stats import binom\n",
    "\n",
    "# Create a range of numbers from 0 to 30, with 31 elements (each number has one entry).\n",
    "outcome_counts = linspace(0,30,31)\n",
    "\n",
    "# Create the binomial probabilities, one for each entry in outcome_counts.\n",
    "dist = binom.pmf(outcome_counts,30,0.39)\n",
    "plt.figure(figsize=(3,2))\n",
    "plt.bar(outcome_counts, dist)\n",
    "plt.xlim(0, 25)"
   ]
  },
  {
   "cell_type": "code",
   "execution_count": null,
   "metadata": {},
   "outputs": [],
   "source": [
    "#  standard deviation of a probability distribution = sqrt(N*p*q)"
   ]
  },
  {
   "cell_type": "code",
   "execution_count": 91,
   "metadata": {},
   "outputs": [
    {
     "data": {
      "text/plain": [
       "<BarContainer object of 101 artists>"
      ]
     },
     "execution_count": 91,
     "metadata": {},
     "output_type": "execute_result"
    },
    {
     "data": {
      "image/png": "[encoded data removed]",
      "text/plain": [
       "<Figure size 432x144 with 2 Axes>"
      ]
     },
     "metadata": {},
     "output_type": "display_data"
    }
   ],
   "source": [
    "plt.figure(figsize=(6,2))\n",
    "plt.subplot(1,2,1)\n",
    "outcome_counts = linspace(0,10,11)\n",
    "dist = binom.pmf(outcome_counts, 10, 0.39)\n",
    "plt.bar(outcome_counts, dist)\n",
    "\n",
    "outcome_counts1 = linspace(0,100,101)\n",
    "dist = binom.pmf(outcome_counts1, 100, 0.39)\n",
    "plt.subplot(1,2,2)\n",
    "plt.bar(outcome_counts1, dist)"
   ]
  },
  {
   "cell_type": "code",
   "execution_count": 95,
   "metadata": {},
   "outputs": [
    {
     "data": {
      "text/plain": [
       "[<matplotlib.lines.Line2D at 0x21eb2c881d0>]"
      ]
     },
     "execution_count": 95,
     "metadata": {},
     "output_type": "execute_result"
    },
    {
     "data": {
      "image/png": "[encoded data removed]",
      "text/plain": [
       "<Figure size 216x144 with 1 Axes>"
      ]
     },
     "metadata": {},
     "output_type": "display_data"
    }
   ],
   "source": [
    "# cumulative density function\n",
    "# F(k,n,p) = P(x<=k)=Sum((n i) * p^i * (1-p)^(n-i))\n",
    "from scipy import linspace\n",
    "from scipy.stats import binom\n",
    "\n",
    "# Create a range of numbers from 0 to 30, with 31 elements (each number has one entry).\n",
    "outcome_counts = linspace(0,30,31)\n",
    "# Create the cumulative binomial probabilities, one for each entry in outcome_counts.\n",
    "dist = binom.cdf(outcome_counts,30,0.39)\n",
    "plt.figure(figsize=(3,2))\n",
    "plt.plot(outcome_counts, dist)"
   ]
  },
  {
   "cell_type": "code",
   "execution_count": null,
   "metadata": {},
   "outputs": [],
   "source": [
    "# The sum of all the probabilities to the left of k, including k is: binom.cdf(k,N,p)\n",
    "left_16 = binom.cdf(16, 30, 0.39)\n",
    "right_16 = 1- left_16"
   ]
  },
  {
   "cell_type": "markdown",
   "metadata": {},
   "source": [
    "### Significance Testing"
   ]
  },
  {
   "cell_type": "code",
   "execution_count": 11,
   "metadata": {},
   "outputs": [
    {
     "data": {
      "text/plain": [
       "(array([  6.,  17.,  70., 154., 198., 225., 183.,  98.,  39.,  10.]),\n",
       " array([-1.40865385, -1.14218947, -0.87572509, -0.60926072, -0.34279634,\n",
       "        -0.07633197,  0.19013241,  0.45659678,  0.72306116,  0.98952554,\n",
       "         1.25598991]),\n",
       " <a list of 10 Patch objects>)"
      ]
     },
     "execution_count": 11,
     "metadata": {},
     "output_type": "execute_result"
    },
    {
     "data": {
      "image/png": "[encoded data removed]",
      "text/plain": [
       "<Figure size 216x144 with 1 Axes>"
      ]
     },
     "metadata": {},
     "output_type": "display_data"
    }
   ],
   "source": [
    "group_a = [3,2,3,4,3,2]\n",
    "group_b = [5,4,5,5,4,5]\n",
    "\n",
    "# randomize samples\n",
    "all_values = [3, 5, 2, 4, 3, 5, 4, 5, 3, 4, 2, 5, 2, 7, 2, 5, 1, 4, 3, 3, 2, 3, 3, 5, 1, 10, 3, 3, 4, 4, 1, 9, 3, 7, 2, 6, 1, 9, 3, 4, 4, 2, 3, 5, 2, 7, 3, 7, 7, 7, 2, 5, 3, 4, 2, 8, 5, 9, 1, 6, 1, 7, 1, 6, 3, 7, 2, 6, 4, 3, 10, 5, 2, 5, 3, 4, 2, 2, 5, 3, 6, 3, 2, 5, 3, 6, 2, 9, 3, 7, 4, 6, 1, 4, 3, 5, 3, 4, 1, 3]\n",
    "mean_difference = 2.52\n",
    "mean_differences = []\n",
    "for i in range(1000):\n",
    "    group_a =[]\n",
    "    group_b =[]\n",
    "    for value in all_values:\n",
    "        x = np.random.rand()\n",
    "        if x >= 0.5:\n",
    "            group_a.append(value)\n",
    "        else:\n",
    "            group_b.append(value)\n",
    "    iteration_mean_difference = np.mean(group_b) - np.mean(group_a)\n",
    "    mean_differences.append(iteration_mean_difference)\n",
    "plt.figure(figsize=(3,2))\n",
    "plt.hist(mean_differences)"
   ]
  },
  {
   "cell_type": "code",
   "execution_count": 22,
   "metadata": {},
   "outputs": [
    {
     "data": {
      "text/plain": [
       "<BarContainer object of 580 artists>"
      ]
     },
     "execution_count": 22,
     "metadata": {},
     "output_type": "execute_result"
    },
    {
     "data": {
      "image/png": "[encoded data removed]",
      "text/plain": [
       "<Figure size 216x144 with 1 Axes>"
      ]
     },
     "metadata": {},
     "output_type": "display_data"
    }
   ],
   "source": [
    "sampling_distribution ={}\n",
    "for item in mean_differences:\n",
    "    if sampling_distribution.get(item , False):\n",
    "        sampling_distribution[item] +=1\n",
    "    else:\n",
    "        sampling_distribution[item] =1\n",
    "plt.figure(figsize=(3,2))      \n",
    "plt.bar(sampling_distribution.keys(), sampling_distribution.values())"
   ]
  },
  {
   "cell_type": "code",
   "execution_count": 24,
   "metadata": {},
   "outputs": [
    {
     "name": "stdout",
     "output_type": "stream",
     "text": [
      "0.0\n"
     ]
    }
   ],
   "source": [
    "frequencies = []\n",
    "for key in sampling_distribution.keys():\n",
    "    if key >= 2.52:\n",
    "        frequencies.append(key)\n",
    "p_value = np.sum(frequencies)/1000\n",
    "print(p_value)\n",
    "# a type I error is falsely inferring the existence or reality of something that is in fact not real (\"false positive\")\n",
    "# a type II error is to falsely infer the absence or non-existence of something that is real or does exist"
   ]
  },
  {
   "cell_type": "markdown",
   "metadata": {},
   "source": [
    "### Chi-squared tests"
   ]
  },
  {
   "cell_type": "code",
   "execution_count": 34,
   "metadata": {},
   "outputs": [
    {
     "name": "stdout",
     "output_type": "stream",
     "text": [
      "3728.950615767329\n"
     ]
    }
   ],
   "source": [
    "female_diff = (10771-16280.5)**2/16280.5\n",
    "male_diff = (21790-16280.5)**2/16280.5\n",
    "gender_chisq = female_diff + male_diff\n",
    "print(gender_chisq)"
   ]
  },
  {
   "cell_type": "code",
   "execution_count": 33,
   "metadata": {},
   "outputs": [
    {
     "data": {
      "text/plain": [
       "(array([751., 133.,  61.,  27.,   7.,  13.,   3.,   3.,   1.,   1.]),\n",
       " array([3.07115875e-05, 1.22284328e+00, 2.44565585e+00, 3.66846841e+00,\n",
       "        4.89128098e+00, 6.11409355e+00, 7.33690611e+00, 8.55971868e+00,\n",
       "        9.78253125e+00, 1.10053438e+01, 1.22281564e+01]),\n",
       " <a list of 10 Patch objects>)"
      ]
     },
     "execution_count": 33,
     "metadata": {},
     "output_type": "execute_result"
    },
    {
     "data": {
      "image/png": "[encoded data removed]",
      "text/plain": [
       "<Figure size 216x144 with 1 Axes>"
      ]
     },
     "metadata": {},
     "output_type": "display_data"
    }
   ],
   "source": [
    "chi_squared_values = []\n",
    "for i in range(1000):\n",
    "    x = np.random.random(32561,)\n",
    "    female_count = 0\n",
    "    male_count = 0\n",
    "    for item in x:\n",
    "        if item < 0.5:\n",
    "            item=0\n",
    "            female_count += 1\n",
    "        else:\n",
    "            item=1\n",
    "            male_count += 1\n",
    "    male_diff = (male_count - 16280.5)\n",
    "    female_diff = (female_count - 16280.5)\n",
    "    chi_squared_value = (male_count - 16280.5)**2/16280.5 + (female_count - 16280.5)**2/16280.5\n",
    "    chi_squared_values.append(chi_squared_value)\n",
    "plt.figure(figsize=(3,2))\n",
    "plt.hist(chi_squared_values)"
   ]
  },
  {
   "cell_type": "code",
   "execution_count": 35,
   "metadata": {},
   "outputs": [
    {
     "data": {
      "text/plain": [
       "(array([681., 181.,  57.,  42.,  18.,   4.,  11.,   3.,   1.,   2.]),\n",
       " array([0.   , 0.972, 1.944, 2.916, 3.888, 4.86 , 5.832, 6.804, 7.776,\n",
       "        8.748, 9.72 ]),\n",
       " <a list of 10 Patch objects>)"
      ]
     },
     "execution_count": 35,
     "metadata": {},
     "output_type": "execute_result"
    },
    {
     "data": {
      "image/png": "[encoded data removed]",
      "text/plain": [
       "<Figure size 216x144 with 1 Axes>"
      ]
     },
     "metadata": {},
     "output_type": "display_data"
    }
   ],
   "source": [
    "chi_squared_values = []\n",
    "\n",
    "for i in range(1000):\n",
    "    x = np.random.random(300, )\n",
    "    male_count=0\n",
    "    female_count=0\n",
    "    for item in x:\n",
    "        if item < 0.5:\n",
    "            item = 0\n",
    "            male_count +=1\n",
    "        else:\n",
    "            item =1\n",
    "            female_count +=1\n",
    "    male_diff = (male_count - 150)**2/150\n",
    "    female_diff = (female_count - 150)**2/150\n",
    "    chi_squared_value = male_diff+female_diff\n",
    "    chi_squared_values.append(chi_squared_value)\n",
    "plt.figure(figsize=(3,2))\n",
    "plt.hist(chi_squared_values)"
   ]
  },
  {
   "cell_type": "code",
   "execution_count": 37,
   "metadata": {},
   "outputs": [
    {
     "name": "stdout",
     "output_type": "stream",
     "text": [
      "1080.485936593381\n"
     ]
    }
   ],
   "source": [
    "diffs = []\n",
    "observed = [27816, 3124, 1039, 311, 271]\n",
    "expected = [26146.5, 3939.9, 944.3, 260.5, 1269.8]\n",
    "for i, obs in enumerate(observed):\n",
    "    exp = expected[i]\n",
    "    diff = (obs - exp) ** 2 / exp\n",
    "    diffs.append(diff)\n",
    "race_chisq = sum(diffs)\n",
    "print(race_chisq)"
   ]
  },
  {
   "cell_type": "code",
   "execution_count": 38,
   "metadata": {},
   "outputs": [
    {
     "name": "stdout",
     "output_type": "stream",
     "text": [
      "Power_divergenceResult(statistic=1080.485936593381, pvalue=1.2848494674873035e-232)\n"
     ]
    }
   ],
   "source": [
    "from scipy.stats import chisquare\n",
    "import numpy as np\n",
    "observed = [27816, 3124, 1039, 311, 271]\n",
    "expected = [26146.5, 3939.9, 944.3, 260.5, 1269.8]\n",
    "race_pvalue = chisquare(observed, expected)\n",
    "print(race_pvalue)"
   ]
  },
  {
   "cell_type": "markdown",
   "metadata": {},
   "source": [
    "### Multi category chi-squared tests"
   ]
  },
  {
   "cell_type": "code",
   "execution_count": 39,
   "metadata": {},
   "outputs": [
    {
     "name": "stdout",
     "output_type": "stream",
     "text": [
      "0.0\n"
     ]
    }
   ],
   "source": [
    "from scipy.stats import chisquare\n",
    "expected = [5240.8, 2597.4, 16533.5, 8180.3]\n",
    "observed = [6662, 1179, 15128, 9592]\n",
    "chisquare_value, pvalue = chisquare(observed, expected)\n",
    "print(pvalue)"
   ]
  },
  {
   "cell_type": "code",
   "execution_count": 12,
   "metadata": {},
   "outputs": [
    {
     "data": {
      "text/html": [
       "<div>\n",
       "<style scoped>\n",
       "    .dataframe tbody tr th:only-of-type {\n",
       "        vertical-align: middle;\n",
       "    }\n",
       "\n",
       "    .dataframe tbody tr th {\n",
       "        vertical-align: top;\n",
       "    }\n",
       "\n",
       "    .dataframe thead th {\n",
       "        text-align: right;\n",
       "    }\n",
       "</style>\n",
       "<table border=\"1\" class=\"dataframe\">\n",
       "  <thead>\n",
       "    <tr style=\"text-align: right;\">\n",
       "      <th>race</th>\n",
       "      <th>Amer-Indian-Eskimo</th>\n",
       "      <th>Asian-Pac-Islander</th>\n",
       "      <th>Black</th>\n",
       "      <th>Other</th>\n",
       "      <th>White</th>\n",
       "    </tr>\n",
       "    <tr>\n",
       "      <th>sex</th>\n",
       "      <th></th>\n",
       "      <th></th>\n",
       "      <th></th>\n",
       "      <th></th>\n",
       "      <th></th>\n",
       "    </tr>\n",
       "  </thead>\n",
       "  <tbody>\n",
       "    <tr>\n",
       "      <th>Female</th>\n",
       "      <td>119</td>\n",
       "      <td>346</td>\n",
       "      <td>1555</td>\n",
       "      <td>109</td>\n",
       "      <td>8642</td>\n",
       "    </tr>\n",
       "    <tr>\n",
       "      <th>Male</th>\n",
       "      <td>192</td>\n",
       "      <td>693</td>\n",
       "      <td>1569</td>\n",
       "      <td>162</td>\n",
       "      <td>19174</td>\n",
       "    </tr>\n",
       "  </tbody>\n",
       "</table>\n",
       "</div>"
      ],
      "text/plain": [
       "race      Amer-Indian-Eskimo   Asian-Pac-Islander   Black   Other   White\n",
       "sex                                                                      \n",
       " Female                  119                  346    1555     109    8642\n",
       " Male                    192                  693    1569     162   19174"
      ]
     },
     "execution_count": 12,
     "metadata": {},
     "output_type": "execute_result"
    }
   ],
   "source": [
    "# using crosstab function to print a table showing frequency counts for two or more columns\n",
    "income = pd.read_csv('..\\Raw_data\\income.csv')\n",
    "table = pd.crosstab(income['sex'], [income['race']])\n",
    "table"
   ]
  },
  {
   "cell_type": "code",
   "execution_count": 13,
   "metadata": {},
   "outputs": [
    {
     "name": "stdout",
     "output_type": "stream",
     "text": [
      "5.192061302760456e-97\n"
     ]
    }
   ],
   "source": [
    "from scipy.stats import chi2_contingency\n",
    "observed = np.array([[119, 346, 1555, 109, 8642], [192, 693, 1569, 162, 19174]])\n",
    "chisq_value, pvalue, df, expected = chi2_contingency(observed)\n",
    "pvalue_gender_race = pvalue\n",
    "print(pvalue_gender_race)"
   ]
  },
  {
   "cell_type": "markdown",
   "metadata": {},
   "source": [
    "#### Estimating Probabilities"
   ]
  },
  {
   "cell_type": "code",
   "execution_count": 5,
   "metadata": {},
   "outputs": [
    {
     "name": "stdout",
     "output_type": "stream",
     "text": [
      "[1.0, 1.0, 0.6666666666666666, 0.5, 0.6, 0.6666666666666666, 0.7142857142857143, 0.75, 0.7777777777777778, 0.7]\n"
     ]
    }
   ],
   "source": [
    "from numpy.random import seed, randint\n",
    "seed(1)\n",
    "\n",
    "def coin_toss():\n",
    "    if randint(0,2) == 1:\n",
    "        return 'HEAD'\n",
    "    else:\n",
    "        return 'TAIL'\n",
    "    \n",
    "probabilities = []\n",
    "heads = 0\n",
    "\n",
    "for n in range(1, 10001):\n",
    "    outcome = coin_toss()\n",
    "    if outcome =='HEAD':\n",
    "        heads += 1\n",
    "    current_probability = heads/n\n",
    "    probabilities.append(current_probability)\n",
    "    \n",
    "print(probabilities[0:10])"
   ]
  },
  {
   "cell_type": "markdown",
   "metadata": {},
   "source": [
    "#### Permutations and Combinations"
   ]
  },
  {
   "cell_type": "code",
   "execution_count": 6,
   "metadata": {},
   "outputs": [
    {
     "data": {
      "text/plain": [
       "5.851813813338265e-34"
      ]
     },
     "execution_count": 6,
     "metadata": {},
     "output_type": "execute_result"
    }
   ],
   "source": [
    "def factorial(n):\n",
    "    final_product = 1\n",
    "    for i in range(n, 0, -1):\n",
    "        final_product *= i\n",
    "    return final_product\n",
    "def permutation(n, k):\n",
    "    numerator = factorial(n)\n",
    "    denominator = factorial(n-k)\n",
    "    return numerator/denominator\n",
    "\n",
    "total_n_outcomes = permutation(127, 16)\n",
    "p_crack_pass = 1/total_n_outcomes\n",
    "p_crack_pass"
   ]
  },
  {
   "cell_type": "code",
   "execution_count": 7,
   "metadata": {},
   "outputs": [
    {
     "name": "stdout",
     "output_type": "stream",
     "text": [
      "7.151123842018516e-08\n"
     ]
    }
   ],
   "source": [
    "c = permutation(52,5)/factorial(5)\n",
    "# the probability of getting a 5-card hand with four aces and a seven of diamonds\n",
    "p_aces_7 = 1/c\n",
    "c_lottery = permutation(49,6)/factorial(6)\n",
    "# probability of winning the big prize with one set of 6 numbers\n",
    "p_big_prize = 1/c_lottery\n",
    "print(p_big_prize)"
   ]
  },
  {
   "cell_type": "code",
   "execution_count": 8,
   "metadata": {},
   "outputs": [],
   "source": [
    "def combinations(n,k):\n",
    "    return factorial(n)/factorial(k)/factorial(n-k)"
   ]
  },
  {
   "cell_type": "markdown",
   "metadata": {},
   "source": [
    "#### A fictional mobile app to heap treating lottery addiction that will enalble user to build functions that enable users to answer probability questions about playing the 6/49 lottery games such as:\n",
    "\n",
    "    What is the probability of winning the big prize with a single ticket?\n",
    "    What is the probability of winning the big prize if we play 40 different tickets (or any other number)?\n",
    "    What is the probability of having at least five (or four, or three, or two) winning numbers on a single ticket?\n"
   ]
  },
  {
   "cell_type": "code",
   "execution_count": 1,
   "metadata": {},
   "outputs": [
    {
     "name": "stdout",
     "output_type": "stream",
     "text": [
      "Hey, you only got 1.2258664826412979e-08 chance to win!\n"
     ]
    }
   ],
   "source": [
    "def factorial(n):\n",
    "    total = 1\n",
    "    for i in range(n, 0, -1):\n",
    "        total *= n\n",
    "    return total\n",
    "\n",
    "def combination(n, k):\n",
    "    a = factorial(n)\n",
    "    b = factorial(k)*factorial(n-k)\n",
    "    return a/b\n",
    "\n",
    "def one_ticket_probability(w_nums):\n",
    "    l = len(w_nums)\n",
    "    total_outcome = combination(49, l)\n",
    "    p_win = 1/total_outcome\n",
    "    print(\"Hey, you only got {} chance to win!\".format(p_win))\n",
    "\n",
    "one_ticket_probability([1,2,3,4,5,6])"
   ]
  },
  {
   "cell_type": "code",
   "execution_count": 6,
   "metadata": {},
   "outputs": [
    {
     "name": "stdout",
     "output_type": "stream",
     "text": [
      "(3665, 11)\n"
     ]
    },
    {
     "data": {
      "text/html": [
       "<div>\n",
       "<style scoped>\n",
       "    .dataframe tbody tr th:only-of-type {\n",
       "        vertical-align: middle;\n",
       "    }\n",
       "\n",
       "    .dataframe tbody tr th {\n",
       "        vertical-align: top;\n",
       "    }\n",
       "\n",
       "    .dataframe thead th {\n",
       "        text-align: right;\n",
       "    }\n",
       "</style>\n",
       "<table border=\"1\" class=\"dataframe\">\n",
       "  <thead>\n",
       "    <tr style=\"text-align: right;\">\n",
       "      <th></th>\n",
       "      <th>PRODUCT</th>\n",
       "      <th>DRAW NUMBER</th>\n",
       "      <th>SEQUENCE NUMBER</th>\n",
       "      <th>DRAW DATE</th>\n",
       "      <th>NUMBER DRAWN 1</th>\n",
       "      <th>NUMBER DRAWN 2</th>\n",
       "      <th>NUMBER DRAWN 3</th>\n",
       "      <th>NUMBER DRAWN 4</th>\n",
       "      <th>NUMBER DRAWN 5</th>\n",
       "      <th>NUMBER DRAWN 6</th>\n",
       "      <th>BONUS NUMBER</th>\n",
       "    </tr>\n",
       "  </thead>\n",
       "  <tbody>\n",
       "    <tr>\n",
       "      <th>0</th>\n",
       "      <td>649</td>\n",
       "      <td>1</td>\n",
       "      <td>0</td>\n",
       "      <td>6/12/1982</td>\n",
       "      <td>3</td>\n",
       "      <td>11</td>\n",
       "      <td>12</td>\n",
       "      <td>14</td>\n",
       "      <td>41</td>\n",
       "      <td>43</td>\n",
       "      <td>13</td>\n",
       "    </tr>\n",
       "    <tr>\n",
       "      <th>1</th>\n",
       "      <td>649</td>\n",
       "      <td>2</td>\n",
       "      <td>0</td>\n",
       "      <td>6/19/1982</td>\n",
       "      <td>8</td>\n",
       "      <td>33</td>\n",
       "      <td>36</td>\n",
       "      <td>37</td>\n",
       "      <td>39</td>\n",
       "      <td>41</td>\n",
       "      <td>9</td>\n",
       "    </tr>\n",
       "    <tr>\n",
       "      <th>2</th>\n",
       "      <td>649</td>\n",
       "      <td>3</td>\n",
       "      <td>0</td>\n",
       "      <td>6/26/1982</td>\n",
       "      <td>1</td>\n",
       "      <td>6</td>\n",
       "      <td>23</td>\n",
       "      <td>24</td>\n",
       "      <td>27</td>\n",
       "      <td>39</td>\n",
       "      <td>34</td>\n",
       "    </tr>\n",
       "  </tbody>\n",
       "</table>\n",
       "</div>"
      ],
      "text/plain": [
       "   PRODUCT  DRAW NUMBER  SEQUENCE NUMBER  DRAW DATE  NUMBER DRAWN 1  \\\n",
       "0      649            1                0  6/12/1982               3   \n",
       "1      649            2                0  6/19/1982               8   \n",
       "2      649            3                0  6/26/1982               1   \n",
       "\n",
       "   NUMBER DRAWN 2  NUMBER DRAWN 3  NUMBER DRAWN 4  NUMBER DRAWN 5  \\\n",
       "0              11              12              14              41   \n",
       "1              33              36              37              39   \n",
       "2               6              23              24              27   \n",
       "\n",
       "   NUMBER DRAWN 6  BONUS NUMBER  \n",
       "0              43            13  \n",
       "1              41             9  \n",
       "2              39            34  "
      ]
     },
     "execution_count": 6,
     "metadata": {},
     "output_type": "execute_result"
    }
   ],
   "source": [
    "import pandas as pd\n",
    "df = pd.read_csv(\"649.csv\")\n",
    "print(df.shape)\n",
    "df.head(3)"
   ]
  },
  {
   "cell_type": "code",
   "execution_count": 7,
   "metadata": {},
   "outputs": [
    {
     "name": "stdout",
     "output_type": "stream",
     "text": [
      "n_times_selected = 1\n",
      "The probability you wining is 0.00027\n"
     ]
    }
   ],
   "source": [
    "# find winning probabily of a given set of numbers\n",
    "def extract_numbers(num_ls):\n",
    "    for n in num_ls:\n",
    "        df1 = df[df[\"NUMBER DRAWN 1\"] == num_ls[0]]\n",
    "        df2 = df1[df1[\"NUMBER DRAWN 2\"] == num_ls[1]]\n",
    "        df3 = df2[df2[\"NUMBER DRAWN 3\"] == num_ls[2]]\n",
    "        df4 = df3[df3[\"NUMBER DRAWN 4\"] == num_ls[3]]\n",
    "        df5 = df4[df4[\"NUMBER DRAWN 5\"] == num_ls[4]]\n",
    "        df6 = df5[df5[\"NUMBER DRAWN 6\"] == num_ls[5]]\n",
    "    prob_win = df6.shape[0] / df.shape[0]\n",
    "    print(\"n_times_selected = {0}\".format(df6.shape[0]))\n",
    "    print(\"The probability you wining is {:.5f}\".format(prob_win))\n",
    "\n",
    "extract_numbers([3, 11,12,14,41,43])"
   ]
  },
  {
   "cell_type": "code",
   "execution_count": 9,
   "metadata": {},
   "outputs": [
    {
     "name": "stdout",
     "output_type": "stream",
     "text": [
      "Your chance of winning with 1 tickets is 0.00000%\n",
      "Your chance of winning with 10 tickets is 0.00001%\n",
      "Your chance of winning with 100 tickets is 0.00012%\n",
      "Your chance of winning with 10000 tickets is 0.01226%\n",
      "Your chance of winning with 1000000 tickets is 1.22587%\n",
      "Your chance of winning with 6991908 tickets is 8.57115%\n",
      "Your chance of winning with 13983816 tickets is 17.14229%\n"
     ]
    }
   ],
   "source": [
    "# calculate probabilities based on number of tickets bought\n",
    "def multi_ticket_probability(ls):\n",
    "    total_outcome = combination(49,6)\n",
    "    for i in ls:\n",
    "        prob = i/total_outcome\n",
    "        print(\"Your chance of winning with {} tickets is {:.5f}%\".format(i, prob*100))\n",
    "\n",
    "ls= [1, 10, 100, 10000, 1000000, 6991908, 13983816]\n",
    "multi_ticket_probability(ls)"
   ]
  },
  {
   "cell_type": "code",
   "execution_count": 10,
   "metadata": {},
   "outputs": [
    {
     "name": "stdout",
     "output_type": "stream",
     "text": [
      "Your chance of winning with 2 matching numbers is 0.00263%\n",
      "Your chance of winning with 3 matching numbers is 0.00361%\n",
      "Your chance of winning with 4 matching numbers is 0.00251%\n",
      "Your chance of winning with 5 matching numbers is 0.00081%\n"
     ]
    }
   ],
   "source": [
    "# calculate probability  of winning with less than 6 matching numbers\n",
    "def probability_less_6(n):\n",
    "    n_num_comb = combination(6,n)\n",
    "    total_outcome = combination(49,6)\n",
    "    total_n_num_comb = (49-n)*n_num_comb\n",
    "    prob = total_n_num_comb/total_outcome\n",
    "    print(\"Your chance of winning with {} matching numbers is {:.5f}%\".format(n, prob*100))\n",
    "\n",
    "for n in [2, 3, 4, 5]:\n",
    "    probability_less_6(n)"
   ]
  },
  {
   "cell_type": "code",
   "execution_count": null,
   "metadata": {},
   "outputs": [],
   "source": []
  }
 ],
 "metadata": {
  "kernelspec": {
   "display_name": "Python 3",
   "language": "python",
   "name": "python3"
  },
  "language_info": {
   "codemirror_mode": {
    "name": "ipython",
    "version": 3
   },
   "file_extension": ".py",
   "mimetype": "text/x-python",
   "name": "python",
   "nbconvert_exporter": "python",
   "pygments_lexer": "ipython3",
   "version": "3.7.3"
  }
 },
 "nbformat": 4,
 "nbformat_minor": 2
}
