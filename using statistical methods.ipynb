{
 "cells": [
  {
   "cell_type": "code",
   "execution_count": 12,
   "metadata": {},
   "outputs": [
    {
     "name": "stdout",
     "output_type": "stream",
     "text": [
      "[WinError 2] The system cannot find the file specified: 'Raw_data'\n",
      "C:\\Users\\Xueho\\Projects\\Python_projects\\Raw_data\n"
     ]
    }
   ],
   "source": [
    "cd Raw_data"
   ]
  },
  {
   "cell_type": "code",
   "execution_count": 13,
   "metadata": {},
   "outputs": [
    {
     "name": "stdout",
     "output_type": "stream",
     "text": [
      "wnba_first_one: \n",
      "             Name Team Pos  Height  Weight        BMI Birth_Place  \\\n",
      "0  Aerial Powers  DAL   F     183    71.0  21.200991          US   \n",
      "\n",
      "          Birthdate  Age         College Experience  Games Played  MIN  FGM  \\\n",
      "0  January 17, 1994   23  Michigan State          2             8  173   30   \n",
      "\n",
      "   FGA   FG%  15:00  3PA   3P%  FTM  FTA   FT%  OREB  DREB  REB  AST  STL  \\\n",
      "0   85  35.3     12   32  37.5   21   26  80.8     6    22   28   12    3   \n",
      "\n",
      "   BLK  TO  PTS  DD2  TD3  \n",
      "0    6  12   93    0    0  \n",
      "\n",
      "wnba_shape:  (143, 32)\n",
      "sampling_error:  2\n"
     ]
    }
   ],
   "source": [
    "import pandas as pd\n",
    "import matplotlib.pyplot as plt\n",
    "%matplotlib inline\n",
    "pd.options.display.max_rows = 200\n",
    "pd.options.display.max_columns = 50\n",
    "\n",
    "wnba = pd.read_csv(\"..\\Raw_data\\wnba.csv\")\n",
    "print('wnba_first_one: \\n', wnba.head(1))\n",
    "print('\\nwnba_shape: ', wnba.shape)\n",
    "parameter = max(wnba['Games Played'])\n",
    "sample = wnba['Games Played'].sample(30, random_state = 1)\n",
    "statistic = max(sample)\n",
    "sampling_error = parameter - statistic\n",
    "print('sampling_error: ', sampling_error)"
   ]
  },
  {
   "cell_type": "code",
   "execution_count": 69,
   "metadata": {},
   "outputs": [
    {
     "data": {
      "text/plain": [
       "<matplotlib.lines.Line2D at 0x20a709b5908>"
      ]
     },
     "execution_count": 69,
     "metadata": {},
     "output_type": "execute_result"
    },
    {
     "data": {
      "image/png": "[encoded data removed]",
      "text/plain": [
       "<Figure size 432x288 with 1 Axes>"
      ]
     },
     "metadata": {},
     "output_type": "display_data"
    }
   ],
   "source": [
    "ls=[]\n",
    "for i in range(100):\n",
    "    avg = wnba['PTS'].sample(10, random_state=i).mean()\n",
    "    ls.append(avg)\n",
    "plt.scatter(x=range(1,101), y=ls)\n",
    "plt.axhline(wnba['PTS'].mean())"
   ]
  },
  {
   "cell_type": "code",
   "execution_count": 70,
   "metadata": {},
   "outputs": [
    {
     "name": "stdout",
     "output_type": "stream",
     "text": [
      "C\n"
     ]
    }
   ],
   "source": [
    "# stratified sampling (stratum): organize our data set into different groups, \n",
    "#     then do simple random sampling for every group.\n",
    "wnba['Pts_per_game']=wnba['PTS']/wnba['Games Played']\n",
    "# Stratifying the data in five strata\n",
    "stratum_G = wnba[wnba.Pos == 'G']\n",
    "stratum_F = wnba[wnba.Pos == 'F']\n",
    "stratum_C = wnba[wnba.Pos == 'C']\n",
    "stratum_GF = wnba[wnba.Pos == 'G/F']\n",
    "stratum_FC = wnba[wnba.Pos == 'F/C']  \n",
    "\n",
    "strata = [(stratum_G, 'G'),  (stratum_F, 'F'), (stratum_C, 'C'), (stratum_GF, 'GF'), \\\n",
    "          (stratum_FC, 'FC')]\n",
    "avgs={}\n",
    "for item, key in strata:\n",
    "    avg = item['Pts_per_game'].sample(10, random_state = 0).mean()\n",
    "    avgs[key] = avg\n",
    "position_most_points = max(avgs, key = avgs.get)\n",
    "print(position_most_points)"
   ]
  },
  {
   "cell_type": "code",
   "execution_count": 71,
   "metadata": {},
   "outputs": [
    {
     "data": {
      "text/plain": [
       "(22.0, 32.0]     0.727273\n",
       "(12.0, 22.0]     0.181818\n",
       "(1.969, 12.0]    0.090909\n",
       "Name: Games Played, dtype: float64"
      ]
     },
     "execution_count": 71,
     "metadata": {},
     "output_type": "execute_result"
    }
   ],
   "source": [
    "wnba['Games Played'].value_counts(bins = 3, normalize = True)\n",
    "# count values in three ranges"
   ]
  },
  {
   "cell_type": "code",
   "execution_count": 72,
   "metadata": {},
   "outputs": [
    {
     "data": {
      "text/plain": [
       "<matplotlib.lines.Line2D at 0x20a70a5d160>"
      ]
     },
     "execution_count": 72,
     "metadata": {},
     "output_type": "execute_result"
    },
    {
     "data": {
      "image/png": "[encoded data removed]",
      "text/plain": [
       "<Figure size 432x288 with 1 Axes>"
      ]
     },
     "metadata": {},
     "output_type": "display_data"
    }
   ],
   "source": [
    "'''\n",
    "wnba['Games Played'].value_counts(bins = 3, normalize = True)\n",
    "# count values in three ranges\n",
    "under_12 = wnba[wnba['Games Played'] <= 12]\n",
    "btw_13_22 = wnba[(wnba['Games Played'] > 12) & (wnba['Games Played'] <= 22)]\n",
    "over_23 = wnba[wnba['Games Played'] > 22]\n",
    "\n",
    "proportional_sampling_means=[]\n",
    "for i in range(100):\n",
    "    sample_under_12 = under_12['PTS'].sample(1, random_state=i)\n",
    "    sample_btw_13_22 = btw_13_22['PTS'].sample(2, random_state=i)\n",
    "    sample_over_23 = over_23['PTS'].sample(7, random_state=i)\n",
    "    final_sample = pd.concat([sample_under_12, sample_btw_13_22, sample_over_23])           \n",
    "    proportional_sampling_means.append(final_sample.mean())\n",
    "plt.scatter(range(1,101), proportional_sampling_means)\n",
    "plt.axhline(wnba['PTS'].mean())\n",
    "'''"
   ]
  },
  {
   "cell_type": "code",
   "execution_count": null,
   "metadata": {},
   "outputs": [],
   "source": [
    "# Porportional sampling above din't perform better than simple random sampling"
   ]
  },
  {
   "cell_type": "code",
   "execution_count": 73,
   "metadata": {},
   "outputs": [
    {
     "name": "stdout",
     "output_type": "stream",
     "text": [
      "(347.333, 682.667]    0.349650\n",
      "(10.993, 347.333]     0.335664\n",
      "(682.667, 1018.0]     0.314685\n",
      "Name: MIN, dtype: float64\n"
     ]
    }
   ],
   "source": [
    "strata = wnba['MIN'].value_counts(bins = 3, normalize = True)\n",
    "print(strata)"
   ]
  },
  {
   "cell_type": "code",
   "execution_count": 93,
   "metadata": {},
   "outputs": [
    {
     "data": {
      "text/plain": [
       "<matplotlib.lines.Line2D at 0x20a7103a048>"
      ]
     },
     "execution_count": 93,
     "metadata": {},
     "output_type": "execute_result"
    },
    {
     "data": {
      "image/png": "[encoded data removed]",
      "text/plain": [
       "<Figure size 432x288 with 1 Axes>"
      ]
     },
     "metadata": {},
     "output_type": "display_data"
    }
   ],
   "source": [
    "```\n",
    "under_347_min = wnba[wnba['MIN'] <= 347]\n",
    "btw_347_683 = wnba[(wnba['MIN'] > 347) & (wnba['Games Played'] <= 683)]\n",
    "over_683 = wnba[wnba['MIN'] > 683]\n",
    "proportional_sampling_means=[]\n",
    "for i in range(100):\n",
    "    sample_under_347_min = under_347_min['PTS'].sample(4, random_state=i)\n",
    "    sample_btw_347_683 = btw_347_683['PTS'].sample(4, random_state=i)\n",
    "    sample_over_683 = over_683['PTS'].sample(4, random_state=i)\n",
    "    final_sample = pd.concat([sample_under_347_min, sample_btw_347_683, sample_over_683])\n",
    "    proportional_sampling_means.append(final_sample.mean())\n",
    "plt.scatter(range(1,101), proportional_sampling_means)\n",
    "plt.axhline(wnba['PTS'].mean())\n",
    "```"
   ]
  },
  {
   "cell_type": "code",
   "execution_count": 96,
   "metadata": {},
   "outputs": [
    {
     "data": {
      "text/plain": [
       "6     PHO\n",
       "11    IND\n",
       "4     MIN\n",
       "10    ATL\n",
       "dtype: object"
      ]
     },
     "execution_count": 96,
     "metadata": {},
     "output_type": "execute_result"
    }
   ],
   "source": [
    "# cluster sampling: each of the individual data sources is a cluster\n",
    "# sample four clusters randomly\n",
    "pd.Series(wnba['Team'].unique()).sample(4, random_state = 0)"
   ]
  },
  {
   "cell_type": "code",
   "execution_count": 95,
   "metadata": {},
   "outputs": [
    {
     "name": "stdout",
     "output_type": "stream",
     "text": [
      "sampling_error_height:  -0.06400121617511445\n",
      "sampling_error_age:  -1.401337792642142\n",
      "sampling_error_BMI:  0.23095444165950596\n",
      "sampling_error_points:  -27.79674673152934\n"
     ]
    }
   ],
   "source": [
    "pd.Series(wnba['Team'].unique()).sample(4, random_state = 0)\n",
    "df1 = wnba[wnba['Team']=='PHO']\n",
    "df2 = wnba[wnba['Team']=='IND']\n",
    "df3 = wnba[wnba['Team']== 'MIN']\n",
    "df4 = wnba[wnba['Team']=='ATL']\n",
    "df = pd.concat([df1, df2, df3, df4])\n",
    "height = df['Height'].mean()\n",
    "age = df['Age'].mean()\n",
    "BMI = df['BMI'].mean()\n",
    "points = df['PTS'].mean()\n",
    "sampling_error_height = wnba['Height'].mean() - height\n",
    "sampling_error_age = wnba['Age'].mean() - age\n",
    "sampling_error_BMI = wnba['BMI'].mean() - BMI\n",
    "sampling_error_points = wnba['PTS'].mean() - points\n",
    "print('sampling_error_height: ', sampling_error_height)\n",
    "print('sampling_error_age: ', sampling_error_age)\n",
    "print('sampling_error_BMI: ', sampling_error_BMI)\n",
    "print('sampling_error_points: ', sampling_error_points)"
   ]
  },
  {
   "cell_type": "code",
   "execution_count": null,
   "metadata": {},
   "outputs": [],
   "source": [
    "# sampling methods: https://en.wikipedia.org/wiki/Sampling_(statistics)#Sampling_methods\n",
    "# descriptive statistics: visualizing properties of the data through graphs\n",
    "# inferential statistics: use a sample to draw conclusions about a population"
   ]
  },
  {
   "cell_type": "code",
   "execution_count": 7,
   "metadata": {},
   "outputs": [
    {
     "name": "stdout",
     "output_type": "stream",
     "text": [
      "['Birth_Place', 'College', 'Name', 'Pos', 'Team']\n"
     ]
    }
   ],
   "source": [
    "# List variables measured on a nominal scale to a list, and sort the list\n",
    "# wnba.info()\n",
    "nominal_scale = sorted(['Name', 'Team', 'Pos', 'Birth_Place', 'College'])\n",
    "print(nominal_scale)"
   ]
  },
  {
   "cell_type": "code",
   "execution_count": 9,
   "metadata": {},
   "outputs": [],
   "source": [
    "# sort the table by index ordererly using \n",
    "age_ascending = wnba['Age'].value_counts().sort_index(ascending=True)\n",
    "age_descending = wnba['Age'].value_counts().sort_index(ascending=False)"
   ]
  },
  {
   "cell_type": "code",
   "execution_count": null,
   "metadata": {},
   "outputs": [],
   "source": [
    "def make_pts_ordinal(row):\n",
    "    if row['PTS'] <= 20:\n",
    "        return 'very few points'\n",
    "    if (20 < row['PTS'] <=  80):\n",
    "        return 'few points'\n",
    "    if (80 < row['PTS'] <=  150):\n",
    "        return 'many, but below average'\n",
    "    if (150 < row['PTS'] <= 300):\n",
    "        return 'average number of points'\n",
    "    if (300 < row['PTS'] <=  450):\n",
    "        return 'more than average'\n",
    "    else:\n",
    "        return 'much more than average'\n",
    "    \n",
    "wnba['PTS_ordinal_scale'] = wnba.apply(make_pts_ordinal, axis = 1)\n",
    "pts_ordinal_desc = wnba['PTS_ordinal_scale'].value_counts().iloc[[4, 3, 0, 2, 1, 5]]"
   ]
  },
  {
   "cell_type": "code",
   "execution_count": 15,
   "metadata": {},
   "outputs": [
    {
     "name": "stdout",
     "output_type": "stream",
     "text": [
      "18.88111888111888\n",
      "16.083916083916083\n",
      "83.91608391608392\n"
     ]
    }
   ],
   "source": [
    "# use kind = 'weak' to find the percentage of values thar are equal to or less than \n",
    "# the value specified in the score parameter\n",
    "from scipy.stats import percentileofscore\n",
    "print(percentileofscore(a = wnba['Age'], score = 23, kind = 'weak'))\n",
    "# percentage of players played half the number of games or less\n",
    "percentile_rank_half_less = percentileofscore(wnba['Games Played'], 17, kind ='weak')\n",
    "#  percentage of players played more than half the number of games\n",
    "percentage_half_more = 100 - percentileofscore(wnba['Games Played'], 17, kind ='weak')\n",
    "print(percentile_rank_half_less)\n",
    "print(percentage_half_more)"
   ]
  },
  {
   "cell_type": "code",
   "execution_count": 19,
   "metadata": {},
   "outputs": [
    {
     "name": "stdout",
     "output_type": "stream",
     "text": [
      "count    143.000000\n",
      "mean      27.076923\n",
      "std        3.679170\n",
      "min       21.000000\n",
      "25%       24.000000\n",
      "50%       27.000000\n",
      "75%       30.000000\n",
      "max       36.000000\n",
      "Name: Age, dtype: float64\n"
     ]
    }
   ],
   "source": [
    "print(wnba['Age'].describe())"
   ]
  },
  {
   "cell_type": "code",
   "execution_count": 20,
   "metadata": {},
   "outputs": [
    {
     "name": "stdout",
     "output_type": "stream",
     "text": [
      "min    21.0\n",
      "25%    24.0\n",
      "50%    27.0\n",
      "75%    30.0\n",
      "max    36.0\n",
      "Name: Age, dtype: float64\n"
     ]
    }
   ],
   "source": [
    "print(wnba['Age'].describe().iloc[3:])"
   ]
  },
  {
   "cell_type": "code",
   "execution_count": 23,
   "metadata": {},
   "outputs": [
    {
     "name": "stdout",
     "output_type": "stream",
     "text": [
      "count    143.000000\n",
      "mean      27.076923\n",
      "std        3.679170\n",
      "min       21.000000\n",
      "50%       27.000000\n",
      "75%       30.000000\n",
      "max       36.000000\n",
      "Name: Age, dtype: float64\n",
      "\n",
      " count    143.000000\n",
      "mean      27.076923\n",
      "std        3.679170\n",
      "min       21.000000\n",
      "50%       27.000000\n",
      "max       36.000000\n",
      "Name: Age, dtype: float64\n",
      "\n",
      " count    143.000000\n",
      "mean      27.076923\n",
      "std        3.679170\n",
      "min       21.000000\n",
      "50%       27.000000\n",
      "95%       34.000000\n",
      "max       36.000000\n",
      "Name: Age, dtype: float64\n"
     ]
    }
   ],
   "source": [
    "wnba = pd.read_csv('wnba.csv')\n",
    "# upper quartile of the Age variable\n",
    "age_upper_quartile = wnba['Age'].describe(percentiles = [.75])\n",
    "# middle quartile of the Age variable\n",
    "age_middle_quartile = wnba['Age'].describe(percentiles = [.5])\n",
    "# 95th percentile of the Age variable\n",
    "age_95th_percentile = wnba['Age'].describe(percentiles = [.95])\n",
    "print(age_upper_quartile)\n",
    "print('\\n',age_middle_quartile)\n",
    "print('\\n',age_95th_percentile)"
   ]
  },
  {
   "cell_type": "code",
   "execution_count": 24,
   "metadata": {},
   "outputs": [
    {
     "name": "stdout",
     "output_type": "stream",
     "text": [
      "(54.941, 60.8]     5\n",
      "(60.8, 66.6]      21\n",
      "(66.6, 72.4]      10\n",
      "(72.4, 78.2]      33\n",
      "(78.2, 84.0]      31\n",
      "(84.0, 89.8]      24\n",
      "(89.8, 95.6]      10\n",
      "(95.6, 101.4]      3\n",
      "(101.4, 107.2]     2\n",
      "(107.2, 113.0]     3\n",
      "Name: Weight, dtype: int64\n"
     ]
    }
   ],
   "source": [
    "print(wnba['Weight'].value_counts(bins = 10).sort_index())"
   ]
  },
  {
   "cell_type": "code",
   "execution_count": 25,
   "metadata": {},
   "outputs": [
    {
     "name": "stdout",
     "output_type": "stream",
     "text": [
      "(525.8, 584.0]     3.496503\n",
      "(467.6, 525.8]     2.797203\n",
      "(409.4, 467.6]     5.594406\n",
      "(351.2, 409.4]     6.993007\n",
      "(293.0, 351.2]     5.594406\n",
      "(234.8, 293.0]    11.888112\n",
      "(176.6, 234.8]    13.986014\n",
      "(118.4, 176.6]    11.888112\n",
      "(60.2, 118.4]     16.783217\n",
      "(1.417, 60.2]     20.979021\n",
      "Name: PTS, dtype: float64\n"
     ]
    }
   ],
   "source": [
    "grouped_freq_table = wnba['PTS'].value_counts(bins = 10,\n",
    "                normalize = True).sort_index(ascending = False)*100\n",
    "print(grouped_freq_table)"
   ]
  },
  {
   "cell_type": "code",
   "execution_count": null,
   "metadata": {},
   "outputs": [],
   "source": [
    "intervals = pd.interval_range(start = 0, end = 600, freq = 100)\n",
    "print(intervals)\n",
    "gr_freq_table = pd.Series([0,0,0,0,0,0], index = intervals)\n",
    "print(gr_freq_table)\n",
    "for value in wnba['PTS']:\n",
    "    for interval in intervals:\n",
    "        if value in interval:\n",
    "            gr_freq_table.loc[interval] += 1\n",
    "            break\n",
    "print(gr_freq_table)"
   ]
  },
  {
   "cell_type": "code",
   "execution_count": 26,
   "metadata": {},
   "outputs": [
    {
     "name": "stdout",
     "output_type": "stream",
     "text": [
      "(0, 60]       30\n",
      "(60, 120]     25\n",
      "(120, 180]    17\n",
      "(180, 240]    22\n",
      "(240, 300]    15\n",
      "(300, 360]     7\n",
      "(360, 420]    11\n",
      "(420, 480]     7\n",
      "(480, 540]     4\n",
      "(540, 600]     5\n",
      "dtype: int64\n"
     ]
    }
   ],
   "source": [
    "intervals = pd.interval_range(start = 0, end = 600, freq = 60)\n",
    "gr_freq_table_10 = pd.Series([0,0,0,0,0,0,0,0,0,0], index = intervals)\n",
    "for value in wnba['PTS']:\n",
    "    for interval in intervals:\n",
    "        if value in interval:\n",
    "            gr_freq_table_10.loc[interval] += 1\n",
    "            break\n",
    "print(gr_freq_table_10)"
   ]
  },
  {
   "cell_type": "code",
   "execution_count": 57,
   "metadata": {},
   "outputs": [
    {
     "data": {
      "text/plain": [
       "Little experience    42\n",
       "Very experienced     37\n",
       "Experienced          25\n",
       "Rookie               23\n",
       "Veteran              16\n",
       "Name: Exp_ordinal, dtype: int64"
      ]
     },
     "execution_count": 57,
     "metadata": {},
     "output_type": "execute_result"
    }
   ],
   "source": [
    "import numpy as np\n",
    "def lab(y):\n",
    "    if y == 'R':\n",
    "        return 'Rookie'\n",
    "    elif float(y) <= 3.0:\n",
    "        return 'Little experience'\n",
    "    elif float(y) <= 5.0:\n",
    "        return 'Experienced'\n",
    "    elif float(y) <= 10.0:\n",
    "        return 'Very experienced'\n",
    "    else:\n",
    "        return 'Veteran'\n",
    "wnba['Exp_ordinal'] = wnba['Experience'].apply(lab)\n",
    "wnba['Exp_ordinal'].value_counts()"
   ]
  },
  {
   "cell_type": "code",
   "execution_count": 60,
   "metadata": {},
   "outputs": [
    {
     "data": {
      "text/plain": [
       "<matplotlib.axes._subplots.AxesSubplot at 0x1e0ef87f3c8>"
      ]
     },
     "execution_count": 60,
     "metadata": {},
     "output_type": "execute_result"
    },
    {
     "data": {
      "image/png": "[encoded data removed]",
      "text/plain": [
       "<Figure size 432x288 with 1 Axes>"
      ]
     },
     "metadata": {},
     "output_type": "display_data"
    }
   ],
   "source": [
    "wnba['Exp_ordinal'].value_counts().iloc[[3,0,2,1,4]].plot.barh(title = 'Number of players in WNBA by level of experience')"
   ]
  },
  {
   "cell_type": "code",
   "execution_count": 63,
   "metadata": {},
   "outputs": [
    {
     "data": {
      "text/plain": [
       "Text(0,0.5,'')"
      ]
     },
     "execution_count": 63,
     "metadata": {},
     "output_type": "execute_result"
    },
    {
     "data": {
      "image/png": "[encoded data removed]",
      "text/plain": [
       "<Figure size 288x288 with 1 Axes>"
      ]
     },
     "metadata": {},
     "output_type": "display_data"
    }
   ],
   "source": [
    "wnba['Pos'].value_counts().plot.pie(figsize = (4,4), autopct = '%.1f%%')\n",
    "plt.ylabel('')"
   ]
  },
  {
   "cell_type": "code",
   "execution_count": 31,
   "metadata": {},
   "outputs": [
    {
     "data": {
      "text/plain": [
       "<matplotlib.axes._subplots.AxesSubplot at 0x1e0ee3fe630>"
      ]
     },
     "execution_count": 31,
     "metadata": {},
     "output_type": "execute_result"
    },
    {
     "data": {
      "image/png": "[encoded data removed]",
      "text/plain": [
       "<Figure size 432x288 with 1 Axes>"
      ]
     },
     "metadata": {},
     "output_type": "display_data"
    }
   ],
   "source": [
    "wnba['PTS'].plot.hist()"
   ]
  },
  {
   "cell_type": "code",
   "execution_count": 28,
   "metadata": {},
   "outputs": [
    {
     "data": {
      "text/plain": [
       "<matplotlib.axes._subplots.AxesSubplot at 0x1e0ee080668>"
      ]
     },
     "execution_count": 28,
     "metadata": {},
     "output_type": "execute_result"
    },
    {
     "data": {
      "image/png": "[encoded data removed]",
      "text/plain": [
       "<Figure size 432x288 with 1 Axes>"
      ]
     },
     "metadata": {},
     "output_type": "display_data"
    }
   ],
   "source": [
    "from numpy import arange\n",
    "wnba['PTS'].plot.hist(grid = True, xticks = arange(2,585,58.2), rot = 30)"
   ]
  },
  {
   "cell_type": "code",
   "execution_count": 32,
   "metadata": {},
   "outputs": [
    {
     "data": {
      "text/plain": [
       "Text(0.5,0,'Games played')"
      ]
     },
     "execution_count": 32,
     "metadata": {},
     "output_type": "execute_result"
    },
    {
     "data": {
      "image/png": "[encoded data removed]",
      "text/plain": [
       "<Figure size 432x288 with 1 Axes>"
      ]
     },
     "metadata": {},
     "output_type": "display_data"
    }
   ],
   "source": [
    "wnba['Games Played'].plot.hist(range = (1,32), bins=8, title='The distribution of players by games played')\n",
    "plt.xlabel('Games played')"
   ]
  },
  {
   "cell_type": "code",
   "execution_count": 69,
   "metadata": {},
   "outputs": [
    {
     "data": {
      "text/plain": [
       "<matplotlib.axes._subplots.AxesSubplot at 0x1e0effa0cc0>"
      ]
     },
     "execution_count": 69,
     "metadata": {},
     "output_type": "execute_result"
    },
    {
     "data": {
      "image/png": "[encoded data removed]",
      "text/plain": [
       "<Figure size 432x288 with 1 Axes>"
      ]
     },
     "metadata": {},
     "output_type": "display_data"
    }
   ],
   "source": [
    "import seaborn as sns\n",
    "sns.set()\n",
    "sns.countplot(data = wnba, x = 'Exp_ordinal', hue = 'Pos', \n",
    "              order = ['Rookie', 'Little experience', 'Experienced', 'Very experienced', 'Veteran'],\n",
    "              hue_order = ['C', 'F', 'F/C', 'G', 'G/F'])"
   ]
  },
  {
   "cell_type": "code",
   "execution_count": 70,
   "metadata": {},
   "outputs": [
    {
     "data": {
      "text/plain": [
       "average or above    73\n",
       "below average       70\n",
       "Name: min_mean_relative, dtype: int64"
      ]
     },
     "execution_count": 70,
     "metadata": {},
     "output_type": "execute_result"
    },
    {
     "data": {
      "image/png": "[encoded data removed]",
      "text/plain": [
       "<Figure size 432x288 with 1 Axes>"
      ]
     },
     "metadata": {},
     "output_type": "display_data"
    }
   ],
   "source": [
    "wnba['age_mean_relative'] = wnba['Age'].apply(lambda x: 'old' if x >= 27 else 'young')\n",
    "wnba['min_mean_relative'] = wnba['MIN'].apply(lambda x: 'average or above' if x >= 497 else\n",
    "                                           'below average')\n",
    "sns.countplot(data=wnba, x='age_mean_relative', hue='min_mean_relative')\n",
    "wnba['min_mean_relative'].value_counts()"
   ]
  },
  {
   "cell_type": "code",
   "execution_count": 74,
   "metadata": {},
   "outputs": [
    {
     "data": {
      "text/plain": [
       "<matplotlib.legend.Legend at 0x1e0f0208e48>"
      ]
     },
     "execution_count": 74,
     "metadata": {},
     "output_type": "execute_result"
    },
    {
     "data": {
      "image/png": "[encoded data removed]",
      "text/plain": [
       "<Figure size 432x288 with 1 Axes>"
      ]
     },
     "metadata": {},
     "output_type": "display_data"
    }
   ],
   "source": [
    "wnba[wnba.Age >= 27]['MIN'].plot.hist(histtype = 'step', label = 'Old', legend = True, color='green')\n",
    "wnba[wnba.Age < 27]['MIN'].plot.hist(histtype = 'step', label = 'Young', legend = True, color='red')\n",
    "plt.axvline(x=497, label='Average')\n",
    "plt.legend()"
   ]
  },
  {
   "cell_type": "code",
   "execution_count": 77,
   "metadata": {},
   "outputs": [
    {
     "data": {
      "text/plain": [
       "<matplotlib.legend.Legend at 0x1e0f13192e8>"
      ]
     },
     "execution_count": 77,
     "metadata": {},
     "output_type": "execute_result"
    },
    {
     "data": {
      "image/png": "[encoded data removed]",
      "text/plain": [
       "<Figure size 432x288 with 1 Axes>"
      ]
     },
     "metadata": {},
     "output_type": "display_data"
    }
   ],
   "source": [
    "# kernel density estimate plot/kernel density plot\n",
    "wnba[wnba.Age >= 27]['MIN'].plot.kde(label = 'Old', legend = True)\n",
    "wnba[wnba.Age < 27]['MIN'].plot.kde(label = 'Young', legend = True)\n",
    "plt.axvline(x=497, label='Average', color='red')\n",
    "plt.legend()"
   ]
  },
  {
   "cell_type": "code",
   "execution_count": 78,
   "metadata": {},
   "outputs": [
    {
     "data": {
      "text/plain": [
       "<matplotlib.axes._subplots.AxesSubplot at 0x1e0f13230b8>"
      ]
     },
     "execution_count": 78,
     "metadata": {},
     "output_type": "execute_result"
    },
    {
     "data": {
      "image/png": "[encoded data removed]",
      "text/plain": [
       "<Figure size 432x288 with 1 Axes>"
      ]
     },
     "metadata": {},
     "output_type": "display_data"
    }
   ],
   "source": [
    "sns.stripplot(data=wnba, x='Pos', y='Weight', jitter=True)"
   ]
  },
  {
   "cell_type": "code",
   "execution_count": 79,
   "metadata": {},
   "outputs": [
    {
     "data": {
      "text/plain": [
       "<matplotlib.axes._subplots.AxesSubplot at 0x1e0f1274da0>"
      ]
     },
     "execution_count": 79,
     "metadata": {},
     "output_type": "execute_result"
    },
    {
     "data": {
      "image/png": "[encoded data removed]",
      "text/plain": [
       "<Figure size 432x288 with 1 Axes>"
      ]
     },
     "metadata": {},
     "output_type": "display_data"
    }
   ],
   "source": [
    "sns.boxplot(data=wnba, x='Pos', y='Weight')"
   ]
  },
  {
   "cell_type": "code",
   "execution_count": 82,
   "metadata": {},
   "outputs": [
    {
     "name": "stdout",
     "output_type": "stream",
     "text": [
      "12\n",
      "0\n"
     ]
    }
   ],
   "source": [
    "iqr = 7\n",
    "lower_bound = 11.5\n",
    "upper_bound= 39.5\n",
    "outliers_low = sum(wnba['Games Played'] < lower_bound) \n",
    "outliers_high = sum(wnba['Games Played'] > upper_bound)\n",
    "print(outliers_low)\n",
    "print(outliers_high)"
   ]
  }
 ],
 "metadata": {
  "kernelspec": {
   "display_name": "Python 3",
   "language": "python",
   "name": "python3"
  },
  "language_info": {
   "codemirror_mode": {
    "name": "ipython",
    "version": 3
   },
   "file_extension": ".py",
   "mimetype": "text/x-python",
   "name": "python",
   "nbconvert_exporter": "python",
   "pygments_lexer": "ipython3",
   "version": "3.6.5"
  }
 },
 "nbformat": 4,
 "nbformat_minor": 2
}
