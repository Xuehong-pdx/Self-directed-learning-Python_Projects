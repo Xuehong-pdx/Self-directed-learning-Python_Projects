{
 "cells": [
  {
   "cell_type": "code",
   "execution_count": 1,
   "metadata": {},
   "outputs": [
    {
     "name": "stdout",
     "output_type": "stream",
     "text": [
      "2\n",
      "4 2\n"
     ]
    }
   ],
   "source": [
    "b = \"10\"\n",
    "# convert b from a string to a binary number with the int function. set the optional second argument, base, to 2.\n",
    "print(int(b, 2))\n",
    "\n",
    "base_10_100 = int(\"100\", 2)\n",
    "print(base_10_100, 2)"
   ]
  },
  {
   "cell_type": "code",
   "execution_count": 2,
   "metadata": {},
   "outputs": [
    {
     "name": "stdout",
     "output_type": "stream",
     "text": [
      "9+1 =  10\n",
      "19+1 =  20\n",
      "99+1 =  100\n",
      "\"1\" +\"1\" =  10\n",
      "c +\"1\" =  11\n",
      "c +\"1\" =  100\n",
      "c +\"10\" =  110\n"
     ]
    }
   ],
   "source": [
    "a = 9\n",
    "a += 1\n",
    "print('9+1 = ', a)\n",
    "\n",
    "a = 19\n",
    "a += 1\n",
    "print('19+1 = ', a)\n",
    "\n",
    "a = 99\n",
    "a += 1\n",
    "print('99+1 = ', a)\n",
    "\n",
    "b = \"1\"\n",
    "# Add binary values using a binary_add function that was made just for this exercise.\n",
    "def binary_add(a, b):\n",
    "    return bin(int(a, 2) + int(b, 2))[2:]\n",
    "\n",
    "c = binary_add(b, \"1\")\n",
    "print('\"1\" +\"1\" = ', c)\n",
    "\n",
    "c = binary_add(c, \"1\")\n",
    "print('c +\"1\" = ', c)\n",
    "\n",
    "c = binary_add(c, \"1\")\n",
    "print('c +\"1\" = ', c)\n",
    "\n",
    "c = binary_add(c, \"10\")\n",
    "print('c +\"10\" = ', c)"
   ]
  },
  {
   "cell_type": "code",
   "execution_count": 3,
   "metadata": {},
   "outputs": [
    {
     "name": "stdout",
     "output_type": "stream",
     "text": [
      "True\n",
      "True\n",
      "True\n",
      "True\n",
      "True\n",
      "True\n",
      "True\n",
      "True\n",
      "True\n",
      "True\n",
      "9\n"
     ]
    }
   ],
   "source": [
    "a = 0\n",
    "b = \"0\"\n",
    "\n",
    "# Loop 10 times\n",
    "for i in range(0, 10):\n",
    "    # Add 1 to each\n",
    "    a += 1\n",
    "    b = binary_add(b, \"1\")\n",
    "\n",
    "    # Check if they are equal\n",
    "    print(int(b, 2) == a)\n",
    "\n",
    "    # Convert \"1001\" to base 10, and assign the result to base_10_1001\n",
    "base_10_1001 = int(\"1001\", 2)\n",
    "print(base_10_1001)"
   ]
  },
  {
   "cell_type": "code",
   "execution_count": 4,
   "metadata": {},
   "outputs": [
    {
     "name": "stdout",
     "output_type": "stream",
     "text": [
      "97\n",
      "0b1100001\n",
      "255\n",
      "bin(ord('ÿ')) = 0b11111111\n",
      "binary_w = 0b1110111\n",
      "binary_bracket = 0b1111101\n"
     ]
    }
   ],
   "source": [
    "# Use the ord() function to get the integer for an ASCII character.\n",
    "print(ord('a'))\n",
    "# Use the bin() function to convert to binary.\n",
    "# The bin function adds \"0b\" to the beginning of a string to indicate that it contains binary values.\n",
    "print(bin(ord('a')))\n",
    "\n",
    "# ÿ is the \"last\" ASCII character; it has the highest integer value of any ASCII character.\n",
    "# This is because 255 is the highest value can be represented with eight binary digits.\n",
    "print(ord('ÿ'))\n",
    "print(\"bin(ord('ÿ')) =\", bin(ord('ÿ')))\n",
    "binary_w = bin(ord('w'))\n",
    "binary_bracket = bin(ord('}'))\n",
    "print('binary_w =', binary_w)\n",
    "print('binary_bracket =', binary_bracket)"
   ]
  },
  {
   "cell_type": "markdown",
   "metadata": {},
   "source": [
    "ASCII only supports 255 characters.  Unicode assigns \"code points\" to characters.  The most common encoding system for Unicode is UTF-8"
   ]
  },
  {
   "cell_type": "code",
   "execution_count": 5,
   "metadata": {},
   "outputs": [
    {
     "name": "stdout",
     "output_type": "stream",
     "text": [
      "⟶\n",
      "base 10 integer value of the code point = 10230\n",
      "0b10011111110110\n",
      "0b1000000011001\n"
     ]
    }
   ],
   "source": [
    "# Initialize Unicode code points (the value for this code point is \\u27F6)\n",
    "code_point = \"⟶\"\n",
    "print(code_point)\n",
    "\n",
    "# Get the base 10 integer value of the code point with the ord function.\n",
    "print('base 10 integer value of the code point =', ord(code_point))\n",
    "print(bin(ord(code_point)))\n",
    "binary_1019 = bin(ord(\"\\u1019\"))\n",
    "print(binary_1019)"
   ]
  },
  {
   "cell_type": "code",
   "execution_count": 6,
   "metadata": {},
   "outputs": [
    {
     "name": "stdout",
     "output_type": "stream",
     "text": [
      "hello မ\n"
     ]
    }
   ],
   "source": [
    "# Unicode implements all of the ASCII characters, as well as the additional characters that code points allow\n",
    "# The \\u prefix means \"the next four digits are a Unicode code point\"\n",
    "# Make a string that combines Unicode and ASCII\n",
    "s = \"hello မ\"\n",
    "print(s)"
   ]
  },
  {
   "cell_type": "code",
   "execution_count": 7,
   "metadata": {},
   "outputs": [
    {
     "name": "stdout",
     "output_type": "stream",
     "text": [
      "superman = Clark Kent␦\n",
      "superman_bytes = b'Clark Kent\\xe2\\x90\\xa6'\n",
      "batman = Bruce Wayne␦\n",
      "batman_bytes = b'Bruce Wayne\\xe2\\x90\\xa6'\n"
     ]
    }
   ],
   "source": [
    "# Make a string with some Unicode values\n",
    "superman = \"Clark Kent␦\"\n",
    "print('superman =', superman)\n",
    "\n",
    "# Encode the string superman as Unicode using the UTF-8 encoding system resulting in a sequence of bytes.\n",
    "superman_bytes = \"Clark Kent␦\".encode(\"utf-8\")\n",
    "batman = \"Bruce Wayne␦\"\n",
    "batman_bytes = \"Bruce Wayne␦\".encode(\"utf-8\")\n",
    "print('superman_bytes =', superman_bytes)\n",
    "print('batman =', batman)\n",
    "print('batman_bytes =', batman_bytes)"
   ]
  },
  {
   "cell_type": "code",
   "execution_count": 8,
   "metadata": {},
   "outputs": [
    {
     "name": "stdout",
     "output_type": "stream",
     "text": [
      "int(F)= 15\n",
      "int(A)= 10\n",
      "a\n",
      "ec\n",
      "1d\n"
     ]
    }
   ],
   "source": [
    "# F is the highest single digit in hexadecimal (base 16)\n",
    "# Its value is 15 in base 10\n",
    "print('int(F)=', int(\"F\", 16))\n",
    "\n",
    "# A in base 16 has the value 10 in base 10\n",
    "print('int(A)=', int(\"A\", 16))\n",
    "\n",
    "# Add two hexadecimal numbers\n",
    "def hexadecimal_add(a, b):\n",
    "    return hex(int(a, 16) + int(b, 16))[2:]\n",
    "\n",
    "# Adding 1 to 9 in hexadecimal resulting in \"a\"\n",
    "value = \"9\"\n",
    "value = hexadecimal_add(value, \"1\")\n",
    "print(value)\n",
    "hex_ea = hexadecimal_add(\"2\", \"ea\")\n",
    "hex_ef = hexadecimal_add(\"e\", \"f\")\n",
    "print(hex_ea)\n",
    "print(hex_ef)"
   ]
  },
  {
   "cell_type": "code",
   "execution_count": 9,
   "metadata": {},
   "outputs": [
    {
     "name": "stdout",
     "output_type": "stream",
     "text": [
      "226\n",
      "226\n",
      "0b11100010\n"
     ]
    }
   ],
   "source": [
    "# converting hexadecimal to binary\n",
    "hex_byte = \"â\"\n",
    "\n",
    "# Print the base 10 integer value for the hexadecimal byte\n",
    "print(ord(hex_byte))\n",
    "\n",
    "# \\x is just a prefix and doesn't affect the value.\n",
    "print(int(\"e2\", 16))\n",
    "\n",
    "# Convert the base 10 integer to binary\n",
    "print(bin(ord(\"â\")))\n",
    "binary_aa = bin(ord(\"\\xaa\"))\n",
    "binary_ab = bin(ord(\"\\xab\"))"
   ]
  },
  {
   "cell_type": "code",
   "execution_count": 10,
   "metadata": {},
   "outputs": [
    {
     "name": "stdout",
     "output_type": "stream",
     "text": [
      "Bruce Banner␦\".encode(\"utf-8\") = b'Bruce Banner\\xe2\\x90\\xa6'\n",
      "TypeError with replacement\n",
      "b\"Bruce Banner\" = b'Bruce Banner'\n",
      "hulk_bytes.replace(b\"Banner\", b\"\")= b'Bruce '\n",
      "b\"Thor\" = b'Thor'\n"
     ]
    }
   ],
   "source": [
    "hulk_bytes = \"Bruce Banner␦\".encode(\"utf-8\")\n",
    "print('Bruce Banner␦\".encode(\"utf-8\") =', hulk_bytes)\n",
    "\n",
    "# Can't mix strings and bytes\n",
    "try:\n",
    "    hulk_bytes.replace(\"Banner\", \"\")\n",
    "except Exception:\n",
    "    print(\"TypeError with replacement\")\n",
    "\n",
    "# Create objects of the bytes data type by putting a b in front of the quotation marks in a string\n",
    "hulk_bytes = b\"Bruce Banner\"\n",
    "print('b\"Bruce Banner\" =', hulk_bytes)\n",
    "\n",
    "# Now, instead of mixing strings and bytes, use the replace method with bytes objects instead\n",
    "hulk_bytes = hulk_bytes.replace(b\"Banner\", b\"\")\n",
    "print('hulk_bytes.replace(b\"Banner\", b\"\")=', hulk_bytes)\n",
    "thor_bytes = b\"Thor\"\n",
    "print('b\"Thor\" =', thor_bytes)"
   ]
  },
  {
   "cell_type": "code",
   "execution_count": 11,
   "metadata": {},
   "outputs": [
    {
     "name": "stdout",
     "output_type": "stream",
     "text": [
      "aquaman_bytes.decode(\"utf-8\") = Who knows?\n",
      "type(aquaman) = <class 'str'>\n",
      "b\"Morgan Freeman\" = b'Morgan Freeman'\n",
      "morgan_freeman_bytes.decode('UTF-8') = Morgan Freeman\n"
     ]
    }
   ],
   "source": [
    "# Make a bytes object with aquaman's secret identity\n",
    "aquaman_bytes = b\"Who knows?\"\n",
    "\n",
    "# Use the decode method along with the encoding system (UTF-8) to turn it into a string\n",
    "aquaman = aquaman_bytes.decode(\"utf-8\")\n",
    "\n",
    "# Print the value and type to verify that it's a string\n",
    "print('aquaman_bytes.decode(\"utf-8\") =', aquaman)\n",
    "print('type(aquaman) =',  type(aquaman))\n",
    "\n",
    "morgan_freeman_bytes = b\"Morgan Freeman\"\n",
    "print('b\"Morgan Freeman\" =', morgan_freeman_bytes)\n",
    "morgan_freeman = morgan_freeman_bytes.decode('UTF-8')\n",
    "print(\"morgan_freeman_bytes.decode('UTF-8') =\", morgan_freeman)"
   ]
  },
  {
   "cell_type": "markdown",
   "metadata": {},
   "source": [
    "#### HexaDecimal"
   ]
  },
  {
   "cell_type": "code",
   "execution_count": 12,
   "metadata": {},
   "outputs": [
    {
     "name": "stdout",
     "output_type": "stream",
     "text": [
      "C:\\Users\\Xueho\\Projects\\Python_projects\\Raw_data\n"
     ]
    }
   ],
   "source": [
    "cd Raw_data"
   ]
  },
  {
   "cell_type": "code",
   "execution_count": 13,
   "metadata": {},
   "outputs": [
    {
     "name": "stdout",
     "output_type": "stream",
     "text": [
      "1997 \n",
      "\n",
      "The FBI information included that al-Mairi's brother \"traveled to Afghanistan in 1997-1998 to train in Bin - Ladencamps.\" \n",
      "\n",
      "'^^^ Prior to Abu Zubaydah's capture, the CIA considered Hassan Ghul a \"First Priority Raid Target,\" based on reporting that: 97470(281317ZMAR02)(\"InNovember1998, [Muhammad] Atta, [Ramzi] Binalshibh, and [Said] Bahaji moved into the 54 Marienstrasse apartment in Hamburg that became the hub of the Hamburg cell.\").\n"
     ]
    }
   ],
   "source": [
    "# Read data in using csvreader\n",
    "import csv\n",
    "# When open a file, specify the system used to encode it (in this case, UTF-8).\n",
    "f = open(\"sentences_cia.csv\", 'r', encoding=\"utf-8\")\n",
    "csvreader = csv.reader(f)\n",
    "sentences_cia = list(csvreader)\n",
    "\n",
    "# The data consists of two columns\n",
    "print(sentences_cia[1][0], '\\n')  # first column of the second row\n",
    "print(sentences_cia[1][1], '\\n')  # second column of the second row\n",
    "sentences_ten = sentences_cia[9][1]  # second column of the tenth row\n",
    "print(sentences_ten)"
   ]
  },
  {
   "cell_type": "code",
   "execution_count": 14,
   "metadata": {},
   "outputs": [
    {
     "name": "stdout",
     "output_type": "stream",
     "text": [
      "['year', 'statement', '', '', '']\n"
     ]
    }
   ],
   "source": [
    "print(sentences_cia[0])"
   ]
  },
  {
   "cell_type": "code",
   "execution_count": 15,
   "metadata": {},
   "outputs": [
    {
     "name": "stdout",
     "output_type": "stream",
     "text": [
      "0     last_name\n",
      "1    first_name\n",
      "2      birthday\n",
      "3        gender\n",
      "4          type\n",
      "5         state\n",
      "6         party\n",
      "Name: 0, dtype: object \n",
      "\n",
      "legislators_df.iloc last_name                 Bassett\n",
      "first_name                Richard\n",
      "birthday               1745-04-02\n",
      "gender                          M\n",
      "type                          sen\n",
      "state                          DE\n",
      "party         Anti-Administration\n",
      "Name: 0, dtype: object \n",
      "\n",
      "   year                                          statement      \n",
      "0  1997  The FBI information included that al-Mairi's b...      \n",
      "1  1997  The FBI information included that al-Mairi's b...      \n",
      "2  1997  For example, on October 12, 2004, another CIA ...      \n",
      "3  1997  On October 16, 2001, an email from a CTC offic...      \n",
      "4  1997  For example, on October 12, 2004, another CIA ...      \n"
     ]
    }
   ],
   "source": [
    "import csv\n",
    "# Read in the legislators data\n",
    "f = open(\"legislators.csv\", 'r', encoding=\"utf-8\")\n",
    "csvreader = csv.reader(f)\n",
    "legislators = list(csvreader)\n",
    "\n",
    "# Import pandas and use the DataFrame class to convert the list of lists to a dataframe.\n",
    "import pandas as pd\n",
    "legislators_df = pd.DataFrame(legislators)\n",
    "\n",
    "# The first row contains the headers\n",
    "print(legislators_df.iloc[0,:], '\\n')\n",
    "\n",
    "# Removes the headers from legislators, and passes them into the columns argument\n",
    "# The columns argument specifies column names\n",
    "legislators_df = pd.DataFrame(legislators[1:], columns=legislators[0])\n",
    "print('legislators_df.iloc', legislators_df.iloc[0,:], '\\n')\n",
    "\n",
    "sentences_cia_df = pd.DataFrame(sentences_cia[1:], columns=sentences_cia[0])\n",
    "sentences_cia = sentences_cia_df\n",
    "print(sentences_cia.head())"
   ]
  },
  {
   "cell_type": "code",
   "execution_count": 16,
   "metadata": {},
   "outputs": [
    {
     "name": "stdout",
     "output_type": "stream",
     "text": [
      "0    The FBI information included that alMairis bro...\n",
      "1    The FBI information included that alMairis bro...\n",
      "2    For example on October 12 2004 another CIA det...\n",
      "3    On October 16 2001 an email from a CTC officer...\n",
      "4    For example on October 12 2004 another CIA det...\n",
      "Name: cleaned_statement, dtype: object\n"
     ]
    }
   ],
   "source": [
    "def clean_statement(row):\n",
    "    good_characters = [48, 49, 50, 51, 52, 53, 54, 55, 56, 57, 65, 66, 67, 68, 69, 70, 71, 72, 73, 74, 75, 76, 77, 78, 79, 80, 81, 82, 83, 84, 85, 86, 87, 88, 89, 90, 97, 98, 99, 100, 101, 102, 103, 104, 105, 106, 107, 108, 109, 110, 111, 112, 113, 114, 115, 116, 117, 118, 119, 120, 121, 122, 32]\n",
    "    statement = row['statement']\n",
    "    clean_statement_list = [s for s in statement if ord(s) in good_characters]\n",
    "    return \"\".join(clean_statement_list)\n",
    "\n",
    "sentences_cia['cleaned_statement'] = sentences_cia.apply(clean_statement, axis=1)\n",
    "print(sentences_cia['cleaned_statement'].head())"
   ]
  },
  {
   "cell_type": "code",
   "execution_count": 17,
   "metadata": {},
   "outputs": [
    {
     "name": "stdout",
     "output_type": "stream",
     "text": [
      "['The', 'FBI', 'information', 'included', 'that', 'alMairis', 'brother', 'traveled', 'to', 'Afghanistan']\n"
     ]
    }
   ],
   "source": [
    "# Use the .join() method on strings to join lists together.\n",
    "# The string will become the separator -- the character(s) between each string when they are joined.\n",
    "combined_statements = \" \".join(sentences_cia[\"cleaned_statement\"])\n",
    "statement_tokens = combined_statements.split(' ')\n",
    "print(statement_tokens[:10])"
   ]
  },
  {
   "cell_type": "code",
   "execution_count": 18,
   "metadata": {},
   "outputs": [
    {
     "name": "stdout",
     "output_type": "stream",
     "text": [
      "['information', 'included', 'alMairis', 'brother', 'traveled', 'Afghanistan', '19971998', 'train', 'Ladencamps', 'information']\n"
     ]
    }
   ],
   "source": [
    "# Filter the statement_tokens list so that it only contains tokens that are at least five characters long\n",
    "filtered_tokens = [s for s in statement_tokens if len(s) >=5]\n",
    "print(filtered_tokens[:10])"
   ]
  },
  {
   "cell_type": "code",
   "execution_count": 19,
   "metadata": {},
   "outputs": [
    {
     "name": "stdout",
     "output_type": "stream",
     "text": [
      "Counter({'interrogation': 391, 'information': 375, 'REDACTED': 375, 'Zubaydah': 328, 'Committee': 327, 'techniques': 322, 'August': 307, 'September': 299, 'provided': 241, 'enhanced': 241, 'Response': 237, 'Ahmad': 229, 'detainees': 224, 'UNCLASSIFIED': 221, 'reporting': 209, 'Interrogation': 207, 'December': 189, 'Intelligence': 188, 'alKuwaiti': 177, 'states': 176, 'April': 175, 'General': 175, 'intelligence': 169, 'custody': 156, 'Detention': 147, 'subject': 147, 'prior': 145, 'October': 138, 'which': 131, 'Memorandum': 131, 'detention': 129, 'detainee': 128, 'November': 127, 'March': 127, 'alQaida': 126, 'Study': 123, 'SECRET': 122, 'records': 117, 'after': 114, 'Senate': 109, 'DETENTION': 108, 'NOFORN': 105, 'Counsel': 105, 'email': 104, 'Select': 102, 'United': 101, 'government': 101, 'foreign': 99, 'Department': 99, 'January': 98, 'stated': 96, 'dated': 95, 'Padilla': 93, 'including': 90, 'Office': 89, 'Program': 89, 'would': 87, 'early': 87, 'terrorist': 84, 'other': 84, 'regarding': 84, 'about': 84, 'Legal': 83, 'entitled': 80, 'document': 77, 'Justice': 77, 'Hassan': 76, 'described': 74, 'Inspector': 73, 'alShibh': 73, 'Headquarters': 72, 'Detainee': 72, 'training': 72, 'cable': 72, 'number': 71, 'being': 69, 'DIRECTOR': 69, 'attacks': 66, 'Zubaydahs': 66, 'capture': 66, 'disseminated': 66, 'later': 64, 'subjected': 63, 'during': 63, 'first': 63, 'against': 62, 'Ladin': 61, 'officers': 61, 'briefing': 60, 'acquired': 59, 'Report': 59, 'memorandum': 58, 'Rizzo': 57, 'President': 57, 'these': 55, 'States': 55, 'operation': 55, 'identified': 54, 'Information': 54, 'their': 53, 'there': 53, 'between': 53, 'Badat': 53, 'representations': 53, 'COBALT': 53, 'authorities': 52, 'indicate': 52, 'Central': 52, 'Country': 52, 'testimony': 52, 'Activities': 51, 'personnel': 51, 'Agency': 51, 'Ramzi': 50, 'Pakistan': 50, 'program': 50, 'included': 49, 'Techniques': 49, 'until': 49, 'Director': 49, 'additional': 49, 'Richard': 48, 'Email': 48, 'using': 47, 'noted': 47, 'February': 47, 'Attorney': 47, 'Review': 46, 'found': 45, 'review': 45, 'Pakistani': 45, 'Acting': 45, 'Qaeda': 45, 'phone': 44, 'through': 44, 'received': 43, 'Assistant': 43, 'least': 42, 'while': 42, 'threat': 42, 'example': 41, 'several': 41, 'legal': 41, 'senior': 41, 'detained': 41, 'tliat': 40, 'House': 40, 'detailed': 40, 'interrogations': 40, 'began': 40, 'Afghanistan': 39, 'officer': 39, 'involved': 39, 'captured': 39, 'include': 39, 'Facilitator': 39, 'interrogators': 39, 'Volume': 39, 'individuals': 38, 'Special': 38, 'Sajid': 38, 'staff': 38, 'letter': 38, 'SSIFIED': 37, 'ofthe': 37, 'informed': 37, 'death': 37, 'activities': 36, 'Muhammad': 36, 'Attacks': 36, 'Counterterrorism': 36, 'documents': 36, 'Record': 36, 'Operative': 36, 'under': 35, 'related': 35, 'further': 35, 'period': 35, 'support': 34, 'Bybee': 34, 'Enhanced': 33, 'three': 33, 'intenogation': 33, 'stating': 33, 'After': 33, 'Reporting': 33, 'Summary': 33, 'already': 32, 'individual': 32, 'wellknown': 32, 'associated': 32, 'National': 32, 'provide': 32, 'attack': 32, 'Notification': 32, 'Executive': 32, 'Chairman': 32, 'known': 31, 'report': 31, 'operatives': 31, 'Ammar': 31, 'inteiTogation': 31, 'before': 31, 'associate': 31, 'could': 31, 'operations': 30, 'based': 30, 'Kingdom': 30, 'GREEN': 30, 'Deputy': 30, 'Detainees': 30, 'plotting': 29, 'reported': 29, 'named': 29, 'Terrorist': 29, 'Security': 29, 'facility': 29, 'ASSET': 29, 'officials': 29, '20091810': 29, 'According': 28, 'Training': 28, 'targeting': 28, 'cables': 28, 'Majid': 28, 'sleep': 28, 'deprivation': 28, 'Shaykh': 27, 'rendered': 27, 'close': 27, 'investigation': 27, 'specific': 27, 'source': 27, 'family': 27, 'following': 27, 'meeting': 27, 'since': 26, 'alNashiri': 26, 'Community': 26, 'attorney': 26, 'collected': 26, 'Identification': 26, 'details': 26, 'briefed': 26, 'Khalid': 26, 'indicating': 26, 'Station': 26, 'chief': 26, '20112004': 26, 'traveled': 25, 'description': 25, 'contact': 25, 'Arshad': 25, 'While': 25, 'operative': 25, 'alKuwaitis': 25, 'suspected': 25, 'Mohammad': 25, 'Shkai': 25, 'important': 25, 'acknowledges': 25, 'operational': 25, 'believe': 24, 'planning': 24, 'among': 24, 'arrested': 24, 'conducted': 24, 'Karachi': 24, 'likely': 24, '20037123IG': 24, 'cited': 24, 'months': 24, '162014Z': 24, 'chart': 24, 'because': 23, 'address': 23, 'internal': 23, 'White': 23, 'Bureau': 23, 'significant': 23, 'Riyadh': 23, 'Federal': 23, 'Zubair': 23, 'subsequent': 23, 'another': 22, 'assessed': 22, 'DUNBAR': 22, 'Ahmed': 22, 'Kuwaiti': 22, 'alTayyar': 22, 'formal': 22, 'assessment': 22, 'asserts': 22, 'Update': 22, 'general': 22, '10496': 22, 'criminal': 21, 'claimed': 21, 'noting': 21, 'Release': 21, 'represented': 21, 'obtained': 21, 'effectiveness': 21, 'providing': 21, 'whether': 21, 'Rahman': 21, 'response': 21, 'inaccurate': 21, 'summary': 21, 'Intenogation': 21, 'medical': 21, 'isolation': 21, 'arrest': 20, 'initial': 20, 'conduct': 20, 'Interrogations': 20, 'concerning': 20, '20133152': 20, 'Custody': 20, 'Second': 20, 'within': 20, 'approved': 20, 'opinion': 20, 'includes': 20, '201235Z': 20, 'Background': 20, 'release': 20, 'became': 19, 'national': 19, 'transcript': 19, 'Transcript': 19, 'Hambali': 19, 'Inquiry': 19, 'infonnation': 19, 'Representations': 19, 'sixpage': 19, 'explosives': 18, 'referenced': 18, 'associates': 18, 'waterboard': 18, 'proposed': 18, 'Renditions': 18, 'Jaffar': 18, 'Hayden': 18, 'Joint': 18, 'member': 18, 'detail': 18, 'request': 18, 'raids': 18, 'access': 18, 'critical': 18, 'hours': 18, 'OFFICER': 18, 'identify': 18, 'previously': 18, 'Approved': 18, 'Updatedfor': 18, 'Revisions': 18, 'alRahim': 17, 'public': 17, 'frequently': 17, 'reports': 17, 'relating': 17, 'tasked': 17, 'voice': 17, 'analysis': 17, 'confirmed': 17, 'believed': 17, 'Government': 17, 'Subject': 17, 'approval': 17, 'otherwise': 17, 'Meeting': 17, 'Chief': 17, 'chronology': 17, 'facilities': 17, 'Defense': 17, 'military': 17, 'statement': 17, 'should': 16, 'identifying': 16, 'status': 16, 'Permanent': 16, 'Assessment': 16, 'official': 16, 'Usama': 16, 'Capture': 16, 'Despite': 16, 'Findings': 16, 'Conclusions': 16, 'corroborated': 16, 'responded': 16, 'communications': 16, 'asked': 16, 'possible': 16, 'Binyam': 16, 'applied': 16, '10644': 16, 'Prior': 15, 'revealed': 15, 'AlQaida': 15, 'Presidential': 15, 'addressed': 15, 'result': 15, 'confinement': 15, 'activity': 15, 'potential': 15, 'Heathrow': 15, 'Mukhtar': 15, 'Lemonier': 15, 'physical': 15, 'Center': 15, 'without': 15, 'earlier': 15, 'writing': 15, 'released': 15, 'summer': 15, 'accompanying': 15, '20037402IG': 15, 'HEADQUARTERS': 15, 'speculative': 15, 'however': 15, 'Council': 15, 'tliis': 15, 'Investigation': 15, 'State': 15, 'total': 15, 'assertion': 15, 'representation': 15, 'never': 15, 'Hambalis': 15, 'mastermind': 14, 'travel': 14, 'where': 14, 'having': 14, 'written': 14, 'Faris': 14, 'Habib': 14, 'Details': 14, 'prepared': 14, 'collection': 14, 'attorneys': 14, 'business': 14, 'Mohammed': 14, 'interests': 14, 'Effectiveness': 14, 'Tenet': 14, 'alQaidas': 14, 'questions': 14, 'Prisons': 14, 'approximately': 14, 'responsible': 14, 'transferred': 14, 'position': 14, 'process': 14, 'employee': 14, 'course': 14, 'Group': 14, 'continued': 14, 'weeks': 14, 'members': 14, 'although': 13, 'Interrogators': 13, 'About': 13, 'effort': 13, 'extremist': 13, 'established': 13, 'application': 13, 'specifically': 13, 'During': 13, 'indicated': 13, 'learned': 13, 'location': 13, 'torture': 13, 'sought': 13, 'played': 13, 'signed': 13, 'listed': 13, 'alMarri': 13, 'coercive': 13, 'Before': 13, 'facilitator': 13, 'RAHMAN': 13, 'required': 13, 'standing': 13, 'former': 13, 'departed': 13, 'James': 13, 'Lessons': 13, 'acknowledge': 13, 'Congress': 13, 'briefings': 13, 'unrelated': 13, 'placed': 13, 'Ashcroft': 13, 'violate': 13, 'context': 13, 'unique': 13, 'documenting': 13, 'requested': 13, 'Moseman': 13, 'interrogator': 13, 'NQFQRN': 13, 'every': 13, '10902': 13, 'SWIGERT': 12, 'extremists': 12, 'possibly': 12, 'International': 12, 'identification': 12, 'attempted': 12, '20042710': 12, 'highlighted': 12, 'technique': 12, 'launch': 12, 'Briefing': 12, 'efforts': 12, '50000': 12, 'Military': 12, 'Paracha': 12, 'cases': 12, 'Congressional': 12, 'wrote': 12, 'regard': 12, 'Pavitt': 12, 'links': 12, 'cooperation': 12, 'impact': 12, 'discussed': 12, 'stress': 12, 'actionable': 12, 'Among': 12, 'derived': 12, 'Staff': 12, 'Value': 12, 'presence': 12, 'resulted': 12, 'questioned': 12, 'alNajjar': 12, 'million': 12, 'focused': 12, 'claims': 12, '201037Z': 12, '12141': 12, 'Foreword': 12, 'expressed': 11, 'apartment': 11, 'alHindi': 11, 'group': 11, 'leaders': 11, 'reference': 11, 'investigations': 11, 'discussions': 11, 'interest': 11, 'American': 11, 'alBaluchi': 11, 'president': 11, 'partner': 11, 'conditions': 11, 'calling': 11, 'defense': 11, 'place': 11, 'guidelines': 11, 'Questions': 11, 'Operation': 11, 'corroborative': 11, 'George': 11, 'treatment': 11, 'multiple': 11, 'limited': 11, 'himself': 11, 'revised': 11, 'security': 11, 'management': 11, 'special': 11, 'acquiring': 11, 'cooperative': 11, 'Following': 11, 'others': 11, 'necessity': 11, 'those': 11, 'Other': 11, 'Inaccurate': 11, 'Treatment': 11, 'recommended': 11, 'Graham': 11, 'Threat': 11, 'continue': 11, 'techniquesThe': 11, 'Committees': 11, 'effective': 11, 'different': 11, 'Hours': 11, 'meetings': 11, 'phase': 11, 'Rodriguez': 11, 'seeking': 11, 'Lessonsfor': 11, 'Huntfor': 11, 'concluded': 11, 'agreement': 11, 'couple': 11, 'think': 11, 'compiled': 11, 'guidance': 11, '222127Z': 11, 'NOFQRN': 11, 'findings': 11, 'conclusions': 11, 'declassification': 11, 'Guleed': 11, 'people': 10, 'McCain': 10, 'Draft': 10, 'debriefings': 10, 'Commission': 10, 'might': 10, 'indicates': 10, 'pilot': 10, 'again': 10, 'Incoming': 10, 'Outgoing': 10, 'describing': 10, 'engaged': 10, 'standards': 10, 'Mastermind': 10, 'Saifullah': 10, 'failed': 10, 'statements': 10, 'methods': 10, 'Regarding': 10, 'Facility': 10, 'Torture': 10, 'locations': 10, 'becoming': 10, 'spring': 10, 'extensive': 10, 'plots': 10, 'citizen': 10, 'Klialid': 10, 'Against': 10, 'future': 10, '251833Z': 10, 'interview': 10, 'covert': 10, 'passport': 10, 'Scott': 10, 'facial': 10, 'accurate': 10, 'begins': 10, 'results': 10, 'andInterrogation': 10, 'almost': 10, 'years': 10, 'reviews': 10, 'courier': 10, 'correct': 10, 'helped': 10, 'Geneva': 10, 'means': 10, 'published': 10, 'Ridha': 10, 'membership': 10, 'discussing': 10, '12002': 10, '11717': 10, '10950': 10, '132012': 10, 'brother': 9, 'needed': 9, 'outside': 9, 'First': 9, 'Target': 9, 'Ressam': 9, 'Airport': 9, 'language': 9, 'alRahman': 9, 'disrupted': 9, 'slated': 9, 'directly': 9, 'Rendition': 9, 'previous': 9, 'person': 9, 'supporting': 9, 'interrogated': 9, 'Masran': 9, 'connections': 9, 'Saleh': 9, 'Operations': 9, 'December2002': 9, 'Approval': 9, 'Ghuls': 9, 'issuance': 9, 'standard': 9, 'numerous': 9, 'Nasir': 9, 'authority': 9, 'However': 9, 'debriefed': 9, 'unavailable': 9, 'locate': 9, 'documented': 9, 'Howeveron': 9, '20012002': 9, 'funding': 9, 'discuss': 9, 'action': 9, '29520': 9, '29520J': 9, '29770HHHintiew': 9, 'mHntervieoiammond': 9, 'Operatinsroiti': 9, 'SubiecteatlUnvestigation': 9, 'Deathof': 9, 'InspectorGeneralSpecialReview': 9, 'AndInterrogation': 9, 'given': 9, 'Departmentof': 9, 'produced': 9, 'Times': 9, 'relied': 9, 'Janat': 9, 'percent': 9, 'memoranda': 9, 'waterboarding': 9, 'original': 9, 'Chainnan': 9, 'Roberts': 9, 'witness': 9, 'Sensitive': 9, 'cover': 9, 'transfer': 9, 'establishment': 9, 'Convention': 9, 'unable': 9, 'matters': 9, 'Services': 9, 'section': 9, 'remained': 9, 'assess': 9, 'aware': 9, 'Company': 9, 'beginning': 9, 'Padillas': 9, 'located': 9, 'rectal': 9, 'intenogator': 9, 'agrees': 9, 'rendition': 9, 'Qaida': 8, 'recruiting': 8, 'reportedly': 8, 'telephone': 8, 'Dhiren': 8, 'Barot': 8, 'Kashmir': 8, 'alias': 8, 'prison': 8, 'Israeli': 8, 'Court': 8, 'referencing': 8, 'called': 8, 'Jemaah': 8, 'Islamiyah': 8, 'involvement': 8, 'Islamic': 8, 'Belgium': 8, 'birth': 8, 'Zakaria': 8, '20012003': 8, 'Countering': 8, 'Misconceptions': 8, 'Camps': 8, '19902001': 8, 'waterboarded': 8, 'Appendix': 8, 'interviewed': 8, 'Further': 8, 'alMasri': 8, 'anest': 8, 'Zubaydali': 8, 'linked': 8, 'helping': 8, 'Afghan': 8, 'explain': 8, 'Critical': 8, 'Arrest': 8, 'determination': 8, 'Intelhgence': 8, 'posed': 8, 'final': 8, 'Foreign': 8, 'hijackers': 8, 'Approximately': 8, 'policy': 8, 'working': 8, 'continuing': 8, 'exception': 8, 'acknowledged': 8, 'derogatory': 8, 'serious': 8, 'thereafter': 8, 'attention': 8, 'Issues': 8, 'second': 8, 'agents': 8, 'times': 8, 'incongruent': 8, 'experience': 8, 'beyond': 8, 'stages': 8, 'practice': 8, 'Consulate': 8, 'materials': 8, '42002': 8, 'undergoing': 8, 'Shaykli': 8, 'lying': 8, 'concrete': 8, 'consistent': 8, 'statute': 8, 'necessary': 8, 'Rockefeller': 8, 'Frist': 8, 'Commissions': 8, 'occurred': 8, 'despite': 8, 'contract': 8, 'contractor': 8, 'appropriate': 8, 'Raliman': 8, 'formally': 8, 'HVTIE': 8, 'still': 8, 'classified': 8, 'Armed': 8, 'Personnel': 8, 'talking': 8, 'knowledgeable': 8, 'shackled': 8, 'immediately': 8, 'Helgerson': 8, 'remaining': 8, 'Interview': 8, 'contractors': 8, 'overall': 8, 'seized': 8, 'Shortly': 8, 'presented': 8, 'Attash': 8, 'sources': 8, 'Ghulam': 8, 'Rabbani': 8, 'manner': 8, 'MAR03': 8, '10883': 8, '10959': 8, '231205Z': 8, '27223IZ': 8, '52011': 8, 'concede': 8, 'promulgation': 8, 'courses': 8, 'tlioroughly': 8, 'screened': 8, 'behind': 7, 'field': 7, 'actively': 7, 'colleagues': 7, 'references': 7, 'UKbased': 7, 'Moazzem': 7, 'attended': 7, 'Public': 7, 'primarily': 7, 'France': 7, 'offenses': 7, 'Watch': 7, 'title': 7, 'Suspected': 7, 'Moussaoui': 7, 'explosive': 7, 'suggesting': 7, 'shared': 7, 'targets': 7, 'airliner': 7, 'simultaneous': 7, 'actions': 7, 'backed': 7, 'Detentions': 7, 'Intenogations': 7, 'matched': 7, '20020629': 7, 'account': 7, 'Yousef': 7, 'playing': 7, 'Mansour': 7, 'contrast': 7, 'requirements': 7, 'answers': 7, 'Accountability': 7, 'databases': 7, 'updated': 7, 'Guidelines': 7, 'Pursuant': 7, 'speech': 7, 'background': 7, 'press': 7, 'served': 7, 'command': 7, 'value': 7, 'Provides': 7, 'unexpectedly': 7, 'Under': 7, 'Later': 7, 'violence': 7, 'whose': 7, 'facts': 7, 'lives': 7, 'bombs': 7, 'oversight': 7, 'initially': 7, 'determined': 7, 'Adnan': 7, 'prompted': 7, 'Operational': 7, 'worked': 7, 'rapportbuilding': 7, 'Januaiy': 7, 'consistently': 7, 'Malaysian': 7, 'theCIAs': 7, 'McLaughlin': 7, 'positions': 7, 'constitutional': 7, 'nudity': 7, 'Michael': 7, 'wanted': 7, 'credible': 7, 'relayed': 7, 'Debrief': 7, 'counsel': 7, 'light': 7, 'Stanley': 7, 'Moskowitz': 7, 'Exploitation': 7, 'Seminar': 7, 'apply': 7, 'session': 7, 'month': 7, 'spent': 7, '10536': 7, 'SECRETi': 7, 'points': 7, 'comments': 7, 'memoir': 7, 'timefrom': 7, '2003who': 7, 'quite': 7, 'infomiation': 7, 'therefore': 7, 'Participating': 7, 'separate': 7, 'Notes': 7, 'added': 7, 'KSMand': 7, 'recommendations': 7, 'fabricated': 7, 'Senator': 7, 'greater': 7, 'talked': 7, 'testified': 7, 'sites': 7, 'DEVELOPMENTS': 7, 'AGAINST': 7, 'GLOBAL': 7, 'SUNNI': 7, 'train': 6, 'explained': 6, 'alLibi': 6, 'bombings': 6, 'concern': 6, 'onsite': 6, 'There': 6, 'Talking': 6, 'anested': 6, 'jihad': 6, 'assessments': 6, 'bomber': 6, 'codefendants': 6, 'Adham': 6, 'Hassoun': 6, 'Kifah': 6, 'Jayyousi': 6, 'guilty': 6, 'centered': 6, 'attendance': 6, '2000specifically': 6, 'providedtotheFBIinDecember2001': 6, 'product': 6, 'Probable': 6, 'Kuwait': 6, 'breakthrough': 6, 'leading': 6, 'shoebomb': 6, 'suggest': 6, 'requests': 6, 'Inteixogation': 6, 'Muslims': 6, 'Considerations': 6, 'Officers': 6, 'returned': 6, 'alerted': 6, 'addresses': 6, 'authorization': 6, 'collecting': 6, 'Saajid': 6, 'together': 6, 'connected': 6, 'recovered': 6, 'target': 6, 'Jabarah': 6, 'Additional': 6, 'Arrests': 6, 'examples': 6, 'prominently': 6, 'governments': 6, 'available': 6, 'World': 6, 'Conducted': 6, 'Attachment': 6, 'majority': 6, 'contained': 6, 'control': 6, 'AlShibh': 6, 'attacksand': 6, 'WhiletargetinganotherterroristHassanGhulHjjlPakistaniofficials': 6, 'Septemberll2002': 6, 'often': 6, 'Stationoverestimated': 6, 'upcoming': 6, 'significantly': 6, 'circa': 6, 'Attorneys': 6, 'state': 6, 'obtain': 6, 'persons': 6, 'useful': 6, 'issued': 6, 'drafted': 6, 'assuming': 6, 'Source': 6, 'conceived': 6, 'director': 6, 'names': 6, 'Pivotal': 6, 'emails': 6, 'terrorists': 6, 'completed': 6, '60077': 6, '09172001': 6, 'possessed': 6, 'alMarris': 6, 'fourth': 6, 'detain': 6, 'implications': 6, 'Officer': 6, 'subsequently': 6, 'Abdullah': 6, 'shortly': 6, 'Obtains': 6, 'incorrect': 6, 'Muller': 6, 'Constitution': 6, 'Third': 6, 'analyzed': 6, 'Zubaydalis': 6, 'Shelby': 6, 'directors': 6, 'linking': 6, 'Division': 6, 'allegedly': 6, 'personal': 6, 'importance': 6, 'particularly': 6, 'network': 6, 'RDIrelated': 6, 'wideranging': 6, 'beaten': 6, 'Article': 6, 'Secretary': 6, 'decision': 6, 'CTCLGL': 6, 'planned': 6, 'represent': 6, 'taken': 6, 'allowed': 6, 'walling': 6, '73208': 6, '231043Z': 6, 'chairman': 6, 'complete': 6, 'entered': 6, 'naked': 6, 'large': 6, 'sixth': 6, 'legality': 6, 'fewer': 6, 'discussion': 6, 'Analysis': 6, 'appears': 6, 'Kliallad': 6, 'historic': 6, 'tiiat': 6, '121550Z': 6, 'Bashir': 6, 'SEP02': 6, 'witli': 6, 'Dirty': 6, 'receiving': 6, 'Still': 6, 'interviews': 6, 'OPERATIONAL': 6, 'EXTREMIST': 6, 'TERRORISM': 6, 'Khallad': 6, 'terrorism': 6, 'ofLegal': 6, 'highlights': 6, 'Jafar': 6, 'SeeinterviewofB': 6, 'CIAstatedthetechniqueswouldbeapplied': 6, 'HoweverintheinterrogationsofAbu': 6, 'rehydration': 6, 'record': 6, 'suspect': 6, '201722Z': 6, '10778': 6, '121549Z': 6, 'ACTIONS': 6, '20112049': 6, 'pages': 6, 'TQPSECRETm': 6, 'Deelassiftcatipri': 6, 'makes': 6, 'gaining': 6, 'Deitz': 6, 'Inteffigeiice': 6, 'Declassification': 6, 'Deceniber': 6, 'TQPSECRET': 6, 'buckets': 6, 'solution': 6, 'watering': 6, 'waterboards': 6, '20123826': 6, 'inconectly': 6, '131816Z': 6, 'Nofqrn': 6, 'CLASSIFIED': 6, 'Comiiiittee': 6, 'Infelligeoee': 6, 'CentralIntelligenceAgmcys': 6, 'SBg53': 6, 'Bianne': 6, 'Feinstein': 6, 'Concliisioiis': 6, 'Deeember': 6, 'Deciassificatiori': 6, 'TQPSECRE': 6, 'voted': 6, 'relation': 6, 'tracking': 5, 'bombing': 5, 'psychologists': 5, 'Khaled': 5, 'country': 5, 'considered': 5, 'along': 5, 'Buildings': 5, 'appeared': 5, 'situation': 5, 'DRAFT': 5, 'OnMarch': 5, 'operating': 5, 'Angeles': 5, 'raided': 5, 'Although': 5, 'flight': 5, 'Approvals': 5, 'Waterboarding': 5, 'pursue': 5, 'recruit': 5, 'draft': 5, 'lyman': 5, 'Hostile': 5, 'either': 5, 'credited': 5, 'Leads': 5, 'understanding': 5, 'aspects': 5, 'prohibition': 5, 'aircraft': 5, 'major': 5, 'Arsala': 5, 'Laden': 5, 'deliver': 5, 'below': 5, 'Attributed': 5, 'Thwarting': 5, 'Uzhair': 5, 'showed': 5, 'lawful': 5, 'begun': 5, 'Respect': 5, 'ofJustice': 5, '20025162': 5, 'valley': 5, 'center': 5, 'groups': 5, 'exodus': 5, 'CIAcontrolled': 5, 'Facilities': 5, 'Operated': 5, 'profile': 5, 'simply': 5, 'Relies': 5, 'media': 5, 'Death': 5, 'water': 5, 'opportunities': 5, 'recruited': 5, 'Within': 5, 'December20': 5, 'statistics': 5, 'COBAJprior': 5, 'ofDETENTION': 5, 'Deceiver': 5, 'plans': 5, 'Action': 5, 'directed': 5, 'saved': 5, 'lowlevel': 5, 'highrise': 5, 'apartmentbuildingsinanunspecifiedmajorUScity': 5, '65902': 5, 'reason': 5, 'spectacular': 5, 'elShukrijumah': 5, 'expertise': 5, 'Significant': 5, 'Physical': 5, 'Description': 5, 'computer': 5, 'secret': 5, 'examined': 5, 'Individual': 5, 'prevented': 5, 'Coast': 5, 'throughout': 5, 'representing': 5, 'Directorof': 5, 'parts': 5, 'COBAL': 5, 'eight': 5, 'Sharif': 5, 'Principals': 5, 'enhancedinterrogationtechniques': 5, 'Senators': 5, 'passage': 5, 'actual': 5, 'employed': 5, 'IIII11': 5, 'Rowan': 5, 'Statement': 5, 'inform': 5, 'unidentified': 5, 'minute': 5, 'imprecision': 5, 'admittedly': 5, 'incomplete': 5, 'autobiography': 5, 'personally': 5, 'Fails': 5, 'expanded': 5, 'inclusion': 5, 'entity': 5, 'Witli': 5, 'erred': 5, 'holding': 5, 'similar': 5, 'Taliban': 5, 'research': 5, 'presentation': 5, 'Options': 5, 'Incarcerating': 5, 'William': 5, 'debriefing': 5, 'resistance': 5, 'Secret': 5, 'implemented': 5, 'keeping': 5, 'allow': 5, 'development': 5, 'Advisor': 5, 'current': 5, 'cramped': 5, 'approve': 5, 'small': 5, 'threats': 5, 'Adviser': 5, 'agreed': 5, 'designated': 5, 'Rahmans': 5, '094509': 5, 'above': 5, 'Attasllsownplayehral': 5, 'nonunique': 5, 'periods': 5, 'InteiTogation': 5, 'Tawfiq': 5, 'certain': 5, 'someone': 5, 'clearest': 5, '63211': 5, 'OCT02': 5, 'trial': 5, 'detailing': 5, 'driver': 5, 'Khans': 5, 'Southeast': 5, 'cooperating': 5, 'nonetheless': 5, 'Finally': 5, 'letters': 5, 'denied': 5, 'repeated': 5, 'implement': 5, '10894': 5, '10942': 5, 'lists': 5, 'Human': 5, 'Rights': 5, 'bipartisan': 5, 'characterizes': 5, 'Alimad': 5, 'Talha': 5, 'argues': 5, 'disruption': 5, 'alMairis': 4, '19971998': 4, 'Ladencamps': 4, 'operated': 4, 'proof': 4, 'Level': 4, 'Embassy': 4, 'roles': 4, 'carry': 4, 'terroristrelated': 4, 'moved': 4, '171225Z': 4, '051805Z': 4, 'Points': 4, '141507Z': 4, '291750Z': 4, 'organization': 4, 'Sulyman': 4, 'especially': 4, 'community': 4, 'popular': 4, 'expounding': 4, 'virtues': 4, 'buildings': 4, 'federal': 4, 'similarities': 4, 'permissible': 4, 'require': 4, '2001theFBI': 4, 'openedaninternationalterrorisminvestigationtargetinglymanFaris': 4, 'AccordingtoCIA': 4, 'predication': 4, 'Turkey': 4, 'Canada': 4, 'millennium': 4, 'currently': 4, 'serving': 4, '65year': 4, 'route': 4, 'trunk': 4, 'bookstore': 4, 'Zacarias': 4, 'Faruq': 4, 'Backgrounder': 4, 'Chronology': 4, 'documentation': 4, 'briefers': 4, 'timeframe': 4, 'Topic': 4, 'himonthesevenEITsproposedatthattimeforthepostDetaineeTreatmentActCIAinterrogationprogram': 4, 'UnderquestioningHjjjHPerson1': 4, 'Gunawan': 4, 'encouraged': 4, 'Person': 4, 'aucraft': 4, 'trainingeMhecablejBPer': 4, 'deflected': 4, 'Brief': 4, 'Agencys': 4, 'Issas': 4, 'unknown': 4, 'unclassified': 4, 'programs': 4, 'Clecord': 4, 'orcer': 4, 'comparisons': 4, 'wltli': 4, 'aiTested': 4, 'European': 4, 'Gloucester': 4, 'activityAdditional': 4, 'connecting': 4, 'Reidas': 4, 'intelligenceplaced': 4, '20020611': 4, 'Intelligenctabriefing': 4, '20020615': 4, 'notified': 4, 'lines': 4, 'divulgedtotheCommittee': 4, 'Thenotificationandsubsequentinformationprovidedtothe': 4, 'Hambalidirected': 4, '10000': 4, 'escape': 4, 'killing': 4, 'abandoned': 4, 'HambaH': 4, 'These': 4, 'Alias': 4, 'Plotting': 4, 'Assertion': 4, 'Validate': 4, 'Sources': 4, 'Alerting': 4, 'Collection': 4, 'Tactical': 4, '050744Z': 4, '051248Z': 4, 'autliors': 4, 'chose': 4, 'practices': 4, 'vital': 4, '20053477': 4, 'Trade': 4, 'Included': 4, 'Inquiiy': 4, 'Decenibe002': 4, 'Indonesian': 4, 'claiming': 4, 'overlooked': 4, 'missed': 4, 'hijacker': 4, 'relatively': 4, 'indication': 4, 'considering': 4, 'alShiba': 4, 'SubiectthInvestigation': 4, 'ofInvestigation': 4, 'leverage': 4, 'wrong': 4, 'suicide': 4, 'lieutenant': 4, 'exploit': 4, 'Notwithstanding': 4, 'determine': 4, 'approach': 4, 'insufficient': 4, 'recorXall': 4, 'ALEClHgipOSTZ': 4, '080950ZAUG02': 4, 'ALECHHB092204ZAUG0idated': 4, '17September2001': 4, '221240Z': 4, 'parents': 4, 'Stations': 4, 'alert': 4, 'Corroborative': 4, 'FamilyIncluding': 4, 'Would': 4, 'pivotalinidentifyingalKuwaitistruename': 4, 'FromJanuary2002throughOctober2002': 4, 'appearance': 4, 'RATHER': 4, 'PROFOUND': 4, 'IMPLICATIONS': 4, 'Deception': 4, 'Mustafa': 4, 'alHawsawi': 4, 'Involvement': 4, 'AttackPlanningwithKSMIncludingTargetingoftheUnitedStates': 4, 'OnJune102002the': 4, 'thatAbuAhmadalKuwaitiwasengagedinoperationalattackplanningwithKSM': 4, 'coiToborating': 4, '2001teiToristattacks': 4, 'ByAugust92002theCIAhadreceivedreportingfromathird': 4, 'terroristHassan': 4, 'Ghulreceived': 4, 'instructionsprimarilyfromAbuAhmadacloseassociateofKSM': 4, 'central': 4, 'Specific': 4, 'withholding': 4, 'possibility': 4, 'countries': 4, 'accounts': 4, 'series': 4, 'reportingBin': 4, 'advanced': 4, 'shelved': 4, 'exposed': 4, 'methodBeginning': 4, 'ugust': 4, 'Minneapolis': 4, 'Field': 4, 'precedent': 4, 'invoked': 4, 'agencies': 4, 'obtaining': 4, 'alter': 4, 'house': 4, 'Phase': 4, 'detonate': 4, 'trained': 4, '28246': 4, '31118': 4, 'InteiTOgation': 4, 'Interprets': 4, 'Apply': 4, 'Language': 4, 'Diverge': 4, 'Suspension': 4, 'Three': 4, 'Memoranda': 4, 'Process': 4, 'Opinion': 4, 'Hamdan': 4, 'Rumsfeld': 4, 'Septemr': 4, 'ajfter': 4, 'TlieCIAsJune2013Responsestatesthatafterundergoing': 4, 'communication': 4, 'finding': 4, 'HAYDEN': 4, 'Fifth': 4, 'Fourteenth': 4, 'treaty': 4, 'obligations': 4, 'longer': 4, 'thought': 4, 'analyzing': 4, 'outlined': 4, 'addressing': 4, 'descriptions': 4, 'otherdocuments': 4, '1CIAtestimony': 4, 'totheSenate': 4, 'Conunittee': 4, 'onIntelligence': 4, '152002': 4, 'SSCIon': 4, 'intenogations': 4, 'CommitteestaffdirectorsregardingtheCIAsDetentionandInterrogationProgram': 4, '6CIAtestimonytoSSCIon': 4, 'March52003regardingthecaptureandinitialinterrogationofKSM': 4, '7CIAwitnesstestimonytoSSCIon': 4, '192003': 4, 'Muhammads': 4, 'ReportingPrecious': 4, 'Tmths': 4, 'Sunounded': 4, 'Bodyguard': 4, 'ofLiesprovidedtotheSSCIonApril72003': 4, '10CIAtestimonytoSSCIonApril302003regardingdetainee': 4, '11CIAtestimonytoSSCIonJune252003regardingKSMintenogation': 4, '12CIAtestimonyto': 4, '30j2003reearg': 4, 'orities': 4, 'TalkingPoints04September2003': 4, '15CIAwitnesstestimonytoSSCIonMay122004regardingCIArolein': 4, 'abusesatAbuGhraibprison': 4, 'SSCIstaffnotesforJuly152004CIAbriefingtoChairmanPatRobertsand': 4, 'prograjii': 4, 'toSSCIonSeptember132004regardingCIAandtheabusesatAbuGhraibprison': 4, '18Handwrittennotesof': 4, 'ViceChairmanJohnDRockefellerIVrecordingabriefingbyJoseRodriguezonMarch72005': 4, '19CIA': 4, 'Issue': 4, 'Majority': 4, 'Leader': 4, 'exchanges': 4, 'lllllllllll': 4, 'Immediate': 4, 'Amendment': 4, 'Tliad': 4, 'Cocluan': 4, 'Stevens': 4, 'Cornyn': 4, 'Porter': 4, 'DetentionandInterrogationProgram': 4, '22CIADirectorMichaelHaydentestimonytotheSSCIonSeptember6': 4, 'consideration': 4, 'Actof': 4, 'DirectorMichael': 4, 'theSSCIon': 4, '122007regarding': 4, 'Cross': 4, 'Appropriations': 4, 'Subcommittee': 4, 'sheetentitledTalkingpointssentonOctober262007at53948PM': 4, 'concerns': 4, 'confirm': 4, 'TlieCIAsJune2013ResponsenonethelessassertstliatKSM': 4, 'operativesknown': 4, 'Yusef': 4, 'deployed': 4, 'nonedieless': 4, 'possibilityjoossiblecondop': 4, 'prepaid': 4, 'cards': 4, 'SajidBadattocallaknownterroristNizarTrabelsi': 4, 'FBIinterviewsofTrabelsiofficially': 4, '2002reported': 4, 'Badad': 4, 'joint': 4, 'FBImilitary': 4, '51402': 4, 'Status': 4, '111103': 4, 'toassesvaooxamplhe': 4, 'SECReiVVMBMNQFQRN': 4, 'reviewed': 4, 'leadership': 4, 'various': 4, 'deeply': 4, 'detentions': 4, 'June2013Response': 4, 'doesnotdispute': 4, 'theCIArecordsbutstatesthatwhileAgencyrecordsonthesubject': 4, 'fonner': 4, 'includingtheuseofenhancedtechniqueswiththenDCIATenetin2002priortoapplicationofthetechniqueson': 4, 'Recommendation': 4, 'Adequately': 4, 'Screen': 4, 'Potential': 4, 'Senior': 4, 'Affairs': 4, 'instructed': 4, 'right': 4, 'ThisJune272013CIAstatementisinaccurate': 4, 'higher': 4, 'CTCRDG': 4, 'interrogationsites': 4, 'removing': 4, 'latent': 4, 'institutional': 4, 'confusion': 4, 'egregiously': 4, 'anyone': 4, 'accountable': 4, 'failure': 4, 'recently': 4, 'Common': 4, 'Questioning': 4, 'Conventions': 4, 'partners': 4, 'Addendum': 4, 'hospital': 4, 'condition': 4, 'spend': 4, '20022603': 4, 'recent': 4, 'SENSITIVE': 4, 'ADDENDUM': 4, 'DUNBARs': 4, 'point': 4, 'prosecution': 4, 'ensure': 4, '031357Z': 4, 'Request': 4, 'Alberto': 4, 'Gonzales': 4, 'collective': 4, 'visited': 4, '10607': 4, '100335Z': 4, 'seems': 4, 'strong': 4, 'cannot': 4, 'according': 4, 'followed': 4, 'cause': 4, 'clearly': 4, '10544': 4, '1080ni929Z': 4, 'class': 4, 'running': 4, 'guards': 4, 'courierfor': 4, 'traffic': 4, 'Based': 4, 'alsojZfh': 4, 'iegins': 4, 'at0945': 4, 'lasted': 4, 'ALECHH072002Z': 4, 'DIRECTORBH': 4, '30I710Z': 4, '11448': 4, '301141Z': 4, 'ALECBH022012ZMAY03': 4, 'BLACK': 4, 'inCountry': 4, 'Medical': 4, 'wound': 4, 'Haynes': 4, 'raised': 4, 'company': 4, 'elaborated': 4, 'ofearly': 4, 'Steven': 4, 'Bradbury': 4, 'Principal': 4, 'Certain': 4, 'andUBLsdeath': 4, 'OnMay22011CIAofficialsincludingCIADeputyDirectorMichael': 4, 'Morell': 4, 'chronolognVolui': 4, '271730Z': 4, 'Coimnittee': 4, 'innercirclearoundbinLadinthepeoplethatwerearoundhimasawaytotryandgoafterbinLaden': 4, 'pertaining': 4, 'Abideen': 4, '20102939': 4, 'ceased': 4, 'District': 4, 'fully': 4, 'dirty': 4, 'material': 4, 'Judiciary': 4, 'terms': 4, 'administered': 4, 'whereabouts': 4, 'thwarted': 4, 'perfume': 4, 'leader': 4, 'website': 4, 'office': 4, 'contrary': 4, 'Bangkok': 4, 'Sadness': 4, 'Strait': 4, 'samples': 4, 'enlianced': 4, 'Merchandise': 4, 'Faraj': 4, 'married': 4, 'really': 4, 'Records': 4, 'classroom': 4, 'Salih': 4, 'alArabi': 4, 'alGharisi': 4, 'Hikmat': 4, 'Shaukat': 4, 'sentencing': 4, 'whereby': 4, 'authoritiesThe': 4, 'Medunjanin': 4, 'videolink': 4, 'Stateswhich': 4, '34513': 4, '052246Z': 4, '34569': 4, '061722Z': 4, '15712': 4, 'ORANGE': 4, '10751': 4, '102258Z': 4, '10762': 4, '112020Z': 4, '23796': 4, '121932Z': 4, '20873': 4, '08163IZ': 4, 'B20873': 4, '081631Z': 4, '101847Z': 4, 'jjjHaOlSM04': 4, '10740': 4, '092308Z': 4, 'disseminatedasBBHHIiHH': 4, '10741': 4, '100917Z': 4, '03jLECMBi': 4, '120134Z': 4, '1821271A3': 4, '19I513Z': 4, '144201': 4, '10828': 4, '151310Z': 4, 'ofdisseminated': 4, 'Panetta': 4, 'NQFORN': 4, 'extended': 4, 'compound': 4, 'operationand': 4, 'italics': 4, 'DraftsectionsoftheStudywerepreparedand': 4, 'distributed': 4, 'Branch': 4, '11746': 4, 'sourcing': 4, 'ultimate': 4, '173426': 4, '20123802': 4, 'photograpMnclude': 4, 'SITEIBB': 4, 'allegations': 4, 'WatchreporttheCIAstated': 4, 'Theagencyhasbeenontherecordthattherearethreesubstantiatedcasesinwhich': 4, 'detaineesweresubjectedtothewaterboardingtechniqueundertheprogram': 4, '20124008': 4, '182127Z': 4, 'branch': 4, 'contains': 4, 'enors': 4, 'pertains': 4, 'indemnification': 4, 'expenses': 4, 'h4420': 4, '1923i4Z': 4, '201222Z': 4, '03198': 4, 'managing': 4, 'seven': 4, 'maintains': 4, 'narrative': 4, 'factor': 4, 'Djibouti': 4, 'videotaping': 4, 'fabrication': 4, 'TheCIAsJune': 4, '10647': 4, '201331Z': 4, 'photo': 4, 'TheCIAsJune2013Response': 4, 'Studys': 4, 'unsent': 4, 'claim': 4, '10262': 4, '151138Z': 4, 'Disagree': 3, 'AlNashiris': 3, 'Cooperation': 3, 'Oppose': 3, 'Continued': 3, 'planner': 3, 'intimately': 3, 'Africa': 3, 'ArabEmiratesinmidOctober2002': 3, 'Heprovidedinformationwhileinthecustodyofa': 3, 'Persian': 3, 'interfere': 3, 'define': 3, 'responsibilitieeforharrogancniarcisivolvntounpro': 3, 'contlic': 3, 'Hamburg': 3, 'SEP04': 3, 'numbers': 3, 'Russia': 3, 'VBIEDs': 3, 'striking': 3, 'debate': 3, 'ruled': 3, 'sanction': 3, 'question': 3, 'author': 3, 'English': 3, 'Saudi': 3, 'Arabia': 3, 'Beggs': 3, 'alTunisi': 3, 'remains': 3, 'Reids': 3, 'recommendation': 3, 'pursuant': 3, 'collect': 3, 'Countertenorism': 3, 'Paris': 3, 'selected': 3, 'common': 3, 'alBritani': 3, 'andor': 3, 'learn': 3, 'British': 3, 'mistakes': 3, 'Briefingfor': 3, 'Obama': 3, 'SeeCIAInspectorGeneralSpecialReviewCounterteriorismDetention': 3, 'Bolten': 3, 'Programs': 3, 'TalkingPointsfor': 3, '10March2005DCIMeeting': 3, 'PCEffectiveness': 3, 'theHighValue': 3, 'Bomber': 3, 'withdrew': 3, 'building': 3, 'Canary': 3, 'Wharf': 3, 'London': 3, 'Document': 3, 'visibly': 3, 'basis': 3, 'generally': 3, 'deemed': 3, 'Final': 3, 'RAMZI': 3, 'LEADS': 3, '50438': 3, 'assert': 3, 'describes': 3, 'Directorate': 3, 'Section': 3, 'Begins': 3, 'TechniquesNot': 3, 'Reviewedby': 3, 'Syllabus': 3, 'CounterterrorismDetention': 3, 'September2001October2003May72004p52': 3, 'sufficient': 3, 'inteiTogations': 3, 'SeeReportofAudit': 3, 'No20050017ASJune142006atDTS20062793': 3, 'possession': 3, 'money': 3, 'NotBriefthe': 3, 'ofAbuZubaydah': 3, 'activitiesafterAbuZubaydahscaptureonMarch282002': 3, 'Inresponsestothreedifferent': 3, 'photograph': 3, 'Coercive': 3, 'disagreement': 3, 'Hudhaifa': 3, 'discovered': 3, 'Zarmein': 3, 'knowing': 3, 'little': 3, 'Shaistah': 3, 'Sayed': 3, 'REDACTEDl': 3, 'undated': 3, 'titled': 3, 'heavily': 3, 'inthe': 3, 'SeeNovember132001TranscriptofStaffBriefingonCovert': 3, 'living': 3, 'willing': 3, 'Since': 3, 'become': 3, 'revelation': 3, 'Counterterrorist': 3, 'omitted': 3, 'contextual': 3, 'specialized': 3, 'Standards': 3, 'Members': 3, 'making': 3, 'suspicious': 3, 'Sulayman': 3, 'Paragraph': 3, 'counterterrorism': 3, 'produce': 3, 'probably': 3, 'alShibhs': 3, 'elsewhere': 3, 'database': 3, 'understand': 3, 'alMuhajir': 3, 'Fouad': 3, 'Zouaoui': 3, 'picture': 3, 'describe': 3, 'substantial': 3, 'miscast': 3, '2ForadditionalinformationonDETENTIONSITCOBALTceVolumeIanVolumUnmonther': 3, 'DIRECTOJHpBB': 3, 'IHBBIREDACTED': 3, 'SeptembeOOctor': 3, 'operationsromHHBH': 3, 'InteiTogationof': 3, 'Passage': 3, 'Conditions': 3, 'Confinement': 3, 'WithdrawsDraftOpinionon': 3, 'TechniquesAfterthe': 3, 'USSupremeCourt': 3, 'Misrepresents': 3, 'Views': 3, 'ancH2004': 3, 'Sametime': 3, 'Letter': 3, 'remainder': 3, 'grasps': 3, 'slaps': 3, 'judged': 3, 'participating': 3, 'anticipating': 3, 'dietary': 3, 'manipulation': 3, 'dousing': 3, 'abdominal': 3, 'diapers': 3, 'Daniel': 3, 'Levin': 3, 'techniquesincluding': 3, 'memorandumwere': 3, 'prohibitionontorture': 3, 'ThesecondmemorandumconsideredthecombineduseoftheCIAs': 3, 'BothlegalmemorandaconcludedthattheuseoftheCIAs': 3, 'PastEffortstoReviewtheEffectivenessoftheCIAsEnhancedInterrogation': 3, 'Ribbon': 3, 'panel': 3, 'consisting': 3, 'custo': 3, 'alBaluclii': 3, 'Ghailani': 3, 'Rahim': 3, 'alHaili': 3, 'closely': 3, 'helHHIII': 3, 'governmentn': 3, 'Januat': 3, '30586': 3, 'pjjjj': 3, 'Summanzinigmficant': 3, '11303': 3, 'ofJose': 3, 'conclusion': 3, 'effects': 3, 'brief': 3, 'leaving': 3, 'imminent': 3, 'chained': 3, 'Guantanamo': 3, 'extent': 3, 'Officials': 3, 'HPSCI': 3, 'existed': 3, 'dispute': 3, 'exclusively': 3, 'covered': 3, 'requiring': 3, 'humane': 3, 'enforcement': 3, 'Februaiy': 3, 'III11': 3, 'listing': 3, 'PowerPoint': 3, 'replace': 3, 'eventually': 3, 'allowing': 3, 'remain': 3, 'combined': 3, 'removed': 3, 'cooperate': 3, 'Strategy': 3, 'evening': 3, 'strategy': 3, 'agent': 3, 'approached': 3, 'device': 3, 'hospitalized': 3, 'offbalance': 3, '302002': 3, 'nearly': 3, 'advance': 3, 'employing': 3, 'advised': 3, '151006ZJUL': 3, 'school': 3, 'avoid': 3, 'insult': 3, 'anticipated': 3, 'advisor': 3, 'aggressive': 3, 'towel': 3, 'noise': 3, 'video': 3, 'effect': 3, 'present': 3, 'affected': 3, 'maintaining': 3, 'compared': 3, 'Daily': 3, 'accurately': 3, 'reflected': 3, 'Establishes': 3, 'attached': 3, 'benefit': 3, 'create': 3, 'music': 3, 'sound': 3, 'Najjar': 3, '162135Z': 3, 'subjecting': 3, 'level': 3, 'adequate': 3, 'broken': 3, 'UPDATE': 3, 'figures': 3, 'matter': 3, 'resulting': 3, 'students': 3, 'enrolled': 3, 'observing': 3, 'teaching': 3, 'TCLGL': 3, 'belief': 3, 'heard': 3, 'certified': 3, 'advice': 3, 'Furtherasnotedasignificantamountofthedisseminatedintelligencereporting': 3, 'Growth': 3, 'FiftyThree': 3, 'Enter': 3, 'active': 3, 'highest': 3, 'levels': 3, 'Rafiq': 3, 'arrival': 3, 'steps': 3, 'nonstop': 3, 'deterioration': 3, 'undergone': 3, 'mid2003': 3, 'Haqqani': 3, 'addition': 3, 'asserting': 3, 'uniquely': 3, '172117Z': 3, 'Zabaidah': 3, 'things': 3, 'cunent': 3, 'initiated': 3, 'convinced': 3, 'knows': 3, 'endgame': 3, 'Nonetheless': 3, 'Chart': 3, 'Plots': 3, 'Disrupted': 3, 'internet': 3, 'disrupt': 3, 'DOJapproved': 3, 'content': 3, 'finally': 3, 'meant': 3, '10091': 3, 'caution': 3, 'principles': 3, 'addressees': 3, 'increased': 3, 'third': 3, 'broke': 3, 'Washington': 3, 'instead': 3, 'citing': 3, 'Another': 3, 'archive': 3, 'truck': 3, 'tools': 3, 'exist': 3, 'disrapted': 3, 'Behind': 3, 'Horror': 3, 'Major': 3, 'Pointed': 3, 'Magazine': 3, 'initiation': 3, 'return': 3, '12249': 3, '091259Z': 3, '12251': 3, 'Tayyar': 3, 'Maich': 3, 'signals': 3, 'downplays': 3, 'leaves': 3, 'rejected': 3, 'Reference': 3, 'responses': 3, 'destruction': 3, 'Jamal': 3, 'alKarim': 3, 'Klian': 3, 'uncooperative': 3, 'REQUEST': 3, '060353Z': 3, '10932': 3, '212132Z': 3, '221610Z': 3, '10948': 3, '222101Z': 3, '12095': 3, '222049Z': 3, 'Infomiation': 3, 'searches': 3, '38161': 3, 'measures': 3, 'Investigative': 3, 'Practices': 3, '20074166': 3, 'Meetings': 3, '20124203': 3, 'StaffBriefing': 3, '10586': 3, '041559Z': 3, 'categorized': 3, '39101': 3, 'systematic': 3, 'transfeireCIAcustody': 3, '2006jGhulwasrenderedtoHIOnMaHj2007': 3, 'releasedHPIHHHassGhulHHHPHHimH': 3, 'HEADQUARsHHBI': 3, 'IIHIHIIBIHrand': 3, 'Convicted': 3, 'onetime': 3, 'misrepresentation': 3, 'leaks': 3, 'emerge': 3, 'compelled': 3, 'scope': 3, 'operationally': 3, '20072009': 3, 'devise': 3, 'Business': 3, 'sessions': 3, 'alSudanis': 3, 'recalled': 3, 'alKarims': 3, 'discrepancy': 3, 'assertions': 3, 'solely': 3, 'defends': 3, 'hosted': 3, 'screening': 3, 'Manhunt': 3, 'Contrary': 3, 'incorrectly': 3, 'continues': 3, 'Talhas': 3, '20091913': 3, '20091916': 3, 'InterrogationProgram': 3, 'OnApril32014byabipartisanvoteof113theCommitteeagreed': 3, '13839': 3, '201434Z': 3, 'OFFICHHDETENTION': 3, '034017': 3, 'guesthouse': 2, '0213I9ZQCT04HEADQUARTERSlHm40023ZNOV05': 2, '140915Z': 2, '06I620Z': 2, '22071113I9Z': 2, '05IHl2210a7Z': 2, 'APR05H2535': 2, 'JUL05': 2, '120857ZJUL05n2830': 2, '29I304Z': 2, '040rB89300831Z': 2, 'Rebuttal': 2, 'April2007TBIB2210141507Z': 2, '25051805Z': 2, 'APR05rHB225': 2, '291304Z': 2, '061620Z': 2, '2210141507Z': 2, '081609Z': 2, '151735Z': 2, '282019Z': 2, '17I6180742Z': 2, '051805ZJUL05': 2, '1716180742Z': 2, '301946Z': 2, '041358Z': 2, '301235Z': 2, '29i304Z': 2, '020752Z': 2, '111600Z': 2, 'AUG04': 2, '111700Z': 2, '211558ZJAN05BPHIHi': 2, '031835Z': 2, '052309Z': 2, 'surrounding': 2, 'amendment': 2, 'Israel': 2, 'Supreme': 2, 'legislative': 2, 'INTERROGATION': 2, 'PROGRAM': 2, 'PRESS': 2, 'BRIEFING': 2, 'ProgramGoing': 2, 'PointsCommentsDuetoBiTie': 2, 'TODAY': 2, 'Thanks': 2, '51010': 2, 'traditional': 2, 'alGhuraba': 2, 'occupied': 2, 'Maktabah': 2, 'Arabic': 2, 'occasion': 2, 'Maosooan': 2, 'approximatelyl999or2000his': 2, 'alsosentonMarch182003inALECHH180200ZMAR03': 2, 'Twelfth': 2, 'Hearing': 2, 'uncovered': 2, 'surmised': 2, 'debriefer': 2, 'funded': 2, 'lessons': 2, 'heawareofwhetherthePresidenthadbeenbriefedbyhisstaff': 2, 'TheMay2004CIA': 2, 'implementation': 2, 'tasking': 2, 'economic': 2, 'recruitment': 2, 'OnNovember': 2, 'iSECRET': 2, 'message': 2, 'Britain': 2, 'originating': 2, 'Conomittee': 2, 'abuses': 2, 'countless': 2, 'volume': 2, 'concealed': 2, 'shoes': 2, 'investigators': 2, 'investigative': 2, 'ofreportincquircronIAS': 2, 'circulated': 2, 'novel': 2, 'Trabelsi': 2, 'departing': 2, 'around': 2, 'itself': 2, 'Statesflagged': 2, 'destroy': 2, 'vRamzi': 2, 'proposals': 2, 'expected': 2, 'forth': 2, 'minimal': 2, 'ofDetainee': 2, 'Recommends': 2, 'Transferred': 2, 'Heldfor': 2, 'Years': 2, 'midfifties': 2, 'assisted': 2, 'throughtheToraBoraMountainsinlate2001': 2, 'After56hoursofstandingsleepdeprivation': 2, 'barely': 2, 'enunciate': 2, 'shaken': 2, 'hallucinations': 2, 'depicting': 2, 'mauling': 2, 'detaining': 2, 'psychological': 2, 'false': 2, 'proven': 2, 'ineffective': 2, 'aforementioned': 2, 'eaily': 2, 'comport': 2, 'commonly': 2, 'accepted': 2, 'courts': 2, 'defenses': 2, 'Mastennind': 2, 'IIIIIEP': 2, 'StatesT': 2, '64626': 2, '131842Z': 2, '64627': 2, '131843Z': 2, 'fromHPI': 2, 'mHfREDACTED': 2, 'akeady': 2, 'Tenorist': 2, 'Ladins': 2, 'strikes': 2, 'Khahd': 2, 'witliout': 2, 'Qandahar': 2, 'engage': 2, 'human': 2, 'identities': 2, 'HjjfjjlH': 2, 'Khaiid': 2, 'AfghanistanHassan': 2, 'photographs': 2, 'Experience': 2, 'Research': 2, 'conducting': 2, 'spoke': 2, 'httle': 2, 'baths': 2, 'ASHINGTON': 2, '51303': 2, 'mistaken': 2, 'identity': 2, 'HabillahKl': 2, 'fabrications': 2, 'HEADQUARTERHHI': 2, 'HaiGhalgilKMis': 2, 'Nazir': 2, 'intellectually': 2, 'challenged': 2, 'taped': 2, 'crying': 2, '13065': 2, 'xivment': 2, 'iillii': 2, 'iiiin': 2, '33693': 2, '33693HHIIIIftHayatullal': 2, 'timejflBHIIBH': 2, '33322': 2, 'whowasde': 2, 'satellite': 2, 'traces': 2, 'informationjlHH': 2, 'alShomaila': 2, 'Salah': 2, 'Salim': 2, 'Alion': 2, 'REDACTEDUo': 2, '1REDACTED': 2, 'subjety': 2, 'Backgrounders': 2, '17411': 2, 'events': 2, 'interested': 2, 'exploring': 2, 'degree': 2, 'forwarded': 2, '66193': 2, 'SimilarlyonMay62006anaffidavitfiledbyMoussaoui': 2, 'alQaeda': 2, 'occur': 2, 'proposal': 2, 'assist': 2, 'contacts': 2, 'deputy': 2, 'offered': 2, 'contacted': 2, 'widely': 2, 'intended': 2, 'onlywith': 2, 'marchingorderstothroweverythinginitstates': 2, 'crucial': 2, 'pillar': 2, 'countertenorism': 2, 'aiding': 2, 'thwart': 2, '3DIRECTOR': 2, '1theIntelligenceCommunitywasinterestedintheFloridabasedAdnanelShukiijumah': 2, 'BHBBBHrsuectTseehighlight': 2, 'worthy': 2, 'lamentable': 2, '62908': 2, '162006': 2, 'consider': 2, 'except': 2, '200122': 2, 'relocated': 2, 'ofDeputy': 2, 'ofALEC': 2, 'alBaluchis': 2, 'Comments': 2, 'alTayyarIf': 2, 'Correct': 2, 'Appears': 2, 'Focused': 2, 'Extended': 2, 'Schemeand': 2, 'Capabilities': 2, 'Broken': 2, '072103': 2, 'Jazairi': 2, 'Determines': 2, 'Audit': 2, 'Detain': 2, 'Category': 2, 'Individuals': 2, 'suggested': 2, 'trusted': 2, 'Englishspeaking': 2, 'InteiTogations': 2, 'wrongfully': 2, 'establishing': 2, 'Kesslers': 2, 'Story': 2, 'Limited': 2, 'Wolfowitz': 2, 'Comey': 2, 'provides': 2, 'worth': 2, 'intent': 2, 'immediate': 2, 'neither': 2, 'routinely': 2, 'types': 2, 'article': 2, 'Sufaat': 2, 'hindsight': 2, 'television': 2, 'believes': 2, 'replacement': 2, '33yearold': 2, 'holder': 2, 'parallel': 2, 'AlthoughsomeofthecellsatDETENTIONSITEORANGEincludedplumbing': 2, 'producing': 2, 'tallest': 2, 'devices': 2, 'betweenJohnRNdd': 2, 'jVlarch': 2, '292002': 2, 'teams': 2, 'School': 2, 'Goldsmitli': 2, 'prepare': 2, 'Amendments': 2, 'ConstitutionOn': 2, 'of2004': 2, 'detaineesJanat': 2, 'Khalfan': 2, 'Ghailaniwith': 2, 'individualized': 2, 'continuous': 2, 'holds': 2, 'wallinguntil': 2, '109detainees': 2, 'considers': 2, 'discontinued': 2, 'usually': 2, 'reasonably': 2, 'possess': 2, 'nonthreatening': 2, 'discern': 2, 'legahty': 2, 'Theattorneygeneralwasthendirectedtoprepareawrittenopinion': 2, 'issues': 2, 'theDepartmentofJusticewithregardtothewaterboard': 2, 'OnJuly222004AttorneyGeneral': 2, 'supplement': 2, 'Patiick': 2, 'Philbin': 2, 'statutes': 2, 'UStreatyobligations': 2, 'differences': 2, 'approvalforse': 2, 'onJuly': 2, 'OnDecember302004theOLCissuedanew': 2, 'memorandumsupersedingtlieAugust12002memoranduminitsentirety': 2, 'Consistent': 2, 'transfeiTcd': 2, 'Asdetailed': 2, 'inthissummary': 2, 'CIArecordsconfirmthatRiyadh': 2, 'theFacilitatorprovided': 2, 'tlian': 2, 'telling': 2, '20022866': 2, '242226Z': 2, 'WhiletheOfficeofLegal': 2, 'meaning': 2, 'tortured': 2, 'techniquesondetaineesand4theeffectivenessofthetechniques': 2, 'Conduct': 2, 'respond': 2, 'Grahams': 2, 'options': 2, 'flawed': 2, 'duration': 2, 'partially': 2, 'floor': 2, 'hypothermia': 2, 'Additionalreportingon': 2, '242144Z': 2, 'Serial': 2, 'Flyer': 2, 'Links': 2, 'Active': 2, 'Operatives': 2, 'Febniary': 2, 'numberof': 2, 'Cumming': 2, 'highvalue': 2, 'actually': 2, 'tlirough': 2, 'Moreover': 2, 'behalf': 2, 'assigned': 2, 'conflict': 2, 'asking': 2, 'qualified': 2, 'services': 2, 'Rodiiguez': 2, 'Without': 2, 'wounds': 2, 'permit': 2, 'involve': 2, 'Inteirogation': 2, 'Support': 2, 'SUBJECT': 2, 'considerable': 2, 'nothing': 2, 'liaison': 2, 'relations': 2, 'accept': 2, 'newspaper': 2, 'reiterated': 2, 'intention': 2, 'intensive': 2, 'update': 2, 'consultant': 2, 'backgrounder': 2, '012236Z': 2, 'tried': 2, 'delivered': 2, 'differed': 2, 'speak': 2, 'break': 2, 'attend': 2, 'exchange': 2, 'Turning': 2, '120247': 2, 'Leadership': 2, 'resume': 2, 'Course': 2, 'employees': 2, 'acting': 2, 'employ': 2, 'representatives': 2, 'absence': 2, 'heart': 2, 'CILership': 2, 'agency': 2, 'joined': 2, 'permanent': 2, '151006Z': 2, '182321Z': 2, 'verbally': 2, 'grasp': 2, 'techniquesIn': 2, 'spoken': 2, 'Weekly': 2, 'hooded': 2, 'Increased': 2, 'Pressure': 2, 'white': 2, 'alone': 2, 'unlikely': 2, '094509AM': 2, 'attachment': 2, 'reactions': 2, 'Todays': 2, 'profound': 2, 'everyone': 2, 'guarantee': 2, 'Several': 2, 'profoundly': 2, 'tears': 2, 'choking': 2, 'Monday': 2, '0535AM': 2, 'perhaps': 2, 'elect': 2, 'Viewing': 2, 'pressures': 2, 'feelings': 2, 'futility': 2, 'escalating': 2, 'pressure': 2, 'Greetings': 2, 'Bellinger': 2, 'compliant': 2, 'resisted': 2, 'improving': 2, '10667': 2, '10672': 2, '240229Z': 2, '053646': 2, 'totally': 2, 'opened': 2, '054611': 2, 'Countiy': 2, 'taking': 2, 'explicitly': 2, 'worse': 2, 'environment': 2, 'chance': 2, 'autliorized': 2, 'hearing': 2, 'short': 2, '27297': 2, '210713Z': 2, 'combatant': 2, 'inspector': 2, 'model': 2, 'Hammond': 2, 'primary': 2, 'autopsy': 2, 'exposure': 2, 'instances': 2, 'overheard': 2, 'followup': 2, 'notes': 2, 'ofNovember': 2, 'meetinAREDACTE': 2, 'entire': 2, 'instruction': 2, 'NovemberH002f': 2, 'completion': 2, 'tmininlass7CTC': 2, 'participation': 2, 'sometime': 2, 'morning': 2, '30211': 2, 'ofPrisons': 2, 'at031301': 2, 'HCTCLGL': 2, 'hetmng': 2, '20071563': 2, 'visit': 2, 'secure': 2, 'establishedtwootherClacilitiesinCountrB': 2, 'DETENTIONSITEORANGEwhichheld': 2, 'BROWN': 2, 'betweenB': 2, 'Baseline': 2, 'DetaineePrisoner': 2, 'truthful': 2, '2003January9102003andJanuary15272003': 2, 'yNOFORN': 2, 'sending': 2, 'resumed': 2, 'warned': 2, 'Qaidas': 2, 'anthrax': 2, 'minutes': 2, 'Counsels': 2, 'horizontal': 2, 'HeadquartersThe': 2, 'woiTied': 2, 'prohibited': 2, '10711': 2, '10725': 2, '10732': 2, '10731': 2, 'SECRETBBmmV4QFQRN': 2, 'lNOFORN': 2, 'VIOLET': 2, 'agrcemen': 2, 'tohostaCIAdetentionfacilityitjm2002': 2, 'CIAHeadquartersinvitedtheCIAStationinCoun': 2, 'toidentifywaystosupportthe': 2, 'demonstrate': 2, 'appreciate': 2, 'rogram': 2, 'requestedforthepurposesofthesubsidy': 2, 'CIAdetaineesweretransferredto': 2, 'of2003': 2, 'InAugust2003theUSambassadorinCountry': 2, 'soughtto': 2, 'visavis': 2, 'govemment': 2, 'Because': 2, 'approving': 2, '252002Z': 2, '10602': 2, '262020Z': 2, 'wliich': 2, 'December4': 2, 'Precedence': 2, 'precedence': 2, 'Beginning': 2, 'liquid': 2, 'Modin': 2, 'Clinical': 2, 'deteriorate': 2, 'secretary': 2, 'complied': 2, 'arising': 2, 'namely': 2, 'Eighth': 2, 'AmendmentsIn': 2, 'interagency': 2, 'Patrick': 2, 'Leahy': 2, 'USjolicytocomplwitlhestantods': 2, 'AccordingtoamemorandumfromtheCIAs': 2, 'HBcTC': 2, 'alegal': 2, 'harbor': 2, 'enhancedinterrogation': 2, 'Curriculum': 2, 'village': 2, 'problems': 2, 'contradicted': 2, 'debriefers': 2, 'order': 2, 'authorizations': 2, 'approvals': 2, 'AttorneyGeneralOfficeofLegalCounselMay302005Re': 2, 'ApplicationofUnitedStatesObligationsUnder': 2, 'Cential': 2, 'Application': 2, 'Crimes': 2, 'letteri': 2, 'andAbuZubahs': 2, 'HUn0154Z': 2, '10092': 2, '21103IZ': 2, '10022': 2, '121216Z': 2, '111111111110321': 2, '231427Z': 2, 'circumstances': 2, 'successfully': 2, '2340A': 2, 'nonpublic': 2, 'anticipatory': 2, 'track': 2, 'entry': 2, 'UnitedStates': 2, 'January162002': 2, 'clear': 2, 'Threads': 2, 'CIARepresentationsAbouttheEffectivenessofItsEnhancedInterrogationTechniques': 2, 'offfor': 2, 'abreak': 2, 'HeadquartersAs': 2, 'communicated': 2, 'Impacts': 2, 'commencement': 2, 'placing': 2, 'build': 2, 'applications': 2, 'Enemy': 2, 'SeeMemorandumforJohnRizzoActing': 2, 'chronolo': 2, 'Taiha': 2, 'alKini': 2, 'Abdallah': 2, '10090': 2, '210703Z': 2, '10063': 2, '180515Z': 2, '10096': 2, '221545Z': 2, 'Agent': 2, 'Soufan': 2, 'ZubaydahandAbdalRahimalNashiriin2002': 2, 'CIADirectorHaydenhadallowedasmall': 2, 'destroyed': 2, 'CIAinterrogationvideotapes': 2, 'ThechairmanstatedthattheCommitteestaffmemorandum': 2, 'comprehensive': 2, 'nature': 2, 'thoughts': 2, 'HeadquartersAfter': 2, 'compare': 2, 'andtheguidelinespublishedbytheAgencyOthermembers': 2, 'oftheCommitteeaddedtheir': 2, 'extraordinarily': 2, 'ought': 2, 'bottom': 2, 'underpinnings': 2, 'acted': 2, 'intenogated': 2, '122007': 2, 'CIAvetted': 2, '11299': 2, 'jANO40rB': 2, '1312HnA77HB': 2, '1530BH04': 2, 'IntelUgence': 2, 'exercised': 2, 'repetitions': 2, 'Discusses': 2, 'StatementSummarizingSm': 2, '35417': 2, 'history': 2, 'interdiction': 2, 'Hamza': 2, 'alZubayr': 2, 'reassured': 2, 'paper': 2, 'Radar': 2, 'hijack': 2, 'airplane': 2, 'terror': 2, 'publicly': 2, 'Canadian': 2, 'mid2002': 2, 'speaker': 2, '77599': 2, 'Nisar': 2, 'Jalal': 2, 'Ujaama': 2, 'potentially': 2, 'MAY03': 2, 'biographical': 2, 'searchable': 2, 'repositories': 2, 'progressed': 2, 'AmmaralBaluchi': 2, 'island': 2, 'worlds': 2, 'Observer': 2, 'delivering': 2, 'InMarch2002HambaliwasdescribedastheCIAsnumberonetargetin': 2, 'Debriefing': 2, 'Omani': 2, 'yields': 2, 'Muhammed': 2, '95634': 2, 'leadershipincluding': 2, 'Thailand': 2, 'Teiror': 2, 'Informant': 2, 'Allegedly': 2, 'Targeted': 2, 'Agents': 2, 'Jabarahs': 2, 'Sentencing': 2, 'forJohn': 2, 'Capable': 2, 'Philippine': 2, 'Headline': 2, 'Police': 2, 'Linked': 2, 'Bombers': 2, 'Uncovers': 2, 'Friends': 2, 'Finger': 2, 'AFPHong': 2, 'affiliated': 2, 'Terror': 2, 'Indonesia': 2, 'Inside': 2, 'Unearths': 2, 'Roots': 2, 'Bombings': 2, 'Shows': 2, 'Masterminds': 2, 'Remain': 2, 'Large': 2, 'financial': 2, 'admitted': 2, 'Ifthese': 2, 'change': 2, 'necessarily': 2, 'declassified': 2, 'Travel': 2, 'whwaeo': 2, 'extremely': 2, 'exact': 2, 'match': 2, 'olume': 2, 'receive': 2, 'authoritiesOn': 2, 'surveillance': 2, 'Finding': 2, '31049': 2, 'terminate': 2, 'visiting': 2, 'Months': 2, 'attributed': 2, 'alTayer': 2, '20021819': 2, 'heading': 2, 'knowledge': 2, 'questioning': 2, '27page': 2, 'Instead': 2, 'substantially': 2, 'topic': 2, 'retired': 2, 'clironology': 2, 'August12002OLCMemorandumReliesonInaccurateInformationRegardingAbu': 2, 'singlesource': 2, 'carried': 2, 'direct': 2, 'undergo': 2, 'prevent': 2, 'ranking': 2, 'explaining': 2, '20021800': 2, 'Terrorism': 2, '20021993': 2, 'coord': 2, '055806': 2, 'minority': 2, 'Zakariya': 2, 'Elclin': 2, 'Boudraa': 2, 'II2OO2': 2, 'Abbar': 2, 'alHawari': 2, 'Sufiyan': 2, 'Najar': 2, 'H2002': 2, 'Marshid': 2, 'alMarwalali': 2, 'alMilhali': 2, 'Altash': 2, 'Musab': 2, 'alMudwani': 2, 'Shawqi': 2, 'alFaruq': 2, 'alKuwaili': 2, 'alSalam': 2, 'alHilah': 2, 'Karini': 2, 'Akbar': 2, 'Zakai': 2, 'Zeineddin': 2, 'Ualul': 2, 'alllami': 2, 'Bihani': 2, 'Lutfi': 2, 'Yaqub': 2, 'alBalticlii': 2, 'Tallia': 2, 'I2OO2': 2, 'Ghalgi': 2, 'NazarA': 2, 'iHHH2002': 2, 'Wafti': 2, 'Moliib': 2, 'Rehman': 2, 'Hayatullah': 2, 'Bishcr': 2, 'alRawi': 2, 'Jamil': 2, 'elBanna': 2, 'Hazim': 2, 'Abdul': 2, '12003': 2, 'brought': 2, 'discharged': 2, 'Please': 2, 'SWIGERTs': 2, 'AlNashiri': 2, 'certainly': 2, 'guess': 2, 'difficult': 2, 'feeding': 2, 'authorized': 2, 'militaiy': 2, 'LEVIN': 2, 'Summaiy': 2, 'Prolonged': 2, 'stiess': 2, 'armed': 2, 'disclosures': 2, '10029': 2, '131505Z': 2, '171919Z': 2, '10983': 2, '242321Z': 2, 'CIAprovided': 2, 'Press': 2, 'sixagIA': 2, 'alKuwaitiDTS': 2, 'Contract': 2, 'UpdathiornineateTI': 2, 'BHHHjBjREDACTro': 2, 'MomjngateBmimi': 2, '12331': 2, 'IHTfREDACTED': 2, 'Mominj': 2, 'STATUS': 2, '104732': 2, '34491': 2, '051400Z': 2, 'HHjubiectjRejUpdate': 2, '201133Z': 2, '38130': 2, '121722Z': 2, '38127121714ZMAY03B': 2, '34575': 2, '38584': 2, 'Cables': 2, 'revealing': 2, 'medicalcomplicationsintheirlowerextremities': 2, 'twodetaineeshadabrokenfootonedetainee': 2, 'sprained': 2, 'ankle': 2, 'prosthetic': 2, 'maintain': 2, 'ReportingonAbihmed': 2, 'Prison': 2, '13588': 2, '171505Z': 2, 'immediatelysubjectedtotheCIAsenhancedinterrogationtechniques': 2, 'TheCIAstopped': 2, 'smuggle': 2, 'AlQaidas': 2, 'Waziristan': 2, 'Sanctuary': 2, 'Viable': 2, '20043240': 2, 'Ladens': 2, 'Hennen': 2, 'Fareed': 2, 'Testimony': 2, 'charts': 2, 'ascribes': 2, 'CustodyWpTS': 2, 'trying': 2, 'ASeptember12005': 2, 'iSIIIIIIIIIIBIIIH': 2, 'theyprovideuniqueintelligenceinordertomakethiswholemissionpossible': 2, 'represents': 2, 'staffreviewed': 2, 'transcripts': 2, 'contractsandotherrecords': 2, 'WASHINGTON': 2, 'Bf232012Z': 2, '032022Z': 2, '17743': 2, '051408Z': 2, '161821Z': 2, '03XA1Hawsawis': 2, 'production': 2, '20091258': 2, 'prosecutions': 2, '10643': 2, '191518Z': 2, '10941': 2, '221506Z': 2, '11377': 2, '231943Z': 2, '10798': 2, 'I192314ZMAY03': 2, '11717201222ZMAY': 2, '122939': 2, '031541Z': 2, '2216I0Z': 2, '051956Z': 2, '130801Z': 2, 'wouldlaterrecant': 2, 'OnMay32003CIAofficersrecommendedrevisitingtheinformation': 2, '201225Z': 2, 'count': 2, '131326Z': 2, 'DIRECTOrJH': 2, 'B022012Z': 2, 'utilize': 2, 'TheCIAagreedtoa5million': 2, 'hired': 2, 'prominent': 2, 'billed': 2, 'TermsofReference': 2, 'TheCommitteemetagainonMarch52009toconsiderarevised': 2, 'Terms': 2, '6300page': 2, '20091420': 2, 'tantalizing': 2, 'Funded': 2, 'Taxpayer': 2, 'Telegraph': 2, 'court': 2, 'hears': 2, 'plotter': 2, 'Plans': 2, 'Planes': 2, 'Terrorists': 2, 'Trial': 2, 'mistakenly': 2, '20101': 2, 'oftheir': 2, 'inaccuracy': 2, 'imprecise': 2, 'jjeCIAsJune2013Responsestates': 2, 'KSMwasthefirstpersontoprovideinMarch2003afterhaving': 2, 'custodya': 2, 'authoritative': 2, 'contributing': 2, 'slower': 2, 'relocation': 2, 'challenging': 2, 'mount': 2, 'renditions': 2, 'kicks': 2, 'analytical': 2, 'Militaiy': 2, 'disputes': 2, 'relevance': 2, 'affiliates': 2, 'waiting': 2, 'largescale': 2, 'involving': 2, 'bombers': 2, 'naval': 2, '12168301822ZJUN03TheCIAsJune2013Responsestates': 2, 'InpracticebyApril2003CIA': 2, 'staffpsychologistshadtakenoveralmostalloftheprovisionsofsupporttotheRDIprogram': 2, 'ignores': 2, 'minimizes': 2, 'granular': 2, 'volunteer': 2, 'tapes': 2, 'witnesses': 2, 'avoiding': 2, 'TlieCIAsJune2013ResponsefurtlierstatesthatKSMsreportingonMarch62003was': 2, 'cooperativepostureashisinterrogationprogressed': 2, 'Urban': 2, 'Targets': 2, 'sjenior': 2, 'winter': 2, 'resented': 2, 'debriefmgs': 2, 'cites': 2, 'usetheCIAenhanced': 2, 'techuesll': 2, 'inforaiation': 2, 'fromunrelatedsources': 2, 'conectly': 2, '10618': 2, '121448Z': 2, '250932Z': 2, 'quality': 2, 'belies': 2, 'notion': 2, 'AfollowupCIA': 2, '252013': 2, 'fjrom': 2, 'health': 2, 'perspective': 2, 'hunger': 2, 'strike': 2, 'underwent': 2, 'assesses': 2, 'medically': 2, 'hydration': 2, 'assertionthatMajidKhanwasuncooperativepriortorectalrehydrationandrectalfeedingisinaccurate': 2, 'Seealso66193AHH': 2, 'Muhammaddate': 2, 'KSMsHthatalled': 2, 'resaged': 2, 'wrongful': 2, 'relevant': 2, 'TheCIAsJune2013': 2, 'explanation': 2, 'xrays': 2, 'diagnosing': 2, 'reconmiending': 2, 'weight': 2, 'bearing': 2, 'theuseofcrutchesforatotalofthreemonths': 2, 'DespitetheserecommendationsonMay10': 2, '10654': 2, '211318Z': 2, 'ultimatelylost': 2, 'managers': 2, 'shows': 2, 'evidence': 2, 'miscounts': 2, 'itconfusestheuseofstandarechn': 2, '20058085IGjH': 2, '051225Z': 2, '271719Z': 2, 'weresubjectedtotechniqueswithouttheapprovalofCIAHeadquarterswere': 2, 'RafiqBashiral': 2, 'alBihandi': 2, 'Lufti': 2, 'RahmanAbd': 2, 'refer': 2, 'Zubaydahprovided': 2, 'inteiTogated': 2, '1099L': 2, 'undocumented': 2, 'recollection': 2, 'forum': 2, 'disagrees': 2, 'interrogating': 2, 'includinginPresidentBushs2006speechontheProgram': 2, 'Dourad': 2, 'holdings': 2, 'TheCIAsJune2013ResponsefurtherstatesthatCIAlackedreportingonAbuTalha': 2, 'priortoMarch2003andfirstlearnedofhisspecificroleintheplotfromdebriefingKSM': 2, '160217Z': 2, 'reissued': 2, '021549Z': 2, 'presidents': 2, 'September62006': 2, 'funds': 2, 'robbery': 2, 'referring': 2, 'plota': 2, 'concludedearlyonwasneveroperationallyviable': 2, 'contribution': 2, 'fragmentary': 2, 'strongly': 2, 'nefarious': 2, 'objective': 2, 'botli': 2, 'lacked': 2, 'suspicions': 2, 'IntelligenceubjeEffectivenesf': 2, 'Countertenntenogation': 2, '50638': 2, 'aviation': 2, 'timethat': 2, 'distinguished': 2, 'characterized': 2, 'repeatedly': 2, 'airest': 2, '21753': 2, 'Relations': 2, 'tlireat': 2, 'identifiers': 2, '72014': 2, 'wasprovided': 2, 'theexecutive': 2, 'fordeclassification': 2, 'andpublic': 2, 'TlieiioClcoindicatinhHambali': 2, '12068': 2, '201407Z': 2, '2Emfrom': 2, '12167': 2, '301747Z': 2, 'discovery': 2, 'Waveplotting': 2, 'equivalent': 2, 'recordspending': 2, 'Privilege': 2, '12014': 2, 'theCIA': 2, 'returnedtotheCommitteetheExecutiveSummarywithitsproposedredactions': 2, '2649H': 2, 'Thats': 2, 'conect': 2, 'MHi0496': 2, 'specializedtrainingforthis': 2, 'facetoface': 2, 'Priority': 1, '97470281317ZMAR02InNovember1998': 1, 'Binalshibh': 1, 'Bahaji': 1, 'Marienstrasse': 1, 'Reportingfrom1998indicatedthatSheikhKhalidKSM': 1, 'switched': 1, 'allegiance': 1, 'lHm09': 1, '022030ZJUN03': 1, 'ALECB': 1, '052206ZJUN': 1, '94931': 1, 'IssaprovidedMoazz': 1, 'vyith': 1, 'lawyer': 1, 'traditionsd': 1, 'Accordingtoopensourcesthe1999bookadvocatedworldwidejihadinordertobringnationsto': 1, 'InformationconcerningaboowritteiyDhirenBarot': 1, 'border': 1, 'patrol': 1, 'vehicle': 1, 'CIJ62213Z': 1, '49612': 1, '281213Z': 1, 'JUL03': 1, 'REDACTED72330': 1, 'tablediscusseshistoricalreporting': 1, 'loosely': 1, 'Moscow': 1, 'conventional': 1, 'jaarly': 1, 'student': 1, 'educate': 1, 'jailed': 1, 'groom': 1, 'studentsforpotentialleadershipandoperationalrolesinJI': 1, 'England': 1, 'Hindu': 1, 'MuslimwhooUraininihanistaiails': 1, '123199': 1, 'pailner': 1, 'Jihad': 1, 'Malaysia': 1, 'tliroughout': 1, '1990s': 1, 'tiaditional': 1, 'stayed': 1, 'alAnsar': 1, 'Birmingham': 1, 'extremistsAccording': 1, 'AlMuhajirs': 1, 'formdated': 1, '2000listed': 1, '101870': 1, 'skills': 1, 'Spanish': 1, 'travels': 1, 'Egypt': 1, 'marital': 1, 'invoice': 1, 'copies': 1, 'Madina': 1, 'SeealsoopensourcereportingonUKraids': 1, 'subsequentraids': 1, '162001': 1, '151618Z': 1, 'halted': 1, 'concealment': 1, 'method': 1, 'Hambaliwho': 1, 'Malaysiansstated': 1, 'cancelled': 1, 'becauseZainiZakariagotcoldfeet': 1, 'casings': 1, 'wasprovidedwithinalargerbodyoffabricatedreportingKSMprovidedonIssa': 1, 'KSMthen': 1, 'statedthathehadtalkedwith': 1, 'aboutcontactingAfricanAmericanMuslimgroupspriorto': 1, 'failing': 1, 'African': 1, 'Israeh': 1, 'IntelligenceCommunitypriortotheattacksofSeptember112001': 1, 'shortlyafterdieattacksofSeptember112001': 1, '2001theFBIclosedits': 1, 'invesrigation': 1, 'reasons': 1, 'alAdl': 1, 'Western': 1, 'withRichardReidusingashoebombexplosivedeviceinDecember2001': 1, 'SajidBadat': 1, 'handler': 1, 'withdrawing': 1, 'Kingdombased': 1, 'aliases': 1, 'alPakistanl': 1, 'enabling': 1, '50November72001DraftofLegalAppendixHandlingIntenogationSeealsoVolumeI': 1, 'AccordingtoaCIAoperationalupdateinearlyDecember2001aunilateralCIAsourcereported': 1, 'aknown': 1, 'FranceGermanyorBritainwiththeuseofexplosivesconcealedinshoes': 1, 'AccordingtoCIArecordsan': 1, 'notice': 1, 'distnbuted': 1, 'airlines': 1, 'theii': 1, 'reacted': 1, 'swiftly': 1, 'aboard': 1, 'Flight': 1, 'applying': 1, 'launchashoebombattacksimultaneouslywithRichardReidinDecember2001': 1, 'alPakistanias': 1, 'Germany': 1, 'foreignpartnerreportliighlightshowtheanamedforeign': 1, 'Nizar': 1, 'alleged': 1, 'Colvin': 1, 'hijacked': 1, 'district': 1, 'powerfuleconomicsymbols': 1, 'TheinitialplanwasforalQaidaoperativestohijackmultiple': 1, 'airplanes': 1, 'crash': 1, 'airport': 1, 'Bojinka': 1, 'midflightBy': 1, 'enroll': 1, 'Zacaiias': 1, 'ofAppealsAugustTe': 1, 'JAN02': 1, 'Highlights': 1, 'oftheSeptember172001MON': 1, 'sjpecific': 1, 'researching': 1, 'nongovernmental': 1, 'lengthy': 1, 'chronologies': 1, 'Communitys': 1, 'presumed': 1, 'masterminded': 1, 'Kabul': 1, 'familiar': 1, 'capability': 1, 'organize': 1, 'Pentagon': 1, 'percentages': 1, 'pretty': 1, 'Sheikh': 1, 'Handbook': 1, '92001': 1, 'XheCIAcablethen': 1, 'ljust': 1, 'clarify': 1, 'speaking': 1, 'pause': 1, 'Hambah': 1, 'rephewitfdirect': 1, 'contradiction': 1, 'Establish': 1, 'Tenorists': 1, '1026138701': 1, 'fromJCoferBlackDirectorofDCICounterterroristCentertoDirectorofCentralIntelligencevia': 1, 'multiplepartiesOctober252001': 1, 'DraftofLegalAppendixHandlingInterrogations': 1, 'ACIADirectorateofOperationsHandbookfrom': 1, 'rights': 1, 'violations': 1, 'defined': 1, 'cruel': 1, 'inhuman': 1, 'degrading': 1, 'punishment': 1, 'prolonged': 1, 'chargesortrial': 1, '093448': 1, 'Shayk': 1, 'maternal': 1, 'uncle': 1, 'YousefJ': 1, 'supervised': 1, 'touches': 1, 'coiToborative': 1, 'ofinformation': 1, 'databasesPrior': 1, 'grand': 1, 'indictment': 1, 'socalled': 1, 'Mohamed': 1, 'ringleader': 1, 'comply': 1, 'FieldManualIntelligenceInterrogation': 1, 'toPakistaniauthoritieswhotheninterviewed': 1, 'thewell': 1, 'associatewhich': 1, 'prepaiatory': 1, 'Assess': 1, 'Counterproductive': 1, 'Ineffective': 1, 'Issuance': 1, 'Possible': 1, 'Defensefor': 1, 'Using': 1, 'Considered': 1, 'Conducts': 1, 'Effective': 1, 'Contractors': 1, 'Relevant': 1, 'techniquesthe': 1, 'longstanding': 1, 'Yemeni': 1, 'knowand': 1, 'askwhether': 1, 'featured': 1, 'testimonial': 1, 'videos': 1, 'residence': 1, 'raising': 1, 'Accordingtothecableduringoneoftheinterviews': 1, 'reside': 1, 'thePakistaniofficerstoidentifythehome': 1, 'apparent': 1, 'attacksShortly': 1, 'nephew': 1, 'ousef': 1, 'recordsprovidedtotheCommitteeidentifythepseudonymcreatedbytheCIAfortheasset': 1, 'percentagesareprettyhighjhayaalid': 1, 'Sheikl': 1, 'invod': 1, '1U2001attack': 1, 'fromJHHH': 1, 'jDTED': 1, 'Xcame': 1, 'of20011': 1, 'gjiven': 1, 'whatever': 1, 'ASSETX': 1, 'firsieetiiiwitlSSmd': 1, 'desciibing': 1, 'knowledgeUppears': 1, 'check': 1, 'demonstrates': 1, 'accessknowledgejjjjjjjH': 1, 'Delegations': 1, 'Authorities': 1, 'HHIIHIi': 1, 'drafter': 1, '169789': 1, '70158BHR': 1, 'rUL00': 1, 'ALECBBaPR': 1, 'movements': 1, 'visits': 1, 'seived': 1, 'Bakos': 1, 'honestly': 1, 'Kurdish': 1, 'literally': 1, 'sitting': 1, 'rescinded': 1, 'blanket': 1, 'poses': 1, 'requisite': 1, 'personsandinterestsorwhoareplanningterroristactivities': 1, '85526fEB95': 1, '88666HUN': 1, 'subiecthousefcohortsjBatetember': 1, '65817': 1, 'Xidentified': 1, 'TheCIAcablealsodescribes': 1, '66178': 1, '37701': 1, '282144ZSEP01': 1, 'October4': 1, '125246': 1, 'Iwasapparent': 1, 'totheCIAin2001': 1, 'priortoanyCIAdetainee': 1, '35445': 1, '66487': 1, '166530': 1, '66586': 1, 'Access': 1, 'clandestinely': 1, 'ASSCTXidenied': 1, 'aphotograph': 1, 'keenly': 1, '2001SSEroposenultipliineo': 1, 'delegated': 1, 'CoferBlack': 1, 'TheDCIalsodirectedthatallrequestsandapprovalsforcaptureanddetentionbe': 1, 'inwriting': 1, 'REDACTEDHHubiectjAc': 1, '2001at61217AM': 1, 'REDACTEDcc': 1, 'REDACTEDREDACTEDREDACTEDREDACTEDsubjectReASSEdateJovemb': 1, 'at65440AM': 1, 'detailedintheStudyUievalueofASSETXsaccesstoKSNTsBwasparenttotheCIAin2001': 1, 'gicating': 1, '272119ZSEP': 1, 'November72001DraftofLegalAppendixHandlingInterrogationSeealsoVolumeI': 1, 'Emailfrom': 1, 'toREDACTEDsubjectEYESONLYCaptureandDetentiondate': 1, '092924': 1, 'tailored': 1, 'rules': 1, 'procedure': 1, 'adding': 1, 'IHIsemailrecognizedtheCIAslackofexperienceinnmning': 1, 'cleared': 1, 'facilitiesOn': 1, 'September27': 1, 'elShukiijumah': 1, 'attempts': 1, 'alMam': 1, 'travelled': 1, 'OnSeptember282001HCTCLegal': 1, 'decisions': 1, 'spectaculai': 1, 'personnelji': 1, 'captureanddetainauthoritiesintheMON': 1, 'Considering': 1, 'Various': 1, 'Clandestine': 1, 'Locations': 1, 'Option': 1, 'Delegates': 1, 'Blanket': 1, 'Ojficers': 1, 'teiTorist': 1, 'authorize': 1, 'undertake': 1, 'designed': 1, 'Overall': 1, 'History': 1, 'Authorizes': 1, 'assignment': 1, 'highprofile': 1, 'ofKlialid': 1, 'SliaykhMohammad': 1, 'Autliorizes': 1, 'counterassessment': 1, 'aliasMukhtar': 1, 'HjjjjH': 1, '02Iecord': 1, 'relatingto': 1, 'forHlphonember': 1, '080950Z': 1, '092204Z': 1, 'HH221240Z': 1, '191903Z': 1, 'explored': 1, 'clandestine': 1, 'purpose': 1, 'REDACTED1': 1, 'Comprehensive': 1, 'ConceptioiITsateJDecembeH500at': 1, '85036': 1, 'granting': 1, 'unprecedented': 1, 'covertly': 1, 'posing': 1, 'Rendered': 1, 'Immediately': 1, 'Subjected': 1, 'attributable': 1, 'single': 1, 'firstcametotheCIAsattentioninthespringof2001': 1, 'historically': 1, 'Disavows': 1, 'Assures': 1, 'Notified': 1, 'Every': 1, 'Detained': 1, 'signing': 1, 'hearings': 1, 'repeating': 1, 'contemplate': 1, 'terrifying': 1, 'cadre': 1, 'prisons': 1, 'remember': 1, 'nation': 1, 'workforce': 1, 'November262001DraftofLegalAppendixParagraph5HostileIntenogationsLegal': 1, 'forCIAOfficers': 1, 'TheCIAwould': 1, 'laterrepeat': 1, 'bothclaims': 1, 'toseniorofficials': 1, 'savedlivesandthatthisintelligencewasotherwiseunavailable': 1, 'remembering': 1, 'pervasive': 1, 'InresponsetoarequestfromtheDepartmentofJusticesOfficeof': 1, 'ProfessionalResponsibilityOPRtheCIAprovidedtwomemoranda': 1, 'onedatedNovember72001theother': 1, 'slides': 1, 'inaccuracies': 1, 'AlHawsawi': 1, '112001': 1, 'targeted': 1, 'December2001priortoAbuZubaydahscapture': 1, 'RichardReidwas': 1, 'citations': 1, 'Mukhtai': 1, 'Commissioriad': 1, 'pointed': 1, 'drafting': 1, 'Rahims': 1, 'Zadran': 1, 'KSMwasnowbeingcalledMukhtar': 1, 'Yazid': 1, 'articipating': 1, 'chemical': 1, 'biological': 1, 'Moreoverweweresuspiciousthat': 1, 'commission': 1, 'thinks': 1, 'didnt': 1, 'world': 1, 'consumed': 1, 'recall': 1, 'vividly': 1, 'watching': 1, 'horror': 1, 'footage': 1, 'innocent': 1, 'women': 1, 'jumping': 1, 'towers': 1, 'thefire': 1, 'IbeganmyserviceontheSenateIntelligenceCommitteeinJanuary2001': 1, 'Nation': 1, 'purported': 1, 'alQaidarelated': 1, 'wwwstategov': 1, 'PadiUas': 1, 'Mujahideen': 1, 'suspiciously': 1, 'depart': 1, 'Wanted': 1, '102001': 1, 'ofAppealsugusn': 1, 'References': 1, 'sometimes': 1, 'includedtwooperativeswhoweretaskedwithseekingpilottiaining': 1, 'indicted': 1, 'Yousefs': 1, 'themmidflightoverthePacificOcean': 1, 'AbuZubaydahtoldtheinterrogatorsthatMukhtar': 1, 'convicted': 1, 'fluent': 1, 'yeais': 1, 'operationsoutsideofAfghanistan': 1, 'SubsequentrepresentationsonthesuccessoftheCIAs': 1, 'IndeedtheprogramwhichtheCIAbelieveshasbeenakeyreasonwhyalQaidahasfailedtolauncha': 1, 'furthers': 1, 'quantitiesofotherwiseunavailableactionableintelligence': 1, 'subsequentSecond': 1, 'nationalsled': 1, 'Arshadin': 1, 'California': 1, 'planes': 1, 'cockpit': 1, 'Pre11': 1, 'inferencetliattheIaldancamphewasadministeringwastiedtoUsamabinLaden': 1, 'Having': 1, 'consultations': 1, 'deliberation': 1, 'ultimatelyhousedmorethanhalfofthe119CIAdetaineesidentifiedinthisStudy': 1, 'OnNovemberjf2002adetaineewhohadbeenheld': 1, 'increasingly': 1, 'lessdetailed': 1, 'Discuss': 1, 'Shape': 1, 'Being': 1, 'Briefed': 1, 'Caution': 1, 'Classified': 1, 'Provided': 1, 'Media': 1, 'Should': 1, 'Engages': 1, 'Journalists': 1, 'Conveys': 1, 'Account': 1, 'RmSo7iratparag': 1, 'gressional': 1, 'Dinrector': 1, 'transmitting': 1, 'ofNotification': 1, '20022175': 1, '20020371aaragraph4': 1, 'ByMarch2002CIA': 1, 'wrongly': 1, 'uncertainty': 1, 'tliem': 1, 'passed': 1, 'auspiceson3December2002emphasisadded': 1, 'regularly': 1, 'counted': 1, 'amongitsdetaineesanumberofindividualswhowereheldsolelyatDETENTIONSITECOBALTpriorto': 1, '32002': 1, 'mmpacilities': 1, 'Groupthe': 1, 'charge': 1, 'ReportjReviseersion': 1, 'CTCRG': 1, 'manage': 1, 'mission': 1, 'interrogatorTeam': 1, 'charges': 1, 'principals': 1, 'protections': 1, 'Relative': 1, 'Prisoners': 1, '2002approximately': 1, 'alternatives': 1, 'prisoners': 1, 'indications': 1, 'conferring': 1, 'experienced': 1, 'countertenorismand': 1, 'suspectsNor': 1, 'andassociatedlessonslearned': 1, 'fromjHH': 1, 'Wednesday': 1, '010212': 1, 'Chiefs': 1, 'Renders': 1, 'Covert': 1, 'InterAgency': 1, 'Deliberation': 1, 'suffered': 1, 'bullet': 1, 'interpretations': 1, 'engageincertaininterrogationactiviti': 1, 'AnattorneyinCTCsosanemailwiththe': 1, 'TorUire': 1, 'commentary': 1, 'restrictions': 1, 'eventual': 1, 'undertheMON': 1, 'disadvantages': 1, 'USGcontrolled': 1, 'diplomaticpolicydecisionswouldberequired': 1, 'AsaMarch282002CIAdocument': 1, 'render': 1, 'broached': 1, 'countrys': 1, 'input': 1, 'ambassador': 1, '112817': 1, 'HIIIHHHI': 1, 'ilHHIillll': 1, 'Decision': 1, 'GREENnng': 1, 'Armitage': 1, 'SeeDIRECTOR': 1, 'MAR02emailfroin': 1, '70240': 1, '300614Z': 1, '70112': 1, '250929Z': 1, '70459': 1, '080545Z': 1, 'MEMORANDUM': 1, 'Yourmeetwith': 1, '12002coverpagate': 1, '23of499': 1, 'romoted': 1, 'facilityThose': 1, 'replaced': 1, 'supportive': 1, 'site7': 1, 'Cltation': 1, 'Countietaiiupport': 1, 'closing': 1, 'weeksContinued': 1, 'lobbying': 1, 'reverse': 1, 'thenumberofCountry': 1, 'officerswhotothebestofStationsknowledgehadknowledge': 1, 'individualsjef': 1, 'andconcludeddjoubtlessmanyothers': 1, 'ByAprilB2002': 1, 'prompting': 1, 'explaintothemediaorganizationthesecurityimplicationsofrevealingtheinformation': 1, 'inquiries': 1, 'bilateral': 1, 'diminishing': 1, 'chances': 1, 'Zubaydahlike': 1, 'renderees': 1, 'Cheney': 1, 'urged': 1, 'newsper': 1, 'publish': 1, 'reveal': 1, '69626': 1, 'Harlow': 1, 'PubUc': 1, 'Buzzy': 1, 'Krongard': 1, '2002120633': 1, 'breathing': 1, 'hospitals': 1, 'consult': 1, 'interrogationplansonApril122002': 1, 'Powerpoint': 1, 'Grayson': 1, 'wouljeaouttoSWIGERT': 1, 'ofApril': 1, 'ofCTCOPnd': 1, 'acable': 1, '1630Hours': 1, 'thAbiubaydperation': 1, 'Focuses': 1, 'Important': 1, 'Temporarily': 1, 'Barredfrom': 1, 'Placed': 1, 'Isolationfor': 1, 'politely': 1, 'valuable': 1, 'passing': 1, 'attempt': 1, 'solicit': 1, 'scripted': 1, 'premove': 1, 'mnning': 1, 'changcd': 1, 'disappointed': 1, 'Zubaydahdidnotsignaltodiscusstheonethinghewashiding': 1, 'AnApril162002cablestatestheobjectiveistoensurethatAbuZubaydahisat': 1, 'vulnerable': 1, 'shifted': 1, 'originally': 1, 'OnApril172002anFBIofficermetwithAbuZubaydahforsix': 1, 'interviewing': 1, 'April112002butthatAbuZubaydahgreetedtheagentbyname': 1, 'thioughout': 1, 'pending': 1, 'uraniumbased': 1, 'Sleep': 1, 'disseminated39intelligencereportsbasedonhisinterrogations': 1, 'AttheendofApril2002the': 1, 'strategies': 1, 'endgameofAbuZubaydahjjjjHIHwithofficersfromCIAHeadquarters': 1, 'Asaresultfrom': 1, 'SeeinformationinthissummaryandVolumeIIforadditionaldetailsontheCIAsrepresentationsonthe': 1, 'CWnhancedhrrogationtech': 1, 'makers': 1, 'Depaitment': 1, '011850PM': 1, 'bring': 1, 'raidsthere': 1, 'enough': 1, 'infoiTnation': 1, 'multipleccs': 1, 'publiclyas': 1, 'settingsthat': 1, 'stopped': 1, 'techniquesCIA': 1, 'Pressures': 1, '041515': 1, 'Clbeginningin': 1, 'participated': 1, 'oneweek': 1, 'oraftertheinterrogationofAbuZubaydah': 1, 'AftertheJuly2002meetingstheCIAsCTCLegal': 1, 'declination': 1, 'HIHCTC': 1, 'Chertoff': 1, 'Criminal': 1, 'overview': 1, 'definitive': 1, 'lawfulness': 1, 'includingDeputy': 1, 'prohibit': 1, 'inflict': 1, 'severe': 1, 'mentalpainorsufferingJ': 1, 'OnJuly132002YoosentanunclassifiedlettertotheCIAsacting': 1, 'interpretation': 1, 'Condoleezza': 1, 'delay': 1, 'interrupt': 1, 'decisionmaking': 1, 'Zubaydahwouldbediscontinued': 1, 'TheCIAofficersatthedetentionsiteadded': 1, 'develops': 1, 'catastrophic': 1, 'proper': 1, 'DIRECTORlim': 1, '031357ZAUG02': 1, '132002LetterfromJohnYooDeputy': 1, 'AssistantAttorneyGeneraltoJohnRizzoActingGeneralCounsel': 1, 'Chiefof': 1, 'Staffre': 1, 'NSCWeeklyMeeting': 1, '172002': 1, 'Memorandim': 1, 'Memorandi': 1, 'Defenses': 1, 'Recovery': 1, 'administers': 1, 'gather': 1, 'exercisesAccording': 1, 'commented': 1, 'gleaned': 1, 'harsh': 1, 'prisoner': 1, 'anything': 1, 'doctrine': 1, 'towards': 1, 'indirect': 1, 'rounds': 1, 'Rices': 1, 'teamparticularly': 1, 'ALEC182321ZJ02': 1, 'ACTED': 1, 'July242002faxfromJHHtoJohi': 1, 'anREDACTEDrovidinginformationfromthe': 1, 'OTSOAThologistsTemailomrBljl': 1, 'omrjH': 1, 'InNovember2002': 1, 'InterrogationsHBHBldthefirstCInterrogator': 1, '110568': 1, '251609Z': 1, 'WOFORN': 1, 'useofthewaterboardJ': 1, 'TheOLCfinalizeditsclassifiedwrittenlegalopiniononAugust1': 1, 'Policy': 1, 'Briefthe': 1, 'subjectEYESONLYWherewestandreAbuZubaydahdateJuly262002Seealso': 1, '10568': 1, '261101ZJUL': 1, '075649': 1, 'balancing': 1, 'object': 1, 'louring': 1, 'Therefore': 1, 'eliminate': 1, 'waterboardCIA': 1, 'atterbut': 1, 'Colin': 1, 'Powell': 1, 'Donald': 1, 'datejAueust2j2002': 1, 'Waterboardand': 1, 'interrogationtechniquesincludingthewaterboardagainstAbuZubaydah': 1, 'AbuZubaydahtoitsenhancedinteiTogationtechniquesonanear24hourperdaybasis': 1, 'intheNext': 1, 'PhaseoftheAbuZubaah': 1, 'toemail': 1, 'REDACTEDI': 1, 'slapping': 1, 'deprivationcontinued': 1, 'varying': 1, 'combinations': 1, 'straight': 1, 'cloth': 1, 'lockedinoneoftwoconfinementboxes': 1, 'Overthecourseoftheentire20dayaggressivephaseofinterrogationAbuZubaydah': 1, 'coffin': 1, 'width': 1, 'inches': 1, 'depth': 1, 'height': 1, 'daily': 1, 'cried': 1, 'begged': 1, 'pleaded': 1, 'whimpered': 1, 'preliminary': 1, 'highly': 1, 'Emphasis': 1, 'TheCIAcontinuedtouseitsenhancedinterrogationtechniquesagainst': 1, 'videoconference': 1, 'Headquaiters': 1, 'occuned': 1, 'inteirogation': 1, 'graphic': 1, 'disturbing': 1, 'viewers': 1, 'OnAugust': 1, '2002ateamfromCIAHeadquartersincludingCTCLegal': 1, 'observed': 1, 'August52002': 1, 'wanttocautionmedicalofficerthatthisisalmostcertainlynota': 1, 'careerIt': 1, 'visually': 1, 'psychologically': 1, 'uncomfortable': 1, '11111': 1, 'Furthermore': 1, 'quantity': 1, 'largely': 1, 'unchanged': 1, '2002useoftheCIAsenhancedinterrogationtechniques': 1, 'NonethelessCIAHeadquarters': 1, 'againstAbuZubaydahwereeffectiveandwereproducingmeaningfulresultsA': 1, 'cablefrom': 1, '104416': 1, '2SeeAbuZubaydahdetaineereviewinVolumeIIIfordetailsonAbuZubaydahsintelligenceproductionAs': 1, 'andunabletospeaktheinterrogationsofAbuZubaydahproduced95intelligencereports': 1, 'AbuZubaydahspent': 1, 'reinstituted': 1, 'techniquesincludingthewaterboard': 1, 'DuringthemonthsofAugustiuidSeptember2002AbuZubaydahproduced': 1, '052227ZSEP': 1, 'AtnotimeduringoraftertheuseoftheCIAsenhancedinterrogationtechniques': 1, 'Zubaydiilis': 1, 'BriefProvides': 1, 'withliolding': 1, 'ALECif181439ZOCT02': 1, '181439Z': 1, '231206Z': 1, 'jHclSof': 1, '62002': 1, 'Places': 1, 'Inexperienced': 1, 'FirstTour': 1, 'Charge': 1, 'detentionfaciHtym': 1, 'HStation': 1, '200000': 1, 'construction': 1, 'constructed': 1, 'windows': 1, 'blacked': 1, 'darkness': 1, 'twenty': 1, 'cells': 1, 'across': 1, 'thecell': 1, 'Laterreportsdescribedetaineesbeingshackledtothebaiwiththeirhandsabove': 1, 'heads': 1, 'forcing': 1, 'stand': 1, 'Mtiller': 1, 'Graliam': 1, 'offive': 1, 'ofCountry': 1, '11443': 1, 'owned': 1, 'operationalinSeptember2002': 1, 'AlNajjaralongwithHassanMuhammadAbuBakrana': 1, 'mPakistanl': 1, 'AlNajjar': 1, 'bodyguard': 1, 'ALECHQS': 1, 'priority': 1, 'detaineeRidhaAhmedalNajjarinCountry': 1, 'controlled': 1, 'overseen': 1, 'utilizing': 1, 'Najjars': 1, 'wellbeing': 1, 'threaten': 1, 'vague': 1, 'virus': 1, 'cooperated': 1, 'manipulating': 1, 'alNajjars': 1, 'restraints': 1, 'roundtheclock': 1, 'interrogations2': 1, 'havecurrentthreatorleadinformationdemandsthatwekeepupthepressureonhim': 1, 'putting': 1, 'disorientation': 1, 'sense': 1, 'deprivationlimitedlightcoldtemperaturesandsleepdeprivation': 1, 'TheCIAofficersadded': 1, 'reasonable': 1, 'breaking': 1, 'locator': 1, 'Referenced': 1, '10086': 1, '201900Z': 1, 'AtthistimeJuly262002AbuZubaydahwasinisolationatDETENTIONSITEGREEN': 1, 'AbuZubaydahwas': 1, 'enhancenteiTogat': 1, 'nutritionally': 1, 'sustenance': 1, 'hooding': 1, 'verge': 1, 'breakdown': 1, 'resultoftheisolation': 1, 'ThecableaddedthatalNajjarwaswillingtodowhatevertheCIA': 1, 'thorough': 1, 'detentioiacilityioting': 1, 'contend': 1, 'reconmiended': 1, 'ZUBAYDAH': 1, 'DAILY': 1, '262002': 1, 'TheOLCopinionthatreviewedandapprovedtheuseofCIAs': 1, 'tecliniques': 1, 'akaDETENTIONSITECOBATX': 1, 'akaDETENTIONSITECOBAL22i': 1, 'risks': 1, 'beinginvolvedinanyaspectoftheinterrogationofalNajjar': 1, 'AccordingtotheCIA': 1, 'handling': 1, 'Learn': 1, 'Unreported': 1, 'DETENTIONSITE': 1, 'Reveals': 1, 'Oversight': 1, 'interrogationtechni': 1, 'assistedflHllB': 1, 'psychologicalassessmentofRahmanbecompleted': 1, 'PriortoDUNBARsdeparturefromthe': 1, 'suggestions': 1, 'manager': 1, 'ordered': 1, 'hypothermiain': 1, 'Meinorum': 1, 'ofdHPersonnel': 1, 'Aording': 1, 'senioroperationsofficer': 1, 'obstinate': 1, 'thatwasusedbeforeCOBALTwasopened': 1, 'maintenance': 1, 'DespitethischangemanyofthesameindividualswithintheCIA': 1, 'Rahmanremained': 1, 'reprimand': 1, 'Specifically': 1, 'unreported': 1, 'temperatures': 1, 'showers': 1, 'rough': 1, 'takedowns': 1, 'executions': 1, 'NovembeM8002tafmin': 1, 'ofInspector': 1, 'OeneralcontactedmiCTC': 1, 'countiy': 1, 'conversation': 1, 'crimes': 1, 'event': 1, 'Rahmanhis': 1, 'experiencedofficerinvolved': 1, 'preparing': 1, '2002during': 1, 'interrogatejsing': 1, 'techniquesatDETENTTON': 1, 'assistance': 1, 'processThe': 1, 'evaluated': 1, 'finger': 1, 'forced': 1, 'Disapprove': 1, 'unless': 1, 'ourselves': 1, 'vetted': 1, 'Interrogatiornxploitation': 1, 'Nopilounning': 1, 'Formation': 1, 'HHiiHif': 1, 'trainineatector': 1, 'CounterterroristCenter': 1, 'Trainers': 1, 'REFERENCE': 1, 'CRGCTCltM2': 1, 'HHHHypCTCLGL': 1, 'ONLYdate': 1, 'NovemberB2002at031301': 1, 'Rahmaiikelro': 1, 'hovever': 1, 'describingtheguardsobservingGulRahmanaliveinthemorningofNovember2002': 1, 'WOWed': 1, 'ofDeprivation': 1, 'iectEYES': 1, 'Novemberft': 1, 'delegation': 1, 'remarked': 1, 'noticeable': 1, 'improvement': 1, 'performed': 1, 'safer': 1, 'inspection': 1, 'staffDuring': 1, 'absolutely': 1, 'inside': 1, 'interact': 1, 'withtheprisonersandthateverythingisdoneinsilenceandinthedark': 1, 'facilitys': 1, 'baseline': 1, '30589': 1, '271626Z': 1, 'Asnoted': 1, 'assumed': 1, 'responsibility': 1, 'managementandmaintenanceofallCIAdetentionandinterrogationfacilities': 1, 'Priortothat': 1, 'timehnterrogation': 1, 'activitiesEven': 1, 'designation': 1, 'Group321': 1, 'tensions': 1, 'supported': 1, '302126ZJAN03DIRECTOR': 1, '311702ZJAN03': 1, '333alecM': 1, 'reportini': 1, '11357': 1, '021242ZDECB36710': 1, 'closed': 1, 'T8HmiNF': 1, 'typically': 1, 'ending': 1, 'atCIAHeadquai': 1, 'disagreed': 1, 'commenting': 1, 'sweeping': 1, 'alNashiris': 1, 'complianceOfficers': 1, 'reinstate': 1, 'consensus': 1, '70866': 1, '29768': 1, 'HNOV02': 1, 'mll24kNOV': 1, '11243': 1, '112581': 1, '112841': 1, '111322': 1, '1113221': 1, '11263': 1, 'NOV02MTi270HNOV02': 1, '11294HIMnOV3': 1, '02iJ352Hd02HH': 1, '11359': 1, 'NOV02Bi': 1, '11344HPI': 1, 'resuming': 1, 'RDGtheentimhat': 1, 'managed': 1, 'Programobjected': 1, '2tothedntion': 1, 'HHC1A0FFICER': 1, 'confident': 1, 'temper': 1, 'securityjssues7BB': 1, 'holidays': 1, 'anived': 1, '102671': 1, 'markedly': 1, 'trembles': 1, '10038': 1, '122119Z': 1, 'risking': 1, 'initiative': 1, 'countriestheambassadorinCountry': 1, 'wastoldbytheCIAnottospeakwithanyotherState': 1, 'arrangement': 1, 'thIVIlirthecommendedagain': 1, 'heeded': 1, 'creamultipleongoingdifficultiesbetweenCountry': 1, 'andtheCIA': 1, 'RamzibinalShibhprovidedthe': 1, 'ofthis': 1, 'midOctober': 1, 'alShiblicipated': 1, 'alJazeera': 1, 'azids': 1, 'alsobeenusedagainstfiveadditionaldetaineesatDETENTIONSITECOBALTin2002whichwouldbringthe': 1, 'numberofCIAdetaineessubiecteHh': 1, 'intenogationtechniquesto44': 1, 'alHami': 1, 'ofsleeepnvationbetweenh': 1, 'atDETENTION': 1, 'COBALTandhis': 1, 'Seegmmm28297HHHilHii': 1, 'alBihani': 1, 'ofsleepdeprivationbetw': 1, '28462': 1, 'CIAcablesfromOctober2002noted': 1, 'thatShaukat': 1, 'wastiredfrom': 1, 'hisregimen': 1, 'sleepdeprivation': 1, '29381': 1, 'LuftialArabialGharisiunderwentatleasttwo48hoursessionsofsleejgivationinOctober2002': 1, '29036': 1, '29352': 1, 'subjectedtoforcedstandii': 1, 'IIIII': 1, 'Nashiri': 1, 'Asadallah': 1, 'DuhmanakaAbuHudhaifa': 1, 'AbdalKarimAbuHazimSayyidIbrahimAbuYasir': 1, 'alJazairiandSuleimanAbdullah': 1, 'IneverycaseexceptalNashiritheunauthorized': 1, 'alRaliira': 1, 'alNasliiri': 1, 'unapproved': 1, 'twoandahalf': 1, 'SeemU0415': 1, '10429': 1, '101215Z': 1, '10573': 1, '241143Z': 1, '10582': 1, '242026Z': 1, '011537Z': 1, '10704': 1, '071239Z': 1, 'Sixteen': 1, 'TrainingReport': 1, 'Psychological': 1, 'Behavioral': 1, 'injury': 1, 'exacerbated': 1, 'bones': 1, 'OnAugust152002medicalpersonneldescribedhowAbuZubaydahs': 1, 'steady': 1, 'surgical': 1, 'nominal': 1, 'payment': 1, 'Saeed': 1, 'Awadh': 1, 'Attorn': 1, 'HB182321Z': 1, 'driven': 1, 'needs': 1, 'humanitarian': 1, '5eeHHH10591252002ZFEB03mp10627281949Z': 1, 'FEB03': 1, 'CIAGeneralCounselMullerthereforesoughttoverifywithWhiteHouseand': 1, 'treat': 1, 'humanely': 1, '3183161626ZSEP': 1, '3190181558ZSEP': 1, '201731ZSEP04': 1, '120625Z': 1, '230552Z': 1, '231839ZSEP04': 1, '3184161628ZSEP04': 1, '201731ZSEP': 1, '211819ZSEP': 1, '161621ZSEP04': 1, '13259261734ZSEP04': 1, 'Atthistimesleepdeprivationbeyond72hourswasconsideredan': 1, 'theCustodyoftheCIA': 1, 'tmsted': 1, 'bodyguaf': 1, 'Jaluluddin': 1, 'capUired': 1, 'oiunH': 1, '2002CIArccords': 1, 'Calls': 1, 'Imbalanced': 1, 'Responds': 1, 'Seeks': 1, 'Limit': 1, 'AmongothermatterstheOIGSpecialReviewdescribeddivergences': 1, 'unauthorized': 1, 'standardsGoldsmith': 1, 'divergences': 1, 'Generals': 1, 'ofDefense': 1, 'Contracting': 1, 'Expenses': 1, 'Related': 1, 'Formed': 1, 'SWIGERTand': 1, 'formed': 1, 'granted': 1, 'AsdescribedinthisStudytheDepartmentofJusticefirstapproved': 1, 'IMlII': 1, 'campaign': 1, 'terrorismstates': 1, 'unwilling': 1, 'saving': 1, 'thousands': 1, 'researched': 1, 'determining': 1, 'selfdefense': 1, 'justify': 1, 'tortureThe': 1, 'maintained': 1, 'allegation': 1, 'violation': 1, 'FurtheronAugust12002OLCissuedan': 1, 'QuestioningdateFebruary12002': 1, 'Inaninternalemailmessagedated': 1, 'refened': 1, 'papers': 1, 'reflecting': 1, '23402340A': 1, 'Statute': 1, 'AccordingtoBybeetheOLCattorneys': 1, 'apprehension': 1, 'TheOLCwrotethatbecausethe': 1, 'Presidents': 1, 'CommanderinChief': 1, 'power': 1, 'liability': 1, 'remainsunnecessary': 1, 'eliminated': 1, 'follows': 1, 'severalprevious': 1, 'SeemultipleopensourcereportingandDepartmentofJustice': 1, 'Indictment': 1, 'Massachusetts': 1, 'AbuZubaydahprovidedinformationonpotentialplacesalQaidamighttargetincludingbanks': 1, 'subways': 1, 'Thedraftalsoidentifiedanumberofunauthorizedinterrogation': 1, 'conckided': 1, 'articulated': 1, 'ZubaydahsAugust200eportiniussingthesamemeetingaftertheuseofthetechniques': 1, 'SeeCIA': 1, 'I01514Z': 1, 'Thecitedcabledescribes': 1, 'AbuZubaydahsApril2002reporting': 1, 'priortotheuse': 1, 'oftheCIAsenhancenteiToe': 1, 'techniquesidentifyingKSMasMukhtarandthemastermindofthe911': 1, 'Shibh': 1, 'SeeDISerialFlierCTC200230086CHCIAanalyticreport': 1, 'Recent': 1, 'Advances': 1, 'Understanding': 1, 'mondis': 1, 'reached': 1, 'refused': 1, 'SeealsoOfficeofLegalCounselMemorandumfor': 1, 'refuses': 1, 'divulge': 1, 'ofkeeping': 1, 'Zubaydaloffbalance': 1, 'attenonal': 1, 'jjjjjjjjjjj': 1, '200247': 1, 'Inten': 1, 'ogation': 1, 'AddendumfromDETENTIONSITEGREENdateJuly232002at075649PM': 1, 'Vohniie': 1, 'intoCIA': 1, 'resultedin95intelligencereports': 1, 'ThethreeitemsidentifiedbytheCIAwereallacquiredinAprilandMayof2002byFBI': 1, 'AbuZubaydahwasplacedinisolationfromJune182002toAugust42002withoutbeingasked': 1, 'anyquestions': 1, 'After47daysinisolationtheCIAreinstitutedcontactwidiAbuZubaydahatapproximately1150': 1, 'fourfewer': 1, 'thefirst': 1, 'twomonths': 1, 'ofhisCIAdetention': 1, 'OntheeveningofApril202002priortothe': 1, 'agenda': 1, 'includeJBackgroun': 1, 'Captures': 1, 'Rizzooohn': 1, 'NSCLegalAdviser30August2002dateSeptember32002ALECm052227ZSEP02': 1, 'locating': 1, 'satirical': 1, 'Hbomb': 1, 'ataPakistanisafehouseinearly2002': 1, 'Thearticleinstructedwouldbebombmakersto': 1, 'enrich': 1, 'uranium': 1, 'bucket': 1, 'attaching': 1, 'swinging': 1, 'minutesPadilla': 1, 'StatesNeither': 1, 'norKSM': 1, 'theplanwasviable': 1, 'butKSMprovided': 1, 'natural': 1, 'explosions': 1, 'CTCOTACBRNB': 1, 'Briefers': 1, 'Updating': 1, 'Uranium': 1, 'Device': 1, '232002': 1, '082540': 1, 'Thedocumentstates': 1, 'JosePadillaisaUnitedStatescitizenwhohasbeendesignatedasanenemy': 1, 'combatantbythePresidentandhasbeendetainedbythemilitarysinceJune92002': 1, 'toand': 1, 'independently': 1, 'implementedduring': 1, 'differedfrom': 1, 'developed': 1, 'August2002': 1, 'finalized': 1, 'techniquesonAugust12002': 1, 'BeginningonAugust42002': 1, 'extending': 1, 'subjectedto': 1, 'concurrent': 1, 'clothing': 1, 'thenAttorney': 1, 'announced': 1, 'explode': 1, 'radiological': 1, 'dispersion': 1, 'Attomey': 1, 'Transfer': 1, 'Muhajir': 1, 'Combatant': 1, 'binder': 1, 'exploitation': 1, 'translation': 1, 'midMarch': 1, '33yeaiold': 1, 'briefly': 1, 'identifyinosMilla': 1, 'Departments': 1, 'Regional': 1, 'Eight': 1, 'uraniumbasedexplosivedeviceintheUnitedStatesthedirtybomb': 1, 'WithinafewhoursAbuZubaydahagain': 1, 'iniiM': 1, 'IIiiI': 1, 'dissemination': 1, 'officeilllljBHIIIII': 1, 'select': 1, 'unknowingly': 1, 'escorted': 1, 'carrying': 1, '10526': 1, 'currency': 1, 'anamounthefailedtoreport': 1, 'PadillawasinterviewedandtakenintoFBIcustodyona': 1, 'started': 1, '2002ncludinivaterboard': 1, 'Aiiong': 1, 'Duector': 1, 'Anest': 1, 'Inrcsponse': 1, 'Force': 1, 'IIIIIIIICTC': 1, '20022598': 1, 'Jun2002': 1, 'informs': 1, 'confiscated': 1, 'Summarizing': 1, 'JosePadillaof8June02CIASummaryaDIAInfoMemofromm': 1, '111303andanFBILHMJose': 1, 'DebriefStatus': 1, 'Jul0002at011850PM': 1, 'PadillapriortoreportingfromAbuZubaydah': 1, 'warrant': 1, 'tiansferred': 1, 'enemy': 1, 'beingdetained': 1, 'MohammadwasrenderedbytheCIaMBIJulyB': 1, '2002wherehewasheldbythe': 1, 'Lawyers': 1, 'compel': 1, 'unilateral': 1, 'earlyasSeptember112002': 1, 'Onthatdaya': 1, 'raidconductedb': 1, 'authontiesm': 1, 'perfumes': 1, 'killed': 1, 'ByearlyOctober2002theCIAhadcompletedasearchofthenames': 1, 'Italicsadded': 1, 'protect': 1, 'belonged': 1, 'deceased': 1, 'residing': 1, 'Tlireads': 1, 'Plotters': 1, 'MosSepteml': 1, 'Plottertilnder': 1, 'T8HTheCIApersonnel': 1, 'December20027lmilAH': 1, 'protectUSConsulatepersonnelbasedonsimilarterroristthreatreporting': 1, '14510': 1, 'jBConsulate': 1, 'thieat': 1, 'AsdescribedHamzaalZubayrwaskilledinaSeptember2002raidagainstalQaida': 1, 'safehouses': 1, 'ThecellleaderwasarrestedinFebmaryof': 1, '2002andaswebeginatthatpointtheothermembersofthecellbelievedthattheWestCoastplothadbeen': 1, 'cancelledandwasnotgoingforwardtheleadguyisanestedwhichdisruptsitinFebruaryof02': 1, 'flyitintothetallestbuildingontheWestCoast': 1, 'Planner': 1, 'AttacksCapturedinPakistanafterGunfight09142002': 1, 'SomeinvestigatorshavetheorizedthatMoussaoui': 1, 'laptop': 1, 'dusting': 1, 'backup': 1, '09062002': 1, 'French': 1, 'tobethe': 1, 'tobepart': 1, 'Skeptical': 1, '10012002': 1, 'eachprogressively': 1, 'bigger': 1, 'devastating': 1, 'thelast': 1, 'saidMonday': 1, 'Abderraouf': 1, 'commit': 1, 'attacksIntelligence': 1, 'operationsHis': 1, 'ThisplotwasdisruptedwiththearrestofMasranbinArshadinJanuary2002': 1, 'Zaini': 1, 'follow': 1, 'taskingZakaria': 1, 'turned': 1, 'AsnotedinthetextZakariaturnedhimselfinto': 1, '182002': 1, 'beginatthatpointtheothermembersofthecellbelievedthattheWestCoastplothadbeencancelledand': 1, 'notgoingforwardtheleadguyisarrestedwhichdisruptsitinFebruaryof': 1, 'buildingon': 1, 'Malaysians': 1, '15359': 1, 'imimiii': 1, 'Arshads': 1, 'fourperson': 1, 'theWestCoastoftheUnitedStatesaswellasJuly2002reportingonMalaysiannationalZaini': 1, 'online': 1, 'otlier': 1, 'store': 1, 'custodyatGuantanamoBayCubain2002': 1, 'Islamabad': 1, 'camps': 1, 'variant': 1, 'increasing': 1, 'referred': 1, 'KingdomThis': 1, 'authoes': 1, '2002and': 1, 'Lazylozy': 1, 'knees': 1, 'Internet': 1, 'search': 1, 'Madinah': 1, 'Kaslunir': 1, 'advertised': 1, 'Recommended': 1, 'Products': 1, 'Ansar': 1, 'wwwmaktabahnetbooksimageskashmirjpg': 1, 'converted': 1, 'Islam': 1, 'recalls': 1, 'fighting': 1, 'Indian': 1, 'forces': 1, '14083': 1, '1490im': 1, 'illll': 1, 'See2002reportingdetailedintlieVolumeIIintelligencecluonology': 1, 'umelated': 1, 'AlPakistani': 1, '280438Z': 1, 'SECRETM': 1, 'BeggJ': 1, 'shown': 1, 'sketch': 1, 'AcablefromtheCIAs': 1, 'knowingly': 1, 'astray': 1, '280438Z280746Z': 1, '775992002': 1, 'Ujaamaprovided': 1, 'alHindis': 1, 'procure': 1, 'machine': 1, 'loosen': 1, 'bolts': 1, 'suspension': 1, 'bridges': 1, 'Maqsood': 1, 'Miami': 1, 'Florida': 1, '142334Z': 1, 'includmg': 1, 'IndxcXmni': 1, 'ofMassachusetts': 1, 'Anril': 1, 'SeeamongotherCIArecordsCIAHeadquartersdocumententitledOPERATIONAL': 1, 'reliable': 1, 'sourcewho': 1, 'occurredreported': 1, 'AsearlyasJune2002CIArecordsindicatethatan': 1, 'I72I32Z': 1, '172132Z': 1, 'DIRECTORIH': 1, 'I72132ZOCT02': 1, 'Yusif': 1, 'unwitting': 1, 'holders': 1, 'Airpoit': 1, 'detainedonApril292003': 1, 'TherearenoCIArecordstoindicatethatanyofthe': 1, 'techniquesidentifiedAbuYusefandAbuAdilaspotentialUKbasedHeatlirowoperatives': 1, 'numberonetargetinSoutheastAsia': 1, 'WhentheOctober122002terroristattacks': 1, 'tenorists': 1, '241921Z': 1, 'Zubairs': 1, 'SoutheastAsia': 1, '262150Z': 1, 'VolumellJiudingALEB': 1, '241921ZMAR': 1, '22150Z': 1, '041957Z': 1, 'reimbursed': 1, 'terrorismrelated': 1, 'expenditures': 1, 'willingness': 1, 'moneyWhen': 1, 'terroristsOpen': 1, 'flowing': 1, 'Through': 1, 'DIRECTORB251938Z': 1, '1H65903': 1, '65903': 1, 'aUG0265902BHiAUG02': 1, 'November26': 1, 'Arrested': 1, 'BythistimetheCIAhadsignificantinformationpriortoKSMs': 1, 'captureindicating': 1, 'cenalsupportin': 1, 'bombingsJ': 1, 'techniquesOn': 1, 'techniquesMajid': 1, '170117Z': 1, 'Bombing': 1, 'Thailands': 1, 'Denial': 1, 'Tliieat': 1, 'Convince': 1, 'PreBali': 1, 'Alert': 1, 'Herald': 1, 'Australia': 1, 'Tlueat': 1, 'Agence': 1, 'Presse': 1, 'Suspect': 1, 'Netvork': 1, 'inThailand': 1, 'SeeDIRECTORjjjH271937ZMAY02': 1, 'defend': 1, 'Jemaali': 1, 'Islamiyahseniorleaders': 1, 'i11691141712ZJUL02ForotlierintelligenceidentifyinZuteirasone': 1, 'ofbeiiconnected': 1, 'bombh': 1, '5eeJHBB95612': 1, '290615Z': 1, '202057Z': 1, 'Obseiyer': 1, '272002': 1, 'TimeMagazine': 1, 'Anested': 1, 'confronted': 1, '50000toconductaterroristattackinapproximatelyNovember2002': 1, 'Thistestimonycontradictedstatements': 1, 'theJoint': 1, 'Zubaydahovideproof': 1, 'asenior': 1, 'terroristplanner': 1, 'SeeinterviewbytheJointInquiryof': 1, 'Officeof': 1, 'InspectorGeneral': 1, 'Reporton': 1, 'biihiblaaptured': 1, 'unexpectedlyon': 1, 'conceiTiing': 1, 'contacv': 1, 'theprimary': 1, 'housewhich': 1, 'PENTTBOM': 1, 'photobook': 1, 'numbered': 1, 'attendtorsonal': 1, 'isolationAbu': 1, 'ofJuly': 1, 'solitary': 1, 'detentiorithoue': 1, '271905Z': 1, 'inability': 1, 'enter': 1, 'highlevel': 1, 'HamzaRabiaandAbuMusabalZarqawi': 1, 'AbuZubaydahalsocorroboratedintelligencein': 1, 'fundraising': 1, 'effortsDuring': 1, 'facilitating': 1, 'movement': 1, 'fighters': 1, 'AsnotedonJune182002AbuZubaydahwasplacedinisolationandwasnot': 1, 'continuin': 1, 'IfllllljUHIIH': 1, 'residences': 1, 'alQaidaDuring': 1, 'capaire': 1, 'authoritiesraided': 1, 'sinceJune32002butthathebelievedtheywerestillinKarachi': 1, 'keying': 1, 'closer': 1, 'bagging': 1, 'wellownassociateofHassanGhul': 1, 'TheCIAofficerswrotethatthelocationis': 1, 'resided': 1, 'empty': 1, 'mHHHHtheweknown': 1, 'enhancedintenogationtechniquesincludingthewaterboard': 1, 'Ashehadbeforetheuseofthe': 1, '2002while': 1, 'techniquesAbu': 1, 'I292345Z': 1, '12148': 1, '300601Z': 1, '12151': 1, '301107Z': 1, '12207': 1, '050524Z': 1, 'unclear': 1, 'authontieslearned': 1, 'reinterview': 1, 'associateforadditionalintelligenceonHassanGhul': 1, 'ThenextdayAugust302002': 1, 'wellknownassociate': 1, 'Ghurs': 1, 'AugustTl72002BHJ': 1, 'reinterviewed': 1, 'himselfApproximately': 1, 'authontiesreturi': 1, 'HHaspecific': 1, 'teclinical': 1, 'associatesHelephone': 1, 'regular': 1, 'wellknownassociatefteMhnit': 1, 'complex': 1, 'waited': 1, 'OnSeptember102002Pakistaniauthoritiesarrestedtwoindividualsbelievedtobe': 1, 'plexA': 1, 'bargained': 1, 'HassanGhul': 1, 'AbuBadrsdriverMuhammadMadniwasimmediatelycooperativeandtold': 1, 'arresting': 1, '12254': 1, '33363': 1, '111226ZSEP02': 1, 'SEP02CIA': 1, '111551Z': 1, 'CIAofficers': 1, 'dispatched': 1, 'IASSETJas': 1, 'asource': 1, 'offer': 1, 'recontacting': 1, 'asset': 1, 'REDACTE': 1, 'Sheikli': 1, '064913': 1, 'resent': 1, 'REDACTEDUDACTED': 1, 'KhalidSheiJchMuhammaddateHH2002at34613PM': 1, 'M2002': 1, 'at41424PM': 1, 'preparations': 1, 'CWsrelationshipwithAS': 1, 'assetsrclationshipwith': 1, 'handled': 1, 'Iofficevhiad': 1, 'termination': 1, 'inHOOBSSET': 1, 'onhis': 1, 'volition': 1, 'afacetoface': 1, 'SpecificallypriortoKSMsreportingtheIntelligence': 1, 'familys': 1, 'international': 1, 'Piracha': 1, 'Therequestincludedthreephone': 1, 'Parachas': 1, 'Karachibased': 1, 'Yorkbased': 1, 'contactSaifullah': 1, 'Parachaas': 1, 'raidJo': 1, 'Treasury': 1, 'financing': 1, '0260096': 1, 'America': 1, 'Imran': 1, 'Mandhai': 1, 'Shueyb': 1, 'Mossa': 1, 'Jokhan': 1, 'filed': 1, 'toOFORN': 1, 'techniques3': 1, 'distmsted': 1, 'alTayyarstating': 1, 'inserted': 1, 'practically': 1, 'story': 1, '4otherCIAdetaineereportingdifferedfromKSMsreportinginsignificant': 1, 'alTayyars': 1, 'Padillain': 1, 'FBIwho': 1, 'Tayyars': 1, 'characterization': 1, 'clarifications': 1, 'Shukrijumah': 1, 'safehouse': 1, 'inMarch2002': 1, 'OtherreportingindicatedalTayyarspresenceinPakistanin2002and2003': 1, 'techniquesand': 1, 'agentsCIA': 1, 'AbuZubaydahstatedthathe': 1, 'Birmal': 1, 'alTayerwasatthattimeseekingtotraveltoPakistan': 1, 'AbuZubaydahdidnotprovidesignificantadditionalinformationonAbuJaffaral': 1, 'Pilot': 1, 'September112002raidsinPakistanseeALEC': 1, '41351': 1, 'SALEH': 1, 'MKALMARRI': 1, 'alMani': 1, 'ItalsoindicatedthatalMarriscomputerrevealedbookmarkstowebsitesassociatedwithreligious': 1, 'extremism': 1, 'hacking': 1, 'AlMarri': 1, 'Telephonic': 1, 'Activity': 1, 'criticalor': 1, 'valuableon': 1, 'AbuAhmadalKuwaitiuntil2003': 1, 'Nonethelessbytheendof2002theCIAwasactively': 1, 'Kuwaitito': 1, '03203IZ': 1, '102I58Z': 1, 'APR02': 1, 'SECRETy': 1, 'Communications': 1, 'alKuwaitiAs': 1, 'intermediary': 1, 'alKuwaitiremainedactiveinKarachi': 1, 'OnSeptember172002theCIAreceived': 1, '092204ZAUG02': 1, 'IIIIMIIII': 1, 'Multiple': 1, 'Reports': 1, 'AhmadalKuwaitis': 1, 'Close': 1, 'Association': 1, 'Frequent': 1, 'tiiree': 1, 'individualsto': 1, 'KSMwho': 1, 'detaineeRidha': 1, 'alNajjarwas': 1, 'caretakerOn': 1, 'governmentRiyadh': 1, 'governmenporting': 1, '27I730Z': 1, 'alKuwaitiHamad': 1, 'alKuwaitithat': 1, 'component': 1, '11515June52002': 1, 'phonecontactwitheachother': 1, 'InAugust2002anotherdetaineeinthecustodyofa': 1, 'alKuwaitiAbu': 1, 'alHailireported': 1, 'dropped': 1, 'radar': 1, '20022003': 1, 'frame': 1, 'AlKuwaiti': 1, 'InilmilI': 1, 'referencetodetaineesinforeigngovernmentcustodywhoprovidedinformationin2002': 1, 'KuwaititoincludealKuwaitisphonenumberandemailaddress': 1, 'Furtherpriorto2003': 1, 'summaiy': 1, 'infomiationhnking': 1, 'Internal': 1, 'requesting': 1, 'DayslateronJune182002AbuZubaydahwasplacedin': 1, 'waterboaid': 1, 'knowingthename': 1, 'CIArecordsindicatethattheinformationin2002thattheCIAhas': 1, 'Asisdetailedintheintelligencechronologyin': 1, 'AbuAhmad': 1, 'intelligencewllection': 1, '2183jglum': 1, '12236072032ZJUL03': 1, 'Riyadliacilitator': 1, 'Sharqawi': 1, 'alHajjjaptured': 1, 'Febmary': 1, 'AlHajj': 1, 'transfened': 1, 'Below': 1, 'mobile': 1, 'beheved': 1, 'reestablished': 1, 'speculated': 1, 'transportingletters': 1, 'HoweverAmmaralBaluchiindicatedthataMCuwaitorkeobuFam': 1, 'in2002': 1, 'tipojf': 1, 'couriers': 1, 'camefrom': 1, 'tipoff': 1, 'NoCIAdetaineeprovidedinformationonAbuAhmadalKuwaitiin2002andprior': 1, 'Khaliq': 1, 'gobetween': 1, 'detaineerelated': 1, 'relationship': 1, 'AllthreeprovidedinformationtheCIAassessedtobe': 1, 'andintentionally': 1, 'misleading': 1, 'Thefourth': 1, 'manied': 1, 'alNajjaralTunisi': 1, 'CIiistodyonJunej2002': 1, 'SECREViBMBBBNOFORN': 1, 'detaineesnot': 1, 'custodyprovided': 1, 'Seven': 1, 'Oftheremainingsixdetaineeswhodidnotprovide': 1, 'CIAsuseofenhancedinterrogationtechniques': 1, 'Ofthefivedetaineesthreeprovided': 1, 'intentionally': 1, 'misleadingThe': 1, 'programclaims': 1, 'marriedin': 1, 'withheld': 1, 'AsdetailedthereportingthatAbuAhmadalKuwaitiworkedcloselywithKSMand': 1, 'wasone': 1, 'Usajna': 1, 'transporting': 1, 'advising': 1, 'prohibitions': 1, 'Title': 1, 'insects': 1, 'IIIIIIIII11': 1, 'Examples': 1, 'recanted': 1, 'legaUnemorandum': 1, 'retraction': 1, 'emailed': 1, 'planners': 1, 'attacksCIA': 1, 'AZinformation': 1, '11852': 1, 'broadly': 1, 'interpreted': 1, 'latitude': 1, '212002': 1, 'inconsistent': 1, 'describeddonotcontravenetheprinciplesunderlyingDOJsAugust2002opinion': 1, 'opined': 1, 'opposed': 1, 'frequency': 1, 'submit': 1, 'revalidating': 1, 'modifying': 1, 'paiameters': 1, 'mutually': 1, 'understoodbytheAgencyandDoJon1August2002': 1, 'PsychologkalSupport': 1, 'Inteiview': 1, 'Puq5oses7Hpri003': 1, 'CounterterrorisnumosesHBjApril30': 1, 'SeeMemorandumforREDACTEDNovember2002Subjecteg': 1, 'InteiTogationae': 1, 'IakaDETENTIONSITECOBALT': 1, '192002': 1, 'CoursMatals': 1, 'IinterviewofHCIAOFFICER1December192002': 1, 'KSMwassubjectedto40seconxposuresaUeasniii': 1, 'ICTCLGL': 1, 'REDACTEDREDACTED': 1, 'begin': 1, 'Numerous': 1, 'professional': 1, 'judgment': 1, 'employment': 1, 'Rodri': 1, 'Roduez': 1, 'Trainin': 1, '10591': 1, '091823Z': 1, '151729Z': 1, 'MAR4I': 1, '10361': 1, 'concentrating': 1, 'derailing': 1, 'exploitationinterrogation': 1, 'countermeasures': 1, 'Notably': 1, 'Februai': 1, 'exprcssedncern': 1, 'Notifies': 1, 'Makes': 1, 'Briefs': 1, 'Avoid': 1, 'Chairmans': 1, 'currentplanstodevelopadetentionfacility': 1, 'EmailfronrMHSSCIStafftom': 1, 'ClearedSSCIstaffsubjectMeetingyesterdaywithCIA': 1, 'lawyers': 1, 'JBBTdatFebriiary': 1, '20020925': 1, 'responseQuestionr': 1, 'Recorlaring': 1, 'biweekly': 1, 'Briefings': 1, 'emphasized': 1, 'approachesIn': 1, '8mimNF': 1, 'HPSCIleadership': 1, 'Thefirstbriefingfor': 1, 'Shelbyand': 1, 'directorsoccurred': 1, 'expand': 1, 'Detenfion': 1, 'havingCommitteestaffvisitCIAinterrogationsitesandinterviewCIAinterrogators': 1, 'SeeCongressional': 1, 'OnNovemr2002theCIAnotifiedtlieCommitteeofthedeathofGulRahmanatadetentionfacility': 1, '20025015': 1, 'Responses': 1, 'Question': 1, '20025059': 1, '20021710': 1, '113413': 1, 'assent': 1, 'videotapes': 1, 'Matters': 1, 'Quarterly': 1, 'leadershipe': 1, '101607Z': 1, '252018Z': 1, 'Mueller': 1, 'Memorandumof': 1, 'IntelligenceFROM': 1, 'Disposition': 1, 'Videotapes': 1, 'congressional': 1, 'underway': 1, 'chairs': 1, 'committees': 1, 'Ghairat': 1, 'Bahir': 1, 'Pacha': 1, 'WazLr': 1, 'Amein': 1, 'alBakri': 1, 'Midhat': 1, 'Mursi': 1, 'alShibli': 1, 'Muliammad': 1, 'Uraar': 1, 'sadallali': 1, 'Sliaykh': 1, 'alIIawsavi': 1, 'alJaxairi': 1, 'Suleiman': 1, 'Hamid': 1, 'AlSharaiya': 1, 'Suhbat': 1, 'Ibrahim': 1, 'tlaqqani': 1, 'Dohnian': 1, 'Saidi': 1, 'Dinshali': 1, 'alQahtani': 1, 'Nasim': 1, 'aTunisi': 1, 'Farik': 1, 'Ziirmein': 1, 'Rashul': 1, 'Redwan': 1, 'Hamlili': 1, 'Habibullah': 1, 'liilmi': 1, 'Latif': 1, 'alBarq': 1, 'AbdullaJi': 1, 'Ashami': 1, 'Lillic': 1, 'Riduan': 1, 'Isomuddin': 1, 'Ilambali': 1, 'I2OO3': 1, 'IIH2Q03': 1, 'IIIK003': 1, 'II2OO3': 1, 'H2003': 1, 'Dctiiinecs': 1, 'AbuZubaydahwasrenderedtoCIAcustodyonMarchH': 1, 'intenjogation': 1, 'Abiubaah': 1, 'SWIGERTwho': 1, 'OTSbe': 1, 'realtime': 1, 'overcome': 1, 'deteriorated': 1, 'Zubaydalasnsferred': 1, 'deprived': 1, 'bright': 1, 'lights': 1, 'rapport': 1, '178955': 1, 'ideas': 1, 'approaches': 1, 'timesensitive': 1, 'perishable': 1, 'DIRECTORHAYDEN': 1, 'retracted': 1, '2002prior': 1, 'wired': 1, 'quantitative': 1, 'interrogationprior': 1, 'techniquesthan': 1, 'twomonth': 1, 'outgoing': 1, '10062002': 1, 'AbuZubaydahsresponsetothis': 1, 'Zubaydal': 1, 'asideout': 1, 'brothersand': 1, 'super': 1, 'plannot': 1, 'expect': 1, 'superman': 1, 'completioihe': 1, 'theclassThechiefofCTCJose': 1, 'objected': 1, 'seminal': 1, 'manual': 1, 'mCTCLGL': 1, '031301': 1, 'RahmaiUikelr': 1, 'describingtheguardsobservingGulRahmanaliveinthemorningofNovember': 1, 'Exactly': 1, '2002at0427': 1, 'certification': 1, 'maximum': 1, 'pilotning': 1, '2579gg': 1, '122002': 1, 'Seefor': 1, 'BLUEs': 1, 'proceed': 1, 'occasions': 1, 'DETEIsfTION': 1, 'calls': 1, 'resisting': 1, 'responding': 1, '24hourperday': 1, 'expressing': 1, 'reservations': 1, 'career': 1, 'Rodriguezvia': 1, 'emailinstructed': 1, 'thinner': 1, 'monitor': 1, 'interrogationswho': 1, 'interrogatorsexpressed': 1, '0945AM': 1, '36843': 1, '136908': 1, 'diiiilil': 1, 'IKIIIIIIII': 1, 'believing': 1, 'BythistimetheCIAhad': 1, 'Balibombings': 1, 'thedayafter': 1, 'behest': 1, 'thirty': 1, 'sharia': 1, 'gives': 1, 'permission': 1, 'situationA': 1, 'lateragain': 1, 'techniquesstating': 1, 'prayed': 1, 'Istikharah': 1, 'brothers': 1, 'mildly': 1, 'tense': 1, 'reaction': 1, 'unexpected': 1, 'preventing': 1, 'infected2669': 1, 'DETENTIONSITEGREENpersonnelalso': 1, 'delaying': 1, 'start': 1, 'convey': 1, 'contingent': 1, 'cooperationOn': 1, 'intervention': 1, 'unacceptable': 1, 'nexttwoweeks': 1, 'OnAugust252002theBasestated': 1, 'combination': 1, 'hygiene': 1, 'suboptimal': 1, 'nutrition': 1, 'inadvertent': 1, 'trauma': 1, 'secondary': 1, 'utilized': 1, 'stage': 1, 'removal': 1, 'obvious': 1, 'isolate': 1, 'additive': 1, 'vision': 1, 'tested': 1, 'riding': 1, 'ability': 1, 'write': 1, 'solid': 1, 'Ensure': 1, 'asameans': 1, 'oflimiting': 1, 'vomiting': 1, 'omits': 1, 'MoredateApril': 1, '10802': 1, '131921Z': 1, 'Aggressive': 1, 'Synopsis': 1, 'chain': 1, 'perform': 1, 'unresponsive': 1, 'andwasdeclareddead': 1, 'Anautopsyreportbythe': 1, 'undetermined': 1, 'clinical': 1, 'impression': 1, 'Novembeifl2002': 1, 'SubiecteganalysinREDACTED': 1, '2724PowerPointpresentationOptionsofIncarceratinAbuZubaydahjMh': 1, 'M10884182140ZMAR03': 1, '10969': 1, '240950Z': 1, 'Hi0892': 1, '191503ZMAR03': 1, '191513Z': 1, 'JAFAR': 1, '10888': 1, '190805Z': 1, '10999': 1, '260835Z': 1, '201037ZMAR': 1, 'andwalling': 1, 'pgjinformationconfirmedfortheCommitteeonNovember302010': 1, '11715': 1, '201047Z': 1, 'Communication': 1, 'andHH5Aug06': 1, '102838': 1, '105800': 1, 'InforaiationprovidedbytheFBItotheCommitteeonNovember302010': 1, 'Zabaidali': 1, 'SelectCommitt': 1, '202010': 1, '10900': 1, '191907Z': 1, '10896': 1, '191524Z': 1, 'checking': 1, '261725Z': 1, '10026131233Z': 1, 'leUer': 1, 'andinformationprovidedtotheCommitteebytheFBIonNovember302010': 1, 'cablas': 1, '10922': 1, '211256Z': 1, 'Fi0950': 1, '5201094221610MAR': 1, '12558': 1, '04I938Z': 1, '31148': 1, '31147': 1, '10972': 1, '241122Z': 1, 'ready': 1, '14041': 1, '20101058': 1, 'companys': 1, 'creation': 1, 'thiough': 1, 'closeout': 1, 'conjunction': 1, 'ProgramThe': 1, 'Secure': 1, 'Compartmented': 1, 'networks': 1, 'KSMprovided': 1, 'linkedAbuAhmadtoBinLadin': 1, 'mirrored': 1, 'administration': 1, '22011': 1, 'post911': 1, 'flagged': 1, 'ofthose': 1, 'nickname': 1, 'Hjjjdatabase': 1, 'Proposal': 1, 'SEREBased': 1, 'Development': 1, 'Takes': 1, 'Preventative': 1, 'Procedures': 1, 'Ghulalsoprovidedno': 1, 'substance': 1, 'alKuwaiti7': 1, 'whopmvidedTierOneMnfo': 1, 'Circuit': 1, 'Appeals': 1, 'sentence': 1, 'lenient': 1, 'articles': 1, 'Sentence': 1, 'Lenient': 1, 'Reuters': 1, 'alLibbi': 1, 'Showdated': 1, 'Trail': 1, 'Mukasey': 1, 'WallStreet': 1, 'Journal': 1, 'RollOut': 1, 'explains': 1, 'lateMarch2011': 1, 'talkradio': 1, 'ForexampleinMay42011CIAtestimonyaCIA': 1, 'Alimed': 1, 'SeeDTS': 1, 'SymiNF': 1, 'proving': 1, 'ground': 1, 'Committeeon': 1, '20111941': 1, '1203AM': 1, 'Administration': 1, 'Killing': 1, 'Osama': 1, 'posted': 1, 'wwwwhitehousegovthepress': 1, 'office2011502pressbriefingsenioradministrationofficialskillingosamabinladen': 1, 'Arnied': 1, '240057Z': 1, 'Ladin2i98': 1, 'accompanied': 1, 'onepage': 1, 'intelligenceinformation': 1, 'Ladinwere': 1, 'TheserelevantdetailswereomittedfromtheCIAdocuments': 1, 'labeled': 1, 'HEADQUARTHIHHI': 1, 'attribute': 1, 'execution': 1, 'InteUigence': 1, 'CommitteeStudy': 1, '231206ZAUG': 1, '10615': 1, '120619Z': 1, '10604': 1, '091624Z': 1, '130034Z': 1, 'unresponsivewithbubblesrisingthroughhisopenfullmouth': 1, 'TheCommitteeusessolesourceintelligencereportinginthissummary': 1, 'Count': 1, 'FREDACTEDl': 1, '39582': 1, '041743Z': 1, '38597': 1, 'Water': 1, 'standardinterTOgatioiUecl': 1, '38596': 1, '201220Z': 1, '38557': 1, '191641ZM': 1, 'takes': 1, 'distinctions': 1, '38595': 1, '201216ZMAY': 1, '35341': 1, '139042MMAY03jemailfr': 1, '39098': 1, '121709Z': 1, 'accusation': 1, 'Delivered': 1, 'Hands': 1, 'SeeLibyanAllegesWaterboarding': 1, 'confirmation': 1, 'Costs': 1, 'ContractCostoCompanGcto': 1, '022012Z': 1, '3425050726ZSEP06': 1, '134575': 1, '050748Z': 1, '2214050539Z': 1, 'II11111': 1, 'interrogationtechniquesagainstCIAdetainees': 1, 'includingSecret': 1, 'Subways': 1, 'tenorist': 1, '210959Z': 1, '230707Z': 1, '10144': 1, '271949Z': 1, '10271': 1, '15I654Z': 1, '02TaLECBH': 1, '24I447Z': 1, '10487': 1, '181656Z': 1, 'TheCIAsJune2013Responsecharacterizesthe': 1, 'paraphrase': 1, 'repeats': 1, 'typical': 1, 'punches': 1, 'Punches': 1, 'amount': 1, 'existence': 1, 'seniors': 1, 'submitted': 1, 'October25': 1, 'PriortotheCIAsJune2013ResponsetherewerenoCIArecordsattributingthedelayordisruptionofthe': 1, 'theCIAsJune2013Responsestates': 1, 'DuringforeigngovernmentldebriefingsZ': 1, 'reportedonthe': 1, 'inhelpingidentify': 1, 'distinguish': 1, 'crediting': 1, 'collectedreportingintocontext': 1, 'commentsrequirements': 1, 'afterwards': 1, 'experts': 1, 'pointedtospecificlocationswherehemetsomeofthesenioralQaidamembersweweretryingtofind': 1, 'TheCIAsJune2013Responseincludesthefollowing': 1, 'theStudystatesthatAbuZubaydahprovidedsimilar': 1, 'thatKSMdidnotcallalTayyarthenextMuhammadAtta': 1, 'confums': 1, 'shipping': 1, 'learning': 1, 'plottingandtheroleofYazidSufaatwhichisaddressedinthefullCommitteeStudyandinthissummaryinthe': 1, 'alPakistani': 1, 'factual': 1, 'invalidates': 1, 'thatdetaineereportingprovidedkeyintelligenceonthisimportanttenorist': 1, 'representedforthefusttimeinJune2013isinaccurateinnumerousways': 1, '1TheCIArepresentsthat': 1, 'casts': 1, 'evaluation': 1, '15I006Z': 1, 'I51006Z': 1, '11026': 1, '070729Z': 1, 'H182321ZJUL': 1, '10679': 1, '44147': 1, '36862': 1, '181352ZAPR03': 1, 'IDIRECTOR': 1, 'onthsA': 1, 'forego': 1, 'vertical': 1, 'shackling': 1, 'injuryA': 1, '45minute': 1, 'waist': 1, 'shuffled': 1, 'backwardstoasafeyetuncomfortableposition': 1, 'limitations': 1, 'dictated': 1, 'wascomfortable': 1, 'TheCommitteerequestedaccesstothesedocumentsoverseveralyearsincludinginwritingonJanuary': 1, '192013': 1, 'hereinafter': 1, 'independent': 1, 'determinationofthenumberofindividualsithaddetained': 1, 'TheCIAsJune2013Responsedoesnotaddressthe': 1, 'therebeingatleast119CIAdetaineeswasnotsubstantivelymeaningful': 1, 'TheCIAsJune2013Responsestates': 1, 'scale': 1, 'pjirt': 1, 'unarticulated': 1, 'policymakers': 1, 'overseers': 1, 'AccordingtotlieCIAsJune2013ResponseHaydendidnotviewthediscrepancyifitexistedas': 1, 'increase': 1, 'errors': 1, 'quantify': 1, 'slowly': 1, 'adjudicated': 1, '74636': 1, '76975': 1, '77115': 1, '77281': 1, 'TheCIAsJune2013ResponsestatesthattheCommitteeStudywas': 1, 'incorrectinassertingthatthecontractorsselectedhadnorelevantexperience': 1, 'academicresearchandresearchpapersonsuchtopicsasresistancetrainingcaptivityfamiliarization': 1, 'helplessness': 1, 'cultural': 1, 'geographic': 1, 'linguistic': 1, 'tliefollowing': 1, 'Despitetheformalrecord': 1, 'requirement': 1, 'decline': 1, 'deceptive': 1, 'reflectsthematiuationoftheprogram': 1, 'candidate': 1, '02ALECB': 1, 'AUG02': 1, 'Y03FHIHB37754l': 1, 'DIRECTORMBBmA': 1, '134098': 1, '342941': 1, '134310': 1, 'inVolume': 1, 'recordsand': 1, 'Studythat': 1, 'AsoneoftwoexamplestheCIAs': 1, 'June2013ResponseacknowledgesthattheCIA': 1, 'inconectlystatedalTayyarfledtheUnitedStatesinresponseto': 1, 'theFBIinvestigationalthoughhehadinfactalreadydepartedtheUnitedStatesbythistime': 1, 'someofthe': 1, 'officersmentionedintheS': 1, 'excludeTiuclhed': 1, 'assignments': 1, 'NotwithstandinhIAs': 1, 'toHHCIA0FFICER2priOT': 1, 'deployment': 1, 'urgent': 1, 'nationalpriority': 1, 'caused': 1, 'focus': 1, 'inroad': 1, 'Duringmeetingswitli': 1, 'documentaiy': 1, 'TheCIAsJune2013Responsedoes': 1, 'objects': 1, 'arguing': 1, 'Ronse': 1, 'recognized': 1, 'photographincluding': 1, 'didbecause': 1, 'thetimehadcharacterizedtliisIssaasapartnertoReidandasawouldbeshoebomber': 1, 'Confirming': 1, 'inhisdebriefingsSDTS': 1, 'providedalistofIGInvestigationsConcerningDetentionInterrogationsandRenditions': 1, 'Prograi5eTS': 1, '20133250': 1, 'staffand': 1, 'InitsJune2013ResponsetheCIAstates': 1, 'Weneverrepresentedthat': 1, 'TheCIAsJune2013Responsestatesthatrectal': 1, 'rehydrationisawellacknowledgedmedicaltechniquetoaddresspressinghealthissues': 1, 'tiiese': 1, 'Girovided': 1, 'tactical': 1, 'granularity': 1, 'GhulJ': 1, 'Asdetailedinthis': 1, 'intemaIecords': 1, 'investigatiotaiiadatBBHH': 1, 'BCingdom': 1, 'Despitethis': 1, 'scrutinized': 1, 'outset': 1, 'thattheprogram': 1, 'challenges': 1, 'languagequahfied': 1, 'imposeAgen': 1, 'permitting': 1, 'study': 1, 'encumbered': 1, 'factors': 1, 'protection': 1, 'subjects': 1, 'impracticability': 1, 'impossible': 1, 'whedier': 1, 'whetlier': 1, 'OnApril162013tlieCouncilonForeignRelations': 1, 'players': 1, 'uncovering': 1, 'broad': 1, 'includeseight': 1, 'Tliis': 1, '2013Responseisinaccurate': 1, 'Allofthis': 1, 'Includeieil': 1, 'anpeated': 1, 'discontinuedbyAbuAhmadalKuwaitiandwereneverlinkedtobinLadinsknownlocations': 1, 'statesthatwhenhallucinations': 1, 'occurredduringsleepdeprivation': 1, 'medicalpersonnelintervenedtoensurea': 1, 'clinically': 1, 'stable': 1, 'essentially': 1, 'normal': 1, 'signs': 1, 'occasional': 1, 'premature': 1, 'fatigueJ': 1, 'Throughout': 1, 'repetitive': 1, 'reportingpriortotheuseoftheCIAsenhancedinterrogationtechniques': 1, 'insight': 1, 'mostdisruptedtheHeathrowplot': 1, 'error': 1, 'FinallytheCIAsJune2013ResponseclaimstliatitspastCIArepresentationswereaccurateand': 1, 'ultimately': 1, 'conclude': 1, 'piece': 1, 'DespitethisrecordandotherrecordsinthefullCommittee': 1, 'theCIAsJune': 1, 'statewefound': 1, 'noevidence': 1, 'inany': 1, 'negatively': 1, 'Countr': 1, '23281': 1, 'OnOctober252013theCIAacknowledgedtheinaccuracy': 1, '20131723': 1, 'KiiiiIII': 1, 'IKIIIIII11': 1, 'exceptions': 1, 'bjased': 1, 'pohcy': 1, 'PriortoJune2013theCIAhadneverrepresentedthattheuseoftheCIAsenhancedinterrogation': 1, 'techniquesproducedinformationallowingCIAtoconcludetheHeathrowPlothadbeendisrupted': 1, 'tliese': 1, 'tluee': 1, 'houses': 1, 'fuilher': 1, 'correctly': 1, 'disclose': 1, 'rests': 1, 'Heatlirow': 1, 'TlieCIAsJune2013': 1, 'pilots': 1, 'verification': 1, 'incongnient': 1, 'inten': 1, 'ogators': 1, 'credibleas': 1, 'CaptiueIdentification': 1, 'cleaily': 1, 'diereby': 1, 'invaluable': 1, 'happened': 1, 'CIAheld': 1, 'mischaracterizes': 1, 'theauthorofTheArmyofMadinahinKashmirisnotidentifiedintheintelligencereport': 1, 'implied': 1, 'Elsewhere': 1, 'imprecisely': 1, 'rather': 1, 'characterizing': 1, 'Inthesummerof': 1, 'Committeerequested': 1, 'lyraan': 1, 'tjhis': 1, 'mistake': 1, 'thereby': 1, '113165': 1, 'broadcast': 1, 'indeed': 1, 'RDIprogram': 1, 'emphasis': 1, 'contributed': 1, 'comment': 1, 'tlieCIA': 1, 'liave': 1, 'wliile': 1, 'updates': 1, '84876': 1, '87617': 1, 'govenimentdebriefi': 1, 'netted': 1, 'alongside': 1, 'Despiteacknowledging': 1, 'stands': 1, 'highlighting': 1, 'inteiTOgation': 1, 'prioritize': 1, 'success': 1, 'happenedifnotforreportingfromCIAhelddetainees': 1, '222721815': 1, 'viable': 1, 'TheCIAsJune2013ResponsestatesthatHassanGhulreportedtliatHamza': 1, 'Rabia': 1, 'Rabias': 1, 'HEADQUARTERSB': 1, 'HBtAN': 1, 'disagree': 1, 'Impeded': 1, 'TheCIAsJune2013ResponseassertsthatdieinformationAbuZubaydah': 1, 'providedthat': 1, 'Ghulwas': 1, 'forni': 1, 'Pakistanbased': 1, 'possiMe': 1, 'unremarkable': 1, 'viewed': 1, 'routine': 1, 'illegal': 1, 'traveler': 1, 'interrogationtechniqueoncetheprogramwasofficiallyunderway': 1, 'TlieassertionintheCIAsJune2013': 1, '45028': 1, 'concedes': 1, 'mischaracterized': 1, 'ongoing': 1, 'ConsulatetotakefurtherstepstoprotectitsofficersThisstatementisincongruentwithCIArecords': 1, 'WhiletheCommitteecouldfindnointernalCIArecordstosupporttheassertion': 1, 'odier': 1, 'Kaiachi': 1, 'entering': 1, 'djuring': 1, 'commenced': 1, 'Baluchiand': 1, 'lesser': 1, 'Attashresponding': 1, 'variety': 1, 'CIAsJune2013Responseisinaccurate': 1, 'comprisedofstudentsfromHambali': 1, 'claun': 1, 'externally': 1, 'internally': 1, 'TheCIAsJune2013Responsedescribestheinaccuraterepresentationas': 1, 'contendsfor': 1, 'ResponsestatesthatthismistakewasnotasitischaracterizedintheFindingsandConclusions': 1, 'sectionofthe': 1, 'Sliibh': 1, 'finance': 1, 'chiefwho': 1, 'preelection': 1, 'wasvitaltoCIAsassessmentandhandlingofttieMse': 1, 'arrests': 1, 'receipt': 1, 'contends': 1, 'capable': 1, 'directing': 1, 'TheclaimintheCIAsJune2013Response': 1})\n"
     ]
    }
   ],
   "source": [
    "from collections import Counter\n",
    "# count how many times each term occurs\n",
    "filtered_token_counts = Counter(filtered_tokens)\n",
    "print(filtered_token_counts)"
   ]
  },
  {
   "cell_type": "code",
   "execution_count": 20,
   "metadata": {},
   "outputs": [
    {
     "name": "stdout",
     "output_type": "stream",
     "text": [
      "[('terrorist', 9), ('Ahmad', 9)]\n",
      "[('interrogation', 275), ('Zubaydah', 252)]\n",
      "[('Response', 196), ('states', 111)]\n"
     ]
    }
   ],
   "source": [
    "from collections import Counter\n",
    "def find_most_common_by_year(year, sentences_cia):\n",
    "    data = sentences_cia[sentences_cia['year'] == year]\n",
    "    combined_statement = ' '.join(data['cleaned_statement'])\n",
    "    statement_split = combined_statement.split(' ')\n",
    "    counter = Counter([s for s in statement_split if len(s) > 4])\n",
    "    return counter.most_common(2)\n",
    "\n",
    "common_2000 = find_most_common_by_year('2000', sentences_cia)\n",
    "common_2002 = find_most_common_by_year('2002', sentences_cia)\n",
    "common_2013 = find_most_common_by_year('2013', sentences_cia)\n",
    "print(common_2000)\n",
    "print(common_2002)\n",
    "print(common_2013)"
   ]
  },
  {
   "cell_type": "code",
   "execution_count": 21,
   "metadata": {},
   "outputs": [
    {
     "name": "stdout",
     "output_type": "stream",
     "text": [
      "kobe_position =  68    SG\n",
      "Name: pos, dtype: object\n"
     ]
    }
   ],
   "source": [
    "# When the algorithm finds Kobe in the data set, store his position in Kobe_position\n",
    "import pandas as pd\n",
    "nba = pd.read_csv('nba_2013.csv')\n",
    "# Find Kobe in the data set\n",
    "kobe_position = nba[nba['player']=='Kobe Bryant']['pos']\n",
    "print('kobe_position = ', kobe_position)"
   ]
  },
  {
   "cell_type": "code",
   "execution_count": 22,
   "metadata": {},
   "outputs": [
    {
     "name": "stdout",
     "output_type": "stream",
     "text": [
      "kobe_position =  SG\n"
     ]
    }
   ],
   "source": [
    "import csv\n",
    "f = open('nba_2013.csv', 'r', encoding='utf-8')\n",
    "csvreader = csv.reader(f)\n",
    "nba = list(csvreader)\n",
    "for row in nba:\n",
    "    if row[0] == 'Kobe Bryant':\n",
    "        kobe_position = row[1]\n",
    "print('kobe_position = ', kobe_position)"
   ]
  },
  {
   "cell_type": "code",
   "execution_count": 23,
   "metadata": {},
   "outputs": [
    {
     "name": "stdout",
     "output_type": "stream",
     "text": [
      "38 25 -1\n"
     ]
    }
   ],
   "source": [
    "# player_age returns the age of a player in our NBA data set\n",
    "def player_age(name):\n",
    "    for row in nba:\n",
    "        if row[0] == name:\n",
    "            return row[2]\n",
    "    return -1\n",
    "allen_age = player_age('Ray Allen')\n",
    "durant_age = player_age('Kevin Durant')\n",
    "shaq_age = player_age(\"Shaquille O'Neal\")  \n",
    "print(allen_age, durant_age, shaq_age)"
   ]
  },
  {
   "cell_type": "markdown",
   "metadata": {},
   "source": [
    "#### Recognizing Constant Time Algorithms"
   ]
  },
  {
   "cell_type": "code",
   "execution_count": 24,
   "metadata": {},
   "outputs": [],
   "source": [
    "# Implementation A: Convert degrees Celcius to degrees Fahrenheit\n",
    "def celcius_to_fahrenheit(degrees):\n",
    "    step_1 = degrees * 1.8\n",
    "    step_2 = step_1 + 32\n",
    "    return step_2\n",
    "\n",
    "# Implementation B: Reverse a list\n",
    "def reverse(ls):\n",
    "    length = len(ls)\n",
    "    new_list = []\n",
    "    for i in range(length):\n",
    "        new_list[i] = ls[length - i]\n",
    "    return new_list\n",
    "\n",
    "# Implementation C: Print a blastoff message after a countdown\n",
    "def blastoff(message):\n",
    "    count = 10\n",
    "    for i in range(count):\n",
    "        print(count - i)\n",
    "    print(message)\n",
    "\n",
    "not_constant = \"B\""
   ]
  },
  {
   "cell_type": "markdown",
   "metadata": {},
   "source": [
    "To denote constant time, use O(1), because 1 is a constant (and a simple constant).\n",
    "To denote linear time, use O(n), because n is the simplest example of linearity.\n",
    "Big-O Notation follows a similar pattern for other time complexities, O(n^2), O(2^n), and O(log(n)) are all valid notation. "
   ]
  },
  {
   "cell_type": "markdown",
   "metadata": {},
   "source": [
    "#### Binary Search: only on ordered data"
   ]
  },
  {
   "cell_type": "code",
   "execution_count": 25,
   "metadata": {},
   "outputs": [
    {
     "name": "stdout",
     "output_type": "stream",
     "text": [
      "found later earlier\n"
     ]
    }
   ],
   "source": [
    "# A function to extract a player's last name\n",
    "import math\n",
    "def format_name(name):\n",
    "    return name.split(\" \")[1] + \", \" + name.split(\" \")[0]\n",
    "\n",
    "# The length of the data set\n",
    "length = len(nba)\n",
    "\n",
    "# Implement the player_age function. For now, just return what the instructions specify\n",
    "def player_age(name):\n",
    "    # We need to format our name appropriately for successful comparison\n",
    "    name = format_name(name)\n",
    "    # First guess halfway through the list\n",
    "    first_guess_index = math.floor(length/2)\n",
    "    first_guess = format_name(nba[first_guess_index][0])\n",
    "    # Check where we should continue searching\n",
    "    if first_guess == name:\n",
    "        return \"found\"\n",
    "    elif first_guess < name:\n",
    "        return \"later\"\n",
    "    return \"earlier\"\n",
    "johnson_odom_age = player_age(\"Darius Johnson-Odom\")\n",
    "young_age = player_age(\"Nick Young\")\n",
    "adrien_age = player_age(\"Jeff Adrien\")\n",
    "print(johnson_odom_age, young_age, adrien_age)"
   ]
  },
  {
   "cell_type": "code",
   "execution_count": 26,
   "metadata": {},
   "outputs": [
    {
     "name": "stdout",
     "output_type": "stream",
     "text": [
      "De, Nando Prigioni, Pablo\n"
     ]
    }
   ],
   "source": [
    "# A function to extract a player's last name\n",
    "def format_name(name):\n",
    "    return name.split(\" \")[1] + \", \" + name.split(\" \")[0]\n",
    "\n",
    "# The length of the data set\n",
    "length = len(nba)\n",
    "\n",
    "def player_age(name):\n",
    "    name = format_name(name)\n",
    "    # Initial bounds of the search\n",
    "    upper_bound = length - 1\n",
    "    lower_bound = 0\n",
    "    # Index of first split\n",
    "    first_guess_index = math.floor(length/2)\n",
    "    first_guess = format_name(nba[first_guess_index][0])\n",
    "    # If the name comes before the guessed value, adjust the bounds as needed\n",
    "    if name < first_guess:\n",
    "        upper_bound = first_guess_index -1\n",
    "    # Else if the name comes after the guessed value, adjust the bounds as needed\n",
    "    elif name > first_guess:\n",
    "        lower_bound = first_guess_index +1\n",
    "    else:\n",
    "        # Player found, return first guess\n",
    "        return first_guess   \n",
    "    \n",
    "    # Set the index of the second split\n",
    "    # Find and format the second guess\n",
    "    # Return the second guess\n",
    "    second_guess_index = math.floor((lower_bound + upper_bound) / 2)\n",
    "    second_guess = format_name(nba[second_guess_index][0])\n",
    "    return second_guess\n",
    "\n",
    "gasol_age = player_age(\"Pau Gasol\")\n",
    "pierce_age = player_age(\"Paul Pierce\")\n",
    "print(gasol_age, pierce_age)"
   ]
  },
  {
   "cell_type": "code",
   "execution_count": 27,
   "metadata": {},
   "outputs": [
    {
     "name": "stdout",
     "output_type": "stream",
     "text": [
      "found\n"
     ]
    }
   ],
   "source": [
    "def format_name(name):\n",
    "    return name.split(\" \")[1] + \", \" + name.split(\" \")[0]\n",
    "\n",
    "# The length of the data set\n",
    "length = len(nba)\n",
    "def player_age(name):\n",
    "    name = format_name(name)\n",
    "    # Bounds of the search\n",
    "    upper_bound = length - 1\n",
    "    lower_bound = 0\n",
    "    # Index of first split\n",
    "    index = math.floor((lower_bound + upper_bound) / 2)\n",
    "    # First guess halfways through the list\n",
    "    guess = format_name(nba[index][0])\n",
    "    # Search until it finds the name\n",
    "    while name != guess:\n",
    "        if name < guess:\n",
    "            upper_bound = index - 1\n",
    "        else:\n",
    "            lower_bound = index + 1\n",
    "        index = math.floor((lower_bound + upper_bound) / 2)\n",
    "        guess = format_name(nba[index][0])\n",
    "    return \"found\"\n",
    "    \n",
    "carmelo_age = player_age(\"Carmelo Anthony\")\n",
    "print(carmelo_age)"
   ]
  },
  {
   "cell_type": "code",
   "execution_count": 28,
   "metadata": {},
   "outputs": [
    {
     "name": "stdout",
     "output_type": "stream",
     "text": [
      "25 24 -1\n"
     ]
    }
   ],
   "source": [
    "# A function to extract a player's last name\n",
    "def format_name(name):\n",
    "    return name.split(\" \")[1] + \", \" + name.split(\" \")[0]\n",
    "\n",
    "# The length of the data set\n",
    "length = len(nba)\n",
    "\n",
    "# Implement the player_age function. For now, just return what the instructions specify\n",
    "def player_age(name):\n",
    "    name = format_name(name)\n",
    "    upper_bound = length - 1\n",
    "    lower_bound = 0\n",
    "    index = math.floor((upper_bound + lower_bound) / 2)\n",
    "    guess = format_name(nba[index][0])\n",
    "    while name != guess and upper_bound >= lower_bound:\n",
    "        if name < guess:\n",
    "            upper_bound = index - 1\n",
    "        else:\n",
    "            lower_bound = index + 1\n",
    "        index = math.floor((lower_bound + upper_bound) / 2)\n",
    "        guess = format_name(nba[index][0])\n",
    "    if name == guess:\n",
    "        return nba[index][2]\n",
    "    else:\n",
    "        return -1\n",
    "    \n",
    "curry_age = player_age(\"Stephen Curry\")\n",
    "griffin_age = player_age(\"Blake Griffin\")\n",
    "jordan_age = player_age(\"Michael Jordan\")\n",
    "print(curry_age, griffin_age, jordan_age)"
   ]
  },
  {
   "cell_type": "markdown",
   "metadata": {},
   "source": [
    "#### Data Structures"
   ]
  },
  {
   "cell_type": "code",
   "execution_count": 29,
   "metadata": {},
   "outputs": [
    {
     "name": "stdout",
     "output_type": "stream",
     "text": [
      "['Reggie Jackson']\n",
      "['Reggie Jackson', 'C.J. Watson']\n",
      "['Jeff Adrien', 'Reggie Jackson', 'C.J. Watson']\n",
      "['Jeff Adrien', 'C.J. Watson']\n"
     ]
    }
   ],
   "source": [
    "# Retrieving an item in an array by index\n",
    "retrieval_by_index = \"constant\"\n",
    "\n",
    "# Searching for a value in an unordered array\n",
    "search = \"linear\"\n",
    "\n",
    "# Deleting an item from an array, and filling the gap\n",
    "#     by shifting all later items back by one\n",
    "deletion = \"linear\"\n",
    "\n",
    "# Inserting an item into the array, and shifting forward\n",
    "#     every item that comes after it\n",
    "insertion = \"linear\"\n",
    "players = [\"Reggie Jackson\"]\n",
    "print(players)\n",
    "players.insert(1, \"C.J. Watson\")\n",
    "print(players)\n",
    "players.insert(0, \"Jeff Adrien\")\n",
    "print(players)\n",
    "players.remove(\"Reggie Jackson\")\n",
    "print(players)"
   ]
  },
  {
   "cell_type": "markdown",
   "metadata": {},
   "source": [
    "A hash table stores data based on key-value pairs. Can use the key to locate the data in the table.\n",
    "Dictionary is one of the most common forms of a hash table, where the keys are almost always strings.  A hash function accepts a key as input and converts it to an integer index.  Using a hash table increases time efficiency at the expense of space efficiency."
   ]
  },
  {
   "cell_type": "code",
   "execution_count": 30,
   "metadata": {},
   "outputs": [],
   "source": [
    "# Scenario A: You need to keep track of people sitting in an auditorium for a play. You'll have to identify which seats are empty, and sell tickets until the auditorium is completely full. How will you store the names of who's sitting where?\n",
    "scenario_A_data_structure = \"2d array\"\n",
    "\n",
    "# Scenario B: You're in charge of maintaining a guest list for a wedding. You're only concerned with a list of who's coming to the party. You have to add someone's name whenever they RSVP that they'll be attending the wedding.\n",
    "scenario_B_data_structure = \"dynamic array\"\n",
    "\n",
    "# Scenario C: Now every person who RSVPs for the wedding indicates which meal they want. You have to keep track of both the person and the meal order. You need to be able to find out what meal a particular person ordered quickly, so the waiters don't delay too long when it comes time to eat.\n",
    "scenario_C_data_structure = \"hash table\""
   ]
  },
  {
   "cell_type": "markdown",
   "metadata": {},
   "source": [
    "#### Recursion and Advanced Data Structures:  Recursion usually takes the form of a function that calls itself during its execution"
   ]
  },
  {
   "cell_type": "code",
   "execution_count": 31,
   "metadata": {},
   "outputs": [
    {
     "name": "stdout",
     "output_type": "stream",
     "text": [
      "1\n",
      "120\n",
      "15511210043330985984000000\n"
     ]
    }
   ],
   "source": [
    "# Recursive factorial function\n",
    "def factorial(n):\n",
    "    # Check the base case\n",
    "    if n == 0:\n",
    "        return 1\n",
    "    # Recursive case\n",
    "    return n * factorial(n - 1)\n",
    "\n",
    "factorial1 = factorial(1)\n",
    "factorial5 = factorial(5)\n",
    "factorial25 = factorial(25)\n",
    "print(factorial1)\n",
    "print(factorial5)\n",
    "print(factorial25)"
   ]
  },
  {
   "cell_type": "code",
   "execution_count": 32,
   "metadata": {},
   "outputs": [
    {
     "name": "stdout",
     "output_type": "stream",
     "text": [
      "1 8 121393\n"
     ]
    }
   ],
   "source": [
    "def fibonacci(n):\n",
    "    if n == 0 or n == 1:\n",
    "        return 1\n",
    "    return fibonacci(n-1) + fibonacci(n-2)\n",
    "\n",
    "fib1 = fibonacci(1)\n",
    "fib5 = fibonacci(5)\n",
    "fib25 = fibonacci(25)\n",
    "print(fib1, fib5, fib25)"
   ]
  },
  {
   "cell_type": "markdown",
   "metadata": {},
   "source": [
    "#### Guided Project: Investigating Airplane Accidents"
   ]
  },
  {
   "cell_type": "code",
   "execution_count": 34,
   "metadata": {},
   "outputs": [],
   "source": [
    "import warnings\n",
    "warnings.filterwarnings('ignore')"
   ]
  },
  {
   "cell_type": "code",
   "execution_count": 35,
   "metadata": {},
   "outputs": [
    {
     "name": "stderr",
     "output_type": "stream",
     "text": [
      "IOPub data rate exceeded.\n",
      "The notebook server will temporarily stop sending output\n",
      "to the client in order to avoid crashing it.\n",
      "To change this limit, set the config variable\n",
      "`--NotebookApp.iopub_data_rate_limit`.\n",
      "\n",
      "Current values:\n",
      "NotebookApp.iopub_data_rate_limit=1000000.0 (bytes/sec)\n",
      "NotebookApp.rate_limit_window=3.0 (secs)\n",
      "\n"
     ]
    },
    {
     "name": "stdout",
     "output_type": "stream",
     "text": [
      "[['20001218X45447', 'Accident', 'LAX94LA336', '07/19/1962', 'BRIDGEPORT, CA', 'United States', '', '', '', '', 'Fatal(4)', 'Destroyed', '', 'N5069P', 'PIPER', 'PA24-180', 'No', '1', 'Reciprocating', '', '', 'Personal', '', '4', '0', '0', '0', 'UNK', 'UNKNOWN', 'Probable Cause', '09/19/1996', '\\n']]\n"
     ]
    }
   ],
   "source": [
    "import csv\n",
    "f = open('AviationData.txt')\n",
    "aviation_data = f.readlines()\n",
    "f.close()\n",
    "print(aviation_data)\n",
    "aviation_list = []\n",
    "for line in aviation_data:\n",
    "    aviation_list.append(line.split(' | '))\n",
    "lax_code = []\n",
    "for line in aviation_list:\n",
    "    if 'LAX94LA336' in line:\n",
    "        lax_code.append(line)\n",
    "print(lax_code)"
   ]
  },
  {
   "cell_type": "code",
   "execution_count": 36,
   "metadata": {},
   "outputs": [],
   "source": [
    "import pandas as pd\n",
    "f = pd.read_csv('AviationData.txt', 'r', encoding='utf-8')"
   ]
  },
  {
   "cell_type": "code",
   "execution_count": 37,
   "metadata": {},
   "outputs": [
    {
     "data": {
      "text/plain": [
       "(83389, 33)"
      ]
     },
     "execution_count": 37,
     "metadata": {},
     "output_type": "execute_result"
    }
   ],
   "source": [
    "f.shape"
   ]
  },
  {
   "cell_type": "code",
   "execution_count": 38,
   "metadata": {},
   "outputs": [
    {
     "name": "stdout",
     "output_type": "stream",
     "text": [
      "140705112888416\n",
      "2452578793776\n",
      "0 3\n"
     ]
    }
   ],
   "source": [
    "f = open(\"list.csv\").read().splitlines()\n",
    "\n",
    "my_int = 10\n",
    "int_addr = id(my_int)\n",
    "my_str = \"Hello World\"\n",
    "str_addr = id(my_str)\n",
    "print(int_addr)\n",
    "print(str_addr)\n",
    "\n",
    "import sys\n",
    "\n",
    "my_int = 200\n",
    "size_of_my_int = sys.getsizeof(my_int)\n",
    "\n",
    "int1 = 10\n",
    "int2 = 100000\n",
    "str1 = \"Hello\"\n",
    "str2 = \"Hi\"\n",
    "\n",
    "int_diff = sys.getsizeof(int1) - sys.getsizeof(int2)\n",
    "str_diff = sys.getsizeof(str1) - sys.getsizeof(str2)\n",
    "print(int_diff, str_diff)"
   ]
  },
  {
   "cell_type": "code",
   "execution_count": 39,
   "metadata": {},
   "outputs": [
    {
     "name": "stdout",
     "output_type": "stream",
     "text": [
      "0.0009612000000061016 0.00020370000001435074\n"
     ]
    }
   ],
   "source": [
    "import time\n",
    "import csv\n",
    "\n",
    "before = time.clock()\n",
    "f = open(\"list.csv\", \"r\")\n",
    "list_from_file = list(csv.reader(f))\n",
    "after_file_read = time.clock()\n",
    "file_time = after_file_read  - before\n",
    "\n",
    "list_from_RAM = \"1,2,3,4,5,6,7,8,9,10\".split(\",\")\n",
    "after_string_parse = time.clock()\n",
    "RAM_time = after_string_parse - after_file_read\n",
    "\n",
    "print(file_time, RAM_time)"
   ]
  },
  {
   "cell_type": "markdown",
   "metadata": {},
   "source": [
    "#### Parallel Processing"
   ]
  },
  {
   "cell_type": "code",
   "execution_count": 48,
   "metadata": {},
   "outputs": [
    {
     "name": "stdout",
     "output_type": "stream",
     "text": [
      "0 100000\n"
     ]
    }
   ],
   "source": [
    "class Counter():\n",
    "    def __init__(self):\n",
    "        self.count = 0\n",
    "    def increment(self):\n",
    "        self.count += 1\n",
    "    def get_count(self):\n",
    "        return self.count\n",
    "\n",
    "def count_up_100000(counter):\n",
    "    for i in range(100000):\n",
    "        counter.increment()\n",
    "        \n",
    "counter = Counter()\n",
    "initial_count = counter.get_count()\n",
    "count_up_100000 = count_up_100000(counter)\n",
    "final_count = counter.get_count()\n",
    "print(initial_count, final_count)"
   ]
  },
  {
   "cell_type": "code",
   "execution_count": 49,
   "metadata": {},
   "outputs": [
    {
     "name": "stdout",
     "output_type": "stream",
     "text": [
      "False\n",
      "0 0\n"
     ]
    }
   ],
   "source": [
    "#  multithreading\n",
    "import threading\n",
    "\n",
    "counter = Counter()\n",
    "before_join = counter.get_count()\n",
    "count_thread = threading.Thread(target = count_up_100000, args=(counter,))\n",
    "count_thread.start()\n",
    "print(count_thread.is_alive())\n",
    "count_thread.join()\n",
    "after_join = counter.get_count()\n",
    "print(before_join, after_join)"
   ]
  },
  {
   "cell_type": "code",
   "execution_count": 50,
   "metadata": {},
   "outputs": [
    {
     "name": "stdout",
     "output_type": "stream",
     "text": [
      "0 0 0\n"
     ]
    }
   ],
   "source": [
    "def conduct_trial():\n",
    "    counter = Counter()\n",
    "    count_thread = threading.Thread(target=count_up_100000, args=(counter,))\n",
    "    count_thread.start()\n",
    "    c = counter.get_count()\n",
    "    count_thread.join()\n",
    "    return c\n",
    "\n",
    "trial1 = conduct_trial()\n",
    "trial2 = conduct_trial()\n",
    "trial3 = conduct_trial()\n",
    "print(trial1, trial2, trial3)"
   ]
  },
  {
   "cell_type": "code",
   "execution_count": 51,
   "metadata": {},
   "outputs": [
    {
     "name": "stdout",
     "output_type": "stream",
     "text": [
      "3780\n",
      "85470\n",
      "21780\n"
     ]
    }
   ],
   "source": [
    "def count_up_100000(counter, lock):\n",
    "    for i in range(10000):\n",
    "        lock.acquire()\n",
    "        for i in range(10):\n",
    "            counter.increment()\n",
    "        lock.release()\n",
    "         \n",
    "def conduct_trial():\n",
    "    counter = Counter()\n",
    "    lock = threading.Lock()\n",
    "    count_thread = threading.Thread(target=count_up_100000, args=(counter, lock))\n",
    "    count_thread.start()\n",
    "    lock.acquire()\n",
    "    intermediate_value = counter.get_count()\n",
    "    lock.release()\n",
    "    count_thread.join()\n",
    "    return intermediate_value\n",
    "\n",
    "trial1 = conduct_trial()\n",
    "print(trial1)\n",
    "trial2 = conduct_trial()\n",
    "print(trial2)\n",
    "trial3 = conduct_trial()\n",
    "print(trial3)"
   ]
  },
  {
   "cell_type": "code",
   "execution_count": 52,
   "metadata": {},
   "outputs": [
    {
     "name": "stdout",
     "output_type": "stream",
     "text": [
      "200000\n"
     ]
    }
   ],
   "source": [
    "def count_up_100000(counter):\n",
    "    for i in range(100000):\n",
    "        counter.increment()\n",
    "\n",
    "counter = Counter()\n",
    "count_up_100000(counter)\n",
    "count_up_100000(counter)\n",
    "final_count = counter.get_count()\n",
    "print(final_count)"
   ]
  },
  {
   "cell_type": "code",
   "execution_count": 53,
   "metadata": {},
   "outputs": [
    {
     "name": "stdout",
     "output_type": "stream",
     "text": [
      "200000 167193 200000\n"
     ]
    }
   ],
   "source": [
    "def conduct_trial():\n",
    "    counter = Counter()\n",
    "    count_thread1 = threading.Thread(target=count_up_100000, args=[counter])\n",
    "    count_thread2 = threading.Thread(target=count_up_100000, args=[counter])\n",
    "\n",
    "    count_thread1.start()\n",
    "    count_thread2.start()\n",
    "\n",
    "    count_thread1.join()\n",
    "    count_thread2.join()\n",
    "\n",
    "    final_count = counter.get_count()\n",
    "    return final_count\n",
    "\n",
    "trial1 = conduct_trial()\n",
    "trial2 = conduct_trial()\n",
    "trial3 = conduct_trial()\n",
    "\n",
    "print(trial1, trial2, trial3)"
   ]
  },
  {
   "cell_type": "code",
   "execution_count": 54,
   "metadata": {},
   "outputs": [
    {
     "name": "stdout",
     "output_type": "stream",
     "text": [
      "196130 185174 195805\n"
     ]
    }
   ],
   "source": [
    "class Counter():\n",
    "    def __init__(self):\n",
    "        self.count = 0\n",
    "    def increment(self):\n",
    "        lock = threading.Lock()\n",
    "        lock.acquire()\n",
    "        old_count = self.count\n",
    "        self.count = old_count + 1\n",
    "        lock.release()\n",
    "    def get_count(self):\n",
    "        return self.count\n",
    "\n",
    "def count_up_100000(counter):\n",
    "    for i in range(100000):\n",
    "        counter.increment()\n",
    "\n",
    "def conduct_trial():\n",
    "    counter = Counter()\n",
    "    count_thread1 = threading.Thread(target=count_up_100000, args=[counter])\n",
    "    count_thread2 = threading.Thread(target=count_up_100000, args=[counter])\n",
    "\n",
    "    count_thread1.start()\n",
    "    count_thread2.start()\n",
    "\n",
    "    count_thread1.join()\n",
    "    count_thread2.join()\n",
    "\n",
    "    final_count = counter.get_count()\n",
    "    return final_count\n",
    "\n",
    "trial1 = conduct_trial()\n",
    "trial2 = conduct_trial()\n",
    "trial3 = conduct_trial()\n",
    "\n",
    "print(trial1, trial2, trial3)"
   ]
  }
 ],
 "metadata": {
  "kernelspec": {
   "display_name": "Python 3",
   "language": "python",
   "name": "python3"
  },
  "language_info": {
   "codemirror_mode": {
    "name": "ipython",
    "version": 3
   },
   "file_extension": ".py",
   "mimetype": "text/x-python",
   "name": "python",
   "nbconvert_exporter": "python",
   "pygments_lexer": "ipython3",
   "version": "3.7.3"
  }
 },
 "nbformat": 4,
 "nbformat_minor": 2
}
