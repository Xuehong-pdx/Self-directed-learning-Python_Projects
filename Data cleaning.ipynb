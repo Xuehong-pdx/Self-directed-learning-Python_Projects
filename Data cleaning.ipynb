{
 "cells": [
  {
   "cell_type": "markdown",
   "metadata": {},
   "source": [
    "#### The code below cleans a set of laptop sales data"
   ]
  },
  {
   "cell_type": "code",
   "execution_count": 105,
   "metadata": {},
   "outputs": [
    {
     "name": "stdout",
     "output_type": "stream",
     "text": [
      "<class 'pandas.core.frame.DataFrame'>\n",
      "RangeIndex: 1303 entries, 0 to 1302\n",
      "Data columns (total 13 columns):\n",
      "Manufacturer                1303 non-null object\n",
      "Model Name                  1303 non-null object\n",
      "Category                    1303 non-null object\n",
      "Screen Size                 1303 non-null object\n",
      "Screen                      1303 non-null object\n",
      "CPU                         1303 non-null object\n",
      "RAM                         1303 non-null object\n",
      " Storage                    1303 non-null object\n",
      "GPU                         1303 non-null object\n",
      "Operating System            1303 non-null object\n",
      "Operating System Version    1133 non-null object\n",
      "Weight                      1303 non-null object\n",
      "Price (Euros)               1303 non-null object\n",
      "dtypes: object(13)\n",
      "memory usage: 132.4+ KB\n"
     ]
    }
   ],
   "source": [
    "import pandas as pd\n",
    "laptops = pd.read_csv('laptops.csv', encoding='Latin-1')\n",
    "laptops.info()"
   ]
  },
  {
   "cell_type": "code",
   "execution_count": 106,
   "metadata": {},
   "outputs": [
    {
     "data": {
      "text/plain": [
       "Index(['Manufacturer', 'Model Name', 'Category', 'Screen Size', 'Screen',\n",
       "       'CPU', 'RAM', ' Storage', 'GPU', 'Operating System',\n",
       "       'Operating System Version', 'Weight', 'Price (Euros)'],\n",
       "      dtype='object')"
      ]
     },
     "execution_count": 106,
     "metadata": {},
     "output_type": "execute_result"
    }
   ],
   "source": [
    "laptops.columns"
   ]
  },
  {
   "cell_type": "code",
   "execution_count": 107,
   "metadata": {},
   "outputs": [
    {
     "data": {
      "text/plain": [
       "Index(['Manufacturer', 'Model Name', 'Category', 'Screen Size', 'Screen',\n",
       "       'CPU', 'RAM', 'Storage', 'GPU', 'Operating System',\n",
       "       'Operating System Version', 'Weight', 'Price (Euros)'],\n",
       "      dtype='object')"
      ]
     },
     "execution_count": 107,
     "metadata": {},
     "output_type": "execute_result"
    }
   ],
   "source": [
    "new_columns = []\n",
    "for c in laptops.columns:\n",
    "    clean_c = c.strip()\n",
    "    new_columns.append(clean_c)\n",
    "    \n",
    "laptops.columns = new_columns\n",
    "laptops.columns"
   ]
  },
  {
   "cell_type": "code",
   "execution_count": 108,
   "metadata": {},
   "outputs": [
    {
     "name": "stdout",
     "output_type": "stream",
     "text": [
      "<class 'pandas.core.frame.DataFrame'>\n",
      "RangeIndex: 1303 entries, 0 to 1302\n",
      "Data columns (total 13 columns):\n",
      "manufacturer    1303 non-null object\n",
      "model_name      1303 non-null object\n",
      "category        1303 non-null object\n",
      "screen_size     1303 non-null object\n",
      "screen          1303 non-null object\n",
      "cpu             1303 non-null object\n",
      "ram             1303 non-null object\n",
      "storage         1303 non-null object\n",
      "gpu             1303 non-null object\n",
      "os              1303 non-null object\n",
      "os_version      1133 non-null object\n",
      "weight          1303 non-null object\n",
      "price_euros     1303 non-null object\n",
      "dtypes: object(13)\n",
      "memory usage: 132.4+ KB\n"
     ]
    }
   ],
   "source": [
    "# clean the column labels\n",
    "def clean_col(col):\n",
    "    col = col.strip()\n",
    "    col = col.replace('Operating System','os')\n",
    "    col = col.replace(' ','_')\n",
    "    col = col.replace('(','')\n",
    "    col = col.replace(')',\"\")\n",
    "    col = col.lower()\n",
    "    return col\n",
    "laptops.columns = [clean_col(col) for col in laptops.columns]\n",
    "laptops.info()"
   ]
  },
  {
   "cell_type": "code",
   "execution_count": 109,
   "metadata": {},
   "outputs": [
    {
     "data": {
      "text/plain": [
       "array(['13.3\"', '15.6\"', '15.4\"', '14.0\"', '12.0\"', '11.6\"', '17.3\"',\n",
       "       '10.1\"', '13.5\"', '12.5\"', '13.0\"', '18.4\"', '13.9\"', '12.3\"',\n",
       "       '17.0\"', '15.0\"', '14.1\"', '11.3\"'], dtype=object)"
      ]
     },
     "execution_count": 109,
     "metadata": {},
     "output_type": "execute_result"
    }
   ],
   "source": [
    "laptops['screen_size'].unique()"
   ]
  },
  {
   "cell_type": "code",
   "execution_count": 110,
   "metadata": {},
   "outputs": [],
   "source": [
    "laptops['screen_size'] = laptops['screen_size'].str.replace('\"','').astype(float)\n",
    "laptops.rename({'screen_size': 'screen_size_inches'}, axis=1, inplace=True)"
   ]
  },
  {
   "cell_type": "code",
   "execution_count": 111,
   "metadata": {},
   "outputs": [
    {
     "data": {
      "text/plain": [
       "array(['8GB', '16GB', '4GB', '2GB', '12GB', '6GB', '32GB', '24GB', '64GB'],\n",
       "      dtype=object)"
      ]
     },
     "execution_count": 111,
     "metadata": {},
     "output_type": "execute_result"
    }
   ],
   "source": [
    "laptops['ram'].unique()"
   ]
  },
  {
   "cell_type": "code",
   "execution_count": 112,
   "metadata": {},
   "outputs": [],
   "source": [
    "laptops['ram'] = laptops['ram'].str.replace('GB','').astype(int)\n",
    "laptops.rename({'ram': 'ram_gb'}, axis=1, inplace=True)"
   ]
  },
  {
   "cell_type": "code",
   "execution_count": 113,
   "metadata": {},
   "outputs": [
    {
     "data": {
      "text/plain": [
       "array(['1.37kg', '1.34kg', '1.86kg', '1.83kg', '2.1kg', '2.04kg', '1.3kg',\n",
       "       '1.6kg', '2.2kg', '0.92kg', '1.22kg', '0.98kg', '2.5kg', '1.62kg',\n",
       "       '1.91kg', '2.3kg', '1.35kg', '1.88kg', '1.89kg', '1.65kg',\n",
       "       '2.71kg', '1.2kg', '1.44kg', '2.8kg', '2kg', '2.65kg', '2.77kg',\n",
       "       '3.2kg', '0.69kg', '1.49kg', '2.4kg', '2.13kg', '2.43kg', '1.7kg',\n",
       "       '1.4kg', '1.8kg', '1.9kg', '3kg', '1.252kg', '2.7kg', '2.02kg',\n",
       "       '1.63kg', '1.96kg', '1.21kg', '2.45kg', '1.25kg', '1.5kg',\n",
       "       '2.62kg', '1.38kg', '1.58kg', '1.85kg', '1.23kg', '1.26kg',\n",
       "       '2.16kg', '2.36kg', '2.05kg', '1.32kg', '1.75kg', '0.97kg',\n",
       "       '2.9kg', '2.56kg', '1.48kg', '1.74kg', '1.1kg', '1.56kg', '2.03kg',\n",
       "       '1.05kg', '4.4kg', '1.90kg', '1.29kg', '2.0kg', '1.95kg', '2.06kg',\n",
       "       '1.12kg', '1.42kg', '3.49kg', '3.35kg', '2.23kg', '4.42kg',\n",
       "       '2.69kg', '2.37kg', '4.7kg', '3.6kg', '2.08kg', '4.3kg', '1.68kg',\n",
       "       '1.41kg', '4.14kg', '2.18kg', '2.24kg', '2.67kg', '2.14kg',\n",
       "       '1.36kg', '2.25kg', '2.15kg', '2.19kg', '2.54kg', '3.42kg',\n",
       "       '1.28kg', '2.33kg', '1.45kg', '2.79kg', '1.84kg', '2.6kg',\n",
       "       '2.26kg', '3.25kg', '1.59kg', '1.13kg', '1.78kg', '1.10kg',\n",
       "       '1.15kg', '1.27kg', '1.43kg', '2.31kg', '1.16kg', '1.64kg',\n",
       "       '2.17kg', '1.47kg', '3.78kg', '1.79kg', '0.91kg', '1.99kg',\n",
       "       '4.33kg', '1.93kg', '1.87kg', '2.63kg', '3.4kg', '3.14kg',\n",
       "       '1.94kg', '1.24kg', '4.6kg', '4.5kg', '2.73kg', '1.39kg', '2.29kg',\n",
       "       '2.59kg', '2.94kg', '1.14kg', '3.8kg', '3.31kg', '1.09kg',\n",
       "       '3.21kg', '1.19kg', '1.98kg', '1.17kg', '4.36kg', '1.71kg',\n",
       "       '2.32kg', '4.2kg', '1.55kg', '0.81kg', '1.18kg', '2.72kg',\n",
       "       '1.31kg', '0.920kg', '3.74kg', '1.76kg', '1.54kg', '2.83kg',\n",
       "       '2.07kg', '2.38kg', '3.58kg', '1.08kg', '2.20kg', '2.75kg',\n",
       "       '1.70kg', '2.99kg', '1.11kg', '2.09kg', '4kgs', '3.0kg', '0.99kg',\n",
       "       '3.52kg', '2.591kg', '2.21kg', '3.3kg', '2.191kg', '2.34kg',\n",
       "       '4.0kg'], dtype=object)"
      ]
     },
     "execution_count": 113,
     "metadata": {},
     "output_type": "execute_result"
    }
   ],
   "source": [
    "laptops['weight'].unique()"
   ]
  },
  {
   "cell_type": "code",
   "execution_count": 114,
   "metadata": {},
   "outputs": [
    {
     "name": "stdout",
     "output_type": "stream",
     "text": [
      "count    1303.000000\n",
      "mean        2.038734\n",
      "std         0.665475\n",
      "min         0.690000\n",
      "25%         1.500000\n",
      "50%         2.040000\n",
      "75%         2.300000\n",
      "max         4.700000\n",
      "Name: weight_kg, dtype: float64\n",
      "count    1303.000000\n",
      "mean     1123.686992\n",
      "std       699.009043\n",
      "min       174.000000\n",
      "25%       599.000000\n",
      "50%       977.000000\n",
      "75%      1487.880000\n",
      "max      6099.000000\n",
      "Name: price_euros, dtype: float64\n"
     ]
    }
   ],
   "source": [
    "laptops['weight'] = laptops['weight'].str.replace('kg', '')\n",
    "laptops['weight'] = laptops['weight'].str.replace('s', '').astype(float)\n",
    "laptops.rename({'weight':'weight_kg'}, axis=1, inplace=True)\n",
    "laptops['price_euros'] = laptops['price_euros'].str.replace(',', '.').astype(float)\n",
    "weight_describe = laptops['weight_kg'].describe()\n",
    "price_describe = laptops['price_euros'].describe()\n",
    "print(weight_describe)\n",
    "print(price_describe)"
   ]
  },
  {
   "cell_type": "code",
   "execution_count": 115,
   "metadata": {},
   "outputs": [
    {
     "name": "stdout",
     "output_type": "stream",
     "text": [
      "manufacturer           object\n",
      "model_name             object\n",
      "category               object\n",
      "screen_size_inches    float64\n",
      "screen                 object\n",
      "cpu                    object\n",
      "ram_gb                  int32\n",
      "storage                object\n",
      "gpu                    object\n",
      "os                     object\n",
      "os_version             object\n",
      "weight_kg             float64\n",
      "price_euros           float64\n",
      "dtype: object\n"
     ]
    }
   ],
   "source": [
    "dtypes = laptops.dtypes\n",
    "print(dtypes)"
   ]
  },
  {
   "cell_type": "code",
   "execution_count": 116,
   "metadata": {},
   "outputs": [
    {
     "data": {
      "text/plain": [
       "Intel HD Graphics 620      281\n",
       "Intel HD Graphics 520      185\n",
       "Intel UHD Graphics 620      68\n",
       "Nvidia GeForce GTX 1050     66\n",
       "Nvidia GeForce GTX 1060     48\n",
       "Name: gpu, dtype: int64"
      ]
     },
     "execution_count": 116,
     "metadata": {},
     "output_type": "execute_result"
    }
   ],
   "source": [
    "laptops['gpu'].value_counts().head()"
   ]
  },
  {
   "cell_type": "code",
   "execution_count": 117,
   "metadata": {},
   "outputs": [
    {
     "name": "stdout",
     "output_type": "stream",
     "text": [
      "0    Intel\n",
      "1    Intel\n",
      "2    Intel\n",
      "3      AMD\n",
      "4    Intel\n",
      "Name: gpu_manufacturer, dtype: object\n"
     ]
    }
   ],
   "source": [
    "# Extract manufacturer data\n",
    "laptops['gpu_manufacturer'] = laptops['gpu'].str.split(n=1,expand=True).iloc[:,0] \n",
    "laptops['cpu_manufacturer'] = laptops['cpu'].str.split(n=1,expand=True).iloc[:,0]                               \n",
    "print(laptops['gpu_manufacturer'].head())"
   ]
  },
  {
   "cell_type": "code",
   "execution_count": 118,
   "metadata": {},
   "outputs": [
    {
     "data": {
      "text/plain": [
       "array(['IPS Panel Retina Display 2560x1600', '1440x900',\n",
       "       'Full HD 1920x1080', 'IPS Panel Retina Display 2880x1800',\n",
       "       '1366x768', 'IPS Panel Full HD 1920x1080',\n",
       "       'IPS Panel Retina Display 2304x1440',\n",
       "       'IPS Panel Full HD / Touchscreen 1920x1080',\n",
       "       'Full HD / Touchscreen 1920x1080',\n",
       "       'Touchscreen / Quad HD+ 3200x1800',\n",
       "       'IPS Panel Touchscreen 1920x1200', 'Touchscreen 2256x1504',\n",
       "       'Quad HD+ / Touchscreen 3200x1800', 'IPS Panel 1366x768',\n",
       "       'IPS Panel 4K Ultra HD / Touchscreen 3840x2160',\n",
       "       'IPS Panel Full HD 2160x1440',\n",
       "       '4K Ultra HD / Touchscreen 3840x2160', 'Touchscreen 2560x1440',\n",
       "       '1600x900', 'IPS Panel 4K Ultra HD 3840x2160',\n",
       "       '4K Ultra HD 3840x2160', 'Touchscreen 1366x768',\n",
       "       'IPS Panel Full HD 1366x768', 'IPS Panel 2560x1440',\n",
       "       'IPS Panel Full HD 2560x1440',\n",
       "       'IPS Panel Retina Display 2736x1824', 'Touchscreen 2400x1600',\n",
       "       '2560x1440', 'IPS Panel Quad HD+ 2560x1440',\n",
       "       'IPS Panel Quad HD+ 3200x1800',\n",
       "       'IPS Panel Quad HD+ / Touchscreen 3200x1800',\n",
       "       'IPS Panel Touchscreen 1366x768', '1920x1080',\n",
       "       'IPS Panel Full HD 1920x1200',\n",
       "       'IPS Panel Touchscreen / 4K Ultra HD 3840x2160',\n",
       "       'IPS Panel Touchscreen 2560x1440',\n",
       "       'Touchscreen / Full HD 1920x1080', 'Quad HD+ 3200x1800',\n",
       "       'Touchscreen / 4K Ultra HD 3840x2160',\n",
       "       'IPS Panel Touchscreen 2400x1600'], dtype=object)"
      ]
     },
     "execution_count": 118,
     "metadata": {},
     "output_type": "execute_result"
    }
   ],
   "source": [
    "laptops['screen'].unique()"
   ]
  },
  {
   "cell_type": "code",
   "execution_count": 119,
   "metadata": {},
   "outputs": [
    {
     "name": "stdout",
     "output_type": "stream",
     "text": [
      "0    2560x1600\n",
      "1     1440x900\n",
      "2    1920x1080\n",
      "3    2880x1800\n",
      "4    2560x1600\n",
      "Name: screen_resolution, dtype: object\n"
     ]
    }
   ],
   "source": [
    "screen_res = laptops['screen'].str.rsplit(n=1, expand=True)\n",
    "screen_res.columns = ['A', 'B']\n",
    "screen_res.loc[screen_res['B'].isnull(), 'B'] = screen_res['A']\n",
    "laptops['screen_resolution'] = screen_res['B']\n",
    "print(laptops['screen_resolution'].head())"
   ]
  },
  {
   "cell_type": "code",
   "execution_count": 120,
   "metadata": {},
   "outputs": [],
   "source": [
    "laptops['cpu_speed_ghz'] = laptops['cpu'].str.replace('GHz', '')\n",
    "ca_speed=laptops['cpu_speed_ghz'].str.rsplit(n=1, expand=True)\n",
    "laptops['cpu_speed_ghz'] = ca_speed.iloc[:,1].astype(float)"
   ]
  },
  {
   "cell_type": "code",
   "execution_count": 121,
   "metadata": {},
   "outputs": [],
   "source": [
    "mapping_dict = {\n",
    "    'Android': 'Android',\n",
    "    'Chrome OS': 'Chrome OS',\n",
    "    'Linux': 'Linux',\n",
    "    'Mac OS': 'macOS',\n",
    "    'No OS': 'No OS',\n",
    "    'Windows': 'Windows',\n",
    "    'macOS': 'macOS'\n",
    "}\n",
    "laptops['os'] = laptops['os'].map(mapping_dict)"
   ]
  },
  {
   "cell_type": "code",
   "execution_count": 122,
   "metadata": {},
   "outputs": [],
   "source": [
    "laptops_no_null_rows = laptops.dropna()\n",
    "laptops_no_null_cols = laptops.dropna(axis=1)"
   ]
  },
  {
   "cell_type": "code",
   "execution_count": 123,
   "metadata": {},
   "outputs": [
    {
     "name": "stdout",
     "output_type": "stream",
     "text": [
      "Linux        62\n",
      "Chrome OS    27\n",
      "Android       2\n",
      "Name: os, dtype: int64\n"
     ]
    }
   ],
   "source": [
    "value_counts_before = laptops.loc[laptops['os_version'].isnull(), 'os'].value_counts()\n",
    "laptops.loc[laptops['os'] == 'macOS', 'os_version'] = 'X'\n",
    "laptops.loc[laptops['os'] == 'No OS', 'os_version'] = 'Version Unknown'\n",
    "value_counts_after = laptops.loc[laptops[\"os_version\"].isnull(), \"os\"].value_counts()\n",
    "print(value_counts_after)"
   ]
  },
  {
   "cell_type": "code",
   "execution_count": 124,
   "metadata": {},
   "outputs": [
    {
     "data": {
      "text/plain": [
       "array(['128GB SSD', '128GB Flash Storage', '256GB SSD', '512GB SSD',\n",
       "       '500GB HDD', '256GB Flash Storage', '1TB HDD',\n",
       "       '32GB Flash Storage', '128GB SSD +  1TB HDD',\n",
       "       '256GB SSD +  256GB SSD', '64GB Flash Storage',\n",
       "       '256GB SSD +  1TB HDD', '256GB SSD +  2TB HDD', '32GB SSD',\n",
       "       '2TB HDD', '64GB SSD', '1TB Hybrid', '512GB SSD +  1TB HDD',\n",
       "       '1TB SSD', '256GB SSD +  500GB HDD', '128GB SSD +  2TB HDD',\n",
       "       '512GB SSD +  512GB SSD', '16GB SSD', '16GB Flash Storage',\n",
       "       '512GB SSD +  256GB SSD', '512GB SSD +  2TB HDD',\n",
       "       '64GB Flash Storage +  1TB HDD', '1GB SSD', '1TB HDD +  1TB HDD',\n",
       "       '32GB HDD', '1TB SSD +  1TB HDD', '512GB Flash Storage',\n",
       "       '128GB HDD', '240GB SSD', '8GB SSD', '508GB Hybrid',\n",
       "       '512GB SSD +  1TB Hybrid', '256GB SSD +  1TB Hybrid'], dtype=object)"
      ]
     },
     "execution_count": 124,
     "metadata": {},
     "output_type": "execute_result"
    }
   ],
   "source": [
    "laptops['storage'].unique()"
   ]
  },
  {
   "cell_type": "code",
   "execution_count": 125,
   "metadata": {},
   "outputs": [],
   "source": [
    "laptops['storage'] = laptops['storage'].str.replace('Flash Storage', 'Flash_Storage')\n",
    "sp = laptops['storage'].str.split(expand=True)\n",
    "laptops['storage_1_capacity_gb'] = sp[0].str.replace('GB', '')\n",
    "laptops['storage_1_capacity_gb'] = laptops['storage_1_capacity_gb'].str.replace('TB', '000').astype(float)\n",
    "laptops['storage_1_type'] = sp[1]\n",
    "laptops['storage_1_type'] = laptops['storage_1_type'].str.replace('Flash_Storage', 'Flash Storage')\n",
    "\n",
    "laptops['storage_2_capacity_gb'] = sp[3].str.replace('GB', '')\n",
    "laptops['storage_2_capacity_gb'] = laptops['storage_2_capacity_gb'].str.replace('TB', '000').astype(float)\n",
    "laptops['storage_2_type'] = sp[4]\n",
    "laptops['storage_2_type'] = laptops['storage_2_type'].str.replace('Flash_Storage', 'Flash Storage')\n",
    "laptops = laptops.drop('storage', axis=1)"
   ]
  },
  {
   "cell_type": "code",
   "execution_count": 131,
   "metadata": {},
   "outputs": [
    {
     "name": "stdout",
     "output_type": "stream",
     "text": [
      "[1.28e+02 2.56e+02 5.12e+02 5.00e+02 1.00e+03 3.20e+01 6.40e+01 2.00e+03\n",
      " 1.60e+01 1.00e+00 2.40e+02 8.00e+00 5.08e+02]\n",
      "['SSD' 'Flash Storage' 'HDD' 'Hybrid']\n",
      "[  nan 1000.  256. 2000.  500.  512.]\n",
      "[None 'HDD' 'SSD' 'Hybrid']\n"
     ]
    }
   ],
   "source": [
    "print(laptops['storage_1_capacity_gb'].unique())\n",
    "print(laptops['storage_1_type'].unique())\n",
    "print(laptops['storage_2_capacity_gb'].unique())\n",
    "print(laptops['storage_2_type'].unique())"
   ]
  },
  {
   "cell_type": "code",
   "execution_count": null,
   "metadata": {},
   "outputs": [],
   "source": [
    "cols = ['manufacturer', 'model_name', 'category', 'screen_size_inches',\n",
    "        'screen', 'cpu', 'cpu_manufacturer', 'screen_resolution', 'cpu_speed_ghz', 'ram_gb',\n",
    "        'storage_1_type', 'storage_1_capacity_gb', 'storage_2_type',\n",
    "        'storage_2_capacity_gb', 'gpu', 'gpu_manufacturer', 'os',\n",
    "        'os_version', 'weight_kg', 'price_euros']\n",
    "laptops = laptops.loc[:, cols]\n",
    "laptops.to_csv('laptops_cleaned.csv', index=False)\n",
    "laptops_cleaned = pd.read_csv('laptops_cleaned.csv')\n",
    "laptops_cleaned_dtypes=laptops_cleaned.dtypes"
   ]
  },
  {
   "cell_type": "markdown",
   "metadata": {},
   "source": [
    "#### Working with Missing Data"
   ]
  },
  {
   "cell_type": "code",
   "execution_count": 76,
   "metadata": {},
   "outputs": [
    {
     "data": {
      "text/plain": [
       "unique_key                 0\n",
       "date                       0\n",
       "time                       0\n",
       "borough                20646\n",
       "location                3885\n",
       "on_street              13961\n",
       "cross_street           29249\n",
       "off_street             44093\n",
       "pedestrians_injured        0\n",
       "cyclist_injured            0\n",
       "motorist_injured           0\n",
       "total_injured              1\n",
       "pedestrians_killed         0\n",
       "cyclist_killed             0\n",
       "motorist_killed            0\n",
       "total_killed               5\n",
       "vehicle_1                355\n",
       "vehicle_2              12262\n",
       "vehicle_3              54352\n",
       "vehicle_4              57158\n",
       "vehicle_5              57681\n",
       "cause_vehicle_1          175\n",
       "cause_vehicle_2         8692\n",
       "cause_vehicle_3        54134\n",
       "cause_vehicle_4        57111\n",
       "cause_vehicle_5        57671\n",
       "dtype: int64"
      ]
     },
     "execution_count": 76,
     "metadata": {},
     "output_type": "execute_result"
    }
   ],
   "source": [
    "import pandas as pd\n",
    "mvc = pd.read_csv(\"nypd_mvc_2018.csv\")\n",
    "null_counts = mvc.isnull().sum()\n",
    "null_counts"
   ]
  },
  {
   "cell_type": "code",
   "execution_count": 77,
   "metadata": {},
   "outputs": [
    {
     "data": {
      "text/html": [
       "<div>\n",
       "<style scoped>\n",
       "    .dataframe tbody tr th:only-of-type {\n",
       "        vertical-align: middle;\n",
       "    }\n",
       "\n",
       "    .dataframe tbody tr th {\n",
       "        vertical-align: top;\n",
       "    }\n",
       "\n",
       "    .dataframe thead th {\n",
       "        text-align: right;\n",
       "    }\n",
       "</style>\n",
       "<table border=\"1\" class=\"dataframe\">\n",
       "  <thead>\n",
       "    <tr style=\"text-align: right;\">\n",
       "      <th></th>\n",
       "      <th>pedestrians_killed</th>\n",
       "      <th>cyclist_killed</th>\n",
       "      <th>motorist_killed</th>\n",
       "      <th>total_killed</th>\n",
       "    </tr>\n",
       "  </thead>\n",
       "  <tbody>\n",
       "    <tr>\n",
       "      <th>null_counts</th>\n",
       "      <td>0</td>\n",
       "      <td>0</td>\n",
       "      <td>0</td>\n",
       "      <td>5</td>\n",
       "    </tr>\n",
       "    <tr>\n",
       "      <th>null_pct</th>\n",
       "      <td>0</td>\n",
       "      <td>0</td>\n",
       "      <td>0</td>\n",
       "      <td>0</td>\n",
       "    </tr>\n",
       "  </tbody>\n",
       "</table>\n",
       "</div>"
      ],
      "text/plain": [
       "             pedestrians_killed  cyclist_killed  motorist_killed  total_killed\n",
       "null_counts                   0               0                0             5\n",
       "null_pct                      0               0                0             0"
      ]
     },
     "execution_count": 77,
     "metadata": {},
     "output_type": "execute_result"
    }
   ],
   "source": [
    "null_counts_pct = null_counts / mvc.shape[0] * 100\n",
    "null_df = pd.DataFrame({'null_counts': null_counts, 'null_pct': null_counts_pct})\n",
    "# Rotate the dataframe\n",
    "null_df = null_df.T.astype(int)\n",
    "killed_cols = [col for col in mvc.columns if 'killed' in col]\n",
    "null_df[killed_cols]"
   ]
  },
  {
   "cell_type": "code",
   "execution_count": 78,
   "metadata": {},
   "outputs": [
    {
     "data": {
      "text/html": [
       "<div>\n",
       "<style scoped>\n",
       "    .dataframe tbody tr th:only-of-type {\n",
       "        vertical-align: middle;\n",
       "    }\n",
       "\n",
       "    .dataframe tbody tr th {\n",
       "        vertical-align: top;\n",
       "    }\n",
       "\n",
       "    .dataframe thead th {\n",
       "        text-align: right;\n",
       "    }\n",
       "</style>\n",
       "<table border=\"1\" class=\"dataframe\">\n",
       "  <thead>\n",
       "    <tr style=\"text-align: right;\">\n",
       "      <th></th>\n",
       "      <th>pedestrians_killed</th>\n",
       "      <th>cyclist_killed</th>\n",
       "      <th>motorist_killed</th>\n",
       "      <th>total_killed</th>\n",
       "    </tr>\n",
       "  </thead>\n",
       "  <tbody>\n",
       "    <tr>\n",
       "      <th>3508</th>\n",
       "      <td>0</td>\n",
       "      <td>0</td>\n",
       "      <td>0</td>\n",
       "      <td>NaN</td>\n",
       "    </tr>\n",
       "    <tr>\n",
       "      <th>20163</th>\n",
       "      <td>0</td>\n",
       "      <td>0</td>\n",
       "      <td>0</td>\n",
       "      <td>NaN</td>\n",
       "    </tr>\n",
       "    <tr>\n",
       "      <th>22046</th>\n",
       "      <td>0</td>\n",
       "      <td>0</td>\n",
       "      <td>1</td>\n",
       "      <td>0.0</td>\n",
       "    </tr>\n",
       "    <tr>\n",
       "      <th>48719</th>\n",
       "      <td>0</td>\n",
       "      <td>0</td>\n",
       "      <td>0</td>\n",
       "      <td>NaN</td>\n",
       "    </tr>\n",
       "    <tr>\n",
       "      <th>55148</th>\n",
       "      <td>0</td>\n",
       "      <td>0</td>\n",
       "      <td>0</td>\n",
       "      <td>NaN</td>\n",
       "    </tr>\n",
       "    <tr>\n",
       "      <th>55699</th>\n",
       "      <td>0</td>\n",
       "      <td>0</td>\n",
       "      <td>0</td>\n",
       "      <td>NaN</td>\n",
       "    </tr>\n",
       "  </tbody>\n",
       "</table>\n",
       "</div>"
      ],
      "text/plain": [
       "       pedestrians_killed  cyclist_killed  motorist_killed  total_killed\n",
       "3508                    0               0                0           NaN\n",
       "20163                   0               0                0           NaN\n",
       "22046                   0               0                1           0.0\n",
       "48719                   0               0                0           NaN\n",
       "55148                   0               0                0           NaN\n",
       "55699                   0               0                0           NaN"
      ]
     },
     "execution_count": 78,
     "metadata": {},
     "output_type": "execute_result"
    }
   ],
   "source": [
    "killed_cols = [col for col in mvc.columns if 'killed' in col]\n",
    "killed = mvc[killed_cols].copy()\n",
    "killed_manual_sum = killed.iloc[:,:3].sum(axis = 1)\n",
    "killed_mask = (killed_manual_sum != killed[\"total_killed\"])\n",
    "killed_non_eq = killed[killed_mask]\n",
    "killed_non_eq"
   ]
  },
  {
   "cell_type": "code",
   "execution_count": 79,
   "metadata": {},
   "outputs": [
    {
     "name": "stdout",
     "output_type": "stream",
     "text": [
      "0\n",
      "1\n"
     ]
    }
   ],
   "source": [
    "print(killed_manual_sum.iloc[3508])\n",
    "print(killed_manual_sum.iloc[22046])"
   ]
  },
  {
   "cell_type": "markdown",
   "metadata": {},
   "source": [
    "Filling null values with the sum of the columns should be a reasonable method for imputation, since only six rows out of 58,000 where total killed != sum of all killed categories."
   ]
  },
  {
   "cell_type": "code",
   "execution_count": 80,
   "metadata": {},
   "outputs": [
    {
     "data": {
      "text/plain": [
       "0.0    57814\n",
       "1.0       49\n",
       "Name: total_killed, dtype: int64"
      ]
     },
     "execution_count": 80,
     "metadata": {},
     "output_type": "execute_result"
    }
   ],
   "source": [
    "import numpy as np\n",
    "\n",
    "# fix the killed values\n",
    "killed['total_killed'] = killed['total_killed'].mask(killed['total_killed'].isnull(), killed_manual_sum)\n",
    "killed['total_killed'] = killed['total_killed'].mask(killed['total_killed'] != killed_manual_sum, np.nan)\n",
    "killed['total_killed'].value_counts(dropna=True)"
   ]
  },
  {
   "cell_type": "code",
   "execution_count": 81,
   "metadata": {},
   "outputs": [
    {
     "data": {
      "text/plain": [
       "0.0     46615\n",
       "1.0      8590\n",
       "2.0      1737\n",
       "3.0       550\n",
       "4.0       223\n",
       "5.0        77\n",
       "6.0        27\n",
       "7.0        16\n",
       "9.0         2\n",
       "15.0        1\n",
       "10.0        1\n",
       "13.0        1\n",
       "14.0        1\n",
       "22.0        1\n",
       "8.0         1\n",
       "Name: total_injured, dtype: int64"
      ]
     },
     "execution_count": 81,
     "metadata": {},
     "output_type": "execute_result"
    }
   ],
   "source": [
    "# Create an injured dataframe and manually sum values\n",
    "injured = mvc[[col for col in mvc.columns if 'injured' in col]].copy()\n",
    "injured_manual_sum = injured.iloc[:,:3].sum(axis=1)\n",
    "injured['total_injured'] = injured['total_injured'].mask(injured['total_injured'].isnull(), injured_manual_sum)\n",
    "injured['total_injured'] = injured['total_injured'].mask(injured['total_injured'] !=injured_manual_sum, np.nan)\n",
    "injured['total_injured'].value_counts()"
   ]
  },
  {
   "cell_type": "code",
   "execution_count": 82,
   "metadata": {},
   "outputs": [
    {
     "name": "stdout",
     "output_type": "stream",
     "text": [
      "        injured  killed\n",
      "before        1       5\n",
      "after        21       1\n"
     ]
    }
   ],
   "source": [
    "summary = {\n",
    "    'injured': [\n",
    "        mvc['total_injured'].isnull().sum(),\n",
    "        injured['total_injured'].isnull().sum()\n",
    "    ],\n",
    "    'killed': [\n",
    "        mvc['total_killed'].isnull().sum(),\n",
    "        killed['total_killed'].isnull().sum()\n",
    "    ]\n",
    "}\n",
    "print(pd.DataFrame(summary, index=['before','after']))"
   ]
  },
  {
   "cell_type": "code",
   "execution_count": 83,
   "metadata": {},
   "outputs": [],
   "source": [
    "mvc[\"total_injured\"] = injured[\"total_injured\"]\n",
    "mvc[\"total_killed\"] = killed[\"total_killed\"]"
   ]
  },
  {
   "cell_type": "code",
   "execution_count": 84,
   "metadata": {},
   "outputs": [
    {
     "data": {
      "image/png": "[encoded data removed]",
      "text/plain": [
       "<Figure size 576x288 with 1 Axes>"
      ]
     },
     "metadata": {
      "needs_background": "light"
     },
     "output_type": "display_data"
    }
   ],
   "source": [
    "import matplotlib.pyplot as plt\n",
    "import seaborn as sns\n",
    "%matplotlib inline\n",
    "\n",
    "def plot_null_correlations(df):\n",
    "    # create a correlation matrix only for columns with at least one missing value\n",
    "    cols_with_missing_vals = df.columns[df.isnull().sum() > 0]\n",
    "    missing_corr = df[cols_with_missing_vals].isnull().corr()\n",
    "    \n",
    "    # create a triangular mask to avoid repeated values\n",
    "    missing_corr = missing_corr.iloc[1:, :-1]\n",
    "    mask = np.triu(np.ones_like(missing_corr), k=1)\n",
    "    \n",
    "    # plot a heatmap of the values\n",
    "    plt.figure(figsize=(8,4))\n",
    "    ax = sns.heatmap(missing_corr, vmin=-1, vmax=1, cbar=False,\n",
    "                     cmap='RdBu', mask=mask, annot=True)\n",
    "    \n",
    "    # format the text in the plot\n",
    "    for text in ax.texts:\n",
    "        t = float(text.get_text())\n",
    "        if -0.05 < t < 0.01:\n",
    "            text.set_text('')\n",
    "        else:\n",
    "            text.set_text(round(t, 2))\n",
    "        text.set_fontsize('x-large')\n",
    "    plt.xticks(rotation=90, size='x-large')\n",
    "    plt.yticks(rotation=0, size='x-large')\n",
    "\n",
    "    plt.show()\n",
    "    \n",
    "col_name = [l for l in mvc.columns if \"vehicle\" in l]\n",
    "plot_null_correlations(mvc[col_name])"
   ]
  },
  {
   "cell_type": "code",
   "execution_count": 85,
   "metadata": {},
   "outputs": [
    {
     "data": {
      "text/html": [
       "<div>\n",
       "<style scoped>\n",
       "    .dataframe tbody tr th:only-of-type {\n",
       "        vertical-align: middle;\n",
       "    }\n",
       "\n",
       "    .dataframe tbody tr th {\n",
       "        vertical-align: top;\n",
       "    }\n",
       "\n",
       "    .dataframe thead th {\n",
       "        text-align: right;\n",
       "    }\n",
       "</style>\n",
       "<table border=\"1\" class=\"dataframe\">\n",
       "  <thead>\n",
       "    <tr style=\"text-align: right;\">\n",
       "      <th></th>\n",
       "      <th>v_number</th>\n",
       "      <th>vehicle_missing</th>\n",
       "      <th>cause_missing</th>\n",
       "    </tr>\n",
       "  </thead>\n",
       "  <tbody>\n",
       "    <tr>\n",
       "      <th>0</th>\n",
       "      <td>1</td>\n",
       "      <td>204</td>\n",
       "      <td>24</td>\n",
       "    </tr>\n",
       "    <tr>\n",
       "      <th>1</th>\n",
       "      <td>2</td>\n",
       "      <td>3793</td>\n",
       "      <td>223</td>\n",
       "    </tr>\n",
       "    <tr>\n",
       "      <th>2</th>\n",
       "      <td>3</td>\n",
       "      <td>242</td>\n",
       "      <td>24</td>\n",
       "    </tr>\n",
       "    <tr>\n",
       "      <th>3</th>\n",
       "      <td>4</td>\n",
       "      <td>50</td>\n",
       "      <td>3</td>\n",
       "    </tr>\n",
       "    <tr>\n",
       "      <th>4</th>\n",
       "      <td>5</td>\n",
       "      <td>10</td>\n",
       "      <td>0</td>\n",
       "    </tr>\n",
       "  </tbody>\n",
       "</table>\n",
       "</div>"
      ],
      "text/plain": [
       "   v_number  vehicle_missing  cause_missing\n",
       "0         1              204             24\n",
       "1         2             3793            223\n",
       "2         3              242             24\n",
       "3         4               50              3\n",
       "4         5               10              0"
      ]
     },
     "execution_count": 85,
     "metadata": {},
     "output_type": "execute_result"
    }
   ],
   "source": [
    "col_labels = ['v_number', 'vehicle_missing', 'cause_missing']\n",
    "vc_null_data = []\n",
    "\n",
    "for v in range(1,6):\n",
    "    v_col = 'vehicle_{}'.format(v)\n",
    "    c_col = 'cause_vehicle_{}'.format(v)\n",
    "    \n",
    "    v_null = (mvc[v_col].isnull() & mvc[c_col].notnull()).sum()\n",
    "    c_null = (mvc[c_col].isnull() & mvc[v_col].notnull()).sum()\n",
    "    vc_null_data.append([v, v_null, c_null])\n",
    "\n",
    "vc_null_df = pd.DataFrame(vc_null_data, columns=col_labels)\n",
    "vc_null_df"
   ]
  },
  {
   "cell_type": "code",
   "execution_count": 86,
   "metadata": {},
   "outputs": [
    {
     "data": {
      "text/plain": [
       "Sedan                                  33133\n",
       "Station Wagon/Sport Utility Vehicle    26124\n",
       "PASSENGER VEHICLE                      16026\n",
       "SPORT UTILITY / STATION WAGON          12356\n",
       "Taxi                                    3482\n",
       "Pick-up Truck                           2373\n",
       "TAXI                                    1892\n",
       "Box Truck                               1659\n",
       "Bike                                    1190\n",
       "Bus                                     1162\n",
       "dtype: int64"
      ]
     },
     "execution_count": 86,
     "metadata": {},
     "output_type": "execute_result"
    }
   ],
   "source": [
    "# find the most common value in all columns\n",
    "v_cols = [c for c in mvc.columns if c.startswith(\"vehicle\")]\n",
    "vehicles = mvc[v_cols]\n",
    "vehicles = vehicles.stack()\n",
    "top10_vehicles = vehicles.value_counts().head(10)\n",
    "top10_vehicles"
   ]
  },
  {
   "cell_type": "code",
   "execution_count": 87,
   "metadata": {},
   "outputs": [
    {
     "name": "stdout",
     "output_type": "stream",
     "text": [
      "   vehicle_number  vehicle_missing  cause_missing\n",
      "0               1              204             24\n",
      "1               2             3793            223\n",
      "2               3              242             24\n",
      "3               4               50              3\n",
      "4               5               10              0 \n",
      "\n",
      "   vehicle_number  vehicle_missing  cause_missing\n",
      "0               1                0              0\n",
      "1               2                0              0\n",
      "2               3                0              0\n",
      "3               4                0              0\n",
      "4               5                0              0\n"
     ]
    }
   ],
   "source": [
    "def summarize_missing():\n",
    "    v_missing_data = []\n",
    "\n",
    "    for v in range(1,6):\n",
    "        v_col = 'vehicle_{}'.format(v)\n",
    "        c_col = 'cause_vehicle_{}'.format(v)\n",
    "\n",
    "        v_missing = (mvc[v_col].isnull() & mvc[c_col].notnull()).sum()\n",
    "        c_missing = (mvc[c_col].isnull() & mvc[v_col].notnull()).sum()\n",
    "\n",
    "        v_missing_data.append([v, v_missing, c_missing])\n",
    "\n",
    "    col_labels = columns=[\"vehicle_number\", \"vehicle_missing\", \"cause_missing\"]\n",
    "    return pd.DataFrame(v_missing_data, columns=col_labels)\n",
    "\n",
    "summary_before = summarize_missing()\n",
    "\n",
    "for v in range(1,6):\n",
    "    v_col = 'vehicle_{}'.format(v)\n",
    "    c_col = 'cause_vehicle_{}'.format(v)\n",
    "    v_mask = mvc[v_col].isnull() & mvc[c_col].notnull()\n",
    "    c_mask = mvc[c_col].isnull() & mvc[v_col].notnull()\n",
    "    mvc[v_col] = mvc[v_col].mask(v_mask, \"Unspecified\")\n",
    "    mvc[c_col] = mvc[c_col].mask(c_mask, \"Unspecified\")\n",
    "\n",
    "summary_after = summarize_missing()\n",
    "print(summary_before, '\\n')\n",
    "print(summary_after)\n"
   ]
  },
  {
   "cell_type": "code",
   "execution_count": 88,
   "metadata": {},
   "outputs": [
    {
     "data": {
      "text/html": [
       "<div>\n",
       "<style scoped>\n",
       "    .dataframe tbody tr th:only-of-type {\n",
       "        vertical-align: middle;\n",
       "    }\n",
       "\n",
       "    .dataframe tbody tr th {\n",
       "        vertical-align: top;\n",
       "    }\n",
       "\n",
       "    .dataframe thead th {\n",
       "        text-align: right;\n",
       "    }\n",
       "</style>\n",
       "<table border=\"1\" class=\"dataframe\">\n",
       "  <thead>\n",
       "    <tr style=\"text-align: right;\">\n",
       "      <th></th>\n",
       "      <th>borough</th>\n",
       "      <th>location</th>\n",
       "      <th>on_street</th>\n",
       "      <th>off_street</th>\n",
       "      <th>cross_street</th>\n",
       "    </tr>\n",
       "  </thead>\n",
       "  <tbody>\n",
       "    <tr>\n",
       "      <th>0</th>\n",
       "      <td>MANHATTAN</td>\n",
       "      <td>(40.742832, -74.00771)</td>\n",
       "      <td>WEST 15 STREET</td>\n",
       "      <td>NaN</td>\n",
       "      <td>10 AVENUE</td>\n",
       "    </tr>\n",
       "    <tr>\n",
       "      <th>1</th>\n",
       "      <td>BROOKLYN</td>\n",
       "      <td>(40.623714, -73.99314)</td>\n",
       "      <td>16 AVENUE</td>\n",
       "      <td>NaN</td>\n",
       "      <td>62 STREET</td>\n",
       "    </tr>\n",
       "    <tr>\n",
       "      <th>2</th>\n",
       "      <td>NaN</td>\n",
       "      <td>(40.591755, -73.9083)</td>\n",
       "      <td>BELT PARKWAY</td>\n",
       "      <td>NaN</td>\n",
       "      <td>NaN</td>\n",
       "    </tr>\n",
       "    <tr>\n",
       "      <th>3</th>\n",
       "      <td>QUEENS</td>\n",
       "      <td>(40.73602, -73.87954)</td>\n",
       "      <td>GRAND AVENUE</td>\n",
       "      <td>NaN</td>\n",
       "      <td>VANLOON STREET</td>\n",
       "    </tr>\n",
       "    <tr>\n",
       "      <th>4</th>\n",
       "      <td>BRONX</td>\n",
       "      <td>(40.884727, -73.89945)</td>\n",
       "      <td>NaN</td>\n",
       "      <td>208       WEST 238 STREET</td>\n",
       "      <td>NaN</td>\n",
       "    </tr>\n",
       "  </tbody>\n",
       "</table>\n",
       "</div>"
      ],
      "text/plain": [
       "     borough                location                         on_street  \\\n",
       "0  MANHATTAN  (40.742832, -74.00771)  WEST 15 STREET                     \n",
       "1   BROOKLYN  (40.623714, -73.99314)  16 AVENUE                          \n",
       "2        NaN   (40.591755, -73.9083)  BELT PARKWAY                       \n",
       "3     QUEENS   (40.73602, -73.87954)  GRAND AVENUE                       \n",
       "4      BRONX  (40.884727, -73.89945)                               NaN   \n",
       "\n",
       "                                 off_street    cross_street  \n",
       "0                                       NaN       10 AVENUE  \n",
       "1                                       NaN       62 STREET  \n",
       "2                                       NaN             NaN  \n",
       "3                                       NaN  VANLOON STREET  \n",
       "4  208       WEST 238 STREET                            NaN  "
      ]
     },
     "execution_count": 88,
     "metadata": {},
     "output_type": "execute_result"
    }
   ],
   "source": [
    "loc_cols = ['borough', 'location', 'on_street', 'off_street', 'cross_street']\n",
    "location_data = mvc[loc_cols]\n",
    "location_data.head()"
   ]
  },
  {
   "cell_type": "code",
   "execution_count": 89,
   "metadata": {},
   "outputs": [
    {
     "name": "stdout",
     "output_type": "stream",
     "text": [
      "borough         20646\n",
      "location         3885\n",
      "on_street       13961\n",
      "off_street      44093\n",
      "cross_street    29249\n",
      "dtype: int64\n"
     ]
    }
   ],
   "source": [
    "print(location_data.isnull().sum())"
   ]
  },
  {
   "cell_type": "code",
   "execution_count": 90,
   "metadata": {},
   "outputs": [
    {
     "data": {
      "image/png": "[encoded data removed]",
      "text/plain": [
       "<Figure size 576x288 with 1 Axes>"
      ]
     },
     "metadata": {
      "needs_background": "light"
     },
     "output_type": "display_data"
    }
   ],
   "source": [
    "plot_null_correlations(location_data)"
   ]
  },
  {
   "cell_type": "code",
   "execution_count": 91,
   "metadata": {},
   "outputs": [
    {
     "data": {
      "text/html": [
       "<div>\n",
       "<style scoped>\n",
       "    .dataframe tbody tr th:only-of-type {\n",
       "        vertical-align: middle;\n",
       "    }\n",
       "\n",
       "    .dataframe tbody tr th {\n",
       "        vertical-align: top;\n",
       "    }\n",
       "\n",
       "    .dataframe thead th {\n",
       "        text-align: right;\n",
       "    }\n",
       "</style>\n",
       "<table border=\"1\" class=\"dataframe\">\n",
       "  <thead>\n",
       "    <tr style=\"text-align: right;\">\n",
       "      <th></th>\n",
       "      <th>unique_key</th>\n",
       "      <th>location</th>\n",
       "      <th>on_street</th>\n",
       "      <th>off_street</th>\n",
       "      <th>borough</th>\n",
       "    </tr>\n",
       "  </thead>\n",
       "  <tbody>\n",
       "    <tr>\n",
       "      <th>0</th>\n",
       "      <td>3869058</td>\n",
       "      <td>NaN</td>\n",
       "      <td>NaN</td>\n",
       "      <td>NaN</td>\n",
       "      <td>NaN</td>\n",
       "    </tr>\n",
       "    <tr>\n",
       "      <th>1</th>\n",
       "      <td>3847947</td>\n",
       "      <td>NaN</td>\n",
       "      <td>NaN</td>\n",
       "      <td>NaN</td>\n",
       "      <td>NaN</td>\n",
       "    </tr>\n",
       "    <tr>\n",
       "      <th>2</th>\n",
       "      <td>3914294</td>\n",
       "      <td>NaN</td>\n",
       "      <td>BELT PARKWAY</td>\n",
       "      <td>NaN</td>\n",
       "      <td>BROOKLYN</td>\n",
       "    </tr>\n",
       "    <tr>\n",
       "      <th>3</th>\n",
       "      <td>3915069</td>\n",
       "      <td>NaN</td>\n",
       "      <td>NaN</td>\n",
       "      <td>NaN</td>\n",
       "      <td>NaN</td>\n",
       "    </tr>\n",
       "    <tr>\n",
       "      <th>4</th>\n",
       "      <td>3923123</td>\n",
       "      <td>NaN</td>\n",
       "      <td>NaN</td>\n",
       "      <td>NaN</td>\n",
       "      <td>NaN</td>\n",
       "    </tr>\n",
       "  </tbody>\n",
       "</table>\n",
       "</div>"
      ],
      "text/plain": [
       "   unique_key location     on_street off_street   borough\n",
       "0     3869058      NaN           NaN        NaN       NaN\n",
       "1     3847947      NaN           NaN        NaN       NaN\n",
       "2     3914294      NaN  BELT PARKWAY        NaN  BROOKLYN\n",
       "3     3915069      NaN           NaN        NaN       NaN\n",
       "4     3923123      NaN           NaN        NaN       NaN"
      ]
     },
     "execution_count": 91,
     "metadata": {},
     "output_type": "execute_result"
    }
   ],
   "source": [
    "sup_data = pd.read_csv('supplemental_data.csv')\n",
    "sup_data.head()"
   ]
  },
  {
   "cell_type": "code",
   "execution_count": 92,
   "metadata": {},
   "outputs": [
    {
     "name": "stdout",
     "output_type": "stream",
     "text": [
      "location       3885\n",
      "on_street     13961\n",
      "off_street    44093\n",
      "borough       20646\n",
      "dtype: int64 \n",
      "\n",
      "location         77\n",
      "on_street     13734\n",
      "off_street    36131\n",
      "borough         232\n",
      "dtype: int64\n"
     ]
    }
   ],
   "source": [
    "location_cols = ['location', 'on_street', 'off_street', 'borough']\n",
    "null_before = mvc[location_cols].isnull().sum()\n",
    "for col in location_cols:\n",
    "    v_mask = mvc[col].isnull()\n",
    "    mvc[col] = mvc[col].mask(v_mask, sup_data[col])\n",
    "\n",
    "null_after = mvc[location_cols].isnull().sum()\n",
    "\n",
    "print(null_before, '\\n')\n",
    "print(null_after)"
   ]
  }
 ],
 "metadata": {
  "kernelspec": {
   "display_name": "Python 3",
   "language": "python",
   "name": "python3"
  },
  "language_info": {
   "codemirror_mode": {
    "name": "ipython",
    "version": 3
   },
   "file_extension": ".py",
   "mimetype": "text/x-python",
   "name": "python",
   "nbconvert_exporter": "python",
   "pygments_lexer": "ipython3",
   "version": "3.7.3"
  }
 },
 "nbformat": 4,
 "nbformat_minor": 2
}
